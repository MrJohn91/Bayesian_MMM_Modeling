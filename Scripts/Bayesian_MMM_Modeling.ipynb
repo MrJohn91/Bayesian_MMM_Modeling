{
  "cells": [
    {
      "cell_type": "markdown",
      "metadata": {
        "id": "VUbVHJXkWNFo"
      },
      "source": [
        "## Bayesian Model Setup\n"
      ]
    },
    {
      "cell_type": "code",
      "execution_count": 1,
      "metadata": {
        "colab": {
          "base_uri": "https://localhost:8080/"
        },
        "id": "KzCBof4DWNFq",
        "outputId": "30cf15f2-d101-4d72-ae81-fdad5ff7d2ba"
      },
      "outputs": [
        {
          "output_type": "stream",
          "name": "stdout",
          "text": [
            "Mounted at /content/drive\n",
            "Index(['start_of_week', 'revenue', 'spend_channel_1', 'spend_channel_2',\n",
            "       'spend_channel_3', 'spend_channel_4', 'spend_channel_5',\n",
            "       'spend_channel_6', 'spend_channel_7', 'spend_channel_1_adstocked',\n",
            "       'spend_channel_2_adstocked', 'spend_channel_3_adstocked',\n",
            "       'spend_channel_4_adstocked', 'spend_channel_5_adstocked',\n",
            "       'spend_channel_6_adstocked', 'spend_channel_7_adstocked'],\n",
            "      dtype='object')\n"
          ]
        }
      ],
      "source": [
        "import pandas as pd\n",
        "from google.colab import drive\n",
        "\n",
        "drive.mount('/content/drive')\n",
        "\n",
        "file_path = '/content/drive/My Drive/marketing_data.csv'\n",
        "df = pd.read_csv(file_path)\n",
        "print(df.columns)\n"
      ]
    },
    {
      "cell_type": "code",
      "execution_count": 2,
      "metadata": {
        "colab": {
          "base_uri": "https://localhost:8080/",
          "height": 226
        },
        "id": "hEBdi9hoWNFr",
        "outputId": "5def083a-594a-448b-ec3b-6122f5859f67"
      },
      "outputs": [
        {
          "output_type": "execute_result",
          "data": {
            "text/plain": [
              "  start_of_week    revenue  spend_channel_1  spend_channel_2  spend_channel_3  \\\n",
              "0    2020-08-30  157906.75          2625.48           262.71         12954.12   \n",
              "1    2020-09-06  186425.68          2634.01           108.66          8760.28   \n",
              "2    2020-09-13  161607.39          2087.08           110.32          7155.42   \n",
              "3    2020-09-20  180089.13          1690.70            52.79         15185.22   \n",
              "4    2020-09-27  217793.98          1547.30            80.56         18524.05   \n",
              "\n",
              "   spend_channel_4  spend_channel_5  spend_channel_6  spend_channel_7  \\\n",
              "0          3609.63         12955.29         12659.12         19379.79   \n",
              "1          4560.60         12747.70         12338.18         22473.45   \n",
              "2          4362.96         15015.41         10811.15         22596.05   \n",
              "3          3883.41         15521.41         12890.22         24728.73   \n",
              "4          4043.09         15793.74         12642.55         26515.48   \n",
              "\n",
              "   spend_channel_1_adstocked  spend_channel_2_adstocked  \\\n",
              "0                2625.480000                 262.710000   \n",
              "1                2896.558000                 345.099000   \n",
              "2                2376.735800                 420.909100   \n",
              "3                1928.373580                 431.608190   \n",
              "4                1740.137358                 469.007371   \n",
              "\n",
              "   spend_channel_3_adstocked  spend_channel_4_adstocked  \\\n",
              "0               12954.120000                3609.630000   \n",
              "1               10055.692000                7809.267000   \n",
              "2                8160.989200               11391.300300   \n",
              "3               16001.318920               14135.580270   \n",
              "4               20124.181892               16765.112243   \n",
              "\n",
              "   spend_channel_5_adstocked  spend_channel_6_adstocked  \\\n",
              "0               12955.290000               12659.120000   \n",
              "1               14043.229000               14870.004000   \n",
              "2               16419.732900               13785.150800   \n",
              "3               17163.383290               15647.250160   \n",
              "4               17510.078329               15772.000032   \n",
              "\n",
              "   spend_channel_7_adstocked  \n",
              "0               19379.790000  \n",
              "1               24411.429000  \n",
              "2               25037.192900  \n",
              "3               27232.449290  \n",
              "4               29238.724929  "
            ],
            "text/html": [
              "\n",
              "  <div id=\"df-611fdbcc-222f-4143-bbc3-99f20c2a9aa4\" class=\"colab-df-container\">\n",
              "    <div>\n",
              "<style scoped>\n",
              "    .dataframe tbody tr th:only-of-type {\n",
              "        vertical-align: middle;\n",
              "    }\n",
              "\n",
              "    .dataframe tbody tr th {\n",
              "        vertical-align: top;\n",
              "    }\n",
              "\n",
              "    .dataframe thead th {\n",
              "        text-align: right;\n",
              "    }\n",
              "</style>\n",
              "<table border=\"1\" class=\"dataframe\">\n",
              "  <thead>\n",
              "    <tr style=\"text-align: right;\">\n",
              "      <th></th>\n",
              "      <th>start_of_week</th>\n",
              "      <th>revenue</th>\n",
              "      <th>spend_channel_1</th>\n",
              "      <th>spend_channel_2</th>\n",
              "      <th>spend_channel_3</th>\n",
              "      <th>spend_channel_4</th>\n",
              "      <th>spend_channel_5</th>\n",
              "      <th>spend_channel_6</th>\n",
              "      <th>spend_channel_7</th>\n",
              "      <th>spend_channel_1_adstocked</th>\n",
              "      <th>spend_channel_2_adstocked</th>\n",
              "      <th>spend_channel_3_adstocked</th>\n",
              "      <th>spend_channel_4_adstocked</th>\n",
              "      <th>spend_channel_5_adstocked</th>\n",
              "      <th>spend_channel_6_adstocked</th>\n",
              "      <th>spend_channel_7_adstocked</th>\n",
              "    </tr>\n",
              "  </thead>\n",
              "  <tbody>\n",
              "    <tr>\n",
              "      <th>0</th>\n",
              "      <td>2020-08-30</td>\n",
              "      <td>157906.75</td>\n",
              "      <td>2625.48</td>\n",
              "      <td>262.71</td>\n",
              "      <td>12954.12</td>\n",
              "      <td>3609.63</td>\n",
              "      <td>12955.29</td>\n",
              "      <td>12659.12</td>\n",
              "      <td>19379.79</td>\n",
              "      <td>2625.480000</td>\n",
              "      <td>262.710000</td>\n",
              "      <td>12954.120000</td>\n",
              "      <td>3609.630000</td>\n",
              "      <td>12955.290000</td>\n",
              "      <td>12659.120000</td>\n",
              "      <td>19379.790000</td>\n",
              "    </tr>\n",
              "    <tr>\n",
              "      <th>1</th>\n",
              "      <td>2020-09-06</td>\n",
              "      <td>186425.68</td>\n",
              "      <td>2634.01</td>\n",
              "      <td>108.66</td>\n",
              "      <td>8760.28</td>\n",
              "      <td>4560.60</td>\n",
              "      <td>12747.70</td>\n",
              "      <td>12338.18</td>\n",
              "      <td>22473.45</td>\n",
              "      <td>2896.558000</td>\n",
              "      <td>345.099000</td>\n",
              "      <td>10055.692000</td>\n",
              "      <td>7809.267000</td>\n",
              "      <td>14043.229000</td>\n",
              "      <td>14870.004000</td>\n",
              "      <td>24411.429000</td>\n",
              "    </tr>\n",
              "    <tr>\n",
              "      <th>2</th>\n",
              "      <td>2020-09-13</td>\n",
              "      <td>161607.39</td>\n",
              "      <td>2087.08</td>\n",
              "      <td>110.32</td>\n",
              "      <td>7155.42</td>\n",
              "      <td>4362.96</td>\n",
              "      <td>15015.41</td>\n",
              "      <td>10811.15</td>\n",
              "      <td>22596.05</td>\n",
              "      <td>2376.735800</td>\n",
              "      <td>420.909100</td>\n",
              "      <td>8160.989200</td>\n",
              "      <td>11391.300300</td>\n",
              "      <td>16419.732900</td>\n",
              "      <td>13785.150800</td>\n",
              "      <td>25037.192900</td>\n",
              "    </tr>\n",
              "    <tr>\n",
              "      <th>3</th>\n",
              "      <td>2020-09-20</td>\n",
              "      <td>180089.13</td>\n",
              "      <td>1690.70</td>\n",
              "      <td>52.79</td>\n",
              "      <td>15185.22</td>\n",
              "      <td>3883.41</td>\n",
              "      <td>15521.41</td>\n",
              "      <td>12890.22</td>\n",
              "      <td>24728.73</td>\n",
              "      <td>1928.373580</td>\n",
              "      <td>431.608190</td>\n",
              "      <td>16001.318920</td>\n",
              "      <td>14135.580270</td>\n",
              "      <td>17163.383290</td>\n",
              "      <td>15647.250160</td>\n",
              "      <td>27232.449290</td>\n",
              "    </tr>\n",
              "    <tr>\n",
              "      <th>4</th>\n",
              "      <td>2020-09-27</td>\n",
              "      <td>217793.98</td>\n",
              "      <td>1547.30</td>\n",
              "      <td>80.56</td>\n",
              "      <td>18524.05</td>\n",
              "      <td>4043.09</td>\n",
              "      <td>15793.74</td>\n",
              "      <td>12642.55</td>\n",
              "      <td>26515.48</td>\n",
              "      <td>1740.137358</td>\n",
              "      <td>469.007371</td>\n",
              "      <td>20124.181892</td>\n",
              "      <td>16765.112243</td>\n",
              "      <td>17510.078329</td>\n",
              "      <td>15772.000032</td>\n",
              "      <td>29238.724929</td>\n",
              "    </tr>\n",
              "  </tbody>\n",
              "</table>\n",
              "</div>\n",
              "    <div class=\"colab-df-buttons\">\n",
              "\n",
              "  <div class=\"colab-df-container\">\n",
              "    <button class=\"colab-df-convert\" onclick=\"convertToInteractive('df-611fdbcc-222f-4143-bbc3-99f20c2a9aa4')\"\n",
              "            title=\"Convert this dataframe to an interactive table.\"\n",
              "            style=\"display:none;\">\n",
              "\n",
              "  <svg xmlns=\"http://www.w3.org/2000/svg\" height=\"24px\" viewBox=\"0 -960 960 960\">\n",
              "    <path d=\"M120-120v-720h720v720H120Zm60-500h600v-160H180v160Zm220 220h160v-160H400v160Zm0 220h160v-160H400v160ZM180-400h160v-160H180v160Zm440 0h160v-160H620v160ZM180-180h160v-160H180v160Zm440 0h160v-160H620v160Z\"/>\n",
              "  </svg>\n",
              "    </button>\n",
              "\n",
              "  <style>\n",
              "    .colab-df-container {\n",
              "      display:flex;\n",
              "      gap: 12px;\n",
              "    }\n",
              "\n",
              "    .colab-df-convert {\n",
              "      background-color: #E8F0FE;\n",
              "      border: none;\n",
              "      border-radius: 50%;\n",
              "      cursor: pointer;\n",
              "      display: none;\n",
              "      fill: #1967D2;\n",
              "      height: 32px;\n",
              "      padding: 0 0 0 0;\n",
              "      width: 32px;\n",
              "    }\n",
              "\n",
              "    .colab-df-convert:hover {\n",
              "      background-color: #E2EBFA;\n",
              "      box-shadow: 0px 1px 2px rgba(60, 64, 67, 0.3), 0px 1px 3px 1px rgba(60, 64, 67, 0.15);\n",
              "      fill: #174EA6;\n",
              "    }\n",
              "\n",
              "    .colab-df-buttons div {\n",
              "      margin-bottom: 4px;\n",
              "    }\n",
              "\n",
              "    [theme=dark] .colab-df-convert {\n",
              "      background-color: #3B4455;\n",
              "      fill: #D2E3FC;\n",
              "    }\n",
              "\n",
              "    [theme=dark] .colab-df-convert:hover {\n",
              "      background-color: #434B5C;\n",
              "      box-shadow: 0px 1px 3px 1px rgba(0, 0, 0, 0.15);\n",
              "      filter: drop-shadow(0px 1px 2px rgba(0, 0, 0, 0.3));\n",
              "      fill: #FFFFFF;\n",
              "    }\n",
              "  </style>\n",
              "\n",
              "    <script>\n",
              "      const buttonEl =\n",
              "        document.querySelector('#df-611fdbcc-222f-4143-bbc3-99f20c2a9aa4 button.colab-df-convert');\n",
              "      buttonEl.style.display =\n",
              "        google.colab.kernel.accessAllowed ? 'block' : 'none';\n",
              "\n",
              "      async function convertToInteractive(key) {\n",
              "        const element = document.querySelector('#df-611fdbcc-222f-4143-bbc3-99f20c2a9aa4');\n",
              "        const dataTable =\n",
              "          await google.colab.kernel.invokeFunction('convertToInteractive',\n",
              "                                                    [key], {});\n",
              "        if (!dataTable) return;\n",
              "\n",
              "        const docLinkHtml = 'Like what you see? Visit the ' +\n",
              "          '<a target=\"_blank\" href=https://colab.research.google.com/notebooks/data_table.ipynb>data table notebook</a>'\n",
              "          + ' to learn more about interactive tables.';\n",
              "        element.innerHTML = '';\n",
              "        dataTable['output_type'] = 'display_data';\n",
              "        await google.colab.output.renderOutput(dataTable, element);\n",
              "        const docLink = document.createElement('div');\n",
              "        docLink.innerHTML = docLinkHtml;\n",
              "        element.appendChild(docLink);\n",
              "      }\n",
              "    </script>\n",
              "  </div>\n",
              "\n",
              "\n",
              "<div id=\"df-fa3b8ac6-6700-401f-b02c-29abb009d2d3\">\n",
              "  <button class=\"colab-df-quickchart\" onclick=\"quickchart('df-fa3b8ac6-6700-401f-b02c-29abb009d2d3')\"\n",
              "            title=\"Suggest charts\"\n",
              "            style=\"display:none;\">\n",
              "\n",
              "<svg xmlns=\"http://www.w3.org/2000/svg\" height=\"24px\"viewBox=\"0 0 24 24\"\n",
              "     width=\"24px\">\n",
              "    <g>\n",
              "        <path d=\"M19 3H5c-1.1 0-2 .9-2 2v14c0 1.1.9 2 2 2h14c1.1 0 2-.9 2-2V5c0-1.1-.9-2-2-2zM9 17H7v-7h2v7zm4 0h-2V7h2v10zm4 0h-2v-4h2v4z\"/>\n",
              "    </g>\n",
              "</svg>\n",
              "  </button>\n",
              "\n",
              "<style>\n",
              "  .colab-df-quickchart {\n",
              "      --bg-color: #E8F0FE;\n",
              "      --fill-color: #1967D2;\n",
              "      --hover-bg-color: #E2EBFA;\n",
              "      --hover-fill-color: #174EA6;\n",
              "      --disabled-fill-color: #AAA;\n",
              "      --disabled-bg-color: #DDD;\n",
              "  }\n",
              "\n",
              "  [theme=dark] .colab-df-quickchart {\n",
              "      --bg-color: #3B4455;\n",
              "      --fill-color: #D2E3FC;\n",
              "      --hover-bg-color: #434B5C;\n",
              "      --hover-fill-color: #FFFFFF;\n",
              "      --disabled-bg-color: #3B4455;\n",
              "      --disabled-fill-color: #666;\n",
              "  }\n",
              "\n",
              "  .colab-df-quickchart {\n",
              "    background-color: var(--bg-color);\n",
              "    border: none;\n",
              "    border-radius: 50%;\n",
              "    cursor: pointer;\n",
              "    display: none;\n",
              "    fill: var(--fill-color);\n",
              "    height: 32px;\n",
              "    padding: 0;\n",
              "    width: 32px;\n",
              "  }\n",
              "\n",
              "  .colab-df-quickchart:hover {\n",
              "    background-color: var(--hover-bg-color);\n",
              "    box-shadow: 0 1px 2px rgba(60, 64, 67, 0.3), 0 1px 3px 1px rgba(60, 64, 67, 0.15);\n",
              "    fill: var(--button-hover-fill-color);\n",
              "  }\n",
              "\n",
              "  .colab-df-quickchart-complete:disabled,\n",
              "  .colab-df-quickchart-complete:disabled:hover {\n",
              "    background-color: var(--disabled-bg-color);\n",
              "    fill: var(--disabled-fill-color);\n",
              "    box-shadow: none;\n",
              "  }\n",
              "\n",
              "  .colab-df-spinner {\n",
              "    border: 2px solid var(--fill-color);\n",
              "    border-color: transparent;\n",
              "    border-bottom-color: var(--fill-color);\n",
              "    animation:\n",
              "      spin 1s steps(1) infinite;\n",
              "  }\n",
              "\n",
              "  @keyframes spin {\n",
              "    0% {\n",
              "      border-color: transparent;\n",
              "      border-bottom-color: var(--fill-color);\n",
              "      border-left-color: var(--fill-color);\n",
              "    }\n",
              "    20% {\n",
              "      border-color: transparent;\n",
              "      border-left-color: var(--fill-color);\n",
              "      border-top-color: var(--fill-color);\n",
              "    }\n",
              "    30% {\n",
              "      border-color: transparent;\n",
              "      border-left-color: var(--fill-color);\n",
              "      border-top-color: var(--fill-color);\n",
              "      border-right-color: var(--fill-color);\n",
              "    }\n",
              "    40% {\n",
              "      border-color: transparent;\n",
              "      border-right-color: var(--fill-color);\n",
              "      border-top-color: var(--fill-color);\n",
              "    }\n",
              "    60% {\n",
              "      border-color: transparent;\n",
              "      border-right-color: var(--fill-color);\n",
              "    }\n",
              "    80% {\n",
              "      border-color: transparent;\n",
              "      border-right-color: var(--fill-color);\n",
              "      border-bottom-color: var(--fill-color);\n",
              "    }\n",
              "    90% {\n",
              "      border-color: transparent;\n",
              "      border-bottom-color: var(--fill-color);\n",
              "    }\n",
              "  }\n",
              "</style>\n",
              "\n",
              "  <script>\n",
              "    async function quickchart(key) {\n",
              "      const quickchartButtonEl =\n",
              "        document.querySelector('#' + key + ' button');\n",
              "      quickchartButtonEl.disabled = true;  // To prevent multiple clicks.\n",
              "      quickchartButtonEl.classList.add('colab-df-spinner');\n",
              "      try {\n",
              "        const charts = await google.colab.kernel.invokeFunction(\n",
              "            'suggestCharts', [key], {});\n",
              "      } catch (error) {\n",
              "        console.error('Error during call to suggestCharts:', error);\n",
              "      }\n",
              "      quickchartButtonEl.classList.remove('colab-df-spinner');\n",
              "      quickchartButtonEl.classList.add('colab-df-quickchart-complete');\n",
              "    }\n",
              "    (() => {\n",
              "      let quickchartButtonEl =\n",
              "        document.querySelector('#df-fa3b8ac6-6700-401f-b02c-29abb009d2d3 button');\n",
              "      quickchartButtonEl.style.display =\n",
              "        google.colab.kernel.accessAllowed ? 'block' : 'none';\n",
              "    })();\n",
              "  </script>\n",
              "</div>\n",
              "\n",
              "    </div>\n",
              "  </div>\n"
            ],
            "application/vnd.google.colaboratory.intrinsic+json": {
              "type": "dataframe",
              "variable_name": "df",
              "summary": "{\n  \"name\": \"df\",\n  \"rows\": 104,\n  \"fields\": [\n    {\n      \"column\": \"start_of_week\",\n      \"properties\": {\n        \"dtype\": \"object\",\n        \"num_unique_values\": 104,\n        \"samples\": [\n          \"2021-03-28\",\n          \"2021-11-28\",\n          \"2021-11-21\"\n        ],\n        \"semantic_type\": \"\",\n        \"description\": \"\"\n      }\n    },\n    {\n      \"column\": \"revenue\",\n      \"properties\": {\n        \"dtype\": \"number\",\n        \"std\": 50810.25301230422,\n        \"min\": 63207.09,\n        \"max\": 418186.38,\n        \"num_unique_values\": 104,\n        \"samples\": [\n          131152.3,\n          276991.38,\n          123340.71\n        ],\n        \"semantic_type\": \"\",\n        \"description\": \"\"\n      }\n    },\n    {\n      \"column\": \"spend_channel_1\",\n      \"properties\": {\n        \"dtype\": \"number\",\n        \"std\": 1388.3846316332167,\n        \"min\": 0.0,\n        \"max\": 8513.83,\n        \"num_unique_values\": 92,\n        \"samples\": [\n          1541.65,\n          633.51,\n          853.99\n        ],\n        \"semantic_type\": \"\",\n        \"description\": \"\"\n      }\n    },\n    {\n      \"column\": \"spend_channel_2\",\n      \"properties\": {\n        \"dtype\": \"number\",\n        \"std\": 332.98821765656453,\n        \"min\": 4.37,\n        \"max\": 1605.85,\n        \"num_unique_values\": 104,\n        \"samples\": [\n          161.73,\n          751.09,\n          204.54\n        ],\n        \"semantic_type\": \"\",\n        \"description\": \"\"\n      }\n    },\n    {\n      \"column\": \"spend_channel_3\",\n      \"properties\": {\n        \"dtype\": \"number\",\n        \"std\": 8714.759885598327,\n        \"min\": 5938.13,\n        \"max\": 49689.38,\n        \"num_unique_values\": 104,\n        \"samples\": [\n          19956.15,\n          36615.76,\n          29873.16\n        ],\n        \"semantic_type\": \"\",\n        \"description\": \"\"\n      }\n    },\n    {\n      \"column\": \"spend_channel_4\",\n      \"properties\": {\n        \"dtype\": \"number\",\n        \"std\": 3123.1720346920392,\n        \"min\": 3602.2,\n        \"max\": 22629.69,\n        \"num_unique_values\": 104,\n        \"samples\": [\n          6020.31,\n          22629.69,\n          10304.04\n        ],\n        \"semantic_type\": \"\",\n        \"description\": \"\"\n      }\n    },\n    {\n      \"column\": \"spend_channel_5\",\n      \"properties\": {\n        \"dtype\": \"number\",\n        \"std\": 6956.787524392737,\n        \"min\": 747.46,\n        \"max\": 33009.65,\n        \"num_unique_values\": 104,\n        \"samples\": [\n          9691.38,\n          1782.69,\n          1384.94\n        ],\n        \"semantic_type\": \"\",\n        \"description\": \"\"\n      }\n    },\n    {\n      \"column\": \"spend_channel_6\",\n      \"properties\": {\n        \"dtype\": \"number\",\n        \"std\": 6689.472660396867,\n        \"min\": 0.0,\n        \"max\": 33692.83,\n        \"num_unique_values\": 66,\n        \"samples\": [\n          2927.07,\n          3091.52,\n          12659.12\n        ],\n        \"semantic_type\": \"\",\n        \"description\": \"\"\n      }\n    },\n    {\n      \"column\": \"spend_channel_7\",\n      \"properties\": {\n        \"dtype\": \"number\",\n        \"std\": 12176.293684053631,\n        \"min\": 9391.21,\n        \"max\": 77488.42,\n        \"num_unique_values\": 104,\n        \"samples\": [\n          16248.63,\n          51899.84,\n          17634.36\n        ],\n        \"semantic_type\": \"\",\n        \"description\": \"\"\n      }\n    },\n    {\n      \"column\": \"spend_channel_1_adstocked\",\n      \"properties\": {\n        \"dtype\": \"number\",\n        \"std\": 1477.7622159220014,\n        \"min\": 2.4283430666904565e-12,\n        \"max\": 8799.801656600144,\n        \"num_unique_values\": 104,\n        \"samples\": [\n          948.9557004700324,\n          3163.3891823601657,\n          1171.2918236016565\n        ],\n        \"semantic_type\": \"\",\n        \"description\": \"\"\n      }\n    },\n    {\n      \"column\": \"spend_channel_2_adstocked\",\n      \"properties\": {\n        \"dtype\": \"number\",\n        \"std\": 2104.9450023610093,\n        \"min\": 262.71,\n        \"max\": 7292.901343650128,\n        \"num_unique_values\": 104,\n        \"samples\": [\n          1945.1995527160775,\n          3008.703470251581,\n          2508.459411390645\n        ],\n        \"semantic_type\": \"\",\n        \"description\": \"\"\n      }\n    },\n    {\n      \"column\": \"spend_channel_3_adstocked\",\n      \"properties\": {\n        \"dtype\": \"number\",\n        \"std\": 9159.223029496248,\n        \"min\": 7082.12256700588,\n        \"max\": 52803.34791085174,\n        \"num_unique_values\": 104,\n        \"samples\": [\n          21283.03352901029,\n          39884.08862596432,\n          32683.286259643148\n        ],\n        \"semantic_type\": \"\",\n        \"description\": \"\"\n      }\n    },\n    {\n      \"column\": \"spend_channel_4_adstocked\",\n      \"properties\": {\n        \"dtype\": \"number\",\n        \"std\": 20972.24141593956,\n        \"min\": 3609.63,\n        \"max\": 107943.10647439578,\n        \"num_unique_values\": 104,\n        \"samples\": [\n          58370.060187431125,\n          101743.9870054269,\n          87904.77445047433\n        ],\n        \"semantic_type\": \"\",\n        \"description\": \"\"\n      }\n    },\n    {\n      \"column\": \"spend_channel_5_adstocked\",\n      \"properties\": {\n        \"dtype\": \"number\",\n        \"std\": 7633.067377828248,\n        \"min\": 879.2244536369454,\n        \"max\": 35265.15578329,\n        \"num_unique_values\": 104,\n        \"samples\": [\n          10647.638271080936,\n          1938.2363694535536,\n          1555.463694535536\n        ],\n        \"semantic_type\": \"\",\n        \"description\": \"\"\n      }\n    },\n    {\n      \"column\": \"spend_channel_6_adstocked\",\n      \"properties\": {\n        \"dtype\": \"number\",\n        \"std\": 7840.706299296634,\n        \"min\": 6.076921832173323e-10,\n        \"max\": 39412.83600128,\n        \"num_unique_values\": 104,\n        \"samples\": [\n          7701.956943276176,\n          9413.460626355602,\n          0.2031317780065955\n        ],\n        \"semantic_type\": \"\",\n        \"description\": \"\"\n      }\n    },\n    {\n      \"column\": \"spend_channel_7_adstocked\",\n      \"properties\": {\n        \"dtype\": \"number\",\n        \"std\": 13170.453053771816,\n        \"min\": 10725.229192447485,\n        \"max\": 83688.5565623554,\n        \"num_unique_values\": 104,\n        \"samples\": [\n          18234.106388488144,\n          53894.63203052288,\n          19947.920305228825\n        ],\n        \"semantic_type\": \"\",\n        \"description\": \"\"\n      }\n    }\n  ]\n}"
            }
          },
          "metadata": {},
          "execution_count": 2
        }
      ],
      "source": [
        "df.head()"
      ]
    },
    {
      "cell_type": "markdown",
      "metadata": {
        "id": "43VsAiiWWNFs"
      },
      "source": [
        "### Define the Model\n"
      ]
    },
    {
      "cell_type": "code",
      "execution_count": 6,
      "metadata": {
        "colab": {
          "base_uri": "https://localhost:8080/",
          "height": 113,
          "referenced_widgets": [
            "390b714d8db344c982243e7834ca7490",
            "c96315fd4f1e4c24aaefa0afeb37f084"
          ]
        },
        "id": "fs1UWBxuWNFs",
        "outputId": "d4280112-57ce-41ac-d681-3cee113d10a8"
      },
      "outputs": [
        {
          "output_type": "display_data",
          "data": {
            "text/plain": [
              "Output()"
            ],
            "application/vnd.jupyter.widget-view+json": {
              "version_major": 2,
              "version_minor": 0,
              "model_id": "390b714d8db344c982243e7834ca7490"
            }
          },
          "metadata": {}
        },
        {
          "output_type": "display_data",
          "data": {
            "text/plain": [],
            "text/html": [
              "<pre style=\"white-space:pre;overflow-x:auto;line-height:normal;font-family:Menlo,'DejaVu Sans Mono',consolas,'Courier New',monospace\"></pre>\n"
            ]
          },
          "metadata": {}
        }
      ],
      "source": [
        "import pymc as pm\n",
        "import numpy as np\n",
        "import pandas as pd\n",
        "\n",
        "# Number of channels and data points\n",
        "num_channels = 7\n",
        "n_weeks = df.shape[0]\n",
        "\n",
        "# Extracting adstocked spends and revenue\n",
        "adstocked_spends = df[[f'spend_channel_{i+1}_adstocked' for i in range(num_channels)]].values\n",
        "revenue = df['revenue'].values\n",
        "\n",
        "# Trend over time\n",
        "time_index = np.arange(n_weeks)\n",
        "\n",
        "# Seasonality using Fourier terms (yearly pattern)\n",
        "n_harmonics = 5\n",
        "fourier_features = np.column_stack(\n",
        "    [func(2 * np.pi * (i + 1) * time_index / 52) for i in range(n_harmonics) for func in (np.sin, np.cos)]\n",
        ")\n",
        "\n",
        "# Holiday indicators\n",
        "month = pd.to_datetime(df['start_of_week']).dt.month\n",
        "january, november, december = (month == 1).astype(int), (month == 11).astype(int), (month == 12).astype(int)\n",
        "\n",
        "# PyMC model\n",
        "with pm.Model() as model:\n",
        "    baseline = pm.Normal('baseline', mu=np.mean(revenue), sigma=np.std(revenue))\n",
        "    trend = pm.Normal('trend', mu=0, sigma=1)\n",
        "    seasonal_coef = pm.Normal('seasonal_coef', mu=0, sigma=5, shape=fourier_features.shape[1])\n",
        "    betas = pm.Normal('betas', mu=0, sigma=10, shape=num_channels)\n",
        "    january_effect = pm.Normal('january_effect', mu=0, sigma=50000)\n",
        "    november_effect = pm.Normal('november_effect', mu=0, sigma=40000)\n",
        "    december_effect = pm.Normal('december_effect', mu=0, sigma=30000)\n",
        "    sigma = pm.HalfNormal('sigma', sigma=10)\n",
        "\n",
        "    # all components\n",
        "    mu = (baseline +\n",
        "          trend * time_index +\n",
        "          pm.math.dot(fourier_features, seasonal_coef) +\n",
        "          pm.math.dot(adstocked_spends, betas) +\n",
        "          january_effect * january +\n",
        "          november_effect * november +\n",
        "          december_effect * december)\n",
        "\n",
        "    # Likelihood\n",
        "    likelihood = pm.Normal('revenue', mu=mu, sigma=sigma, observed=revenue)\n",
        "\n",
        "    # Sampling\n",
        "    trace = pm.sample(1000, tune=1000, return_inferencedata=True)\n"
      ]
    },
    {
      "cell_type": "markdown",
      "source": [
        "## Model Parameter Estimates"
      ],
      "metadata": {
        "id": "lODCFRpVapTi"
      }
    },
    {
      "cell_type": "code",
      "source": [
        "# arviz for analyzing the results\n",
        "import arviz as az\n",
        "\n",
        "# summary of the posterior distributions\n",
        "summary = az.summary(trace, round_to=3)\n",
        "print(summary)\n",
        "\n",
        "# channel coefficients\n",
        "channel_summary = summary.filter(like='betas', axis=0)\n",
        "print(\"\\nMarketing Channel Coefficients:\")\n",
        "print(channel_summary)"
      ],
      "metadata": {
        "colab": {
          "base_uri": "https://localhost:8080/"
        },
        "id": "kEO-2PrTa5pH",
        "outputId": "51b86436-c182-49eb-c402-55c1d3a9260a"
      },
      "execution_count": 7,
      "outputs": [
        {
          "output_type": "stream",
          "name": "stdout",
          "text": [
            "                       mean        sd     hdi_3%    hdi_97%  mcse_mean  \\\n",
            "baseline          74772.774  1056.956  72721.971  76639.619     25.288   \n",
            "betas[0]             -4.988     0.174     -5.313     -4.664      0.004   \n",
            "betas[1]             -1.837     0.118     -2.065     -1.627      0.003   \n",
            "betas[2]              0.866     0.027      0.813      0.914      0.001   \n",
            "betas[3]             -0.275     0.015     -0.304     -0.249      0.000   \n",
            "betas[4]              1.541     0.044      1.453      1.621      0.001   \n",
            "betas[5]              2.049     0.036      1.985      2.119      0.001   \n",
            "betas[6]              1.244     0.019      1.209      1.279      0.000   \n",
            "december_effect  -18399.081   771.048 -19835.036 -16946.991     15.203   \n",
            "january_effect    31338.172   656.660  30108.371  32577.507     11.547   \n",
            "november_effect   61006.340   679.765  59716.501  62238.180     12.589   \n",
            "seasonal_coef[0]     -0.051     4.900     -9.217      8.981      0.075   \n",
            "seasonal_coef[1]     -2.037     5.184    -12.137      7.466      0.083   \n",
            "seasonal_coef[2]      1.986     4.947     -7.314     10.982      0.068   \n",
            "seasonal_coef[3]     -0.830     4.913    -10.138      8.413      0.074   \n",
            "seasonal_coef[4]      2.331     5.038     -6.364     12.478      0.075   \n",
            "seasonal_coef[5]      3.485     5.044     -6.721     12.346      0.076   \n",
            "seasonal_coef[6]     -0.955     5.077     -9.884      8.715      0.081   \n",
            "seasonal_coef[7]      3.224     5.009     -5.981     12.950      0.075   \n",
            "seasonal_coef[8]      3.319     5.063     -6.457     12.527      0.077   \n",
            "seasonal_coef[9]      1.889     4.923     -7.597     10.879      0.071   \n",
            "sigma              1824.008     5.015   1814.301   1833.382      0.065   \n",
            "trend                -1.409     0.994     -3.406      0.277      0.015   \n",
            "\n",
            "                  mcse_sd  ess_bulk  ess_tail  r_hat  \n",
            "baseline           21.030  1744.335  1661.927  1.001  \n",
            "betas[0]            0.004  2339.438  1631.609  1.001  \n",
            "betas[1]            0.002  2146.311  1463.674  1.000  \n",
            "betas[2]            0.001  2490.731  1522.443  1.000  \n",
            "betas[3]            0.000  1780.346  1431.033  1.002  \n",
            "betas[4]            0.001  1780.601  1717.800  1.000  \n",
            "betas[5]            0.001  2759.205  1637.238  1.001  \n",
            "betas[6]            0.000  2378.924  1506.221  1.002  \n",
            "december_effect    16.551  2578.439  1534.028  1.004  \n",
            "january_effect     14.964  3237.585  1575.329  1.001  \n",
            "november_effect    14.679  2916.648  1471.428  1.001  \n",
            "seasonal_coef[0]    0.122  4328.708  1568.740  1.005  \n",
            "seasonal_coef[1]    0.152  3939.135  1310.733  1.000  \n",
            "seasonal_coef[2]    0.110  5224.244  1664.103  1.001  \n",
            "seasonal_coef[3]    0.126  4421.207  1357.452  1.002  \n",
            "seasonal_coef[4]    0.135  4541.576  1408.226  1.002  \n",
            "seasonal_coef[5]    0.127  4429.177  1370.306  1.004  \n",
            "seasonal_coef[6]    0.129  3957.624  1411.713  1.006  \n",
            "seasonal_coef[7]    0.133  4407.947  1165.909  1.000  \n",
            "seasonal_coef[8]    0.123  4341.954  1519.636  0.999  \n",
            "seasonal_coef[9]    0.132  4853.941  1326.044  1.001  \n",
            "sigma               0.141  5914.912  1484.654  1.003  \n",
            "trend               0.025  4417.782  1310.101  1.001  \n",
            "\n",
            "Marketing Channel Coefficients:\n",
            "           mean     sd  hdi_3%  hdi_97%  mcse_mean  mcse_sd  ess_bulk  \\\n",
            "betas[0] -4.988  0.174  -5.313   -4.664      0.004    0.004  2339.438   \n",
            "betas[1] -1.837  0.118  -2.065   -1.627      0.003    0.002  2146.311   \n",
            "betas[2]  0.866  0.027   0.813    0.914      0.001    0.001  2490.731   \n",
            "betas[3] -0.275  0.015  -0.304   -0.249      0.000    0.000  1780.346   \n",
            "betas[4]  1.541  0.044   1.453    1.621      0.001    0.001  1780.601   \n",
            "betas[5]  2.049  0.036   1.985    2.119      0.001    0.001  2759.205   \n",
            "betas[6]  1.244  0.019   1.209    1.279      0.000    0.000  2378.924   \n",
            "\n",
            "          ess_tail  r_hat  \n",
            "betas[0]  1631.609  1.001  \n",
            "betas[1]  1463.674  1.000  \n",
            "betas[2]  1522.443  1.000  \n",
            "betas[3]  1431.033  1.002  \n",
            "betas[4]  1717.800  1.000  \n",
            "betas[5]  1637.238  1.001  \n",
            "betas[6]  1506.221  1.002  \n"
          ]
        }
      ]
    },
    {
      "cell_type": "markdown",
      "source": [
        "### Creating a more readable table for the channel coefficients"
      ],
      "metadata": {
        "id": "VDmG8eecRDb3"
      }
    },
    {
      "cell_type": "code",
      "source": [
        "import pandas as pd\n",
        "\n",
        "channel_names = ['spend_channel_1', 'spend_channel_2', 'spend_channel_3',\n",
        "                'spend_channel_4', 'spend_channel_5', 'spend_channel_6',\n",
        "                'spend_channel_7']\n",
        "\n",
        "channel_df = pd.DataFrame({\n",
        "    'Channel': channel_names,\n",
        "    'Coefficient': summary.filter(like='betas', axis=0)['mean'].values,\n",
        "    'Lower Bound (3%)': summary.filter(like='betas', axis=0)['hdi_3%'].values,\n",
        "    'Upper Bound (97%)': summary.filter(like='betas', axis=0)['hdi_97%'].values\n",
        "})\n",
        "\n",
        "# rating\n",
        "def get_effectiveness(coef):\n",
        "    if coef > 1:\n",
        "        return \"Very Positive\"\n",
        "    elif coef > 0.5:\n",
        "        return \"Positive\"\n",
        "    elif coef > 0:\n",
        "        return \"Slightly Positive\"\n",
        "    elif coef > -0.5:\n",
        "        return \"Slightly Negative\"\n",
        "    elif coef > -1:\n",
        "        return \"Negative\"\n",
        "    else:\n",
        "        return \"Very Negative\"\n",
        "\n",
        "channel_df['Impact'] = channel_df['Coefficient'].apply(get_effectiveness)\n",
        "\n",
        "# Sorting by coefficient value\n",
        "sorted_channels = channel_df.sort_values('Coefficient', ascending=False)\n",
        "print(sorted_channels)"
      ],
      "metadata": {
        "colab": {
          "base_uri": "https://localhost:8080/"
        },
        "id": "ZloJHklORojy",
        "outputId": "6d3943a2-1478-4d8c-cc3f-24a7ca0fc584"
      },
      "execution_count": 8,
      "outputs": [
        {
          "output_type": "stream",
          "name": "stdout",
          "text": [
            "           Channel  Coefficient  Lower Bound (3%)  Upper Bound (97%)  \\\n",
            "5  spend_channel_6        2.049             1.985              2.119   \n",
            "4  spend_channel_5        1.541             1.453              1.621   \n",
            "6  spend_channel_7        1.244             1.209              1.279   \n",
            "2  spend_channel_3        0.866             0.813              0.914   \n",
            "3  spend_channel_4       -0.275            -0.304             -0.249   \n",
            "1  spend_channel_2       -1.837            -2.065             -1.627   \n",
            "0  spend_channel_1       -4.988            -5.313             -4.664   \n",
            "\n",
            "              Impact  \n",
            "5      Very Positive  \n",
            "4      Very Positive  \n",
            "6      Very Positive  \n",
            "2           Positive  \n",
            "3  Slightly Negative  \n",
            "1      Very Negative  \n",
            "0      Very Negative  \n"
          ]
        }
      ]
    },
    {
      "cell_type": "code",
      "source": [
        "import pandas as pd\n",
        "\n",
        "channel_names = ['Channel 1', 'Channel 2', 'Channel 3', 'Channel 4',\n",
        "                'Channel 5', 'Channel 6', 'Channel 7']\n",
        "\n",
        "channel_df = pd.DataFrame({\n",
        "    'Channel': channel_names,\n",
        "    'Coefficient': summary.filter(like='betas', axis=0)['mean'].values,\n",
        "    'Lower Bound (3%)': summary.filter(like='betas', axis=0)['hdi_3%'].values,\n",
        "    'Upper Bound (97%)': summary.filter(like='betas', axis=0)['hdi_97%'].values\n",
        "})\n",
        "\n",
        "\n",
        "def get_effectiveness(coef):\n",
        "    if coef > 1:\n",
        "        return \"Very Positive\"\n",
        "    elif coef > 0.5:\n",
        "        return \"Positive\"\n",
        "    elif coef > 0:\n",
        "        return \"Slightly Positive\"\n",
        "    elif coef > -0.5:\n",
        "        return \"Slightly Negative\"\n",
        "    elif coef > -1:\n",
        "        return \"Negative\"\n",
        "    else:\n",
        "        return \"Very Negative\"\n",
        "\n",
        "# effectiveness function to 'Coefficient'\n",
        "channel_df['Impact'] = channel_df['Coefficient'].apply(get_effectiveness)\n",
        "\n",
        "sorted_channels = channel_df.sort_values('Coefficient', ascending=False)\n",
        "\n",
        "styled_table = sorted_channels.style.format({\n",
        "    'Coefficient': '{:.3f}',\n",
        "    'Lower Bound (3%)': '{:.3f}',\n",
        "    'Upper Bound (97%)': '{:.3f}'\n",
        "}).set_table_styles([\n",
        "    {'selector': 'th', 'props': [('background-color', '#4CAF50'),\n",
        "                                ('color', 'white'),\n",
        "                                ('font-weight', 'bold'),\n",
        "                                ('font-size', '14px')]},\n",
        "    {'selector': 'td', 'props': [('border', '1px solid black'),\n",
        "                                 ('padding', '8px'),\n",
        "                                 ('font-size', '12px'),\n",
        "                                 ('color', 'black')]},\n",
        "    {'selector': 'tr:nth-child(odd)', 'props': [('background-color', '#f2f2f2')]},\n",
        "    {'selector': 'tr:nth-child(even)', 'props': [('background-color', 'white')]},\n",
        "    {'selector': 'td:hover', 'props': [('background-color', '#e2e2e2')]},\n",
        "])\n",
        "\n",
        "styled_table.hide(axis=\"index\")\n",
        "styled_table\n"
      ],
      "metadata": {
        "colab": {
          "base_uri": "https://localhost:8080/",
          "height": 272
        },
        "id": "vaxRkDVDcRbI",
        "outputId": "8f88239a-7de9-48ab-cc41-f22b2ee9c373"
      },
      "execution_count": 9,
      "outputs": [
        {
          "output_type": "execute_result",
          "data": {
            "text/plain": [
              "<pandas.io.formats.style.Styler at 0x7c8a591c9a10>"
            ],
            "text/html": [
              "<style type=\"text/css\">\n",
              "#T_146f2 th {\n",
              "  background-color: #4CAF50;\n",
              "  color: white;\n",
              "  font-weight: bold;\n",
              "  font-size: 14px;\n",
              "}\n",
              "#T_146f2 td {\n",
              "  border: 1px solid black;\n",
              "  padding: 8px;\n",
              "  font-size: 12px;\n",
              "  color: black;\n",
              "}\n",
              "#T_146f2 tr:nth-child(odd) {\n",
              "  background-color: #f2f2f2;\n",
              "}\n",
              "#T_146f2 tr:nth-child(even) {\n",
              "  background-color: white;\n",
              "}\n",
              "#T_146f2 td:hover {\n",
              "  background-color: #e2e2e2;\n",
              "}\n",
              "</style>\n",
              "<table id=\"T_146f2\" class=\"dataframe\">\n",
              "  <thead>\n",
              "    <tr>\n",
              "      <th id=\"T_146f2_level0_col0\" class=\"col_heading level0 col0\" >Channel</th>\n",
              "      <th id=\"T_146f2_level0_col1\" class=\"col_heading level0 col1\" >Coefficient</th>\n",
              "      <th id=\"T_146f2_level0_col2\" class=\"col_heading level0 col2\" >Lower Bound (3%)</th>\n",
              "      <th id=\"T_146f2_level0_col3\" class=\"col_heading level0 col3\" >Upper Bound (97%)</th>\n",
              "      <th id=\"T_146f2_level0_col4\" class=\"col_heading level0 col4\" >Impact</th>\n",
              "    </tr>\n",
              "  </thead>\n",
              "  <tbody>\n",
              "    <tr>\n",
              "      <td id=\"T_146f2_row0_col0\" class=\"data row0 col0\" >Channel 6</td>\n",
              "      <td id=\"T_146f2_row0_col1\" class=\"data row0 col1\" >2.049</td>\n",
              "      <td id=\"T_146f2_row0_col2\" class=\"data row0 col2\" >1.985</td>\n",
              "      <td id=\"T_146f2_row0_col3\" class=\"data row0 col3\" >2.119</td>\n",
              "      <td id=\"T_146f2_row0_col4\" class=\"data row0 col4\" >Very Positive</td>\n",
              "    </tr>\n",
              "    <tr>\n",
              "      <td id=\"T_146f2_row1_col0\" class=\"data row1 col0\" >Channel 5</td>\n",
              "      <td id=\"T_146f2_row1_col1\" class=\"data row1 col1\" >1.541</td>\n",
              "      <td id=\"T_146f2_row1_col2\" class=\"data row1 col2\" >1.453</td>\n",
              "      <td id=\"T_146f2_row1_col3\" class=\"data row1 col3\" >1.621</td>\n",
              "      <td id=\"T_146f2_row1_col4\" class=\"data row1 col4\" >Very Positive</td>\n",
              "    </tr>\n",
              "    <tr>\n",
              "      <td id=\"T_146f2_row2_col0\" class=\"data row2 col0\" >Channel 7</td>\n",
              "      <td id=\"T_146f2_row2_col1\" class=\"data row2 col1\" >1.244</td>\n",
              "      <td id=\"T_146f2_row2_col2\" class=\"data row2 col2\" >1.209</td>\n",
              "      <td id=\"T_146f2_row2_col3\" class=\"data row2 col3\" >1.279</td>\n",
              "      <td id=\"T_146f2_row2_col4\" class=\"data row2 col4\" >Very Positive</td>\n",
              "    </tr>\n",
              "    <tr>\n",
              "      <td id=\"T_146f2_row3_col0\" class=\"data row3 col0\" >Channel 3</td>\n",
              "      <td id=\"T_146f2_row3_col1\" class=\"data row3 col1\" >0.866</td>\n",
              "      <td id=\"T_146f2_row3_col2\" class=\"data row3 col2\" >0.813</td>\n",
              "      <td id=\"T_146f2_row3_col3\" class=\"data row3 col3\" >0.914</td>\n",
              "      <td id=\"T_146f2_row3_col4\" class=\"data row3 col4\" >Positive</td>\n",
              "    </tr>\n",
              "    <tr>\n",
              "      <td id=\"T_146f2_row4_col0\" class=\"data row4 col0\" >Channel 4</td>\n",
              "      <td id=\"T_146f2_row4_col1\" class=\"data row4 col1\" >-0.275</td>\n",
              "      <td id=\"T_146f2_row4_col2\" class=\"data row4 col2\" >-0.304</td>\n",
              "      <td id=\"T_146f2_row4_col3\" class=\"data row4 col3\" >-0.249</td>\n",
              "      <td id=\"T_146f2_row4_col4\" class=\"data row4 col4\" >Slightly Negative</td>\n",
              "    </tr>\n",
              "    <tr>\n",
              "      <td id=\"T_146f2_row5_col0\" class=\"data row5 col0\" >Channel 2</td>\n",
              "      <td id=\"T_146f2_row5_col1\" class=\"data row5 col1\" >-1.837</td>\n",
              "      <td id=\"T_146f2_row5_col2\" class=\"data row5 col2\" >-2.065</td>\n",
              "      <td id=\"T_146f2_row5_col3\" class=\"data row5 col3\" >-1.627</td>\n",
              "      <td id=\"T_146f2_row5_col4\" class=\"data row5 col4\" >Very Negative</td>\n",
              "    </tr>\n",
              "    <tr>\n",
              "      <td id=\"T_146f2_row6_col0\" class=\"data row6 col0\" >Channel 1</td>\n",
              "      <td id=\"T_146f2_row6_col1\" class=\"data row6 col1\" >-4.988</td>\n",
              "      <td id=\"T_146f2_row6_col2\" class=\"data row6 col2\" >-5.313</td>\n",
              "      <td id=\"T_146f2_row6_col3\" class=\"data row6 col3\" >-4.664</td>\n",
              "      <td id=\"T_146f2_row6_col4\" class=\"data row6 col4\" >Very Negative</td>\n",
              "    </tr>\n",
              "  </tbody>\n",
              "</table>\n"
            ]
          },
          "metadata": {},
          "execution_count": 9
        }
      ]
    },
    {
      "cell_type": "markdown",
      "source": [
        "### Checking model predictions against actual data"
      ],
      "metadata": {
        "id": "JTZTlJfxST7c"
      }
    },
    {
      "cell_type": "code",
      "source": [
        "with model:\n",
        "    posterior_pred = pm.sample_posterior_predictive(trace)\n",
        "\n",
        "# Get predicted values\n",
        "pred_mean = posterior_pred.posterior_predictive['revenue'].mean(dim=[\"chain\", \"draw\"]).values\n",
        "\n",
        "print(pred_mean[:10])\n"
      ],
      "metadata": {
        "colab": {
          "base_uri": "https://localhost:8080/",
          "height": 85,
          "referenced_widgets": [
            "5360ce3f9b004ae59f3f0996fafabcc7",
            "7c5f9e66e86b4493a540ef0674f1d3d3"
          ]
        },
        "id": "33srYv4Aoy1U",
        "outputId": "0e0ba7c8-168b-40c9-d224-647a96297aa2"
      },
      "execution_count": 107,
      "outputs": [
        {
          "output_type": "display_data",
          "data": {
            "text/plain": [
              "Output()"
            ],
            "application/vnd.jupyter.widget-view+json": {
              "version_major": 2,
              "version_minor": 0,
              "model_id": "5360ce3f9b004ae59f3f0996fafabcc7"
            }
          },
          "metadata": {}
        },
        {
          "output_type": "display_data",
          "data": {
            "text/plain": [],
            "text/html": [
              "<pre style=\"white-space:pre;overflow-x:auto;line-height:normal;font-family:Menlo,'DejaVu Sans Mono',consolas,'Courier New',monospace\"></pre>\n"
            ]
          },
          "metadata": {}
        },
        {
          "output_type": "stream",
          "name": "stdout",
          "text": [
            "[141321.36758471 148646.11527389 150830.24374288 166737.68233409\n",
            " 173692.09193037 199279.91050556 238391.62188311 203593.68023045\n",
            " 157515.46363978 207410.33812473]\n"
          ]
        }
      ]
    },
    {
      "cell_type": "code",
      "source": [
        "import plotly.graph_objects as go\n",
        "\n",
        "fig = go.Figure()\n",
        "\n",
        "fig.add_trace(go.Scatter(\n",
        "    x=df['start_of_week'],\n",
        "    y=df['revenue'],\n",
        "    mode='markers',\n",
        "    name='Actual Revenue',\n",
        "    marker=dict(size=8, opacity=0.6, color='blue')\n",
        "))\n",
        "\n",
        "fig.update_layout(\n",
        "    title='Actual Revenue Over Time',\n",
        "    xaxis_title='Date',\n",
        "    yaxis_title='Revenue',\n",
        "    template='plotly_white',\n",
        "    width=900,\n",
        "    height=500\n",
        ")\n",
        "\n",
        "fig.show()\n"
      ],
      "metadata": {
        "colab": {
          "base_uri": "https://localhost:8080/",
          "height": 517
        },
        "id": "ksqMdospqZt7",
        "outputId": "27bf6bd2-d91d-4742-b20e-f4f5fa6b798a"
      },
      "execution_count": 10,
      "outputs": [
        {
          "output_type": "display_data",
          "data": {
            "text/html": [
              "<html>\n",
              "<head><meta charset=\"utf-8\" /></head>\n",
              "<body>\n",
              "    <div>            <script src=\"https://cdnjs.cloudflare.com/ajax/libs/mathjax/2.7.5/MathJax.js?config=TeX-AMS-MML_SVG\"></script><script type=\"text/javascript\">if (window.MathJax && window.MathJax.Hub && window.MathJax.Hub.Config) {window.MathJax.Hub.Config({SVG: {font: \"STIX-Web\"}});}</script>                <script type=\"text/javascript\">window.PlotlyConfig = {MathJaxConfig: 'local'};</script>\n",
              "        <script charset=\"utf-8\" src=\"https://cdn.plot.ly/plotly-2.35.2.min.js\"></script>                <div id=\"2bf8f17e-4550-440e-b146-6ed8795ca106\" class=\"plotly-graph-div\" style=\"height:500px; width:900px;\"></div>            <script type=\"text/javascript\">                                    window.PLOTLYENV=window.PLOTLYENV || {};                                    if (document.getElementById(\"2bf8f17e-4550-440e-b146-6ed8795ca106\")) {                    Plotly.newPlot(                        \"2bf8f17e-4550-440e-b146-6ed8795ca106\",                        [{\"marker\":{\"color\":\"blue\",\"opacity\":0.6,\"size\":8},\"mode\":\"markers\",\"name\":\"Actual Revenue\",\"x\":[\"2020-08-30\",\"2020-09-06\",\"2020-09-13\",\"2020-09-20\",\"2020-09-27\",\"2020-10-04\",\"2020-10-11\",\"2020-10-18\",\"2020-10-25\",\"2020-11-01\",\"2020-11-08\",\"2020-11-15\",\"2020-11-22\",\"2020-11-29\",\"2020-12-06\",\"2020-12-13\",\"2020-12-20\",\"2020-12-27\",\"2021-01-03\",\"2021-01-10\",\"2021-01-17\",\"2021-01-24\",\"2021-01-31\",\"2021-02-07\",\"2021-02-14\",\"2021-02-21\",\"2021-02-28\",\"2021-03-07\",\"2021-03-14\",\"2021-03-21\",\"2021-03-28\",\"2021-04-04\",\"2021-04-11\",\"2021-04-18\",\"2021-04-25\",\"2021-05-02\",\"2021-05-09\",\"2021-05-16\",\"2021-05-23\",\"2021-05-30\",\"2021-06-06\",\"2021-06-13\",\"2021-06-20\",\"2021-06-27\",\"2021-07-04\",\"2021-07-11\",\"2021-07-18\",\"2021-07-25\",\"2021-08-01\",\"2021-08-08\",\"2021-08-15\",\"2021-08-22\",\"2021-08-29\",\"2021-09-05\",\"2021-09-12\",\"2021-09-19\",\"2021-09-26\",\"2021-10-03\",\"2021-10-10\",\"2021-10-17\",\"2021-10-24\",\"2021-10-31\",\"2021-11-07\",\"2021-11-14\",\"2021-11-21\",\"2021-11-28\",\"2021-12-05\",\"2021-12-12\",\"2021-12-19\",\"2021-12-26\",\"2022-01-02\",\"2022-01-09\",\"2022-01-16\",\"2022-01-23\",\"2022-01-30\",\"2022-02-06\",\"2022-02-13\",\"2022-02-20\",\"2022-02-27\",\"2022-03-06\",\"2022-03-13\",\"2022-03-20\",\"2022-03-27\",\"2022-04-03\",\"2022-04-10\",\"2022-04-17\",\"2022-04-24\",\"2022-05-01\",\"2022-05-08\",\"2022-05-15\",\"2022-05-22\",\"2022-05-29\",\"2022-06-05\",\"2022-06-12\",\"2022-06-19\",\"2022-06-26\",\"2022-07-03\",\"2022-07-10\",\"2022-07-17\",\"2022-07-24\",\"2022-07-31\",\"2022-08-07\",\"2022-08-14\",\"2022-08-21\"],\"y\":[157906.75,186425.68,161607.39,180089.13,217793.98,195581.04,146951.61,163640.65,193045.15,213117.17,202321.02,216421.33,157640.79,418186.38,150423.19,79905.57,82020.23,80242.82,115207.83,97216.86,96071.01,284010.24,226994.32,185245.11,136635.71,126429.93,132752.27,133781.06,111934.63,109520.23,131152.3,120806.08,224619.82,157978.67,148937.15,148009.13,146088.85,131558.92,119857.12,123651.16,125654.17,171770.03,154713.33,121627.46,143288.33,102170.12,72849.92,63207.09,99723.69,89140.57,90561.75,104448.8,95478.58,108053.5,96973.9,94023.65,153611.64,161339.43,124309.37,119760.17,104755.63,131150.99,115514.46,134166.65,123340.71,276991.38,164983.21,125366.99,118347.81,85812.46,140621.95,176976.89,155443.56,135049.55,141850.49,142541.8,106987.32,109084.8,88648.47,140894.86,170858.25,137694.7,138956.96,187398.65,164226.0,165685.82,137008.43,146791.96,103143.58,107242.37,93541.63,99762.92,100192.38,123826.11,109330.8,96935.55,99827.27,72222.52,73682.25,72021.5,90786.21,105929.4,90506.31,84394.5],\"type\":\"scatter\"}],                        {\"template\":{\"data\":{\"barpolar\":[{\"marker\":{\"line\":{\"color\":\"white\",\"width\":0.5},\"pattern\":{\"fillmode\":\"overlay\",\"size\":10,\"solidity\":0.2}},\"type\":\"barpolar\"}],\"bar\":[{\"error_x\":{\"color\":\"#2a3f5f\"},\"error_y\":{\"color\":\"#2a3f5f\"},\"marker\":{\"line\":{\"color\":\"white\",\"width\":0.5},\"pattern\":{\"fillmode\":\"overlay\",\"size\":10,\"solidity\":0.2}},\"type\":\"bar\"}],\"carpet\":[{\"aaxis\":{\"endlinecolor\":\"#2a3f5f\",\"gridcolor\":\"#C8D4E3\",\"linecolor\":\"#C8D4E3\",\"minorgridcolor\":\"#C8D4E3\",\"startlinecolor\":\"#2a3f5f\"},\"baxis\":{\"endlinecolor\":\"#2a3f5f\",\"gridcolor\":\"#C8D4E3\",\"linecolor\":\"#C8D4E3\",\"minorgridcolor\":\"#C8D4E3\",\"startlinecolor\":\"#2a3f5f\"},\"type\":\"carpet\"}],\"choropleth\":[{\"colorbar\":{\"outlinewidth\":0,\"ticks\":\"\"},\"type\":\"choropleth\"}],\"contourcarpet\":[{\"colorbar\":{\"outlinewidth\":0,\"ticks\":\"\"},\"type\":\"contourcarpet\"}],\"contour\":[{\"colorbar\":{\"outlinewidth\":0,\"ticks\":\"\"},\"colorscale\":[[0.0,\"#0d0887\"],[0.1111111111111111,\"#46039f\"],[0.2222222222222222,\"#7201a8\"],[0.3333333333333333,\"#9c179e\"],[0.4444444444444444,\"#bd3786\"],[0.5555555555555556,\"#d8576b\"],[0.6666666666666666,\"#ed7953\"],[0.7777777777777778,\"#fb9f3a\"],[0.8888888888888888,\"#fdca26\"],[1.0,\"#f0f921\"]],\"type\":\"contour\"}],\"heatmapgl\":[{\"colorbar\":{\"outlinewidth\":0,\"ticks\":\"\"},\"colorscale\":[[0.0,\"#0d0887\"],[0.1111111111111111,\"#46039f\"],[0.2222222222222222,\"#7201a8\"],[0.3333333333333333,\"#9c179e\"],[0.4444444444444444,\"#bd3786\"],[0.5555555555555556,\"#d8576b\"],[0.6666666666666666,\"#ed7953\"],[0.7777777777777778,\"#fb9f3a\"],[0.8888888888888888,\"#fdca26\"],[1.0,\"#f0f921\"]],\"type\":\"heatmapgl\"}],\"heatmap\":[{\"colorbar\":{\"outlinewidth\":0,\"ticks\":\"\"},\"colorscale\":[[0.0,\"#0d0887\"],[0.1111111111111111,\"#46039f\"],[0.2222222222222222,\"#7201a8\"],[0.3333333333333333,\"#9c179e\"],[0.4444444444444444,\"#bd3786\"],[0.5555555555555556,\"#d8576b\"],[0.6666666666666666,\"#ed7953\"],[0.7777777777777778,\"#fb9f3a\"],[0.8888888888888888,\"#fdca26\"],[1.0,\"#f0f921\"]],\"type\":\"heatmap\"}],\"histogram2dcontour\":[{\"colorbar\":{\"outlinewidth\":0,\"ticks\":\"\"},\"colorscale\":[[0.0,\"#0d0887\"],[0.1111111111111111,\"#46039f\"],[0.2222222222222222,\"#7201a8\"],[0.3333333333333333,\"#9c179e\"],[0.4444444444444444,\"#bd3786\"],[0.5555555555555556,\"#d8576b\"],[0.6666666666666666,\"#ed7953\"],[0.7777777777777778,\"#fb9f3a\"],[0.8888888888888888,\"#fdca26\"],[1.0,\"#f0f921\"]],\"type\":\"histogram2dcontour\"}],\"histogram2d\":[{\"colorbar\":{\"outlinewidth\":0,\"ticks\":\"\"},\"colorscale\":[[0.0,\"#0d0887\"],[0.1111111111111111,\"#46039f\"],[0.2222222222222222,\"#7201a8\"],[0.3333333333333333,\"#9c179e\"],[0.4444444444444444,\"#bd3786\"],[0.5555555555555556,\"#d8576b\"],[0.6666666666666666,\"#ed7953\"],[0.7777777777777778,\"#fb9f3a\"],[0.8888888888888888,\"#fdca26\"],[1.0,\"#f0f921\"]],\"type\":\"histogram2d\"}],\"histogram\":[{\"marker\":{\"pattern\":{\"fillmode\":\"overlay\",\"size\":10,\"solidity\":0.2}},\"type\":\"histogram\"}],\"mesh3d\":[{\"colorbar\":{\"outlinewidth\":0,\"ticks\":\"\"},\"type\":\"mesh3d\"}],\"parcoords\":[{\"line\":{\"colorbar\":{\"outlinewidth\":0,\"ticks\":\"\"}},\"type\":\"parcoords\"}],\"pie\":[{\"automargin\":true,\"type\":\"pie\"}],\"scatter3d\":[{\"line\":{\"colorbar\":{\"outlinewidth\":0,\"ticks\":\"\"}},\"marker\":{\"colorbar\":{\"outlinewidth\":0,\"ticks\":\"\"}},\"type\":\"scatter3d\"}],\"scattercarpet\":[{\"marker\":{\"colorbar\":{\"outlinewidth\":0,\"ticks\":\"\"}},\"type\":\"scattercarpet\"}],\"scattergeo\":[{\"marker\":{\"colorbar\":{\"outlinewidth\":0,\"ticks\":\"\"}},\"type\":\"scattergeo\"}],\"scattergl\":[{\"marker\":{\"colorbar\":{\"outlinewidth\":0,\"ticks\":\"\"}},\"type\":\"scattergl\"}],\"scattermapbox\":[{\"marker\":{\"colorbar\":{\"outlinewidth\":0,\"ticks\":\"\"}},\"type\":\"scattermapbox\"}],\"scatterpolargl\":[{\"marker\":{\"colorbar\":{\"outlinewidth\":0,\"ticks\":\"\"}},\"type\":\"scatterpolargl\"}],\"scatterpolar\":[{\"marker\":{\"colorbar\":{\"outlinewidth\":0,\"ticks\":\"\"}},\"type\":\"scatterpolar\"}],\"scatter\":[{\"fillpattern\":{\"fillmode\":\"overlay\",\"size\":10,\"solidity\":0.2},\"type\":\"scatter\"}],\"scatterternary\":[{\"marker\":{\"colorbar\":{\"outlinewidth\":0,\"ticks\":\"\"}},\"type\":\"scatterternary\"}],\"surface\":[{\"colorbar\":{\"outlinewidth\":0,\"ticks\":\"\"},\"colorscale\":[[0.0,\"#0d0887\"],[0.1111111111111111,\"#46039f\"],[0.2222222222222222,\"#7201a8\"],[0.3333333333333333,\"#9c179e\"],[0.4444444444444444,\"#bd3786\"],[0.5555555555555556,\"#d8576b\"],[0.6666666666666666,\"#ed7953\"],[0.7777777777777778,\"#fb9f3a\"],[0.8888888888888888,\"#fdca26\"],[1.0,\"#f0f921\"]],\"type\":\"surface\"}],\"table\":[{\"cells\":{\"fill\":{\"color\":\"#EBF0F8\"},\"line\":{\"color\":\"white\"}},\"header\":{\"fill\":{\"color\":\"#C8D4E3\"},\"line\":{\"color\":\"white\"}},\"type\":\"table\"}]},\"layout\":{\"annotationdefaults\":{\"arrowcolor\":\"#2a3f5f\",\"arrowhead\":0,\"arrowwidth\":1},\"autotypenumbers\":\"strict\",\"coloraxis\":{\"colorbar\":{\"outlinewidth\":0,\"ticks\":\"\"}},\"colorscale\":{\"diverging\":[[0,\"#8e0152\"],[0.1,\"#c51b7d\"],[0.2,\"#de77ae\"],[0.3,\"#f1b6da\"],[0.4,\"#fde0ef\"],[0.5,\"#f7f7f7\"],[0.6,\"#e6f5d0\"],[0.7,\"#b8e186\"],[0.8,\"#7fbc41\"],[0.9,\"#4d9221\"],[1,\"#276419\"]],\"sequential\":[[0.0,\"#0d0887\"],[0.1111111111111111,\"#46039f\"],[0.2222222222222222,\"#7201a8\"],[0.3333333333333333,\"#9c179e\"],[0.4444444444444444,\"#bd3786\"],[0.5555555555555556,\"#d8576b\"],[0.6666666666666666,\"#ed7953\"],[0.7777777777777778,\"#fb9f3a\"],[0.8888888888888888,\"#fdca26\"],[1.0,\"#f0f921\"]],\"sequentialminus\":[[0.0,\"#0d0887\"],[0.1111111111111111,\"#46039f\"],[0.2222222222222222,\"#7201a8\"],[0.3333333333333333,\"#9c179e\"],[0.4444444444444444,\"#bd3786\"],[0.5555555555555556,\"#d8576b\"],[0.6666666666666666,\"#ed7953\"],[0.7777777777777778,\"#fb9f3a\"],[0.8888888888888888,\"#fdca26\"],[1.0,\"#f0f921\"]]},\"colorway\":[\"#636efa\",\"#EF553B\",\"#00cc96\",\"#ab63fa\",\"#FFA15A\",\"#19d3f3\",\"#FF6692\",\"#B6E880\",\"#FF97FF\",\"#FECB52\"],\"font\":{\"color\":\"#2a3f5f\"},\"geo\":{\"bgcolor\":\"white\",\"lakecolor\":\"white\",\"landcolor\":\"white\",\"showlakes\":true,\"showland\":true,\"subunitcolor\":\"#C8D4E3\"},\"hoverlabel\":{\"align\":\"left\"},\"hovermode\":\"closest\",\"mapbox\":{\"style\":\"light\"},\"paper_bgcolor\":\"white\",\"plot_bgcolor\":\"white\",\"polar\":{\"angularaxis\":{\"gridcolor\":\"#EBF0F8\",\"linecolor\":\"#EBF0F8\",\"ticks\":\"\"},\"bgcolor\":\"white\",\"radialaxis\":{\"gridcolor\":\"#EBF0F8\",\"linecolor\":\"#EBF0F8\",\"ticks\":\"\"}},\"scene\":{\"xaxis\":{\"backgroundcolor\":\"white\",\"gridcolor\":\"#DFE8F3\",\"gridwidth\":2,\"linecolor\":\"#EBF0F8\",\"showbackground\":true,\"ticks\":\"\",\"zerolinecolor\":\"#EBF0F8\"},\"yaxis\":{\"backgroundcolor\":\"white\",\"gridcolor\":\"#DFE8F3\",\"gridwidth\":2,\"linecolor\":\"#EBF0F8\",\"showbackground\":true,\"ticks\":\"\",\"zerolinecolor\":\"#EBF0F8\"},\"zaxis\":{\"backgroundcolor\":\"white\",\"gridcolor\":\"#DFE8F3\",\"gridwidth\":2,\"linecolor\":\"#EBF0F8\",\"showbackground\":true,\"ticks\":\"\",\"zerolinecolor\":\"#EBF0F8\"}},\"shapedefaults\":{\"line\":{\"color\":\"#2a3f5f\"}},\"ternary\":{\"aaxis\":{\"gridcolor\":\"#DFE8F3\",\"linecolor\":\"#A2B1C6\",\"ticks\":\"\"},\"baxis\":{\"gridcolor\":\"#DFE8F3\",\"linecolor\":\"#A2B1C6\",\"ticks\":\"\"},\"bgcolor\":\"white\",\"caxis\":{\"gridcolor\":\"#DFE8F3\",\"linecolor\":\"#A2B1C6\",\"ticks\":\"\"}},\"title\":{\"x\":0.05},\"xaxis\":{\"automargin\":true,\"gridcolor\":\"#EBF0F8\",\"linecolor\":\"#EBF0F8\",\"ticks\":\"\",\"title\":{\"standoff\":15},\"zerolinecolor\":\"#EBF0F8\",\"zerolinewidth\":2},\"yaxis\":{\"automargin\":true,\"gridcolor\":\"#EBF0F8\",\"linecolor\":\"#EBF0F8\",\"ticks\":\"\",\"title\":{\"standoff\":15},\"zerolinecolor\":\"#EBF0F8\",\"zerolinewidth\":2}}},\"title\":{\"text\":\"Actual Revenue Over Time\"},\"xaxis\":{\"title\":{\"text\":\"Date\"}},\"yaxis\":{\"title\":{\"text\":\"Revenue\"}},\"width\":900,\"height\":500},                        {\"responsive\": true}                    ).then(function(){\n",
              "                            \n",
              "var gd = document.getElementById('2bf8f17e-4550-440e-b146-6ed8795ca106');\n",
              "var x = new MutationObserver(function (mutations, observer) {{\n",
              "        var display = window.getComputedStyle(gd).display;\n",
              "        if (!display || display === 'none') {{\n",
              "            console.log([gd, 'removed!']);\n",
              "            Plotly.purge(gd);\n",
              "            observer.disconnect();\n",
              "        }}\n",
              "}});\n",
              "\n",
              "// Listen for the removal of the full notebook cells\n",
              "var notebookContainer = gd.closest('#notebook-container');\n",
              "if (notebookContainer) {{\n",
              "    x.observe(notebookContainer, {childList: true});\n",
              "}}\n",
              "\n",
              "// Listen for the clearing of the current output cell\n",
              "var outputEl = gd.closest('.output');\n",
              "if (outputEl) {{\n",
              "    x.observe(outputEl, {childList: true});\n",
              "}}\n",
              "\n",
              "                        })                };                            </script>        </div>\n",
              "</body>\n",
              "</html>"
            ]
          },
          "metadata": {}
        }
      ]
    },
    {
      "cell_type": "markdown",
      "source": [
        "### Calculating R-squared to Evaluate Model Fit"
      ],
      "metadata": {
        "id": "9CMywlNWS2TG"
      }
    },
    {
      "cell_type": "code",
      "source": [
        "ss_total = np.sum((df['revenue'] - np.mean(df['revenue']))**2)\n",
        "ss_residual = np.sum((df['revenue'] - pred_mean)**2)\n",
        "r_squared = 1 - (ss_residual / ss_total)\n",
        "\n",
        "fig.update_layout(\n",
        "    title=f'Model Fit: Actual vs Predicted Revenue (R² = {r_squared:.3f})',\n",
        "    xaxis_title='Date',\n",
        "    yaxis_title='Revenue',\n",
        "    hovermode='x unified',\n",
        "    template='plotly_white',\n",
        "    width=900,\n",
        "    height=500\n",
        ")\n",
        "\n",
        "fig.show()\n"
      ],
      "metadata": {
        "colab": {
          "base_uri": "https://localhost:8080/",
          "height": 517
        },
        "id": "JxiuSss8qmgR",
        "outputId": "13357a45-ae62-4c52-a9e5-bc0c4f11edc2"
      },
      "execution_count": 19,
      "outputs": [
        {
          "output_type": "display_data",
          "data": {
            "text/html": [
              "<html>\n",
              "<head><meta charset=\"utf-8\" /></head>\n",
              "<body>\n",
              "    <div>            <script src=\"https://cdnjs.cloudflare.com/ajax/libs/mathjax/2.7.5/MathJax.js?config=TeX-AMS-MML_SVG\"></script><script type=\"text/javascript\">if (window.MathJax && window.MathJax.Hub && window.MathJax.Hub.Config) {window.MathJax.Hub.Config({SVG: {font: \"STIX-Web\"}});}</script>                <script type=\"text/javascript\">window.PlotlyConfig = {MathJaxConfig: 'local'};</script>\n",
              "        <script charset=\"utf-8\" src=\"https://cdn.plot.ly/plotly-2.35.2.min.js\"></script>                <div id=\"eb4e5516-387c-4eb7-b3eb-a3eb445c35e0\" class=\"plotly-graph-div\" style=\"height:500px; width:900px;\"></div>            <script type=\"text/javascript\">                                    window.PLOTLYENV=window.PLOTLYENV || {};                                    if (document.getElementById(\"eb4e5516-387c-4eb7-b3eb-a3eb445c35e0\")) {                    Plotly.newPlot(                        \"eb4e5516-387c-4eb7-b3eb-a3eb445c35e0\",                        [{\"marker\":{\"color\":\"blue\",\"opacity\":0.6,\"size\":8},\"mode\":\"markers\",\"name\":\"Actual Revenue\",\"x\":[\"2020-08-30\",\"2020-09-06\",\"2020-09-13\",\"2020-09-20\",\"2020-09-27\",\"2020-10-04\",\"2020-10-11\",\"2020-10-18\",\"2020-10-25\",\"2020-11-01\",\"2020-11-08\",\"2020-11-15\",\"2020-11-22\",\"2020-11-29\",\"2020-12-06\",\"2020-12-13\",\"2020-12-20\",\"2020-12-27\",\"2021-01-03\",\"2021-01-10\",\"2021-01-17\",\"2021-01-24\",\"2021-01-31\",\"2021-02-07\",\"2021-02-14\",\"2021-02-21\",\"2021-02-28\",\"2021-03-07\",\"2021-03-14\",\"2021-03-21\",\"2021-03-28\",\"2021-04-04\",\"2021-04-11\",\"2021-04-18\",\"2021-04-25\",\"2021-05-02\",\"2021-05-09\",\"2021-05-16\",\"2021-05-23\",\"2021-05-30\",\"2021-06-06\",\"2021-06-13\",\"2021-06-20\",\"2021-06-27\",\"2021-07-04\",\"2021-07-11\",\"2021-07-18\",\"2021-07-25\",\"2021-08-01\",\"2021-08-08\",\"2021-08-15\",\"2021-08-22\",\"2021-08-29\",\"2021-09-05\",\"2021-09-12\",\"2021-09-19\",\"2021-09-26\",\"2021-10-03\",\"2021-10-10\",\"2021-10-17\",\"2021-10-24\",\"2021-10-31\",\"2021-11-07\",\"2021-11-14\",\"2021-11-21\",\"2021-11-28\",\"2021-12-05\",\"2021-12-12\",\"2021-12-19\",\"2021-12-26\",\"2022-01-02\",\"2022-01-09\",\"2022-01-16\",\"2022-01-23\",\"2022-01-30\",\"2022-02-06\",\"2022-02-13\",\"2022-02-20\",\"2022-02-27\",\"2022-03-06\",\"2022-03-13\",\"2022-03-20\",\"2022-03-27\",\"2022-04-03\",\"2022-04-10\",\"2022-04-17\",\"2022-04-24\",\"2022-05-01\",\"2022-05-08\",\"2022-05-15\",\"2022-05-22\",\"2022-05-29\",\"2022-06-05\",\"2022-06-12\",\"2022-06-19\",\"2022-06-26\",\"2022-07-03\",\"2022-07-10\",\"2022-07-17\",\"2022-07-24\",\"2022-07-31\",\"2022-08-07\",\"2022-08-14\",\"2022-08-21\"],\"y\":[157906.75,186425.68,161607.39,180089.13,217793.98,195581.04,146951.61,163640.65,193045.15,213117.17,202321.02,216421.33,157640.79,418186.38,150423.19,79905.57,82020.23,80242.82,115207.83,97216.86,96071.01,284010.24,226994.32,185245.11,136635.71,126429.93,132752.27,133781.06,111934.63,109520.23,131152.3,120806.08,224619.82,157978.67,148937.15,148009.13,146088.85,131558.92,119857.12,123651.16,125654.17,171770.03,154713.33,121627.46,143288.33,102170.12,72849.92,63207.09,99723.69,89140.57,90561.75,104448.8,95478.58,108053.5,96973.9,94023.65,153611.64,161339.43,124309.37,119760.17,104755.63,131150.99,115514.46,134166.65,123340.71,276991.38,164983.21,125366.99,118347.81,85812.46,140621.95,176976.89,155443.56,135049.55,141850.49,142541.8,106987.32,109084.8,88648.47,140894.86,170858.25,137694.7,138956.96,187398.65,164226.0,165685.82,137008.43,146791.96,103143.58,107242.37,93541.63,99762.92,100192.38,123826.11,109330.8,96935.55,99827.27,72222.52,73682.25,72021.5,90786.21,105929.4,90506.31,84394.5],\"type\":\"scatter\"},{\"line\":{\"color\":\"red\",\"width\":2},\"mode\":\"lines\",\"name\":\"Predicted Revenue\",\"x\":[\"2020-08-30\",\"2020-09-06\",\"2020-09-13\",\"2020-09-20\",\"2020-09-27\",\"2020-10-04\",\"2020-10-11\",\"2020-10-18\",\"2020-10-25\",\"2020-11-01\",\"2020-11-08\",\"2020-11-15\",\"2020-11-22\",\"2020-11-29\",\"2020-12-06\",\"2020-12-13\",\"2020-12-20\",\"2020-12-27\",\"2021-01-03\",\"2021-01-10\",\"2021-01-17\",\"2021-01-24\",\"2021-01-31\",\"2021-02-07\",\"2021-02-14\",\"2021-02-21\",\"2021-02-28\",\"2021-03-07\",\"2021-03-14\",\"2021-03-21\",\"2021-03-28\",\"2021-04-04\",\"2021-04-11\",\"2021-04-18\",\"2021-04-25\",\"2021-05-02\",\"2021-05-09\",\"2021-05-16\",\"2021-05-23\",\"2021-05-30\",\"2021-06-06\",\"2021-06-13\",\"2021-06-20\",\"2021-06-27\",\"2021-07-04\",\"2021-07-11\",\"2021-07-18\",\"2021-07-25\",\"2021-08-01\",\"2021-08-08\",\"2021-08-15\",\"2021-08-22\",\"2021-08-29\",\"2021-09-05\",\"2021-09-12\",\"2021-09-19\",\"2021-09-26\",\"2021-10-03\",\"2021-10-10\",\"2021-10-17\",\"2021-10-24\",\"2021-10-31\",\"2021-11-07\",\"2021-11-14\",\"2021-11-21\",\"2021-11-28\",\"2021-12-05\",\"2021-12-12\",\"2021-12-19\",\"2021-12-26\",\"2022-01-02\",\"2022-01-09\",\"2022-01-16\",\"2022-01-23\",\"2022-01-30\",\"2022-02-06\",\"2022-02-13\",\"2022-02-20\",\"2022-02-27\",\"2022-03-06\",\"2022-03-13\",\"2022-03-20\",\"2022-03-27\",\"2022-04-03\",\"2022-04-10\",\"2022-04-17\",\"2022-04-24\",\"2022-05-01\",\"2022-05-08\",\"2022-05-15\",\"2022-05-22\",\"2022-05-29\",\"2022-06-05\",\"2022-06-12\",\"2022-06-19\",\"2022-06-26\",\"2022-07-03\",\"2022-07-10\",\"2022-07-17\",\"2022-07-24\",\"2022-07-31\",\"2022-08-07\",\"2022-08-14\",\"2022-08-21\"],\"y\":[141379.2593544387,148681.2150497116,150699.68811465395,166733.79519688676,173762.38635066146,199231.22732368138,238319.3525439466,203560.03491710988,157560.26445970283,207570.76607617244,235369.9719696963,236418.0848558872,226531.0722707348,265738.49060723383,138974.51826584275,76710.44480262301,88880.92097055276,88996.59344084653,154511.29417722466,142696.50456454986,159305.32337456822,180155.46293576283,180701.52486873168,131276.38748667255,139710.73666386446,143713.88988844526,143501.65135471945,136574.8648628255,133008.05256170253,115792.69437412186,123709.96221960225,153457.82316493275,218977.11470256382,149810.28029491997,133042.95791507652,145313.7849625819,124068.83228329601,96169.86203264708,108988.6642268386,136661.1704445487,143949.48183049145,139184.14966027485,131194.4262398461,153368.21138193345,143578.85017275615,127770.72853256157,136343.6112790241,111000.31130809044,98205.44597069384,99979.38401348656,92264.16491575759,86425.42677971724,89021.2128765093,87650.2470061728,101554.66500450172,114181.70101736569,148975.0267509242,151828.92803689762,136030.97988806517,106685.60388055416,98288.03412677259,100725.59023848163,161768.42167785706,157379.22750603623,156681.8451473745,210328.33285681446,170915.05647998353,116831.55633156601,103949.13936975396,101866.56767840742,151980.00770315042,157682.48619359377,149539.43649566066,145473.32838741236,147412.75122672977,111495.24399215881,109538.45783898667,116703.94618396042,124783.66642035633,151700.15494206583,143425.55959880952,133456.2045940244,145359.27898568352,158645.61331021294,201678.7145732148,126895.49964809332,111699.36145176041,91277.92975693458,88537.48528300856,101887.38598356201,116978.00530273338,91944.19048349498,89784.83960043587,98089.06707149721,114073.0049240797,110809.29283929401,115542.2060898209,107192.47796984595,102519.37422054936,98160.21998688312,97543.57465083952,104862.11375122631,100843.12451179537,103595.22570023661],\"type\":\"scatter\"}],                        {\"template\":{\"data\":{\"barpolar\":[{\"marker\":{\"line\":{\"color\":\"white\",\"width\":0.5},\"pattern\":{\"fillmode\":\"overlay\",\"size\":10,\"solidity\":0.2}},\"type\":\"barpolar\"}],\"bar\":[{\"error_x\":{\"color\":\"#2a3f5f\"},\"error_y\":{\"color\":\"#2a3f5f\"},\"marker\":{\"line\":{\"color\":\"white\",\"width\":0.5},\"pattern\":{\"fillmode\":\"overlay\",\"size\":10,\"solidity\":0.2}},\"type\":\"bar\"}],\"carpet\":[{\"aaxis\":{\"endlinecolor\":\"#2a3f5f\",\"gridcolor\":\"#C8D4E3\",\"linecolor\":\"#C8D4E3\",\"minorgridcolor\":\"#C8D4E3\",\"startlinecolor\":\"#2a3f5f\"},\"baxis\":{\"endlinecolor\":\"#2a3f5f\",\"gridcolor\":\"#C8D4E3\",\"linecolor\":\"#C8D4E3\",\"minorgridcolor\":\"#C8D4E3\",\"startlinecolor\":\"#2a3f5f\"},\"type\":\"carpet\"}],\"choropleth\":[{\"colorbar\":{\"outlinewidth\":0,\"ticks\":\"\"},\"type\":\"choropleth\"}],\"contourcarpet\":[{\"colorbar\":{\"outlinewidth\":0,\"ticks\":\"\"},\"type\":\"contourcarpet\"}],\"contour\":[{\"colorbar\":{\"outlinewidth\":0,\"ticks\":\"\"},\"colorscale\":[[0.0,\"#0d0887\"],[0.1111111111111111,\"#46039f\"],[0.2222222222222222,\"#7201a8\"],[0.3333333333333333,\"#9c179e\"],[0.4444444444444444,\"#bd3786\"],[0.5555555555555556,\"#d8576b\"],[0.6666666666666666,\"#ed7953\"],[0.7777777777777778,\"#fb9f3a\"],[0.8888888888888888,\"#fdca26\"],[1.0,\"#f0f921\"]],\"type\":\"contour\"}],\"heatmapgl\":[{\"colorbar\":{\"outlinewidth\":0,\"ticks\":\"\"},\"colorscale\":[[0.0,\"#0d0887\"],[0.1111111111111111,\"#46039f\"],[0.2222222222222222,\"#7201a8\"],[0.3333333333333333,\"#9c179e\"],[0.4444444444444444,\"#bd3786\"],[0.5555555555555556,\"#d8576b\"],[0.6666666666666666,\"#ed7953\"],[0.7777777777777778,\"#fb9f3a\"],[0.8888888888888888,\"#fdca26\"],[1.0,\"#f0f921\"]],\"type\":\"heatmapgl\"}],\"heatmap\":[{\"colorbar\":{\"outlinewidth\":0,\"ticks\":\"\"},\"colorscale\":[[0.0,\"#0d0887\"],[0.1111111111111111,\"#46039f\"],[0.2222222222222222,\"#7201a8\"],[0.3333333333333333,\"#9c179e\"],[0.4444444444444444,\"#bd3786\"],[0.5555555555555556,\"#d8576b\"],[0.6666666666666666,\"#ed7953\"],[0.7777777777777778,\"#fb9f3a\"],[0.8888888888888888,\"#fdca26\"],[1.0,\"#f0f921\"]],\"type\":\"heatmap\"}],\"histogram2dcontour\":[{\"colorbar\":{\"outlinewidth\":0,\"ticks\":\"\"},\"colorscale\":[[0.0,\"#0d0887\"],[0.1111111111111111,\"#46039f\"],[0.2222222222222222,\"#7201a8\"],[0.3333333333333333,\"#9c179e\"],[0.4444444444444444,\"#bd3786\"],[0.5555555555555556,\"#d8576b\"],[0.6666666666666666,\"#ed7953\"],[0.7777777777777778,\"#fb9f3a\"],[0.8888888888888888,\"#fdca26\"],[1.0,\"#f0f921\"]],\"type\":\"histogram2dcontour\"}],\"histogram2d\":[{\"colorbar\":{\"outlinewidth\":0,\"ticks\":\"\"},\"colorscale\":[[0.0,\"#0d0887\"],[0.1111111111111111,\"#46039f\"],[0.2222222222222222,\"#7201a8\"],[0.3333333333333333,\"#9c179e\"],[0.4444444444444444,\"#bd3786\"],[0.5555555555555556,\"#d8576b\"],[0.6666666666666666,\"#ed7953\"],[0.7777777777777778,\"#fb9f3a\"],[0.8888888888888888,\"#fdca26\"],[1.0,\"#f0f921\"]],\"type\":\"histogram2d\"}],\"histogram\":[{\"marker\":{\"pattern\":{\"fillmode\":\"overlay\",\"size\":10,\"solidity\":0.2}},\"type\":\"histogram\"}],\"mesh3d\":[{\"colorbar\":{\"outlinewidth\":0,\"ticks\":\"\"},\"type\":\"mesh3d\"}],\"parcoords\":[{\"line\":{\"colorbar\":{\"outlinewidth\":0,\"ticks\":\"\"}},\"type\":\"parcoords\"}],\"pie\":[{\"automargin\":true,\"type\":\"pie\"}],\"scatter3d\":[{\"line\":{\"colorbar\":{\"outlinewidth\":0,\"ticks\":\"\"}},\"marker\":{\"colorbar\":{\"outlinewidth\":0,\"ticks\":\"\"}},\"type\":\"scatter3d\"}],\"scattercarpet\":[{\"marker\":{\"colorbar\":{\"outlinewidth\":0,\"ticks\":\"\"}},\"type\":\"scattercarpet\"}],\"scattergeo\":[{\"marker\":{\"colorbar\":{\"outlinewidth\":0,\"ticks\":\"\"}},\"type\":\"scattergeo\"}],\"scattergl\":[{\"marker\":{\"colorbar\":{\"outlinewidth\":0,\"ticks\":\"\"}},\"type\":\"scattergl\"}],\"scattermapbox\":[{\"marker\":{\"colorbar\":{\"outlinewidth\":0,\"ticks\":\"\"}},\"type\":\"scattermapbox\"}],\"scatterpolargl\":[{\"marker\":{\"colorbar\":{\"outlinewidth\":0,\"ticks\":\"\"}},\"type\":\"scatterpolargl\"}],\"scatterpolar\":[{\"marker\":{\"colorbar\":{\"outlinewidth\":0,\"ticks\":\"\"}},\"type\":\"scatterpolar\"}],\"scatter\":[{\"fillpattern\":{\"fillmode\":\"overlay\",\"size\":10,\"solidity\":0.2},\"type\":\"scatter\"}],\"scatterternary\":[{\"marker\":{\"colorbar\":{\"outlinewidth\":0,\"ticks\":\"\"}},\"type\":\"scatterternary\"}],\"surface\":[{\"colorbar\":{\"outlinewidth\":0,\"ticks\":\"\"},\"colorscale\":[[0.0,\"#0d0887\"],[0.1111111111111111,\"#46039f\"],[0.2222222222222222,\"#7201a8\"],[0.3333333333333333,\"#9c179e\"],[0.4444444444444444,\"#bd3786\"],[0.5555555555555556,\"#d8576b\"],[0.6666666666666666,\"#ed7953\"],[0.7777777777777778,\"#fb9f3a\"],[0.8888888888888888,\"#fdca26\"],[1.0,\"#f0f921\"]],\"type\":\"surface\"}],\"table\":[{\"cells\":{\"fill\":{\"color\":\"#EBF0F8\"},\"line\":{\"color\":\"white\"}},\"header\":{\"fill\":{\"color\":\"#C8D4E3\"},\"line\":{\"color\":\"white\"}},\"type\":\"table\"}]},\"layout\":{\"annotationdefaults\":{\"arrowcolor\":\"#2a3f5f\",\"arrowhead\":0,\"arrowwidth\":1},\"autotypenumbers\":\"strict\",\"coloraxis\":{\"colorbar\":{\"outlinewidth\":0,\"ticks\":\"\"}},\"colorscale\":{\"diverging\":[[0,\"#8e0152\"],[0.1,\"#c51b7d\"],[0.2,\"#de77ae\"],[0.3,\"#f1b6da\"],[0.4,\"#fde0ef\"],[0.5,\"#f7f7f7\"],[0.6,\"#e6f5d0\"],[0.7,\"#b8e186\"],[0.8,\"#7fbc41\"],[0.9,\"#4d9221\"],[1,\"#276419\"]],\"sequential\":[[0.0,\"#0d0887\"],[0.1111111111111111,\"#46039f\"],[0.2222222222222222,\"#7201a8\"],[0.3333333333333333,\"#9c179e\"],[0.4444444444444444,\"#bd3786\"],[0.5555555555555556,\"#d8576b\"],[0.6666666666666666,\"#ed7953\"],[0.7777777777777778,\"#fb9f3a\"],[0.8888888888888888,\"#fdca26\"],[1.0,\"#f0f921\"]],\"sequentialminus\":[[0.0,\"#0d0887\"],[0.1111111111111111,\"#46039f\"],[0.2222222222222222,\"#7201a8\"],[0.3333333333333333,\"#9c179e\"],[0.4444444444444444,\"#bd3786\"],[0.5555555555555556,\"#d8576b\"],[0.6666666666666666,\"#ed7953\"],[0.7777777777777778,\"#fb9f3a\"],[0.8888888888888888,\"#fdca26\"],[1.0,\"#f0f921\"]]},\"colorway\":[\"#636efa\",\"#EF553B\",\"#00cc96\",\"#ab63fa\",\"#FFA15A\",\"#19d3f3\",\"#FF6692\",\"#B6E880\",\"#FF97FF\",\"#FECB52\"],\"font\":{\"color\":\"#2a3f5f\"},\"geo\":{\"bgcolor\":\"white\",\"lakecolor\":\"white\",\"landcolor\":\"white\",\"showlakes\":true,\"showland\":true,\"subunitcolor\":\"#C8D4E3\"},\"hoverlabel\":{\"align\":\"left\"},\"hovermode\":\"closest\",\"mapbox\":{\"style\":\"light\"},\"paper_bgcolor\":\"white\",\"plot_bgcolor\":\"white\",\"polar\":{\"angularaxis\":{\"gridcolor\":\"#EBF0F8\",\"linecolor\":\"#EBF0F8\",\"ticks\":\"\"},\"bgcolor\":\"white\",\"radialaxis\":{\"gridcolor\":\"#EBF0F8\",\"linecolor\":\"#EBF0F8\",\"ticks\":\"\"}},\"scene\":{\"xaxis\":{\"backgroundcolor\":\"white\",\"gridcolor\":\"#DFE8F3\",\"gridwidth\":2,\"linecolor\":\"#EBF0F8\",\"showbackground\":true,\"ticks\":\"\",\"zerolinecolor\":\"#EBF0F8\"},\"yaxis\":{\"backgroundcolor\":\"white\",\"gridcolor\":\"#DFE8F3\",\"gridwidth\":2,\"linecolor\":\"#EBF0F8\",\"showbackground\":true,\"ticks\":\"\",\"zerolinecolor\":\"#EBF0F8\"},\"zaxis\":{\"backgroundcolor\":\"white\",\"gridcolor\":\"#DFE8F3\",\"gridwidth\":2,\"linecolor\":\"#EBF0F8\",\"showbackground\":true,\"ticks\":\"\",\"zerolinecolor\":\"#EBF0F8\"}},\"shapedefaults\":{\"line\":{\"color\":\"#2a3f5f\"}},\"ternary\":{\"aaxis\":{\"gridcolor\":\"#DFE8F3\",\"linecolor\":\"#A2B1C6\",\"ticks\":\"\"},\"baxis\":{\"gridcolor\":\"#DFE8F3\",\"linecolor\":\"#A2B1C6\",\"ticks\":\"\"},\"bgcolor\":\"white\",\"caxis\":{\"gridcolor\":\"#DFE8F3\",\"linecolor\":\"#A2B1C6\",\"ticks\":\"\"}},\"title\":{\"x\":0.05},\"xaxis\":{\"automargin\":true,\"gridcolor\":\"#EBF0F8\",\"linecolor\":\"#EBF0F8\",\"ticks\":\"\",\"title\":{\"standoff\":15},\"zerolinecolor\":\"#EBF0F8\",\"zerolinewidth\":2},\"yaxis\":{\"automargin\":true,\"gridcolor\":\"#EBF0F8\",\"linecolor\":\"#EBF0F8\",\"ticks\":\"\",\"title\":{\"standoff\":15},\"zerolinecolor\":\"#EBF0F8\",\"zerolinewidth\":2}}},\"title\":{\"text\":\"Model Fit: Actual vs Predicted Revenue (R² = 0.583)\"},\"xaxis\":{\"title\":{\"text\":\"Date\"}},\"yaxis\":{\"title\":{\"text\":\"Revenue\"}},\"hovermode\":\"x unified\",\"width\":900,\"height\":500},                        {\"responsive\": true}                    ).then(function(){\n",
              "                            \n",
              "var gd = document.getElementById('eb4e5516-387c-4eb7-b3eb-a3eb445c35e0');\n",
              "var x = new MutationObserver(function (mutations, observer) {{\n",
              "        var display = window.getComputedStyle(gd).display;\n",
              "        if (!display || display === 'none') {{\n",
              "            console.log([gd, 'removed!']);\n",
              "            Plotly.purge(gd);\n",
              "            observer.disconnect();\n",
              "        }}\n",
              "}});\n",
              "\n",
              "// Listen for the removal of the full notebook cells\n",
              "var notebookContainer = gd.closest('#notebook-container');\n",
              "if (notebookContainer) {{\n",
              "    x.observe(notebookContainer, {childList: true});\n",
              "}}\n",
              "\n",
              "// Listen for the clearing of the current output cell\n",
              "var outputEl = gd.closest('.output');\n",
              "if (outputEl) {{\n",
              "    x.observe(outputEl, {childList: true});\n",
              "}}\n",
              "\n",
              "                        })                };                            </script>        </div>\n",
              "</body>\n",
              "</html>"
            ]
          },
          "metadata": {}
        }
      ]
    },
    {
      "cell_type": "markdown",
      "source": [],
      "metadata": {
        "id": "bhyR95dPFPre"
      }
    },
    {
      "cell_type": "markdown",
      "source": [
        "### Calculating ROI for Each Channel"
      ],
      "metadata": {
        "id": "AlTX9srHFmcv"
      }
    },
    {
      "cell_type": "code",
      "source": [
        "channel_names = ['Channel 1', 'Channel 2', 'Channel 3',\n",
        "                'Channel 4', 'Channel 5', 'Channel 6', 'Channel 7']\n",
        "original_channels = ['spend_channel_1', 'spend_channel_2', 'spend_channel_3',\n",
        "                    'spend_channel_4', 'spend_channel_5', 'spend_channel_6', 'spend_channel_7']\n",
        "adstocked_channels = [ch + '_adstocked' for ch in original_channels]\n",
        "\n",
        "# Get coefficients\n",
        "coefficients = trace.posterior['betas'].mean(dim=('chain', 'draw')).values\n",
        "\n",
        "# Calculating total spend and contribution for each channel\n",
        "total_spend = []\n",
        "total_contribution = []\n",
        "\n",
        "for i, channel in enumerate(original_channels):\n",
        "    # Total spend\n",
        "    spend = df[channel].sum()\n",
        "    total_spend.append(spend)\n",
        "\n",
        "    # Total contribution to revenue (coefficient * adstocked_spend)\n",
        "    contribution = coefficients[i] * df[adstocked_channels[i]].sum()\n",
        "    total_contribution.append(contribution)\n",
        "\n",
        "# Calculate ROI (Return on Investment)\n",
        "roi = [(contribution / spend) for contribution, spend in zip(total_contribution, total_spend)]\n",
        "\n",
        "roi_df = pd.DataFrame({\n",
        "    'Channel': channel_names,\n",
        "    'Coefficient': coefficients,\n",
        "    'Total Spend': total_spend,\n",
        "    'Total Contribution': total_contribution,\n",
        "    'ROI': roi\n",
        "})\n",
        "\n",
        "# Sort by ROI\n",
        "roi_df = roi_df.sort_values('ROI', ascending=False)\n",
        "\n",
        "print(roi_df)"
      ],
      "metadata": {
        "colab": {
          "base_uri": "https://localhost:8080/"
        },
        "id": "neo4pj3OFO1f",
        "outputId": "ccca719a-e106-49a0-f877-e108bf266ba2"
      },
      "execution_count": 20,
      "outputs": [
        {
          "output_type": "stream",
          "name": "stdout",
          "text": [
            "     Channel  Coefficient  Total Spend  Total Contribution        ROI\n",
            "5  Channel 6     2.048656    526624.70        1.348591e+06   2.560820\n",
            "4  Channel 5     1.540841    891863.59        1.526341e+06   1.711407\n",
            "6  Channel 7     1.243823   2880942.21        3.976875e+06   1.380408\n",
            "2  Channel 3     0.866258   2028746.51        1.951532e+06   0.961940\n",
            "3  Channel 4    -0.274560    719174.22       -1.821948e+06  -2.533388\n",
            "0  Channel 1    -4.988227    129542.90       -7.179882e+05  -5.542474\n",
            "1  Channel 2    -1.837124     35738.66       -5.520603e+05 -15.447147\n"
          ]
        }
      ]
    },
    {
      "cell_type": "code",
      "source": [
        "import plotly.express as px\n",
        "import pandas as pd\n",
        "\n",
        "fig = px.bar(\n",
        "    roi_df,\n",
        "    x='Channel',\n",
        "    y='ROI',\n",
        "    text='ROI',\n",
        "    color='ROI',\n",
        "    color_continuous_scale=['grey', 'lightgreen', 'darkgreen'],\n",
        "    title=\"ROI by Channel\"\n",
        ")\n",
        "\n",
        "fig.update_traces(texttemplate='%{text:.2f}', textposition='outside')\n",
        "fig.update_layout(\n",
        "    yaxis_title=\"ROI\",\n",
        "    xaxis_title=\"Channel\",\n",
        "    coloraxis_showscale=False,\n",
        "    template=\"plotly_white\",\n",
        "    height=600,\n",
        "    width=900\n",
        ")\n",
        "\n",
        "fig.show()\n"
      ],
      "metadata": {
        "colab": {
          "base_uri": "https://localhost:8080/",
          "height": 617
        },
        "id": "VvtP-_icG0gc",
        "outputId": "ce1df84c-dda9-4345-b866-1357dcf04a8b"
      },
      "execution_count": 21,
      "outputs": [
        {
          "output_type": "display_data",
          "data": {
            "text/html": [
              "<html>\n",
              "<head><meta charset=\"utf-8\" /></head>\n",
              "<body>\n",
              "    <div>            <script src=\"https://cdnjs.cloudflare.com/ajax/libs/mathjax/2.7.5/MathJax.js?config=TeX-AMS-MML_SVG\"></script><script type=\"text/javascript\">if (window.MathJax && window.MathJax.Hub && window.MathJax.Hub.Config) {window.MathJax.Hub.Config({SVG: {font: \"STIX-Web\"}});}</script>                <script type=\"text/javascript\">window.PlotlyConfig = {MathJaxConfig: 'local'};</script>\n",
              "        <script charset=\"utf-8\" src=\"https://cdn.plot.ly/plotly-2.35.2.min.js\"></script>                <div id=\"ba20e62f-a55b-4d70-8e84-a54e0276aca2\" class=\"plotly-graph-div\" style=\"height:600px; width:900px;\"></div>            <script type=\"text/javascript\">                                    window.PLOTLYENV=window.PLOTLYENV || {};                                    if (document.getElementById(\"ba20e62f-a55b-4d70-8e84-a54e0276aca2\")) {                    Plotly.newPlot(                        \"ba20e62f-a55b-4d70-8e84-a54e0276aca2\",                        [{\"alignmentgroup\":\"True\",\"hovertemplate\":\"Channel=%{x}\\u003cbr\\u003eROI=%{marker.color}\\u003cextra\\u003e\\u003c\\u002fextra\\u003e\",\"legendgroup\":\"\",\"marker\":{\"color\":[2.5608204668633605,1.7114068407378489,1.380407727184812,0.96193985266574,-2.533388485773776,-5.542474103705514,-15.447146784608666],\"coloraxis\":\"coloraxis\",\"pattern\":{\"shape\":\"\"}},\"name\":\"\",\"offsetgroup\":\"\",\"orientation\":\"v\",\"showlegend\":false,\"text\":[2.5608204668633605,1.7114068407378489,1.380407727184812,0.96193985266574,-2.533388485773776,-5.542474103705514,-15.447146784608666],\"textposition\":\"outside\",\"x\":[\"Channel 6\",\"Channel 5\",\"Channel 7\",\"Channel 3\",\"Channel 4\",\"Channel 1\",\"Channel 2\"],\"xaxis\":\"x\",\"y\":[2.5608204668633605,1.7114068407378489,1.380407727184812,0.96193985266574,-2.533388485773776,-5.542474103705514,-15.447146784608666],\"yaxis\":\"y\",\"type\":\"bar\",\"texttemplate\":\"%{text:.2f}\"}],                        {\"template\":{\"data\":{\"barpolar\":[{\"marker\":{\"line\":{\"color\":\"white\",\"width\":0.5},\"pattern\":{\"fillmode\":\"overlay\",\"size\":10,\"solidity\":0.2}},\"type\":\"barpolar\"}],\"bar\":[{\"error_x\":{\"color\":\"#2a3f5f\"},\"error_y\":{\"color\":\"#2a3f5f\"},\"marker\":{\"line\":{\"color\":\"white\",\"width\":0.5},\"pattern\":{\"fillmode\":\"overlay\",\"size\":10,\"solidity\":0.2}},\"type\":\"bar\"}],\"carpet\":[{\"aaxis\":{\"endlinecolor\":\"#2a3f5f\",\"gridcolor\":\"#C8D4E3\",\"linecolor\":\"#C8D4E3\",\"minorgridcolor\":\"#C8D4E3\",\"startlinecolor\":\"#2a3f5f\"},\"baxis\":{\"endlinecolor\":\"#2a3f5f\",\"gridcolor\":\"#C8D4E3\",\"linecolor\":\"#C8D4E3\",\"minorgridcolor\":\"#C8D4E3\",\"startlinecolor\":\"#2a3f5f\"},\"type\":\"carpet\"}],\"choropleth\":[{\"colorbar\":{\"outlinewidth\":0,\"ticks\":\"\"},\"type\":\"choropleth\"}],\"contourcarpet\":[{\"colorbar\":{\"outlinewidth\":0,\"ticks\":\"\"},\"type\":\"contourcarpet\"}],\"contour\":[{\"colorbar\":{\"outlinewidth\":0,\"ticks\":\"\"},\"colorscale\":[[0.0,\"#0d0887\"],[0.1111111111111111,\"#46039f\"],[0.2222222222222222,\"#7201a8\"],[0.3333333333333333,\"#9c179e\"],[0.4444444444444444,\"#bd3786\"],[0.5555555555555556,\"#d8576b\"],[0.6666666666666666,\"#ed7953\"],[0.7777777777777778,\"#fb9f3a\"],[0.8888888888888888,\"#fdca26\"],[1.0,\"#f0f921\"]],\"type\":\"contour\"}],\"heatmapgl\":[{\"colorbar\":{\"outlinewidth\":0,\"ticks\":\"\"},\"colorscale\":[[0.0,\"#0d0887\"],[0.1111111111111111,\"#46039f\"],[0.2222222222222222,\"#7201a8\"],[0.3333333333333333,\"#9c179e\"],[0.4444444444444444,\"#bd3786\"],[0.5555555555555556,\"#d8576b\"],[0.6666666666666666,\"#ed7953\"],[0.7777777777777778,\"#fb9f3a\"],[0.8888888888888888,\"#fdca26\"],[1.0,\"#f0f921\"]],\"type\":\"heatmapgl\"}],\"heatmap\":[{\"colorbar\":{\"outlinewidth\":0,\"ticks\":\"\"},\"colorscale\":[[0.0,\"#0d0887\"],[0.1111111111111111,\"#46039f\"],[0.2222222222222222,\"#7201a8\"],[0.3333333333333333,\"#9c179e\"],[0.4444444444444444,\"#bd3786\"],[0.5555555555555556,\"#d8576b\"],[0.6666666666666666,\"#ed7953\"],[0.7777777777777778,\"#fb9f3a\"],[0.8888888888888888,\"#fdca26\"],[1.0,\"#f0f921\"]],\"type\":\"heatmap\"}],\"histogram2dcontour\":[{\"colorbar\":{\"outlinewidth\":0,\"ticks\":\"\"},\"colorscale\":[[0.0,\"#0d0887\"],[0.1111111111111111,\"#46039f\"],[0.2222222222222222,\"#7201a8\"],[0.3333333333333333,\"#9c179e\"],[0.4444444444444444,\"#bd3786\"],[0.5555555555555556,\"#d8576b\"],[0.6666666666666666,\"#ed7953\"],[0.7777777777777778,\"#fb9f3a\"],[0.8888888888888888,\"#fdca26\"],[1.0,\"#f0f921\"]],\"type\":\"histogram2dcontour\"}],\"histogram2d\":[{\"colorbar\":{\"outlinewidth\":0,\"ticks\":\"\"},\"colorscale\":[[0.0,\"#0d0887\"],[0.1111111111111111,\"#46039f\"],[0.2222222222222222,\"#7201a8\"],[0.3333333333333333,\"#9c179e\"],[0.4444444444444444,\"#bd3786\"],[0.5555555555555556,\"#d8576b\"],[0.6666666666666666,\"#ed7953\"],[0.7777777777777778,\"#fb9f3a\"],[0.8888888888888888,\"#fdca26\"],[1.0,\"#f0f921\"]],\"type\":\"histogram2d\"}],\"histogram\":[{\"marker\":{\"pattern\":{\"fillmode\":\"overlay\",\"size\":10,\"solidity\":0.2}},\"type\":\"histogram\"}],\"mesh3d\":[{\"colorbar\":{\"outlinewidth\":0,\"ticks\":\"\"},\"type\":\"mesh3d\"}],\"parcoords\":[{\"line\":{\"colorbar\":{\"outlinewidth\":0,\"ticks\":\"\"}},\"type\":\"parcoords\"}],\"pie\":[{\"automargin\":true,\"type\":\"pie\"}],\"scatter3d\":[{\"line\":{\"colorbar\":{\"outlinewidth\":0,\"ticks\":\"\"}},\"marker\":{\"colorbar\":{\"outlinewidth\":0,\"ticks\":\"\"}},\"type\":\"scatter3d\"}],\"scattercarpet\":[{\"marker\":{\"colorbar\":{\"outlinewidth\":0,\"ticks\":\"\"}},\"type\":\"scattercarpet\"}],\"scattergeo\":[{\"marker\":{\"colorbar\":{\"outlinewidth\":0,\"ticks\":\"\"}},\"type\":\"scattergeo\"}],\"scattergl\":[{\"marker\":{\"colorbar\":{\"outlinewidth\":0,\"ticks\":\"\"}},\"type\":\"scattergl\"}],\"scattermapbox\":[{\"marker\":{\"colorbar\":{\"outlinewidth\":0,\"ticks\":\"\"}},\"type\":\"scattermapbox\"}],\"scatterpolargl\":[{\"marker\":{\"colorbar\":{\"outlinewidth\":0,\"ticks\":\"\"}},\"type\":\"scatterpolargl\"}],\"scatterpolar\":[{\"marker\":{\"colorbar\":{\"outlinewidth\":0,\"ticks\":\"\"}},\"type\":\"scatterpolar\"}],\"scatter\":[{\"fillpattern\":{\"fillmode\":\"overlay\",\"size\":10,\"solidity\":0.2},\"type\":\"scatter\"}],\"scatterternary\":[{\"marker\":{\"colorbar\":{\"outlinewidth\":0,\"ticks\":\"\"}},\"type\":\"scatterternary\"}],\"surface\":[{\"colorbar\":{\"outlinewidth\":0,\"ticks\":\"\"},\"colorscale\":[[0.0,\"#0d0887\"],[0.1111111111111111,\"#46039f\"],[0.2222222222222222,\"#7201a8\"],[0.3333333333333333,\"#9c179e\"],[0.4444444444444444,\"#bd3786\"],[0.5555555555555556,\"#d8576b\"],[0.6666666666666666,\"#ed7953\"],[0.7777777777777778,\"#fb9f3a\"],[0.8888888888888888,\"#fdca26\"],[1.0,\"#f0f921\"]],\"type\":\"surface\"}],\"table\":[{\"cells\":{\"fill\":{\"color\":\"#EBF0F8\"},\"line\":{\"color\":\"white\"}},\"header\":{\"fill\":{\"color\":\"#C8D4E3\"},\"line\":{\"color\":\"white\"}},\"type\":\"table\"}]},\"layout\":{\"annotationdefaults\":{\"arrowcolor\":\"#2a3f5f\",\"arrowhead\":0,\"arrowwidth\":1},\"autotypenumbers\":\"strict\",\"coloraxis\":{\"colorbar\":{\"outlinewidth\":0,\"ticks\":\"\"}},\"colorscale\":{\"diverging\":[[0,\"#8e0152\"],[0.1,\"#c51b7d\"],[0.2,\"#de77ae\"],[0.3,\"#f1b6da\"],[0.4,\"#fde0ef\"],[0.5,\"#f7f7f7\"],[0.6,\"#e6f5d0\"],[0.7,\"#b8e186\"],[0.8,\"#7fbc41\"],[0.9,\"#4d9221\"],[1,\"#276419\"]],\"sequential\":[[0.0,\"#0d0887\"],[0.1111111111111111,\"#46039f\"],[0.2222222222222222,\"#7201a8\"],[0.3333333333333333,\"#9c179e\"],[0.4444444444444444,\"#bd3786\"],[0.5555555555555556,\"#d8576b\"],[0.6666666666666666,\"#ed7953\"],[0.7777777777777778,\"#fb9f3a\"],[0.8888888888888888,\"#fdca26\"],[1.0,\"#f0f921\"]],\"sequentialminus\":[[0.0,\"#0d0887\"],[0.1111111111111111,\"#46039f\"],[0.2222222222222222,\"#7201a8\"],[0.3333333333333333,\"#9c179e\"],[0.4444444444444444,\"#bd3786\"],[0.5555555555555556,\"#d8576b\"],[0.6666666666666666,\"#ed7953\"],[0.7777777777777778,\"#fb9f3a\"],[0.8888888888888888,\"#fdca26\"],[1.0,\"#f0f921\"]]},\"colorway\":[\"#636efa\",\"#EF553B\",\"#00cc96\",\"#ab63fa\",\"#FFA15A\",\"#19d3f3\",\"#FF6692\",\"#B6E880\",\"#FF97FF\",\"#FECB52\"],\"font\":{\"color\":\"#2a3f5f\"},\"geo\":{\"bgcolor\":\"white\",\"lakecolor\":\"white\",\"landcolor\":\"white\",\"showlakes\":true,\"showland\":true,\"subunitcolor\":\"#C8D4E3\"},\"hoverlabel\":{\"align\":\"left\"},\"hovermode\":\"closest\",\"mapbox\":{\"style\":\"light\"},\"paper_bgcolor\":\"white\",\"plot_bgcolor\":\"white\",\"polar\":{\"angularaxis\":{\"gridcolor\":\"#EBF0F8\",\"linecolor\":\"#EBF0F8\",\"ticks\":\"\"},\"bgcolor\":\"white\",\"radialaxis\":{\"gridcolor\":\"#EBF0F8\",\"linecolor\":\"#EBF0F8\",\"ticks\":\"\"}},\"scene\":{\"xaxis\":{\"backgroundcolor\":\"white\",\"gridcolor\":\"#DFE8F3\",\"gridwidth\":2,\"linecolor\":\"#EBF0F8\",\"showbackground\":true,\"ticks\":\"\",\"zerolinecolor\":\"#EBF0F8\"},\"yaxis\":{\"backgroundcolor\":\"white\",\"gridcolor\":\"#DFE8F3\",\"gridwidth\":2,\"linecolor\":\"#EBF0F8\",\"showbackground\":true,\"ticks\":\"\",\"zerolinecolor\":\"#EBF0F8\"},\"zaxis\":{\"backgroundcolor\":\"white\",\"gridcolor\":\"#DFE8F3\",\"gridwidth\":2,\"linecolor\":\"#EBF0F8\",\"showbackground\":true,\"ticks\":\"\",\"zerolinecolor\":\"#EBF0F8\"}},\"shapedefaults\":{\"line\":{\"color\":\"#2a3f5f\"}},\"ternary\":{\"aaxis\":{\"gridcolor\":\"#DFE8F3\",\"linecolor\":\"#A2B1C6\",\"ticks\":\"\"},\"baxis\":{\"gridcolor\":\"#DFE8F3\",\"linecolor\":\"#A2B1C6\",\"ticks\":\"\"},\"bgcolor\":\"white\",\"caxis\":{\"gridcolor\":\"#DFE8F3\",\"linecolor\":\"#A2B1C6\",\"ticks\":\"\"}},\"title\":{\"x\":0.05},\"xaxis\":{\"automargin\":true,\"gridcolor\":\"#EBF0F8\",\"linecolor\":\"#EBF0F8\",\"ticks\":\"\",\"title\":{\"standoff\":15},\"zerolinecolor\":\"#EBF0F8\",\"zerolinewidth\":2},\"yaxis\":{\"automargin\":true,\"gridcolor\":\"#EBF0F8\",\"linecolor\":\"#EBF0F8\",\"ticks\":\"\",\"title\":{\"standoff\":15},\"zerolinecolor\":\"#EBF0F8\",\"zerolinewidth\":2}}},\"xaxis\":{\"anchor\":\"y\",\"domain\":[0.0,1.0],\"title\":{\"text\":\"Channel\"}},\"yaxis\":{\"anchor\":\"x\",\"domain\":[0.0,1.0],\"title\":{\"text\":\"ROI\"}},\"coloraxis\":{\"colorbar\":{\"title\":{\"text\":\"ROI\"}},\"colorscale\":[[0.0,\"grey\"],[0.5,\"lightgreen\"],[1.0,\"darkgreen\"]],\"showscale\":false},\"legend\":{\"tracegroupgap\":0},\"title\":{\"text\":\"ROI by Channel\"},\"barmode\":\"relative\",\"height\":600,\"width\":900},                        {\"responsive\": true}                    ).then(function(){\n",
              "                            \n",
              "var gd = document.getElementById('ba20e62f-a55b-4d70-8e84-a54e0276aca2');\n",
              "var x = new MutationObserver(function (mutations, observer) {{\n",
              "        var display = window.getComputedStyle(gd).display;\n",
              "        if (!display || display === 'none') {{\n",
              "            console.log([gd, 'removed!']);\n",
              "            Plotly.purge(gd);\n",
              "            observer.disconnect();\n",
              "        }}\n",
              "}});\n",
              "\n",
              "// Listen for the removal of the full notebook cells\n",
              "var notebookContainer = gd.closest('#notebook-container');\n",
              "if (notebookContainer) {{\n",
              "    x.observe(notebookContainer, {childList: true});\n",
              "}}\n",
              "\n",
              "// Listen for the clearing of the current output cell\n",
              "var outputEl = gd.closest('.output');\n",
              "if (outputEl) {{\n",
              "    x.observe(outputEl, {childList: true});\n",
              "}}\n",
              "\n",
              "                        })                };                            </script>        </div>\n",
              "</body>\n",
              "</html>"
            ]
          },
          "metadata": {}
        }
      ]
    },
    {
      "cell_type": "markdown",
      "source": [
        "#### Channel 6's spend is relatively low, but the revenue generated from that spend is high — leading to a high ROI. each euro spent is associated with a €2.56 profit"
      ],
      "metadata": {
        "id": "BRJT_CD4PqJ1"
      }
    },
    {
      "cell_type": "markdown",
      "source": [
        "#### Channel 2 has the lowest ROI (-15.45) - each euro spent is associated with a €-15.45 loss"
      ],
      "metadata": {
        "id": "FIhSoM5MPALl"
      }
    },
    {
      "cell_type": "markdown",
      "source": [
        "#### Total Contribution by Channel"
      ],
      "metadata": {
        "id": "8xCudIEoosSN"
      }
    },
    {
      "cell_type": "code",
      "source": [
        "fig = px.bar(\n",
        "    roi_df,\n",
        "    x='Channel',\n",
        "    y='Total Contribution',\n",
        "    text='Total Contribution',\n",
        "    color='Total Contribution',\n",
        "    color_continuous_scale=['grey', 'lightgreen', 'darkgreen'],\n",
        "    title=\"Total Contribution by Channel\"\n",
        ")\n",
        "\n",
        "fig.update_traces(texttemplate='%{text:.2f}', textposition='outside')\n",
        "fig.update_layout(\n",
        "    yaxis_title=\"Contribution (€)\",\n",
        "    xaxis_title=\"Channel\",\n",
        "    coloraxis_showscale=False,\n",
        "    template=\"plotly_white\",\n",
        "    height=600,\n",
        "    width=900\n",
        ")\n",
        "\n",
        "fig.show()\n"
      ],
      "metadata": {
        "colab": {
          "base_uri": "https://localhost:8080/",
          "height": 617
        },
        "id": "R6Z9yMEeJo0r",
        "outputId": "cef39538-7658-4a36-eed8-0b8c915b273c"
      },
      "execution_count": 22,
      "outputs": [
        {
          "output_type": "display_data",
          "data": {
            "text/html": [
              "<html>\n",
              "<head><meta charset=\"utf-8\" /></head>\n",
              "<body>\n",
              "    <div>            <script src=\"https://cdnjs.cloudflare.com/ajax/libs/mathjax/2.7.5/MathJax.js?config=TeX-AMS-MML_SVG\"></script><script type=\"text/javascript\">if (window.MathJax && window.MathJax.Hub && window.MathJax.Hub.Config) {window.MathJax.Hub.Config({SVG: {font: \"STIX-Web\"}});}</script>                <script type=\"text/javascript\">window.PlotlyConfig = {MathJaxConfig: 'local'};</script>\n",
              "        <script charset=\"utf-8\" src=\"https://cdn.plot.ly/plotly-2.35.2.min.js\"></script>                <div id=\"c4927761-32b7-4884-b99a-0c643d847a0b\" class=\"plotly-graph-div\" style=\"height:600px; width:900px;\"></div>            <script type=\"text/javascript\">                                    window.PLOTLYENV=window.PLOTLYENV || {};                                    if (document.getElementById(\"c4927761-32b7-4884-b99a-0c643d847a0b\")) {                    Plotly.newPlot(                        \"c4927761-32b7-4884-b99a-0c643d847a0b\",                        [{\"alignmentgroup\":\"True\",\"hovertemplate\":\"Channel=%{x}\\u003cbr\\u003eTotal Contribution=%{marker.color}\\u003cextra\\u003e\\u003c\\u002fextra\\u003e\",\"legendgroup\":\"\",\"marker\":{\"color\":[1348591.3101157774,1526341.4489310163,3976874.8882568893,1951532.1189255344,-1821947.6882133363,-717988.1685689131,-552060.3269052223],\"coloraxis\":\"coloraxis\",\"pattern\":{\"shape\":\"\"}},\"name\":\"\",\"offsetgroup\":\"\",\"orientation\":\"v\",\"showlegend\":false,\"text\":[1348591.3101157774,1526341.4489310163,3976874.8882568893,1951532.1189255344,-1821947.6882133363,-717988.1685689131,-552060.3269052223],\"textposition\":\"outside\",\"x\":[\"Channel 6\",\"Channel 5\",\"Channel 7\",\"Channel 3\",\"Channel 4\",\"Channel 1\",\"Channel 2\"],\"xaxis\":\"x\",\"y\":[1348591.3101157774,1526341.4489310163,3976874.8882568893,1951532.1189255344,-1821947.6882133363,-717988.1685689131,-552060.3269052223],\"yaxis\":\"y\",\"type\":\"bar\",\"texttemplate\":\"%{text:.2f}\"}],                        {\"template\":{\"data\":{\"barpolar\":[{\"marker\":{\"line\":{\"color\":\"white\",\"width\":0.5},\"pattern\":{\"fillmode\":\"overlay\",\"size\":10,\"solidity\":0.2}},\"type\":\"barpolar\"}],\"bar\":[{\"error_x\":{\"color\":\"#2a3f5f\"},\"error_y\":{\"color\":\"#2a3f5f\"},\"marker\":{\"line\":{\"color\":\"white\",\"width\":0.5},\"pattern\":{\"fillmode\":\"overlay\",\"size\":10,\"solidity\":0.2}},\"type\":\"bar\"}],\"carpet\":[{\"aaxis\":{\"endlinecolor\":\"#2a3f5f\",\"gridcolor\":\"#C8D4E3\",\"linecolor\":\"#C8D4E3\",\"minorgridcolor\":\"#C8D4E3\",\"startlinecolor\":\"#2a3f5f\"},\"baxis\":{\"endlinecolor\":\"#2a3f5f\",\"gridcolor\":\"#C8D4E3\",\"linecolor\":\"#C8D4E3\",\"minorgridcolor\":\"#C8D4E3\",\"startlinecolor\":\"#2a3f5f\"},\"type\":\"carpet\"}],\"choropleth\":[{\"colorbar\":{\"outlinewidth\":0,\"ticks\":\"\"},\"type\":\"choropleth\"}],\"contourcarpet\":[{\"colorbar\":{\"outlinewidth\":0,\"ticks\":\"\"},\"type\":\"contourcarpet\"}],\"contour\":[{\"colorbar\":{\"outlinewidth\":0,\"ticks\":\"\"},\"colorscale\":[[0.0,\"#0d0887\"],[0.1111111111111111,\"#46039f\"],[0.2222222222222222,\"#7201a8\"],[0.3333333333333333,\"#9c179e\"],[0.4444444444444444,\"#bd3786\"],[0.5555555555555556,\"#d8576b\"],[0.6666666666666666,\"#ed7953\"],[0.7777777777777778,\"#fb9f3a\"],[0.8888888888888888,\"#fdca26\"],[1.0,\"#f0f921\"]],\"type\":\"contour\"}],\"heatmapgl\":[{\"colorbar\":{\"outlinewidth\":0,\"ticks\":\"\"},\"colorscale\":[[0.0,\"#0d0887\"],[0.1111111111111111,\"#46039f\"],[0.2222222222222222,\"#7201a8\"],[0.3333333333333333,\"#9c179e\"],[0.4444444444444444,\"#bd3786\"],[0.5555555555555556,\"#d8576b\"],[0.6666666666666666,\"#ed7953\"],[0.7777777777777778,\"#fb9f3a\"],[0.8888888888888888,\"#fdca26\"],[1.0,\"#f0f921\"]],\"type\":\"heatmapgl\"}],\"heatmap\":[{\"colorbar\":{\"outlinewidth\":0,\"ticks\":\"\"},\"colorscale\":[[0.0,\"#0d0887\"],[0.1111111111111111,\"#46039f\"],[0.2222222222222222,\"#7201a8\"],[0.3333333333333333,\"#9c179e\"],[0.4444444444444444,\"#bd3786\"],[0.5555555555555556,\"#d8576b\"],[0.6666666666666666,\"#ed7953\"],[0.7777777777777778,\"#fb9f3a\"],[0.8888888888888888,\"#fdca26\"],[1.0,\"#f0f921\"]],\"type\":\"heatmap\"}],\"histogram2dcontour\":[{\"colorbar\":{\"outlinewidth\":0,\"ticks\":\"\"},\"colorscale\":[[0.0,\"#0d0887\"],[0.1111111111111111,\"#46039f\"],[0.2222222222222222,\"#7201a8\"],[0.3333333333333333,\"#9c179e\"],[0.4444444444444444,\"#bd3786\"],[0.5555555555555556,\"#d8576b\"],[0.6666666666666666,\"#ed7953\"],[0.7777777777777778,\"#fb9f3a\"],[0.8888888888888888,\"#fdca26\"],[1.0,\"#f0f921\"]],\"type\":\"histogram2dcontour\"}],\"histogram2d\":[{\"colorbar\":{\"outlinewidth\":0,\"ticks\":\"\"},\"colorscale\":[[0.0,\"#0d0887\"],[0.1111111111111111,\"#46039f\"],[0.2222222222222222,\"#7201a8\"],[0.3333333333333333,\"#9c179e\"],[0.4444444444444444,\"#bd3786\"],[0.5555555555555556,\"#d8576b\"],[0.6666666666666666,\"#ed7953\"],[0.7777777777777778,\"#fb9f3a\"],[0.8888888888888888,\"#fdca26\"],[1.0,\"#f0f921\"]],\"type\":\"histogram2d\"}],\"histogram\":[{\"marker\":{\"pattern\":{\"fillmode\":\"overlay\",\"size\":10,\"solidity\":0.2}},\"type\":\"histogram\"}],\"mesh3d\":[{\"colorbar\":{\"outlinewidth\":0,\"ticks\":\"\"},\"type\":\"mesh3d\"}],\"parcoords\":[{\"line\":{\"colorbar\":{\"outlinewidth\":0,\"ticks\":\"\"}},\"type\":\"parcoords\"}],\"pie\":[{\"automargin\":true,\"type\":\"pie\"}],\"scatter3d\":[{\"line\":{\"colorbar\":{\"outlinewidth\":0,\"ticks\":\"\"}},\"marker\":{\"colorbar\":{\"outlinewidth\":0,\"ticks\":\"\"}},\"type\":\"scatter3d\"}],\"scattercarpet\":[{\"marker\":{\"colorbar\":{\"outlinewidth\":0,\"ticks\":\"\"}},\"type\":\"scattercarpet\"}],\"scattergeo\":[{\"marker\":{\"colorbar\":{\"outlinewidth\":0,\"ticks\":\"\"}},\"type\":\"scattergeo\"}],\"scattergl\":[{\"marker\":{\"colorbar\":{\"outlinewidth\":0,\"ticks\":\"\"}},\"type\":\"scattergl\"}],\"scattermapbox\":[{\"marker\":{\"colorbar\":{\"outlinewidth\":0,\"ticks\":\"\"}},\"type\":\"scattermapbox\"}],\"scatterpolargl\":[{\"marker\":{\"colorbar\":{\"outlinewidth\":0,\"ticks\":\"\"}},\"type\":\"scatterpolargl\"}],\"scatterpolar\":[{\"marker\":{\"colorbar\":{\"outlinewidth\":0,\"ticks\":\"\"}},\"type\":\"scatterpolar\"}],\"scatter\":[{\"fillpattern\":{\"fillmode\":\"overlay\",\"size\":10,\"solidity\":0.2},\"type\":\"scatter\"}],\"scatterternary\":[{\"marker\":{\"colorbar\":{\"outlinewidth\":0,\"ticks\":\"\"}},\"type\":\"scatterternary\"}],\"surface\":[{\"colorbar\":{\"outlinewidth\":0,\"ticks\":\"\"},\"colorscale\":[[0.0,\"#0d0887\"],[0.1111111111111111,\"#46039f\"],[0.2222222222222222,\"#7201a8\"],[0.3333333333333333,\"#9c179e\"],[0.4444444444444444,\"#bd3786\"],[0.5555555555555556,\"#d8576b\"],[0.6666666666666666,\"#ed7953\"],[0.7777777777777778,\"#fb9f3a\"],[0.8888888888888888,\"#fdca26\"],[1.0,\"#f0f921\"]],\"type\":\"surface\"}],\"table\":[{\"cells\":{\"fill\":{\"color\":\"#EBF0F8\"},\"line\":{\"color\":\"white\"}},\"header\":{\"fill\":{\"color\":\"#C8D4E3\"},\"line\":{\"color\":\"white\"}},\"type\":\"table\"}]},\"layout\":{\"annotationdefaults\":{\"arrowcolor\":\"#2a3f5f\",\"arrowhead\":0,\"arrowwidth\":1},\"autotypenumbers\":\"strict\",\"coloraxis\":{\"colorbar\":{\"outlinewidth\":0,\"ticks\":\"\"}},\"colorscale\":{\"diverging\":[[0,\"#8e0152\"],[0.1,\"#c51b7d\"],[0.2,\"#de77ae\"],[0.3,\"#f1b6da\"],[0.4,\"#fde0ef\"],[0.5,\"#f7f7f7\"],[0.6,\"#e6f5d0\"],[0.7,\"#b8e186\"],[0.8,\"#7fbc41\"],[0.9,\"#4d9221\"],[1,\"#276419\"]],\"sequential\":[[0.0,\"#0d0887\"],[0.1111111111111111,\"#46039f\"],[0.2222222222222222,\"#7201a8\"],[0.3333333333333333,\"#9c179e\"],[0.4444444444444444,\"#bd3786\"],[0.5555555555555556,\"#d8576b\"],[0.6666666666666666,\"#ed7953\"],[0.7777777777777778,\"#fb9f3a\"],[0.8888888888888888,\"#fdca26\"],[1.0,\"#f0f921\"]],\"sequentialminus\":[[0.0,\"#0d0887\"],[0.1111111111111111,\"#46039f\"],[0.2222222222222222,\"#7201a8\"],[0.3333333333333333,\"#9c179e\"],[0.4444444444444444,\"#bd3786\"],[0.5555555555555556,\"#d8576b\"],[0.6666666666666666,\"#ed7953\"],[0.7777777777777778,\"#fb9f3a\"],[0.8888888888888888,\"#fdca26\"],[1.0,\"#f0f921\"]]},\"colorway\":[\"#636efa\",\"#EF553B\",\"#00cc96\",\"#ab63fa\",\"#FFA15A\",\"#19d3f3\",\"#FF6692\",\"#B6E880\",\"#FF97FF\",\"#FECB52\"],\"font\":{\"color\":\"#2a3f5f\"},\"geo\":{\"bgcolor\":\"white\",\"lakecolor\":\"white\",\"landcolor\":\"white\",\"showlakes\":true,\"showland\":true,\"subunitcolor\":\"#C8D4E3\"},\"hoverlabel\":{\"align\":\"left\"},\"hovermode\":\"closest\",\"mapbox\":{\"style\":\"light\"},\"paper_bgcolor\":\"white\",\"plot_bgcolor\":\"white\",\"polar\":{\"angularaxis\":{\"gridcolor\":\"#EBF0F8\",\"linecolor\":\"#EBF0F8\",\"ticks\":\"\"},\"bgcolor\":\"white\",\"radialaxis\":{\"gridcolor\":\"#EBF0F8\",\"linecolor\":\"#EBF0F8\",\"ticks\":\"\"}},\"scene\":{\"xaxis\":{\"backgroundcolor\":\"white\",\"gridcolor\":\"#DFE8F3\",\"gridwidth\":2,\"linecolor\":\"#EBF0F8\",\"showbackground\":true,\"ticks\":\"\",\"zerolinecolor\":\"#EBF0F8\"},\"yaxis\":{\"backgroundcolor\":\"white\",\"gridcolor\":\"#DFE8F3\",\"gridwidth\":2,\"linecolor\":\"#EBF0F8\",\"showbackground\":true,\"ticks\":\"\",\"zerolinecolor\":\"#EBF0F8\"},\"zaxis\":{\"backgroundcolor\":\"white\",\"gridcolor\":\"#DFE8F3\",\"gridwidth\":2,\"linecolor\":\"#EBF0F8\",\"showbackground\":true,\"ticks\":\"\",\"zerolinecolor\":\"#EBF0F8\"}},\"shapedefaults\":{\"line\":{\"color\":\"#2a3f5f\"}},\"ternary\":{\"aaxis\":{\"gridcolor\":\"#DFE8F3\",\"linecolor\":\"#A2B1C6\",\"ticks\":\"\"},\"baxis\":{\"gridcolor\":\"#DFE8F3\",\"linecolor\":\"#A2B1C6\",\"ticks\":\"\"},\"bgcolor\":\"white\",\"caxis\":{\"gridcolor\":\"#DFE8F3\",\"linecolor\":\"#A2B1C6\",\"ticks\":\"\"}},\"title\":{\"x\":0.05},\"xaxis\":{\"automargin\":true,\"gridcolor\":\"#EBF0F8\",\"linecolor\":\"#EBF0F8\",\"ticks\":\"\",\"title\":{\"standoff\":15},\"zerolinecolor\":\"#EBF0F8\",\"zerolinewidth\":2},\"yaxis\":{\"automargin\":true,\"gridcolor\":\"#EBF0F8\",\"linecolor\":\"#EBF0F8\",\"ticks\":\"\",\"title\":{\"standoff\":15},\"zerolinecolor\":\"#EBF0F8\",\"zerolinewidth\":2}}},\"xaxis\":{\"anchor\":\"y\",\"domain\":[0.0,1.0],\"title\":{\"text\":\"Channel\"}},\"yaxis\":{\"anchor\":\"x\",\"domain\":[0.0,1.0],\"title\":{\"text\":\"Contribution (€)\"}},\"coloraxis\":{\"colorbar\":{\"title\":{\"text\":\"Total Contribution\"}},\"colorscale\":[[0.0,\"grey\"],[0.5,\"lightgreen\"],[1.0,\"darkgreen\"]],\"showscale\":false},\"legend\":{\"tracegroupgap\":0},\"title\":{\"text\":\"Total Contribution by Channel\"},\"barmode\":\"relative\",\"height\":600,\"width\":900},                        {\"responsive\": true}                    ).then(function(){\n",
              "                            \n",
              "var gd = document.getElementById('c4927761-32b7-4884-b99a-0c643d847a0b');\n",
              "var x = new MutationObserver(function (mutations, observer) {{\n",
              "        var display = window.getComputedStyle(gd).display;\n",
              "        if (!display || display === 'none') {{\n",
              "            console.log([gd, 'removed!']);\n",
              "            Plotly.purge(gd);\n",
              "            observer.disconnect();\n",
              "        }}\n",
              "}});\n",
              "\n",
              "// Listen for the removal of the full notebook cells\n",
              "var notebookContainer = gd.closest('#notebook-container');\n",
              "if (notebookContainer) {{\n",
              "    x.observe(notebookContainer, {childList: true});\n",
              "}}\n",
              "\n",
              "// Listen for the clearing of the current output cell\n",
              "var outputEl = gd.closest('.output');\n",
              "if (outputEl) {{\n",
              "    x.observe(outputEl, {childList: true});\n",
              "}}\n",
              "\n",
              "                        })                };                            </script>        </div>\n",
              "</body>\n",
              "</html>"
            ]
          },
          "metadata": {}
        }
      ]
    },
    {
      "cell_type": "markdown",
      "source": [
        "#### Channel 7 has the highest total revenue contribution €3.98M, indicating that it’s driving significant absolute revenue.\n",
        "\n",
        "However, its ROI is 1.38, which suggests that while it's effective in generating revenue, the efficiency (revenue per € spent) is moderate compared to Channel 6"
      ],
      "metadata": {
        "id": "DS2hxwFAQPG0"
      }
    },
    {
      "cell_type": "code",
      "source": [
        "def calculate_mape(actual, predicted):\n",
        "    mape = (abs(actual - predicted) / (actual + 1e-10)).mean() * 100\n",
        "    return mape\n"
      ],
      "metadata": {
        "id": "mwa6M4BKVCx_"
      },
      "execution_count": 23,
      "outputs": []
    },
    {
      "cell_type": "code",
      "source": [
        "actual = df['revenue'].values\n",
        "print(f\"Actual values: {actual[:5]}\")\n"
      ],
      "metadata": {
        "colab": {
          "base_uri": "https://localhost:8080/"
        },
        "id": "QYwciCINVYiL",
        "outputId": "99bb8a72-8221-4171-fdbc-56765acc5929"
      },
      "execution_count": 24,
      "outputs": [
        {
          "output_type": "stream",
          "name": "stdout",
          "text": [
            "Actual values: [157906.75 186425.68 161607.39 180089.13 217793.98]\n"
          ]
        }
      ]
    },
    {
      "cell_type": "code",
      "source": [
        "with model:\n",
        "    posterior_pred = pm.sample_posterior_predictive(trace, var_names=['revenue'], random_seed=42)\n",
        "\n",
        "print(posterior_pred.posterior_predictive['revenue'].shape)\n"
      ],
      "metadata": {
        "colab": {
          "base_uri": "https://localhost:8080/",
          "height": 50,
          "referenced_widgets": [
            "fa8244b94244484c94d46d4d6c98e5e8",
            "9b5f068eea4c47868a85aee0668f4a92"
          ]
        },
        "id": "SY5qzDblVemb",
        "outputId": "b6d616e3-9762-4cba-862d-a26bb2a28228"
      },
      "execution_count": 25,
      "outputs": [
        {
          "output_type": "display_data",
          "data": {
            "text/plain": [
              "Output()"
            ],
            "application/vnd.jupyter.widget-view+json": {
              "version_major": 2,
              "version_minor": 0,
              "model_id": "fa8244b94244484c94d46d4d6c98e5e8"
            }
          },
          "metadata": {}
        },
        {
          "output_type": "display_data",
          "data": {
            "text/plain": [],
            "text/html": [
              "<pre style=\"white-space:pre;overflow-x:auto;line-height:normal;font-family:Menlo,'DejaVu Sans Mono',consolas,'Courier New',monospace\"></pre>\n"
            ]
          },
          "metadata": {}
        },
        {
          "output_type": "stream",
          "name": "stdout",
          "text": [
            "(2, 1000, 104)\n"
          ]
        }
      ]
    },
    {
      "cell_type": "code",
      "source": [
        "predicted = posterior_pred.posterior_predictive['revenue'].mean(dim=[\"chain\", \"draw\"]).values\n",
        "print(f\"Predicted values: {predicted[:5]}\")"
      ],
      "metadata": {
        "colab": {
          "base_uri": "https://localhost:8080/"
        },
        "id": "4lMhUKoEVmf6",
        "outputId": "05e560a3-1084-46b8-ce77-0edeae198d3d"
      },
      "execution_count": 26,
      "outputs": [
        {
          "output_type": "stream",
          "name": "stdout",
          "text": [
            "Predicted values: [141434.02893623 148725.5620874  150740.06368335 166755.57977145\n",
            " 173763.61844921]\n"
          ]
        }
      ]
    },
    {
      "cell_type": "code",
      "source": [
        "mape = calculate_mape(actual, predicted)\n",
        "print(f\"MAPE: {mape:.2f}%\")\n"
      ],
      "metadata": {
        "colab": {
          "base_uri": "https://localhost:8080/"
        },
        "id": "qCQAbqFzVr8t",
        "outputId": "e782ec20-1b5e-400e-c6d7-37f38296d0ad"
      },
      "execution_count": 27,
      "outputs": [
        {
          "output_type": "stream",
          "name": "stdout",
          "text": [
            "MAPE: 17.35%\n"
          ]
        }
      ]
    },
    {
      "cell_type": "code",
      "source": [
        "# Mean Absolute Error (MAE)\n",
        "def calculate_mae(actual, predicted):\n",
        "    mae = abs(actual - predicted).mean()\n",
        "    return mae\n",
        "\n",
        "actual = df['revenue'].values\n",
        "predicted = posterior_pred.posterior_predictive['revenue'].mean(dim=[\"chain\", \"draw\"]).values\n",
        "\n",
        "mae = calculate_mae(actual, predicted)\n",
        "print(f\"MAE: €{mae:.2f}\")"
      ],
      "metadata": {
        "colab": {
          "base_uri": "https://localhost:8080/"
        },
        "id": "myg6dIw3XJEC",
        "outputId": "ba7675d1-0a73-4c99-ef7b-ec4dac7cc672"
      },
      "execution_count": 28,
      "outputs": [
        {
          "output_type": "stream",
          "name": "stdout",
          "text": [
            "MAE: €23079.78\n"
          ]
        }
      ]
    },
    {
      "cell_type": "code",
      "source": [
        "from plotly.subplots import make_subplots\n",
        "# Extracting components from the model\n",
        "baseline_mean = trace.posterior['baseline'].mean().values\n",
        "trend_mean = trace.posterior['trend'].mean().values\n",
        "seasonal_coef_mean = trace.posterior['seasonal_coef'].mean(dim=[\"chain\", \"draw\"]).values\n",
        "\n",
        "# Calculate components\n",
        "trend_component = trend_mean * time_index\n",
        "seasonal_component = np.dot(fourier_features, seasonal_coef_mean)\n",
        "january_effect = trace.posterior['january_effect'].mean().values * january\n",
        "november_effect = trace.posterior['november_effect'].mean().values * november\n",
        "december_effect = trace.posterior['december_effect'].mean().values * december\n",
        "event_component = january_effect + november_effect + december_effect\n",
        "\n",
        "fig = make_subplots(rows=4, cols=1,\n",
        "                    subplot_titles=(\"Total Revenue\", \"Trend Component\",\n",
        "                                   \"Seasonal Component\", \"Special Event Effects\"))\n",
        "\n",
        "# total revenue\n",
        "fig.add_trace(\n",
        "    go.Scatter(x=df['start_of_week'], y=revenue, mode='lines+markers',\n",
        "              name='Revenue', line=dict(color='blue')),\n",
        "    row=1, col=1\n",
        ")\n",
        "\n",
        "# trend component\n",
        "fig.add_trace(\n",
        "    go.Scatter(x=df['start_of_week'], y=trend_component, mode='lines',\n",
        "              name='Trend', line=dict(color='red')),\n",
        "    row=2, col=1\n",
        ")\n",
        "\n",
        "# seasonal component\n",
        "fig.add_trace(\n",
        "    go.Scatter(x=df['start_of_week'], y=seasonal_component, mode='lines',\n",
        "              name='Seasonality', line=dict(color='green')),\n",
        "    row=3, col=1\n",
        ")\n",
        "\n",
        "# special event component\n",
        "fig.add_trace(\n",
        "    go.Scatter(x=df['start_of_week'], y=event_component, mode='lines',\n",
        "              name='Special Events', line=dict(color='purple')),\n",
        "    row=4, col=1\n",
        ")\n",
        "\n",
        "fig.update_layout(height=800, width=1000,\n",
        "                 title_text=\"Revenue Decomposition: Trend, Seasonality, and Special Events\",\n",
        "                 showlegend=False)\n",
        "\n",
        "fig.update_yaxes(title_text=\"Revenue (€)\", row=1, col=1)\n",
        "fig.update_yaxes(title_text=\"Trend (€)\", row=2, col=1)\n",
        "fig.update_yaxes(title_text=\"Seasonal Effect (€)\", row=3, col=1)\n",
        "fig.update_yaxes(title_text=\"Special Event Effect (€)\", row=4, col=1)\n",
        "\n",
        "fig.show()"
      ],
      "metadata": {
        "colab": {
          "base_uri": "https://localhost:8080/",
          "height": 817
        },
        "id": "T_BXFUlvaNXB",
        "outputId": "0c8b65a6-0d33-4abd-f013-b201e1a8d65d"
      },
      "execution_count": 31,
      "outputs": [
        {
          "output_type": "display_data",
          "data": {
            "text/html": [
              "<html>\n",
              "<head><meta charset=\"utf-8\" /></head>\n",
              "<body>\n",
              "    <div>            <script src=\"https://cdnjs.cloudflare.com/ajax/libs/mathjax/2.7.5/MathJax.js?config=TeX-AMS-MML_SVG\"></script><script type=\"text/javascript\">if (window.MathJax && window.MathJax.Hub && window.MathJax.Hub.Config) {window.MathJax.Hub.Config({SVG: {font: \"STIX-Web\"}});}</script>                <script type=\"text/javascript\">window.PlotlyConfig = {MathJaxConfig: 'local'};</script>\n",
              "        <script charset=\"utf-8\" src=\"https://cdn.plot.ly/plotly-2.35.2.min.js\"></script>                <div id=\"510934bb-45ea-4484-8b5c-80c02df53f63\" class=\"plotly-graph-div\" style=\"height:800px; width:1000px;\"></div>            <script type=\"text/javascript\">                                    window.PLOTLYENV=window.PLOTLYENV || {};                                    if (document.getElementById(\"510934bb-45ea-4484-8b5c-80c02df53f63\")) {                    Plotly.newPlot(                        \"510934bb-45ea-4484-8b5c-80c02df53f63\",                        [{\"line\":{\"color\":\"blue\"},\"mode\":\"lines+markers\",\"name\":\"Revenue\",\"x\":[\"2020-08-30\",\"2020-09-06\",\"2020-09-13\",\"2020-09-20\",\"2020-09-27\",\"2020-10-04\",\"2020-10-11\",\"2020-10-18\",\"2020-10-25\",\"2020-11-01\",\"2020-11-08\",\"2020-11-15\",\"2020-11-22\",\"2020-11-29\",\"2020-12-06\",\"2020-12-13\",\"2020-12-20\",\"2020-12-27\",\"2021-01-03\",\"2021-01-10\",\"2021-01-17\",\"2021-01-24\",\"2021-01-31\",\"2021-02-07\",\"2021-02-14\",\"2021-02-21\",\"2021-02-28\",\"2021-03-07\",\"2021-03-14\",\"2021-03-21\",\"2021-03-28\",\"2021-04-04\",\"2021-04-11\",\"2021-04-18\",\"2021-04-25\",\"2021-05-02\",\"2021-05-09\",\"2021-05-16\",\"2021-05-23\",\"2021-05-30\",\"2021-06-06\",\"2021-06-13\",\"2021-06-20\",\"2021-06-27\",\"2021-07-04\",\"2021-07-11\",\"2021-07-18\",\"2021-07-25\",\"2021-08-01\",\"2021-08-08\",\"2021-08-15\",\"2021-08-22\",\"2021-08-29\",\"2021-09-05\",\"2021-09-12\",\"2021-09-19\",\"2021-09-26\",\"2021-10-03\",\"2021-10-10\",\"2021-10-17\",\"2021-10-24\",\"2021-10-31\",\"2021-11-07\",\"2021-11-14\",\"2021-11-21\",\"2021-11-28\",\"2021-12-05\",\"2021-12-12\",\"2021-12-19\",\"2021-12-26\",\"2022-01-02\",\"2022-01-09\",\"2022-01-16\",\"2022-01-23\",\"2022-01-30\",\"2022-02-06\",\"2022-02-13\",\"2022-02-20\",\"2022-02-27\",\"2022-03-06\",\"2022-03-13\",\"2022-03-20\",\"2022-03-27\",\"2022-04-03\",\"2022-04-10\",\"2022-04-17\",\"2022-04-24\",\"2022-05-01\",\"2022-05-08\",\"2022-05-15\",\"2022-05-22\",\"2022-05-29\",\"2022-06-05\",\"2022-06-12\",\"2022-06-19\",\"2022-06-26\",\"2022-07-03\",\"2022-07-10\",\"2022-07-17\",\"2022-07-24\",\"2022-07-31\",\"2022-08-07\",\"2022-08-14\",\"2022-08-21\"],\"y\":[157906.75,186425.68,161607.39,180089.13,217793.98,195581.04,146951.61,163640.65,193045.15,213117.17,202321.02,216421.33,157640.79,418186.38,150423.19,79905.57,82020.23,80242.82,115207.83,97216.86,96071.01,284010.24,226994.32,185245.11,136635.71,126429.93,132752.27,133781.06,111934.63,109520.23,131152.3,120806.08,224619.82,157978.67,148937.15,148009.13,146088.85,131558.92,119857.12,123651.16,125654.17,171770.03,154713.33,121627.46,143288.33,102170.12,72849.92,63207.09,99723.69,89140.57,90561.75,104448.8,95478.58,108053.5,96973.9,94023.65,153611.64,161339.43,124309.37,119760.17,104755.63,131150.99,115514.46,134166.65,123340.71,276991.38,164983.21,125366.99,118347.81,85812.46,140621.95,176976.89,155443.56,135049.55,141850.49,142541.8,106987.32,109084.8,88648.47,140894.86,170858.25,137694.7,138956.96,187398.65,164226.0,165685.82,137008.43,146791.96,103143.58,107242.37,93541.63,99762.92,100192.38,123826.11,109330.8,96935.55,99827.27,72222.52,73682.25,72021.5,90786.21,105929.4,90506.31,84394.5],\"type\":\"scatter\",\"xaxis\":\"x\",\"yaxis\":\"y\"},{\"line\":{\"color\":\"red\"},\"mode\":\"lines\",\"name\":\"Trend\",\"x\":[\"2020-08-30\",\"2020-09-06\",\"2020-09-13\",\"2020-09-20\",\"2020-09-27\",\"2020-10-04\",\"2020-10-11\",\"2020-10-18\",\"2020-10-25\",\"2020-11-01\",\"2020-11-08\",\"2020-11-15\",\"2020-11-22\",\"2020-11-29\",\"2020-12-06\",\"2020-12-13\",\"2020-12-20\",\"2020-12-27\",\"2021-01-03\",\"2021-01-10\",\"2021-01-17\",\"2021-01-24\",\"2021-01-31\",\"2021-02-07\",\"2021-02-14\",\"2021-02-21\",\"2021-02-28\",\"2021-03-07\",\"2021-03-14\",\"2021-03-21\",\"2021-03-28\",\"2021-04-04\",\"2021-04-11\",\"2021-04-18\",\"2021-04-25\",\"2021-05-02\",\"2021-05-09\",\"2021-05-16\",\"2021-05-23\",\"2021-05-30\",\"2021-06-06\",\"2021-06-13\",\"2021-06-20\",\"2021-06-27\",\"2021-07-04\",\"2021-07-11\",\"2021-07-18\",\"2021-07-25\",\"2021-08-01\",\"2021-08-08\",\"2021-08-15\",\"2021-08-22\",\"2021-08-29\",\"2021-09-05\",\"2021-09-12\",\"2021-09-19\",\"2021-09-26\",\"2021-10-03\",\"2021-10-10\",\"2021-10-17\",\"2021-10-24\",\"2021-10-31\",\"2021-11-07\",\"2021-11-14\",\"2021-11-21\",\"2021-11-28\",\"2021-12-05\",\"2021-12-12\",\"2021-12-19\",\"2021-12-26\",\"2022-01-02\",\"2022-01-09\",\"2022-01-16\",\"2022-01-23\",\"2022-01-30\",\"2022-02-06\",\"2022-02-13\",\"2022-02-20\",\"2022-02-27\",\"2022-03-06\",\"2022-03-13\",\"2022-03-20\",\"2022-03-27\",\"2022-04-03\",\"2022-04-10\",\"2022-04-17\",\"2022-04-24\",\"2022-05-01\",\"2022-05-08\",\"2022-05-15\",\"2022-05-22\",\"2022-05-29\",\"2022-06-05\",\"2022-06-12\",\"2022-06-19\",\"2022-06-26\",\"2022-07-03\",\"2022-07-10\",\"2022-07-17\",\"2022-07-24\",\"2022-07-31\",\"2022-08-07\",\"2022-08-14\",\"2022-08-21\"],\"y\":[-0.0,-1.40927746841202,-2.81855493682404,-4.22783240523606,-5.63710987364808,-7.0463873420600995,-8.45566481047212,-9.86494227888414,-11.27421974729616,-12.68349721570818,-14.092774684120199,-15.502052152532219,-16.91132962094424,-18.32060708935626,-19.72988455776828,-21.139162026180298,-22.54843949459232,-23.95771696300434,-25.36699443141636,-26.77627189982838,-28.185549368240398,-29.59482683665242,-31.004104305064438,-32.41338177347646,-33.82265924188848,-35.2319367103005,-36.64121417871252,-38.05049164712454,-39.45976911553656,-40.86904658394858,-42.278324052360595,-43.68760152077262,-45.09687898918464,-46.50615645759666,-47.91543392600868,-49.324711394420696,-50.73398886283272,-52.14326633124474,-53.55254379965676,-54.961821268068775,-56.371098736480796,-57.78037620489282,-59.18965367330484,-60.59893114171686,-62.008208610128875,-63.4174860785409,-64.82676354695292,-66.23604101536493,-67.64531848377696,-69.05459595218898,-70.463873420601,-71.87315088901302,-73.28242835742503,-74.69170582583706,-76.10098329424908,-77.51026076266109,-78.91953823107312,-80.32881569948513,-81.73809316789716,-83.14737063630918,-84.55664810472119,-85.96592557313322,-87.37520304154523,-88.78448050995726,-90.19375797836928,-91.60303544678129,-93.01231291519332,-94.42159038360533,-95.83086785201736,-97.24014532042938,-98.64942278884139,-100.05870025725342,-101.46797772566543,-102.87725519407746,-104.28653266248948,-105.69581013090149,-107.10508759931352,-108.51436506772554,-109.92364253613755,-111.33292000454958,-112.74219747296159,-114.15147494137362,-115.56075240978564,-116.97002987819765,-118.37930734660968,-119.7885848150217,-121.19786228343372,-122.60713975184574,-124.01641722025775,-125.42569468866978,-126.8349721570818,-128.2442496254938,-129.65352709390584,-131.06280456231787,-132.47208203072987,-133.8813594991419,-135.29063696755392,-136.69991443596592,-138.10919190437795,-139.51846937278998,-140.927746841202,-142.337024309614,-143.74630177802604,-145.15557924643807],\"type\":\"scatter\",\"xaxis\":\"x2\",\"yaxis\":\"y2\"},{\"line\":{\"color\":\"green\"},\"mode\":\"lines\",\"name\":\"Seasonality\",\"x\":[\"2020-08-30\",\"2020-09-06\",\"2020-09-13\",\"2020-09-20\",\"2020-09-27\",\"2020-10-04\",\"2020-10-11\",\"2020-10-18\",\"2020-10-25\",\"2020-11-01\",\"2020-11-08\",\"2020-11-15\",\"2020-11-22\",\"2020-11-29\",\"2020-12-06\",\"2020-12-13\",\"2020-12-20\",\"2020-12-27\",\"2021-01-03\",\"2021-01-10\",\"2021-01-17\",\"2021-01-24\",\"2021-01-31\",\"2021-02-07\",\"2021-02-14\",\"2021-02-21\",\"2021-02-28\",\"2021-03-07\",\"2021-03-14\",\"2021-03-21\",\"2021-03-28\",\"2021-04-04\",\"2021-04-11\",\"2021-04-18\",\"2021-04-25\",\"2021-05-02\",\"2021-05-09\",\"2021-05-16\",\"2021-05-23\",\"2021-05-30\",\"2021-06-06\",\"2021-06-13\",\"2021-06-20\",\"2021-06-27\",\"2021-07-04\",\"2021-07-11\",\"2021-07-18\",\"2021-07-25\",\"2021-08-01\",\"2021-08-08\",\"2021-08-15\",\"2021-08-22\",\"2021-08-29\",\"2021-09-05\",\"2021-09-12\",\"2021-09-19\",\"2021-09-26\",\"2021-10-03\",\"2021-10-10\",\"2021-10-17\",\"2021-10-24\",\"2021-10-31\",\"2021-11-07\",\"2021-11-14\",\"2021-11-21\",\"2021-11-28\",\"2021-12-05\",\"2021-12-12\",\"2021-12-19\",\"2021-12-26\",\"2022-01-02\",\"2022-01-09\",\"2022-01-16\",\"2022-01-23\",\"2022-01-30\",\"2022-02-06\",\"2022-02-13\",\"2022-02-20\",\"2022-02-27\",\"2022-03-06\",\"2022-03-13\",\"2022-03-20\",\"2022-03-27\",\"2022-04-03\",\"2022-04-10\",\"2022-04-17\",\"2022-04-24\",\"2022-05-01\",\"2022-05-08\",\"2022-05-15\",\"2022-05-22\",\"2022-05-29\",\"2022-06-05\",\"2022-06-12\",\"2022-06-19\",\"2022-06-26\",\"2022-07-03\",\"2022-07-10\",\"2022-07-17\",\"2022-07-24\",\"2022-07-31\",\"2022-08-07\",\"2022-08-14\",\"2022-08-21\"],\"y\":[5.730499368811464,7.5770107334861265,7.1712381144053055,4.668210735946032,0.8211614236093191,-3.2345627398511576,-6.322039935659662,-7.580003880870633,-6.721448325926097,-4.109421913888465,-0.6255817062898392,2.6245553970732063,4.671849714288001,4.9903602074793705,3.6506881966456075,1.2720851027169902,-1.2065386682703259,-2.85619579846495,-3.0750510271064817,-1.7865645184903332,0.5459179446186124,3.089173505206979,4.933128001595252,5.404855704204131,4.296644021700512,1.9329108285391012,-0.9426221757961035,-3.416577659624481,-4.704345521679517,-4.395651922884798,-2.5674402427631855,0.2671998489827536,3.347735217800971,5.920088128697884,7.464548152240429,7.820901210337784,7.17527324288803,5.925620877595702,4.486921462863204,3.1168754829495398,1.8315000024945962,0.44214363965556114,-1.3042432574927205,-3.5423430012757144,-6.143118646316498,-8.673819614446867,-10.492122019580927,-10.95100195150528,-9.645129774019033,-6.607655931124483,-2.377423563060885,2.1018075295559977,5.730499368811458,7.577010733486122,7.171238114405311,4.668210735946032,0.8211614236093439,-3.234562739851161,-6.322039935659649,-7.580003880870638,-6.721448325926115,-4.109421913888468,-0.6255817062898577,2.6245553970732143,4.671849714288004,4.990360207479377,3.650688196645632,1.2720851027169897,-1.2065386682703276,-2.8561957984649493,-3.075051027106478,-1.7865645184903483,0.5459179446186109,3.0891735052069556,4.933128001595266,5.404855704204133,4.296644021700506,1.9329108285390892,-0.942622175796086,-3.41657765962449,-4.704345521679524,-4.395651922884815,-2.5674402427631904,0.26719984898273696,3.3477352178009734,5.920088128697877,7.46454815224042,7.820901210337755,7.17527324288802,5.925620877595707,4.486921462863208,3.1168754829495353,1.8315000024946242,0.4421436396555606,-1.3042432574927099,-3.542343001275716,-6.143118646316498,-8.67381961444686,-10.492122019580913,-10.95100195150527,-9.645129774019036,-6.607655931124508,-2.3774235630608933,2.1018075295559964],\"type\":\"scatter\",\"xaxis\":\"x3\",\"yaxis\":\"y3\"},{\"line\":{\"color\":\"purple\"},\"mode\":\"lines\",\"name\":\"Special Events\",\"x\":[\"2020-08-30\",\"2020-09-06\",\"2020-09-13\",\"2020-09-20\",\"2020-09-27\",\"2020-10-04\",\"2020-10-11\",\"2020-10-18\",\"2020-10-25\",\"2020-11-01\",\"2020-11-08\",\"2020-11-15\",\"2020-11-22\",\"2020-11-29\",\"2020-12-06\",\"2020-12-13\",\"2020-12-20\",\"2020-12-27\",\"2021-01-03\",\"2021-01-10\",\"2021-01-17\",\"2021-01-24\",\"2021-01-31\",\"2021-02-07\",\"2021-02-14\",\"2021-02-21\",\"2021-02-28\",\"2021-03-07\",\"2021-03-14\",\"2021-03-21\",\"2021-03-28\",\"2021-04-04\",\"2021-04-11\",\"2021-04-18\",\"2021-04-25\",\"2021-05-02\",\"2021-05-09\",\"2021-05-16\",\"2021-05-23\",\"2021-05-30\",\"2021-06-06\",\"2021-06-13\",\"2021-06-20\",\"2021-06-27\",\"2021-07-04\",\"2021-07-11\",\"2021-07-18\",\"2021-07-25\",\"2021-08-01\",\"2021-08-08\",\"2021-08-15\",\"2021-08-22\",\"2021-08-29\",\"2021-09-05\",\"2021-09-12\",\"2021-09-19\",\"2021-09-26\",\"2021-10-03\",\"2021-10-10\",\"2021-10-17\",\"2021-10-24\",\"2021-10-31\",\"2021-11-07\",\"2021-11-14\",\"2021-11-21\",\"2021-11-28\",\"2021-12-05\",\"2021-12-12\",\"2021-12-19\",\"2021-12-26\",\"2022-01-02\",\"2022-01-09\",\"2022-01-16\",\"2022-01-23\",\"2022-01-30\",\"2022-02-06\",\"2022-02-13\",\"2022-02-20\",\"2022-02-27\",\"2022-03-06\",\"2022-03-13\",\"2022-03-20\",\"2022-03-27\",\"2022-04-03\",\"2022-04-10\",\"2022-04-17\",\"2022-04-24\",\"2022-05-01\",\"2022-05-08\",\"2022-05-15\",\"2022-05-22\",\"2022-05-29\",\"2022-06-05\",\"2022-06-12\",\"2022-06-19\",\"2022-06-26\",\"2022-07-03\",\"2022-07-10\",\"2022-07-17\",\"2022-07-24\",\"2022-07-31\",\"2022-08-07\",\"2022-08-14\",\"2022-08-21\"],\"y\":[0.0,0.0,0.0,0.0,0.0,0.0,0.0,0.0,0.0,61006.34026462111,61006.34026462111,61006.34026462111,61006.34026462111,61006.34026462111,-18399.081219715605,-18399.081219715605,-18399.081219715605,-18399.081219715605,31338.171606373216,31338.171606373216,31338.171606373216,31338.171606373216,31338.171606373216,0.0,0.0,0.0,0.0,0.0,0.0,0.0,0.0,0.0,0.0,0.0,0.0,0.0,0.0,0.0,0.0,0.0,0.0,0.0,0.0,0.0,0.0,0.0,0.0,0.0,0.0,0.0,0.0,0.0,0.0,0.0,0.0,0.0,0.0,0.0,0.0,0.0,0.0,0.0,61006.34026462111,61006.34026462111,61006.34026462111,61006.34026462111,-18399.081219715605,-18399.081219715605,-18399.081219715605,-18399.081219715605,31338.171606373216,31338.171606373216,31338.171606373216,31338.171606373216,31338.171606373216,0.0,0.0,0.0,0.0,0.0,0.0,0.0,0.0,0.0,0.0,0.0,0.0,0.0,0.0,0.0,0.0,0.0,0.0,0.0,0.0,0.0,0.0,0.0,0.0,0.0,0.0,0.0,0.0,0.0],\"type\":\"scatter\",\"xaxis\":\"x4\",\"yaxis\":\"y4\"}],                        {\"template\":{\"data\":{\"histogram2dcontour\":[{\"type\":\"histogram2dcontour\",\"colorbar\":{\"outlinewidth\":0,\"ticks\":\"\"},\"colorscale\":[[0.0,\"#0d0887\"],[0.1111111111111111,\"#46039f\"],[0.2222222222222222,\"#7201a8\"],[0.3333333333333333,\"#9c179e\"],[0.4444444444444444,\"#bd3786\"],[0.5555555555555556,\"#d8576b\"],[0.6666666666666666,\"#ed7953\"],[0.7777777777777778,\"#fb9f3a\"],[0.8888888888888888,\"#fdca26\"],[1.0,\"#f0f921\"]]}],\"choropleth\":[{\"type\":\"choropleth\",\"colorbar\":{\"outlinewidth\":0,\"ticks\":\"\"}}],\"histogram2d\":[{\"type\":\"histogram2d\",\"colorbar\":{\"outlinewidth\":0,\"ticks\":\"\"},\"colorscale\":[[0.0,\"#0d0887\"],[0.1111111111111111,\"#46039f\"],[0.2222222222222222,\"#7201a8\"],[0.3333333333333333,\"#9c179e\"],[0.4444444444444444,\"#bd3786\"],[0.5555555555555556,\"#d8576b\"],[0.6666666666666666,\"#ed7953\"],[0.7777777777777778,\"#fb9f3a\"],[0.8888888888888888,\"#fdca26\"],[1.0,\"#f0f921\"]]}],\"heatmap\":[{\"type\":\"heatmap\",\"colorbar\":{\"outlinewidth\":0,\"ticks\":\"\"},\"colorscale\":[[0.0,\"#0d0887\"],[0.1111111111111111,\"#46039f\"],[0.2222222222222222,\"#7201a8\"],[0.3333333333333333,\"#9c179e\"],[0.4444444444444444,\"#bd3786\"],[0.5555555555555556,\"#d8576b\"],[0.6666666666666666,\"#ed7953\"],[0.7777777777777778,\"#fb9f3a\"],[0.8888888888888888,\"#fdca26\"],[1.0,\"#f0f921\"]]}],\"heatmapgl\":[{\"type\":\"heatmapgl\",\"colorbar\":{\"outlinewidth\":0,\"ticks\":\"\"},\"colorscale\":[[0.0,\"#0d0887\"],[0.1111111111111111,\"#46039f\"],[0.2222222222222222,\"#7201a8\"],[0.3333333333333333,\"#9c179e\"],[0.4444444444444444,\"#bd3786\"],[0.5555555555555556,\"#d8576b\"],[0.6666666666666666,\"#ed7953\"],[0.7777777777777778,\"#fb9f3a\"],[0.8888888888888888,\"#fdca26\"],[1.0,\"#f0f921\"]]}],\"contourcarpet\":[{\"type\":\"contourcarpet\",\"colorbar\":{\"outlinewidth\":0,\"ticks\":\"\"}}],\"contour\":[{\"type\":\"contour\",\"colorbar\":{\"outlinewidth\":0,\"ticks\":\"\"},\"colorscale\":[[0.0,\"#0d0887\"],[0.1111111111111111,\"#46039f\"],[0.2222222222222222,\"#7201a8\"],[0.3333333333333333,\"#9c179e\"],[0.4444444444444444,\"#bd3786\"],[0.5555555555555556,\"#d8576b\"],[0.6666666666666666,\"#ed7953\"],[0.7777777777777778,\"#fb9f3a\"],[0.8888888888888888,\"#fdca26\"],[1.0,\"#f0f921\"]]}],\"surface\":[{\"type\":\"surface\",\"colorbar\":{\"outlinewidth\":0,\"ticks\":\"\"},\"colorscale\":[[0.0,\"#0d0887\"],[0.1111111111111111,\"#46039f\"],[0.2222222222222222,\"#7201a8\"],[0.3333333333333333,\"#9c179e\"],[0.4444444444444444,\"#bd3786\"],[0.5555555555555556,\"#d8576b\"],[0.6666666666666666,\"#ed7953\"],[0.7777777777777778,\"#fb9f3a\"],[0.8888888888888888,\"#fdca26\"],[1.0,\"#f0f921\"]]}],\"mesh3d\":[{\"type\":\"mesh3d\",\"colorbar\":{\"outlinewidth\":0,\"ticks\":\"\"}}],\"scatter\":[{\"fillpattern\":{\"fillmode\":\"overlay\",\"size\":10,\"solidity\":0.2},\"type\":\"scatter\"}],\"parcoords\":[{\"type\":\"parcoords\",\"line\":{\"colorbar\":{\"outlinewidth\":0,\"ticks\":\"\"}}}],\"scatterpolargl\":[{\"type\":\"scatterpolargl\",\"marker\":{\"colorbar\":{\"outlinewidth\":0,\"ticks\":\"\"}}}],\"bar\":[{\"error_x\":{\"color\":\"#2a3f5f\"},\"error_y\":{\"color\":\"#2a3f5f\"},\"marker\":{\"line\":{\"color\":\"#E5ECF6\",\"width\":0.5},\"pattern\":{\"fillmode\":\"overlay\",\"size\":10,\"solidity\":0.2}},\"type\":\"bar\"}],\"scattergeo\":[{\"type\":\"scattergeo\",\"marker\":{\"colorbar\":{\"outlinewidth\":0,\"ticks\":\"\"}}}],\"scatterpolar\":[{\"type\":\"scatterpolar\",\"marker\":{\"colorbar\":{\"outlinewidth\":0,\"ticks\":\"\"}}}],\"histogram\":[{\"marker\":{\"pattern\":{\"fillmode\":\"overlay\",\"size\":10,\"solidity\":0.2}},\"type\":\"histogram\"}],\"scattergl\":[{\"type\":\"scattergl\",\"marker\":{\"colorbar\":{\"outlinewidth\":0,\"ticks\":\"\"}}}],\"scatter3d\":[{\"type\":\"scatter3d\",\"line\":{\"colorbar\":{\"outlinewidth\":0,\"ticks\":\"\"}},\"marker\":{\"colorbar\":{\"outlinewidth\":0,\"ticks\":\"\"}}}],\"scattermapbox\":[{\"type\":\"scattermapbox\",\"marker\":{\"colorbar\":{\"outlinewidth\":0,\"ticks\":\"\"}}}],\"scatterternary\":[{\"type\":\"scatterternary\",\"marker\":{\"colorbar\":{\"outlinewidth\":0,\"ticks\":\"\"}}}],\"scattercarpet\":[{\"type\":\"scattercarpet\",\"marker\":{\"colorbar\":{\"outlinewidth\":0,\"ticks\":\"\"}}}],\"carpet\":[{\"aaxis\":{\"endlinecolor\":\"#2a3f5f\",\"gridcolor\":\"white\",\"linecolor\":\"white\",\"minorgridcolor\":\"white\",\"startlinecolor\":\"#2a3f5f\"},\"baxis\":{\"endlinecolor\":\"#2a3f5f\",\"gridcolor\":\"white\",\"linecolor\":\"white\",\"minorgridcolor\":\"white\",\"startlinecolor\":\"#2a3f5f\"},\"type\":\"carpet\"}],\"table\":[{\"cells\":{\"fill\":{\"color\":\"#EBF0F8\"},\"line\":{\"color\":\"white\"}},\"header\":{\"fill\":{\"color\":\"#C8D4E3\"},\"line\":{\"color\":\"white\"}},\"type\":\"table\"}],\"barpolar\":[{\"marker\":{\"line\":{\"color\":\"#E5ECF6\",\"width\":0.5},\"pattern\":{\"fillmode\":\"overlay\",\"size\":10,\"solidity\":0.2}},\"type\":\"barpolar\"}],\"pie\":[{\"automargin\":true,\"type\":\"pie\"}]},\"layout\":{\"autotypenumbers\":\"strict\",\"colorway\":[\"#636efa\",\"#EF553B\",\"#00cc96\",\"#ab63fa\",\"#FFA15A\",\"#19d3f3\",\"#FF6692\",\"#B6E880\",\"#FF97FF\",\"#FECB52\"],\"font\":{\"color\":\"#2a3f5f\"},\"hovermode\":\"closest\",\"hoverlabel\":{\"align\":\"left\"},\"paper_bgcolor\":\"white\",\"plot_bgcolor\":\"#E5ECF6\",\"polar\":{\"bgcolor\":\"#E5ECF6\",\"angularaxis\":{\"gridcolor\":\"white\",\"linecolor\":\"white\",\"ticks\":\"\"},\"radialaxis\":{\"gridcolor\":\"white\",\"linecolor\":\"white\",\"ticks\":\"\"}},\"ternary\":{\"bgcolor\":\"#E5ECF6\",\"aaxis\":{\"gridcolor\":\"white\",\"linecolor\":\"white\",\"ticks\":\"\"},\"baxis\":{\"gridcolor\":\"white\",\"linecolor\":\"white\",\"ticks\":\"\"},\"caxis\":{\"gridcolor\":\"white\",\"linecolor\":\"white\",\"ticks\":\"\"}},\"coloraxis\":{\"colorbar\":{\"outlinewidth\":0,\"ticks\":\"\"}},\"colorscale\":{\"sequential\":[[0.0,\"#0d0887\"],[0.1111111111111111,\"#46039f\"],[0.2222222222222222,\"#7201a8\"],[0.3333333333333333,\"#9c179e\"],[0.4444444444444444,\"#bd3786\"],[0.5555555555555556,\"#d8576b\"],[0.6666666666666666,\"#ed7953\"],[0.7777777777777778,\"#fb9f3a\"],[0.8888888888888888,\"#fdca26\"],[1.0,\"#f0f921\"]],\"sequentialminus\":[[0.0,\"#0d0887\"],[0.1111111111111111,\"#46039f\"],[0.2222222222222222,\"#7201a8\"],[0.3333333333333333,\"#9c179e\"],[0.4444444444444444,\"#bd3786\"],[0.5555555555555556,\"#d8576b\"],[0.6666666666666666,\"#ed7953\"],[0.7777777777777778,\"#fb9f3a\"],[0.8888888888888888,\"#fdca26\"],[1.0,\"#f0f921\"]],\"diverging\":[[0,\"#8e0152\"],[0.1,\"#c51b7d\"],[0.2,\"#de77ae\"],[0.3,\"#f1b6da\"],[0.4,\"#fde0ef\"],[0.5,\"#f7f7f7\"],[0.6,\"#e6f5d0\"],[0.7,\"#b8e186\"],[0.8,\"#7fbc41\"],[0.9,\"#4d9221\"],[1,\"#276419\"]]},\"xaxis\":{\"gridcolor\":\"white\",\"linecolor\":\"white\",\"ticks\":\"\",\"title\":{\"standoff\":15},\"zerolinecolor\":\"white\",\"automargin\":true,\"zerolinewidth\":2},\"yaxis\":{\"gridcolor\":\"white\",\"linecolor\":\"white\",\"ticks\":\"\",\"title\":{\"standoff\":15},\"zerolinecolor\":\"white\",\"automargin\":true,\"zerolinewidth\":2},\"scene\":{\"xaxis\":{\"backgroundcolor\":\"#E5ECF6\",\"gridcolor\":\"white\",\"linecolor\":\"white\",\"showbackground\":true,\"ticks\":\"\",\"zerolinecolor\":\"white\",\"gridwidth\":2},\"yaxis\":{\"backgroundcolor\":\"#E5ECF6\",\"gridcolor\":\"white\",\"linecolor\":\"white\",\"showbackground\":true,\"ticks\":\"\",\"zerolinecolor\":\"white\",\"gridwidth\":2},\"zaxis\":{\"backgroundcolor\":\"#E5ECF6\",\"gridcolor\":\"white\",\"linecolor\":\"white\",\"showbackground\":true,\"ticks\":\"\",\"zerolinecolor\":\"white\",\"gridwidth\":2}},\"shapedefaults\":{\"line\":{\"color\":\"#2a3f5f\"}},\"annotationdefaults\":{\"arrowcolor\":\"#2a3f5f\",\"arrowhead\":0,\"arrowwidth\":1},\"geo\":{\"bgcolor\":\"white\",\"landcolor\":\"#E5ECF6\",\"subunitcolor\":\"white\",\"showland\":true,\"showlakes\":true,\"lakecolor\":\"white\"},\"title\":{\"x\":0.05},\"mapbox\":{\"style\":\"light\"}}},\"xaxis\":{\"anchor\":\"y\",\"domain\":[0.0,1.0]},\"yaxis\":{\"anchor\":\"x\",\"domain\":[0.84375,1.0],\"title\":{\"text\":\"Revenue (€)\"}},\"xaxis2\":{\"anchor\":\"y2\",\"domain\":[0.0,1.0]},\"yaxis2\":{\"anchor\":\"x2\",\"domain\":[0.5625,0.71875],\"title\":{\"text\":\"Trend (€)\"}},\"xaxis3\":{\"anchor\":\"y3\",\"domain\":[0.0,1.0]},\"yaxis3\":{\"anchor\":\"x3\",\"domain\":[0.28125,0.4375],\"title\":{\"text\":\"Seasonal Effect (€)\"}},\"xaxis4\":{\"anchor\":\"y4\",\"domain\":[0.0,1.0]},\"yaxis4\":{\"anchor\":\"x4\",\"domain\":[0.0,0.15625],\"title\":{\"text\":\"Special Event Effect (€)\"}},\"annotations\":[{\"font\":{\"size\":16},\"showarrow\":false,\"text\":\"Total Revenue\",\"x\":0.5,\"xanchor\":\"center\",\"xref\":\"paper\",\"y\":1.0,\"yanchor\":\"bottom\",\"yref\":\"paper\"},{\"font\":{\"size\":16},\"showarrow\":false,\"text\":\"Trend Component\",\"x\":0.5,\"xanchor\":\"center\",\"xref\":\"paper\",\"y\":0.71875,\"yanchor\":\"bottom\",\"yref\":\"paper\"},{\"font\":{\"size\":16},\"showarrow\":false,\"text\":\"Seasonal Component\",\"x\":0.5,\"xanchor\":\"center\",\"xref\":\"paper\",\"y\":0.4375,\"yanchor\":\"bottom\",\"yref\":\"paper\"},{\"font\":{\"size\":16},\"showarrow\":false,\"text\":\"Special Event Effects\",\"x\":0.5,\"xanchor\":\"center\",\"xref\":\"paper\",\"y\":0.15625,\"yanchor\":\"bottom\",\"yref\":\"paper\"}],\"title\":{\"text\":\"Revenue Decomposition: Trend, Seasonality, and Special Events\"},\"height\":800,\"width\":1000,\"showlegend\":false},                        {\"responsive\": true}                    ).then(function(){\n",
              "                            \n",
              "var gd = document.getElementById('510934bb-45ea-4484-8b5c-80c02df53f63');\n",
              "var x = new MutationObserver(function (mutations, observer) {{\n",
              "        var display = window.getComputedStyle(gd).display;\n",
              "        if (!display || display === 'none') {{\n",
              "            console.log([gd, 'removed!']);\n",
              "            Plotly.purge(gd);\n",
              "            observer.disconnect();\n",
              "        }}\n",
              "}});\n",
              "\n",
              "// Listen for the removal of the full notebook cells\n",
              "var notebookContainer = gd.closest('#notebook-container');\n",
              "if (notebookContainer) {{\n",
              "    x.observe(notebookContainer, {childList: true});\n",
              "}}\n",
              "\n",
              "// Listen for the clearing of the current output cell\n",
              "var outputEl = gd.closest('.output');\n",
              "if (outputEl) {{\n",
              "    x.observe(outputEl, {childList: true});\n",
              "}}\n",
              "\n",
              "                        })                };                            </script>        </div>\n",
              "</body>\n",
              "</html>"
            ]
          },
          "metadata": {}
        }
      ]
    }
  ],
  "metadata": {
    "kernelspec": {
      "display_name": "pymc_env",
      "language": "python",
      "name": "python3"
    },
    "language_info": {
      "codemirror_mode": {
        "name": "ipython",
        "version": 3
      },
      "file_extension": ".py",
      "mimetype": "text/x-python",
      "name": "python",
      "nbconvert_exporter": "python",
      "pygments_lexer": "ipython3",
      "version": "3.11.8"
    },
    "colab": {
      "provenance": []
    },
    "widgets": {
      "application/vnd.jupyter.widget-state+json": {
        "390b714d8db344c982243e7834ca7490": {
          "model_module": "@jupyter-widgets/output",
          "model_name": "OutputModel",
          "model_module_version": "1.0.0",
          "state": {
            "_dom_classes": [],
            "_model_module": "@jupyter-widgets/output",
            "_model_module_version": "1.0.0",
            "_model_name": "OutputModel",
            "_view_count": null,
            "_view_module": "@jupyter-widgets/output",
            "_view_module_version": "1.0.0",
            "_view_name": "OutputView",
            "layout": "IPY_MODEL_c96315fd4f1e4c24aaefa0afeb37f084",
            "msg_id": "",
            "outputs": [
              {
                "output_type": "display_data",
                "data": {
                  "text/plain": "                                                                                                                   \n \u001b[1m \u001b[0m\u001b[1mProgress                 \u001b[0m\u001b[1m \u001b[0m \u001b[1m \u001b[0m\u001b[1mDraws\u001b[0m\u001b[1m \u001b[0m \u001b[1m \u001b[0m\u001b[1mDivergences\u001b[0m\u001b[1m \u001b[0m \u001b[1m \u001b[0m\u001b[1mStep size\u001b[0m\u001b[1m \u001b[0m \u001b[1m \u001b[0m\u001b[1mGrad evals\u001b[0m\u001b[1m \u001b[0m \u001b[1m \u001b[0m\u001b[1mSampling Speed\u001b[0m\u001b[1m \u001b[0m \u001b[1m \u001b[0m\u001b[1mElapsed\u001b[0m\u001b[1m \u001b[0m \u001b[1m \u001b[0m\u001b[1mRemaining\u001b[0m\u001b[1m \u001b[0m \n ───────────────────────────────────────────────────────────────────────────────────────────────────────────────── \n  \u001b[38;2;31;119;180m━━━━━━━━━━━━━━━━━━━━━━━━━\u001b[0m   2000    0             0.16        31           97.15 draws/s    0:00:20   0:00:00    \n  \u001b[38;2;31;119;180m━━━━━━━━━━━━━━━━━━━━━━━━━\u001b[0m   2000    0             0.13        31           46.90 draws/s    0:00:42   0:00:00    \n                                                                                                                   \n",
                  "text/html": "<pre style=\"white-space:pre;overflow-x:auto;line-height:normal;font-family:Menlo,'DejaVu Sans Mono',consolas,'Courier New',monospace\">                                                                                                                   \n <span style=\"font-weight: bold\"> Progress                  </span> <span style=\"font-weight: bold\"> Draws </span> <span style=\"font-weight: bold\"> Divergences </span> <span style=\"font-weight: bold\"> Step size </span> <span style=\"font-weight: bold\"> Grad evals </span> <span style=\"font-weight: bold\"> Sampling Speed </span> <span style=\"font-weight: bold\"> Elapsed </span> <span style=\"font-weight: bold\"> Remaining </span> \n ───────────────────────────────────────────────────────────────────────────────────────────────────────────────── \n  <span style=\"color: #1f77b4; text-decoration-color: #1f77b4\">━━━━━━━━━━━━━━━━━━━━━━━━━</span>   2000    0             0.16        31           97.15 draws/s    0:00:20   0:00:00    \n  <span style=\"color: #1f77b4; text-decoration-color: #1f77b4\">━━━━━━━━━━━━━━━━━━━━━━━━━</span>   2000    0             0.13        31           46.90 draws/s    0:00:42   0:00:00    \n                                                                                                                   \n</pre>\n"
                },
                "metadata": {}
              }
            ]
          }
        },
        "c96315fd4f1e4c24aaefa0afeb37f084": {
          "model_module": "@jupyter-widgets/base",
          "model_name": "LayoutModel",
          "model_module_version": "1.2.0",
          "state": {
            "_model_module": "@jupyter-widgets/base",
            "_model_module_version": "1.2.0",
            "_model_name": "LayoutModel",
            "_view_count": null,
            "_view_module": "@jupyter-widgets/base",
            "_view_module_version": "1.2.0",
            "_view_name": "LayoutView",
            "align_content": null,
            "align_items": null,
            "align_self": null,
            "border": null,
            "bottom": null,
            "display": null,
            "flex": null,
            "flex_flow": null,
            "grid_area": null,
            "grid_auto_columns": null,
            "grid_auto_flow": null,
            "grid_auto_rows": null,
            "grid_column": null,
            "grid_gap": null,
            "grid_row": null,
            "grid_template_areas": null,
            "grid_template_columns": null,
            "grid_template_rows": null,
            "height": null,
            "justify_content": null,
            "justify_items": null,
            "left": null,
            "margin": null,
            "max_height": null,
            "max_width": null,
            "min_height": null,
            "min_width": null,
            "object_fit": null,
            "object_position": null,
            "order": null,
            "overflow": null,
            "overflow_x": null,
            "overflow_y": null,
            "padding": null,
            "right": null,
            "top": null,
            "visibility": null,
            "width": null
          }
        },
        "5360ce3f9b004ae59f3f0996fafabcc7": {
          "model_module": "@jupyter-widgets/output",
          "model_name": "OutputModel",
          "model_module_version": "1.0.0",
          "state": {
            "_dom_classes": [],
            "_model_module": "@jupyter-widgets/output",
            "_model_module_version": "1.0.0",
            "_model_name": "OutputModel",
            "_view_count": null,
            "_view_module": "@jupyter-widgets/output",
            "_view_module_version": "1.0.0",
            "_view_name": "OutputView",
            "layout": "IPY_MODEL_7c5f9e66e86b4493a540ef0674f1d3d3",
            "msg_id": "",
            "outputs": [
              {
                "output_type": "display_data",
                "data": {
                  "text/plain": "Sampling ... \u001b[32m━━━━━━━━━━━━━━━━━━━━━━━━━━━━━━━━━━━━━━━━\u001b[0m \u001b[35m100%\u001b[0m 0:00:00 / 0:00:00\n",
                  "text/html": "<pre style=\"white-space:pre;overflow-x:auto;line-height:normal;font-family:Menlo,'DejaVu Sans Mono',consolas,'Courier New',monospace\">Sampling ... <span style=\"color: #008000; text-decoration-color: #008000\">━━━━━━━━━━━━━━━━━━━━━━━━━━━━━━━━━━━━━━━━</span> <span style=\"color: #800080; text-decoration-color: #800080\">100%</span> 0:00:00 / 0:00:00\n</pre>\n"
                },
                "metadata": {}
              }
            ]
          }
        },
        "7c5f9e66e86b4493a540ef0674f1d3d3": {
          "model_module": "@jupyter-widgets/base",
          "model_name": "LayoutModel",
          "model_module_version": "1.2.0",
          "state": {
            "_model_module": "@jupyter-widgets/base",
            "_model_module_version": "1.2.0",
            "_model_name": "LayoutModel",
            "_view_count": null,
            "_view_module": "@jupyter-widgets/base",
            "_view_module_version": "1.2.0",
            "_view_name": "LayoutView",
            "align_content": null,
            "align_items": null,
            "align_self": null,
            "border": null,
            "bottom": null,
            "display": null,
            "flex": null,
            "flex_flow": null,
            "grid_area": null,
            "grid_auto_columns": null,
            "grid_auto_flow": null,
            "grid_auto_rows": null,
            "grid_column": null,
            "grid_gap": null,
            "grid_row": null,
            "grid_template_areas": null,
            "grid_template_columns": null,
            "grid_template_rows": null,
            "height": null,
            "justify_content": null,
            "justify_items": null,
            "left": null,
            "margin": null,
            "max_height": null,
            "max_width": null,
            "min_height": null,
            "min_width": null,
            "object_fit": null,
            "object_position": null,
            "order": null,
            "overflow": null,
            "overflow_x": null,
            "overflow_y": null,
            "padding": null,
            "right": null,
            "top": null,
            "visibility": null,
            "width": null
          }
        },
        "fa8244b94244484c94d46d4d6c98e5e8": {
          "model_module": "@jupyter-widgets/output",
          "model_name": "OutputModel",
          "model_module_version": "1.0.0",
          "state": {
            "_dom_classes": [],
            "_model_module": "@jupyter-widgets/output",
            "_model_module_version": "1.0.0",
            "_model_name": "OutputModel",
            "_view_count": null,
            "_view_module": "@jupyter-widgets/output",
            "_view_module_version": "1.0.0",
            "_view_name": "OutputView",
            "layout": "IPY_MODEL_9b5f068eea4c47868a85aee0668f4a92",
            "msg_id": "",
            "outputs": [
              {
                "output_type": "display_data",
                "data": {
                  "text/plain": "Sampling ... \u001b[32m━━━━━━━━━━━━━━━━━━━━━━━━━━━━━━━━━━━━━━━━\u001b[0m \u001b[35m100%\u001b[0m 0:00:00 / 0:00:00\n",
                  "text/html": "<pre style=\"white-space:pre;overflow-x:auto;line-height:normal;font-family:Menlo,'DejaVu Sans Mono',consolas,'Courier New',monospace\">Sampling ... <span style=\"color: #008000; text-decoration-color: #008000\">━━━━━━━━━━━━━━━━━━━━━━━━━━━━━━━━━━━━━━━━</span> <span style=\"color: #800080; text-decoration-color: #800080\">100%</span> 0:00:00 / 0:00:00\n</pre>\n"
                },
                "metadata": {}
              }
            ]
          }
        },
        "9b5f068eea4c47868a85aee0668f4a92": {
          "model_module": "@jupyter-widgets/base",
          "model_name": "LayoutModel",
          "model_module_version": "1.2.0",
          "state": {
            "_model_module": "@jupyter-widgets/base",
            "_model_module_version": "1.2.0",
            "_model_name": "LayoutModel",
            "_view_count": null,
            "_view_module": "@jupyter-widgets/base",
            "_view_module_version": "1.2.0",
            "_view_name": "LayoutView",
            "align_content": null,
            "align_items": null,
            "align_self": null,
            "border": null,
            "bottom": null,
            "display": null,
            "flex": null,
            "flex_flow": null,
            "grid_area": null,
            "grid_auto_columns": null,
            "grid_auto_flow": null,
            "grid_auto_rows": null,
            "grid_column": null,
            "grid_gap": null,
            "grid_row": null,
            "grid_template_areas": null,
            "grid_template_columns": null,
            "grid_template_rows": null,
            "height": null,
            "justify_content": null,
            "justify_items": null,
            "left": null,
            "margin": null,
            "max_height": null,
            "max_width": null,
            "min_height": null,
            "min_width": null,
            "object_fit": null,
            "object_position": null,
            "order": null,
            "overflow": null,
            "overflow_x": null,
            "overflow_y": null,
            "padding": null,
            "right": null,
            "top": null,
            "visibility": null,
            "width": null
          }
        }
      }
    }
  },
  "nbformat": 4,
  "nbformat_minor": 0
}