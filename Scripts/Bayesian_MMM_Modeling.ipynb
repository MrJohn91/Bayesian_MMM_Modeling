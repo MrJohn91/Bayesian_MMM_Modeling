{
  "cells": [
    {
      "cell_type": "markdown",
      "metadata": {
        "id": "VUbVHJXkWNFo"
      },
      "source": [
        "## Bayesian Model Setup\n"
      ]
    },
    {
      "cell_type": "code",
      "execution_count": 20,
      "metadata": {
        "colab": {
          "base_uri": "https://localhost:8080/"
        },
        "id": "KzCBof4DWNFq",
        "outputId": "7724a99a-47f8-4f78-be6c-21d434e0567a"
      },
      "outputs": [
        {
          "output_type": "stream",
          "name": "stdout",
          "text": [
            "Drive already mounted at /content/drive; to attempt to forcibly remount, call drive.mount(\"/content/drive\", force_remount=True).\n",
            "Index(['start_of_week', 'revenue', 'spend_channel_1', 'spend_channel_2',\n",
            "       'spend_channel_3', 'spend_channel_4', 'spend_channel_5',\n",
            "       'spend_channel_6', 'spend_channel_7', 'spend_channel_1_adstocked',\n",
            "       'spend_channel_2_adstocked', 'spend_channel_3_adstocked',\n",
            "       'spend_channel_4_adstocked', 'spend_channel_5_adstocked',\n",
            "       'spend_channel_6_adstocked', 'spend_channel_7_adstocked'],\n",
            "      dtype='object')\n"
          ]
        }
      ],
      "source": [
        "import pandas as pd\n",
        "from google.colab import drive\n",
        "\n",
        "drive.mount('/content/drive')\n",
        "\n",
        "file_path = '/content/drive/My Drive/marketing_data.csv'\n",
        "df = pd.read_csv(file_path)\n",
        "print(df.columns)\n"
      ]
    },
    {
      "cell_type": "code",
      "execution_count": 21,
      "metadata": {
        "colab": {
          "base_uri": "https://localhost:8080/",
          "height": 226
        },
        "id": "hEBdi9hoWNFr",
        "outputId": "ed538f52-a4bd-471b-b159-501b9dd7084b"
      },
      "outputs": [
        {
          "output_type": "execute_result",
          "data": {
            "text/plain": [
              "  start_of_week    revenue  spend_channel_1  spend_channel_2  spend_channel_3  \\\n",
              "0    2020-08-30  157906.75          2625.48           262.71         12954.12   \n",
              "1    2020-09-06  186425.68          2634.01           108.66          8760.28   \n",
              "2    2020-09-13  161607.39          2087.08           110.32          7155.42   \n",
              "3    2020-09-20  180089.13          1690.70            52.79         15185.22   \n",
              "4    2020-09-27  217793.98          1547.30            80.56         18524.05   \n",
              "\n",
              "   spend_channel_4  spend_channel_5  spend_channel_6  spend_channel_7  \\\n",
              "0          3609.63         12955.29         12659.12         19379.79   \n",
              "1          4560.60         12747.70         12338.18         22473.45   \n",
              "2          4362.96         15015.41         10811.15         22596.05   \n",
              "3          3883.41         15521.41         12890.22         24728.73   \n",
              "4          4043.09         15793.74         12642.55         26515.48   \n",
              "\n",
              "   spend_channel_1_adstocked  spend_channel_2_adstocked  \\\n",
              "0                2625.480000                 262.710000   \n",
              "1                2896.558000                 345.099000   \n",
              "2                2376.735800                 420.909100   \n",
              "3                1928.373580                 431.608190   \n",
              "4                1740.137358                 469.007371   \n",
              "\n",
              "   spend_channel_3_adstocked  spend_channel_4_adstocked  \\\n",
              "0               12954.120000                3609.630000   \n",
              "1               10055.692000                7809.267000   \n",
              "2                8160.989200               11391.300300   \n",
              "3               16001.318920               14135.580270   \n",
              "4               20124.181892               16765.112243   \n",
              "\n",
              "   spend_channel_5_adstocked  spend_channel_6_adstocked  \\\n",
              "0               12955.290000               12659.120000   \n",
              "1               14043.229000               14870.004000   \n",
              "2               16419.732900               13785.150800   \n",
              "3               17163.383290               15647.250160   \n",
              "4               17510.078329               15772.000032   \n",
              "\n",
              "   spend_channel_7_adstocked  \n",
              "0               19379.790000  \n",
              "1               24411.429000  \n",
              "2               25037.192900  \n",
              "3               27232.449290  \n",
              "4               29238.724929  "
            ],
            "text/html": [
              "\n",
              "  <div id=\"df-ef601763-8e27-4ce9-a597-5f197f9f01ac\" class=\"colab-df-container\">\n",
              "    <div>\n",
              "<style scoped>\n",
              "    .dataframe tbody tr th:only-of-type {\n",
              "        vertical-align: middle;\n",
              "    }\n",
              "\n",
              "    .dataframe tbody tr th {\n",
              "        vertical-align: top;\n",
              "    }\n",
              "\n",
              "    .dataframe thead th {\n",
              "        text-align: right;\n",
              "    }\n",
              "</style>\n",
              "<table border=\"1\" class=\"dataframe\">\n",
              "  <thead>\n",
              "    <tr style=\"text-align: right;\">\n",
              "      <th></th>\n",
              "      <th>start_of_week</th>\n",
              "      <th>revenue</th>\n",
              "      <th>spend_channel_1</th>\n",
              "      <th>spend_channel_2</th>\n",
              "      <th>spend_channel_3</th>\n",
              "      <th>spend_channel_4</th>\n",
              "      <th>spend_channel_5</th>\n",
              "      <th>spend_channel_6</th>\n",
              "      <th>spend_channel_7</th>\n",
              "      <th>spend_channel_1_adstocked</th>\n",
              "      <th>spend_channel_2_adstocked</th>\n",
              "      <th>spend_channel_3_adstocked</th>\n",
              "      <th>spend_channel_4_adstocked</th>\n",
              "      <th>spend_channel_5_adstocked</th>\n",
              "      <th>spend_channel_6_adstocked</th>\n",
              "      <th>spend_channel_7_adstocked</th>\n",
              "    </tr>\n",
              "  </thead>\n",
              "  <tbody>\n",
              "    <tr>\n",
              "      <th>0</th>\n",
              "      <td>2020-08-30</td>\n",
              "      <td>157906.75</td>\n",
              "      <td>2625.48</td>\n",
              "      <td>262.71</td>\n",
              "      <td>12954.12</td>\n",
              "      <td>3609.63</td>\n",
              "      <td>12955.29</td>\n",
              "      <td>12659.12</td>\n",
              "      <td>19379.79</td>\n",
              "      <td>2625.480000</td>\n",
              "      <td>262.710000</td>\n",
              "      <td>12954.120000</td>\n",
              "      <td>3609.630000</td>\n",
              "      <td>12955.290000</td>\n",
              "      <td>12659.120000</td>\n",
              "      <td>19379.790000</td>\n",
              "    </tr>\n",
              "    <tr>\n",
              "      <th>1</th>\n",
              "      <td>2020-09-06</td>\n",
              "      <td>186425.68</td>\n",
              "      <td>2634.01</td>\n",
              "      <td>108.66</td>\n",
              "      <td>8760.28</td>\n",
              "      <td>4560.60</td>\n",
              "      <td>12747.70</td>\n",
              "      <td>12338.18</td>\n",
              "      <td>22473.45</td>\n",
              "      <td>2896.558000</td>\n",
              "      <td>345.099000</td>\n",
              "      <td>10055.692000</td>\n",
              "      <td>7809.267000</td>\n",
              "      <td>14043.229000</td>\n",
              "      <td>14870.004000</td>\n",
              "      <td>24411.429000</td>\n",
              "    </tr>\n",
              "    <tr>\n",
              "      <th>2</th>\n",
              "      <td>2020-09-13</td>\n",
              "      <td>161607.39</td>\n",
              "      <td>2087.08</td>\n",
              "      <td>110.32</td>\n",
              "      <td>7155.42</td>\n",
              "      <td>4362.96</td>\n",
              "      <td>15015.41</td>\n",
              "      <td>10811.15</td>\n",
              "      <td>22596.05</td>\n",
              "      <td>2376.735800</td>\n",
              "      <td>420.909100</td>\n",
              "      <td>8160.989200</td>\n",
              "      <td>11391.300300</td>\n",
              "      <td>16419.732900</td>\n",
              "      <td>13785.150800</td>\n",
              "      <td>25037.192900</td>\n",
              "    </tr>\n",
              "    <tr>\n",
              "      <th>3</th>\n",
              "      <td>2020-09-20</td>\n",
              "      <td>180089.13</td>\n",
              "      <td>1690.70</td>\n",
              "      <td>52.79</td>\n",
              "      <td>15185.22</td>\n",
              "      <td>3883.41</td>\n",
              "      <td>15521.41</td>\n",
              "      <td>12890.22</td>\n",
              "      <td>24728.73</td>\n",
              "      <td>1928.373580</td>\n",
              "      <td>431.608190</td>\n",
              "      <td>16001.318920</td>\n",
              "      <td>14135.580270</td>\n",
              "      <td>17163.383290</td>\n",
              "      <td>15647.250160</td>\n",
              "      <td>27232.449290</td>\n",
              "    </tr>\n",
              "    <tr>\n",
              "      <th>4</th>\n",
              "      <td>2020-09-27</td>\n",
              "      <td>217793.98</td>\n",
              "      <td>1547.30</td>\n",
              "      <td>80.56</td>\n",
              "      <td>18524.05</td>\n",
              "      <td>4043.09</td>\n",
              "      <td>15793.74</td>\n",
              "      <td>12642.55</td>\n",
              "      <td>26515.48</td>\n",
              "      <td>1740.137358</td>\n",
              "      <td>469.007371</td>\n",
              "      <td>20124.181892</td>\n",
              "      <td>16765.112243</td>\n",
              "      <td>17510.078329</td>\n",
              "      <td>15772.000032</td>\n",
              "      <td>29238.724929</td>\n",
              "    </tr>\n",
              "  </tbody>\n",
              "</table>\n",
              "</div>\n",
              "    <div class=\"colab-df-buttons\">\n",
              "\n",
              "  <div class=\"colab-df-container\">\n",
              "    <button class=\"colab-df-convert\" onclick=\"convertToInteractive('df-ef601763-8e27-4ce9-a597-5f197f9f01ac')\"\n",
              "            title=\"Convert this dataframe to an interactive table.\"\n",
              "            style=\"display:none;\">\n",
              "\n",
              "  <svg xmlns=\"http://www.w3.org/2000/svg\" height=\"24px\" viewBox=\"0 -960 960 960\">\n",
              "    <path d=\"M120-120v-720h720v720H120Zm60-500h600v-160H180v160Zm220 220h160v-160H400v160Zm0 220h160v-160H400v160ZM180-400h160v-160H180v160Zm440 0h160v-160H620v160ZM180-180h160v-160H180v160Zm440 0h160v-160H620v160Z\"/>\n",
              "  </svg>\n",
              "    </button>\n",
              "\n",
              "  <style>\n",
              "    .colab-df-container {\n",
              "      display:flex;\n",
              "      gap: 12px;\n",
              "    }\n",
              "\n",
              "    .colab-df-convert {\n",
              "      background-color: #E8F0FE;\n",
              "      border: none;\n",
              "      border-radius: 50%;\n",
              "      cursor: pointer;\n",
              "      display: none;\n",
              "      fill: #1967D2;\n",
              "      height: 32px;\n",
              "      padding: 0 0 0 0;\n",
              "      width: 32px;\n",
              "    }\n",
              "\n",
              "    .colab-df-convert:hover {\n",
              "      background-color: #E2EBFA;\n",
              "      box-shadow: 0px 1px 2px rgba(60, 64, 67, 0.3), 0px 1px 3px 1px rgba(60, 64, 67, 0.15);\n",
              "      fill: #174EA6;\n",
              "    }\n",
              "\n",
              "    .colab-df-buttons div {\n",
              "      margin-bottom: 4px;\n",
              "    }\n",
              "\n",
              "    [theme=dark] .colab-df-convert {\n",
              "      background-color: #3B4455;\n",
              "      fill: #D2E3FC;\n",
              "    }\n",
              "\n",
              "    [theme=dark] .colab-df-convert:hover {\n",
              "      background-color: #434B5C;\n",
              "      box-shadow: 0px 1px 3px 1px rgba(0, 0, 0, 0.15);\n",
              "      filter: drop-shadow(0px 1px 2px rgba(0, 0, 0, 0.3));\n",
              "      fill: #FFFFFF;\n",
              "    }\n",
              "  </style>\n",
              "\n",
              "    <script>\n",
              "      const buttonEl =\n",
              "        document.querySelector('#df-ef601763-8e27-4ce9-a597-5f197f9f01ac button.colab-df-convert');\n",
              "      buttonEl.style.display =\n",
              "        google.colab.kernel.accessAllowed ? 'block' : 'none';\n",
              "\n",
              "      async function convertToInteractive(key) {\n",
              "        const element = document.querySelector('#df-ef601763-8e27-4ce9-a597-5f197f9f01ac');\n",
              "        const dataTable =\n",
              "          await google.colab.kernel.invokeFunction('convertToInteractive',\n",
              "                                                    [key], {});\n",
              "        if (!dataTable) return;\n",
              "\n",
              "        const docLinkHtml = 'Like what you see? Visit the ' +\n",
              "          '<a target=\"_blank\" href=https://colab.research.google.com/notebooks/data_table.ipynb>data table notebook</a>'\n",
              "          + ' to learn more about interactive tables.';\n",
              "        element.innerHTML = '';\n",
              "        dataTable['output_type'] = 'display_data';\n",
              "        await google.colab.output.renderOutput(dataTable, element);\n",
              "        const docLink = document.createElement('div');\n",
              "        docLink.innerHTML = docLinkHtml;\n",
              "        element.appendChild(docLink);\n",
              "      }\n",
              "    </script>\n",
              "  </div>\n",
              "\n",
              "\n",
              "<div id=\"df-96eed8cf-eba8-41ff-b037-f2038d270bc4\">\n",
              "  <button class=\"colab-df-quickchart\" onclick=\"quickchart('df-96eed8cf-eba8-41ff-b037-f2038d270bc4')\"\n",
              "            title=\"Suggest charts\"\n",
              "            style=\"display:none;\">\n",
              "\n",
              "<svg xmlns=\"http://www.w3.org/2000/svg\" height=\"24px\"viewBox=\"0 0 24 24\"\n",
              "     width=\"24px\">\n",
              "    <g>\n",
              "        <path d=\"M19 3H5c-1.1 0-2 .9-2 2v14c0 1.1.9 2 2 2h14c1.1 0 2-.9 2-2V5c0-1.1-.9-2-2-2zM9 17H7v-7h2v7zm4 0h-2V7h2v10zm4 0h-2v-4h2v4z\"/>\n",
              "    </g>\n",
              "</svg>\n",
              "  </button>\n",
              "\n",
              "<style>\n",
              "  .colab-df-quickchart {\n",
              "      --bg-color: #E8F0FE;\n",
              "      --fill-color: #1967D2;\n",
              "      --hover-bg-color: #E2EBFA;\n",
              "      --hover-fill-color: #174EA6;\n",
              "      --disabled-fill-color: #AAA;\n",
              "      --disabled-bg-color: #DDD;\n",
              "  }\n",
              "\n",
              "  [theme=dark] .colab-df-quickchart {\n",
              "      --bg-color: #3B4455;\n",
              "      --fill-color: #D2E3FC;\n",
              "      --hover-bg-color: #434B5C;\n",
              "      --hover-fill-color: #FFFFFF;\n",
              "      --disabled-bg-color: #3B4455;\n",
              "      --disabled-fill-color: #666;\n",
              "  }\n",
              "\n",
              "  .colab-df-quickchart {\n",
              "    background-color: var(--bg-color);\n",
              "    border: none;\n",
              "    border-radius: 50%;\n",
              "    cursor: pointer;\n",
              "    display: none;\n",
              "    fill: var(--fill-color);\n",
              "    height: 32px;\n",
              "    padding: 0;\n",
              "    width: 32px;\n",
              "  }\n",
              "\n",
              "  .colab-df-quickchart:hover {\n",
              "    background-color: var(--hover-bg-color);\n",
              "    box-shadow: 0 1px 2px rgba(60, 64, 67, 0.3), 0 1px 3px 1px rgba(60, 64, 67, 0.15);\n",
              "    fill: var(--button-hover-fill-color);\n",
              "  }\n",
              "\n",
              "  .colab-df-quickchart-complete:disabled,\n",
              "  .colab-df-quickchart-complete:disabled:hover {\n",
              "    background-color: var(--disabled-bg-color);\n",
              "    fill: var(--disabled-fill-color);\n",
              "    box-shadow: none;\n",
              "  }\n",
              "\n",
              "  .colab-df-spinner {\n",
              "    border: 2px solid var(--fill-color);\n",
              "    border-color: transparent;\n",
              "    border-bottom-color: var(--fill-color);\n",
              "    animation:\n",
              "      spin 1s steps(1) infinite;\n",
              "  }\n",
              "\n",
              "  @keyframes spin {\n",
              "    0% {\n",
              "      border-color: transparent;\n",
              "      border-bottom-color: var(--fill-color);\n",
              "      border-left-color: var(--fill-color);\n",
              "    }\n",
              "    20% {\n",
              "      border-color: transparent;\n",
              "      border-left-color: var(--fill-color);\n",
              "      border-top-color: var(--fill-color);\n",
              "    }\n",
              "    30% {\n",
              "      border-color: transparent;\n",
              "      border-left-color: var(--fill-color);\n",
              "      border-top-color: var(--fill-color);\n",
              "      border-right-color: var(--fill-color);\n",
              "    }\n",
              "    40% {\n",
              "      border-color: transparent;\n",
              "      border-right-color: var(--fill-color);\n",
              "      border-top-color: var(--fill-color);\n",
              "    }\n",
              "    60% {\n",
              "      border-color: transparent;\n",
              "      border-right-color: var(--fill-color);\n",
              "    }\n",
              "    80% {\n",
              "      border-color: transparent;\n",
              "      border-right-color: var(--fill-color);\n",
              "      border-bottom-color: var(--fill-color);\n",
              "    }\n",
              "    90% {\n",
              "      border-color: transparent;\n",
              "      border-bottom-color: var(--fill-color);\n",
              "    }\n",
              "  }\n",
              "</style>\n",
              "\n",
              "  <script>\n",
              "    async function quickchart(key) {\n",
              "      const quickchartButtonEl =\n",
              "        document.querySelector('#' + key + ' button');\n",
              "      quickchartButtonEl.disabled = true;  // To prevent multiple clicks.\n",
              "      quickchartButtonEl.classList.add('colab-df-spinner');\n",
              "      try {\n",
              "        const charts = await google.colab.kernel.invokeFunction(\n",
              "            'suggestCharts', [key], {});\n",
              "      } catch (error) {\n",
              "        console.error('Error during call to suggestCharts:', error);\n",
              "      }\n",
              "      quickchartButtonEl.classList.remove('colab-df-spinner');\n",
              "      quickchartButtonEl.classList.add('colab-df-quickchart-complete');\n",
              "    }\n",
              "    (() => {\n",
              "      let quickchartButtonEl =\n",
              "        document.querySelector('#df-96eed8cf-eba8-41ff-b037-f2038d270bc4 button');\n",
              "      quickchartButtonEl.style.display =\n",
              "        google.colab.kernel.accessAllowed ? 'block' : 'none';\n",
              "    })();\n",
              "  </script>\n",
              "</div>\n",
              "\n",
              "    </div>\n",
              "  </div>\n"
            ],
            "application/vnd.google.colaboratory.intrinsic+json": {
              "type": "dataframe",
              "variable_name": "df",
              "summary": "{\n  \"name\": \"df\",\n  \"rows\": 104,\n  \"fields\": [\n    {\n      \"column\": \"start_of_week\",\n      \"properties\": {\n        \"dtype\": \"object\",\n        \"num_unique_values\": 104,\n        \"samples\": [\n          \"2021-03-28\",\n          \"2021-11-28\",\n          \"2021-11-21\"\n        ],\n        \"semantic_type\": \"\",\n        \"description\": \"\"\n      }\n    },\n    {\n      \"column\": \"revenue\",\n      \"properties\": {\n        \"dtype\": \"number\",\n        \"std\": 50810.25301230422,\n        \"min\": 63207.09,\n        \"max\": 418186.38,\n        \"num_unique_values\": 104,\n        \"samples\": [\n          131152.3,\n          276991.38,\n          123340.71\n        ],\n        \"semantic_type\": \"\",\n        \"description\": \"\"\n      }\n    },\n    {\n      \"column\": \"spend_channel_1\",\n      \"properties\": {\n        \"dtype\": \"number\",\n        \"std\": 1388.3846316332167,\n        \"min\": 0.0,\n        \"max\": 8513.83,\n        \"num_unique_values\": 92,\n        \"samples\": [\n          1541.65,\n          633.51,\n          853.99\n        ],\n        \"semantic_type\": \"\",\n        \"description\": \"\"\n      }\n    },\n    {\n      \"column\": \"spend_channel_2\",\n      \"properties\": {\n        \"dtype\": \"number\",\n        \"std\": 332.98821765656453,\n        \"min\": 4.37,\n        \"max\": 1605.85,\n        \"num_unique_values\": 104,\n        \"samples\": [\n          161.73,\n          751.09,\n          204.54\n        ],\n        \"semantic_type\": \"\",\n        \"description\": \"\"\n      }\n    },\n    {\n      \"column\": \"spend_channel_3\",\n      \"properties\": {\n        \"dtype\": \"number\",\n        \"std\": 8714.759885598327,\n        \"min\": 5938.13,\n        \"max\": 49689.38,\n        \"num_unique_values\": 104,\n        \"samples\": [\n          19956.15,\n          36615.76,\n          29873.16\n        ],\n        \"semantic_type\": \"\",\n        \"description\": \"\"\n      }\n    },\n    {\n      \"column\": \"spend_channel_4\",\n      \"properties\": {\n        \"dtype\": \"number\",\n        \"std\": 3123.1720346920392,\n        \"min\": 3602.2,\n        \"max\": 22629.69,\n        \"num_unique_values\": 104,\n        \"samples\": [\n          6020.31,\n          22629.69,\n          10304.04\n        ],\n        \"semantic_type\": \"\",\n        \"description\": \"\"\n      }\n    },\n    {\n      \"column\": \"spend_channel_5\",\n      \"properties\": {\n        \"dtype\": \"number\",\n        \"std\": 6956.787524392737,\n        \"min\": 747.46,\n        \"max\": 33009.65,\n        \"num_unique_values\": 104,\n        \"samples\": [\n          9691.38,\n          1782.69,\n          1384.94\n        ],\n        \"semantic_type\": \"\",\n        \"description\": \"\"\n      }\n    },\n    {\n      \"column\": \"spend_channel_6\",\n      \"properties\": {\n        \"dtype\": \"number\",\n        \"std\": 6689.472660396867,\n        \"min\": 0.0,\n        \"max\": 33692.83,\n        \"num_unique_values\": 66,\n        \"samples\": [\n          2927.07,\n          3091.52,\n          12659.12\n        ],\n        \"semantic_type\": \"\",\n        \"description\": \"\"\n      }\n    },\n    {\n      \"column\": \"spend_channel_7\",\n      \"properties\": {\n        \"dtype\": \"number\",\n        \"std\": 12176.293684053631,\n        \"min\": 9391.21,\n        \"max\": 77488.42,\n        \"num_unique_values\": 104,\n        \"samples\": [\n          16248.63,\n          51899.84,\n          17634.36\n        ],\n        \"semantic_type\": \"\",\n        \"description\": \"\"\n      }\n    },\n    {\n      \"column\": \"spend_channel_1_adstocked\",\n      \"properties\": {\n        \"dtype\": \"number\",\n        \"std\": 1477.7622159220014,\n        \"min\": 2.4283430666904565e-12,\n        \"max\": 8799.801656600144,\n        \"num_unique_values\": 104,\n        \"samples\": [\n          948.9557004700324,\n          3163.3891823601657,\n          1171.2918236016565\n        ],\n        \"semantic_type\": \"\",\n        \"description\": \"\"\n      }\n    },\n    {\n      \"column\": \"spend_channel_2_adstocked\",\n      \"properties\": {\n        \"dtype\": \"number\",\n        \"std\": 2104.9450023610093,\n        \"min\": 262.71,\n        \"max\": 7292.901343650128,\n        \"num_unique_values\": 104,\n        \"samples\": [\n          1945.1995527160775,\n          3008.703470251581,\n          2508.459411390645\n        ],\n        \"semantic_type\": \"\",\n        \"description\": \"\"\n      }\n    },\n    {\n      \"column\": \"spend_channel_3_adstocked\",\n      \"properties\": {\n        \"dtype\": \"number\",\n        \"std\": 9159.223029496248,\n        \"min\": 7082.12256700588,\n        \"max\": 52803.34791085174,\n        \"num_unique_values\": 104,\n        \"samples\": [\n          21283.03352901029,\n          39884.08862596432,\n          32683.286259643148\n        ],\n        \"semantic_type\": \"\",\n        \"description\": \"\"\n      }\n    },\n    {\n      \"column\": \"spend_channel_4_adstocked\",\n      \"properties\": {\n        \"dtype\": \"number\",\n        \"std\": 20972.24141593956,\n        \"min\": 3609.63,\n        \"max\": 107943.10647439578,\n        \"num_unique_values\": 104,\n        \"samples\": [\n          58370.060187431125,\n          101743.9870054269,\n          87904.77445047433\n        ],\n        \"semantic_type\": \"\",\n        \"description\": \"\"\n      }\n    },\n    {\n      \"column\": \"spend_channel_5_adstocked\",\n      \"properties\": {\n        \"dtype\": \"number\",\n        \"std\": 7633.067377828248,\n        \"min\": 879.2244536369454,\n        \"max\": 35265.15578329,\n        \"num_unique_values\": 104,\n        \"samples\": [\n          10647.638271080936,\n          1938.2363694535536,\n          1555.463694535536\n        ],\n        \"semantic_type\": \"\",\n        \"description\": \"\"\n      }\n    },\n    {\n      \"column\": \"spend_channel_6_adstocked\",\n      \"properties\": {\n        \"dtype\": \"number\",\n        \"std\": 7840.706299296634,\n        \"min\": 6.076921832173323e-10,\n        \"max\": 39412.83600128,\n        \"num_unique_values\": 104,\n        \"samples\": [\n          7701.956943276176,\n          9413.460626355602,\n          0.2031317780065955\n        ],\n        \"semantic_type\": \"\",\n        \"description\": \"\"\n      }\n    },\n    {\n      \"column\": \"spend_channel_7_adstocked\",\n      \"properties\": {\n        \"dtype\": \"number\",\n        \"std\": 13170.453053771816,\n        \"min\": 10725.229192447485,\n        \"max\": 83688.5565623554,\n        \"num_unique_values\": 104,\n        \"samples\": [\n          18234.106388488144,\n          53894.63203052288,\n          19947.920305228825\n        ],\n        \"semantic_type\": \"\",\n        \"description\": \"\"\n      }\n    }\n  ]\n}"
            }
          },
          "metadata": {},
          "execution_count": 21
        }
      ],
      "source": [
        "df.head()"
      ]
    },
    {
      "cell_type": "markdown",
      "metadata": {
        "id": "43VsAiiWWNFs"
      },
      "source": [
        "### Define the Model\n"
      ]
    },
    {
      "cell_type": "code",
      "execution_count": 103,
      "metadata": {
        "colab": {
          "base_uri": "https://localhost:8080/",
          "height": 116,
          "referenced_widgets": [
            "2763dd6c49544a5291c3f647b1b6e0b4",
            "62f4b392e2ea4474858594728e07dd51"
          ]
        },
        "id": "fs1UWBxuWNFs",
        "outputId": "d67c3b28-0fe4-4b6b-9cd5-4ba7288e5e8e"
      },
      "outputs": [
        {
          "output_type": "display_data",
          "data": {
            "text/plain": [
              "Output()"
            ],
            "application/vnd.jupyter.widget-view+json": {
              "version_major": 2,
              "version_minor": 0,
              "model_id": "2763dd6c49544a5291c3f647b1b6e0b4"
            }
          },
          "metadata": {}
        },
        {
          "output_type": "display_data",
          "data": {
            "text/plain": [],
            "text/html": [
              "<pre style=\"white-space:pre;overflow-x:auto;line-height:normal;font-family:Menlo,'DejaVu Sans Mono',consolas,'Courier New',monospace\"></pre>\n"
            ]
          },
          "metadata": {}
        }
      ],
      "source": [
        "import pymc as pm\n",
        "import numpy as np\n",
        "import pytensor.tensor as pt\n",
        "import pandas as pd\n",
        "\n",
        "# Number of marketing channels\n",
        "num_channels = 7\n",
        "\n",
        "# number of data points\n",
        "n_weeks = df.shape[0]\n",
        "\n",
        "adstocked_spends = df[['spend_channel_1_adstocked', 'spend_channel_2_adstocked',\n",
        "                       'spend_channel_3_adstocked', 'spend_channel_4_adstocked',\n",
        "                       'spend_channel_5_adstocked', 'spend_channel_6_adstocked',\n",
        "                       'spend_channel_7_adstocked']].values\n",
        "\n",
        "revenue = df['revenue'].values\n",
        "\n",
        "# time indices for the trend component\n",
        "time_index = np.arange(n_weeks)\n",
        "\n",
        "# Create seasonal components (assuming weekly data with yearly seasonality)\n",
        "# We'll use Fourier terms to capture seasonality - here with 52 weeks per year\n",
        "n_harmonics = 5  # increased from 4 to 5 for better seasonality modeling\n",
        "fourier_features = np.zeros((n_weeks, 2 * n_harmonics))\n",
        "for i in range(n_harmonics):\n",
        "    fourier_features[:, 2*i] = np.sin(2 * np.pi * (i+1) * time_index / 52)\n",
        "    fourier_features[:, 2*i+1] = np.cos(2 * np.pi * (i+1) * time_index / 52)\n",
        "\n",
        "# Month indicator variables\n",
        "january_indicator = (pd.to_datetime(df['start_of_week']).dt.month == 1).astype(int)\n",
        "november_indicator = (pd.to_datetime(df['start_of_week']).dt.month == 11).astype(int)\n",
        "december_indicator = (pd.to_datetime(df['start_of_week']).dt.month == 12).astype(int)\n",
        "\n",
        "# PyMC model\n",
        "with pm.Model() as model:\n",
        "\n",
        "    baseline = pm.Normal('baseline', mu=np.mean(revenue), sigma=np.std(revenue))\n",
        "\n",
        "    # Prior for the trend component\n",
        "    trend = pm.Normal('trend', mu=0, sigma=1)\n",
        "\n",
        "    # Priors for seasonal components\n",
        "    seasonal_coef = pm.Normal('seasonal_coef', mu=0, sigma=5, shape=2*n_harmonics)\n",
        "\n",
        "    # Priors for the channel coefficients (betas)\n",
        "    betas = pm.Normal('betas', mu=0, sigma=10, shape=num_channels)\n",
        "\n",
        "    # Priors for holiday effects\n",
        "    january_effect = pm.Normal('january_effect', mu=0, sigma=50000)\n",
        "    november_effect = pm.Normal('november_effect', mu=0, sigma=40000)  # Added November effect\n",
        "    december_effect = pm.Normal('december_effect', mu=0, sigma=30000)\n",
        "\n",
        "    # Prior for the error term (sigma), assuming positive uncertainty\n",
        "    sigma = pm.HalfNormal('sigma', sigma=10)\n",
        "\n",
        "    # Combine components to get expected revenue\n",
        "    trend_component = trend * time_index\n",
        "    seasonal_component = pm.math.dot(fourier_features, seasonal_coef)\n",
        "    marketing_component = pm.math.dot(adstocked_spends, betas)\n",
        "\n",
        "    # Updated holiday component with November\n",
        "    holiday_component = (january_effect * january_indicator +\n",
        "                        november_effect * november_indicator +\n",
        "                        december_effect * december_indicator)\n",
        "\n",
        "    mu = baseline + trend_component + seasonal_component + marketing_component + holiday_component\n",
        "\n",
        "    # Likelihood of the observed data (revenue), assuming normally distributed errors\n",
        "    likelihood = pm.Normal('revenue', mu=mu, sigma=sigma, observed=revenue)\n",
        "\n",
        "    # Sampling from the posterior distribution\n",
        "    trace = pm.sample(1000, tune=1000, return_inferencedata=True)"
      ]
    },
    {
      "cell_type": "markdown",
      "source": [
        "## Model Parameter Estimates"
      ],
      "metadata": {
        "id": "lODCFRpVapTi"
      }
    },
    {
      "cell_type": "code",
      "source": [
        "# arviz for analyzing the results\n",
        "import arviz as az\n",
        "\n",
        "# summary of the posterior distributions\n",
        "summary = az.summary(trace, round_to=3)\n",
        "print(summary)\n",
        "\n",
        "# marketing channel coefficients\n",
        "channel_summary = summary.filter(like='betas', axis=0)\n",
        "print(\"\\nMarketing Channel Coefficients:\")\n",
        "print(channel_summary)"
      ],
      "metadata": {
        "colab": {
          "base_uri": "https://localhost:8080/"
        },
        "id": "kEO-2PrTa5pH",
        "outputId": "0249bf20-092d-4a2b-8dfb-06fd7c7da4ad"
      },
      "execution_count": 104,
      "outputs": [
        {
          "output_type": "stream",
          "name": "stdout",
          "text": [
            "                       mean        sd     hdi_3%    hdi_97%  mcse_mean  \\\n",
            "baseline          74705.131  1092.607  72541.049  76677.054     24.920   \n",
            "betas[0]             -4.977     0.181     -5.329     -4.656      0.003   \n",
            "betas[1]             -1.832     0.123     -2.050     -1.581      0.002   \n",
            "betas[2]              0.865     0.026      0.815      0.912      0.001   \n",
            "betas[3]             -0.274     0.015     -0.300     -0.246      0.000   \n",
            "betas[4]              1.541     0.044      1.452      1.618      0.001   \n",
            "betas[5]              2.050     0.036      1.980      2.114      0.001   \n",
            "betas[6]              1.244     0.019      1.207      1.279      0.000   \n",
            "december_effect  -18403.309   799.846 -19829.335 -16871.674     15.898   \n",
            "january_effect    31347.015   656.373  30127.884  32572.840     12.298   \n",
            "november_effect   60997.314   694.349  59719.752  62261.371     11.932   \n",
            "seasonal_coef[0]      0.059     4.752     -8.450      9.067      0.081   \n",
            "seasonal_coef[1]     -1.977     5.153    -11.768      7.250      0.078   \n",
            "seasonal_coef[2]      1.931     4.993     -7.388     10.852      0.079   \n",
            "seasonal_coef[3]     -0.786     4.803     -9.484      9.057      0.072   \n",
            "seasonal_coef[4]      2.263     4.882     -7.405     10.644      0.075   \n",
            "seasonal_coef[5]      3.412     4.927     -6.062     12.475      0.080   \n",
            "seasonal_coef[6]     -0.942     5.159    -10.675      8.390      0.077   \n",
            "seasonal_coef[7]      3.167     5.140     -6.698     12.935      0.082   \n",
            "seasonal_coef[8]      3.274     5.071     -5.964     12.743      0.082   \n",
            "seasonal_coef[9]      1.828     5.127     -7.869     11.266      0.080   \n",
            "sigma              1823.920     5.011   1814.627   1833.037      0.083   \n",
            "trend                -1.421     0.997     -3.305      0.433      0.016   \n",
            "\n",
            "                  mcse_sd  ess_bulk  ess_tail  r_hat  \n",
            "baseline           20.173  1922.236  1715.164  1.000  \n",
            "betas[0]            0.004  2850.209  1402.856  1.001  \n",
            "betas[1]            0.003  2738.147  1592.596  1.001  \n",
            "betas[2]            0.001  2548.007  1314.580  1.000  \n",
            "betas[3]            0.000  1909.303  1626.885  1.000  \n",
            "betas[4]            0.001  1772.583  1550.667  1.000  \n",
            "betas[5]            0.001  2220.273  1630.212  1.000  \n",
            "betas[6]            0.000  2723.217  1744.609  1.001  \n",
            "december_effect    16.803  2515.459  1630.745  1.000  \n",
            "january_effect     15.520  2841.840  1529.023  0.999  \n",
            "november_effect    18.143  3368.540  1502.209  1.001  \n",
            "seasonal_coef[0]    0.114  3456.841  1437.216  1.001  \n",
            "seasonal_coef[1]    0.139  4352.878  1237.104  1.002  \n",
            "seasonal_coef[2]    0.129  3989.630  1366.823  1.002  \n",
            "seasonal_coef[3]    0.124  4451.092  1446.349  1.000  \n",
            "seasonal_coef[4]    0.115  4243.087  1378.137  1.000  \n",
            "seasonal_coef[5]    0.127  3829.875  1208.565  1.000  \n",
            "seasonal_coef[6]    0.134  4715.452  1458.006  1.001  \n",
            "seasonal_coef[7]    0.147  3928.230  1231.107  1.000  \n",
            "seasonal_coef[8]    0.131  3838.269  1557.728  1.003  \n",
            "seasonal_coef[9]    0.177  4086.127  1094.718  1.002  \n",
            "sigma               0.140  3578.015  1307.066  1.000  \n",
            "trend               0.023  3751.339  1556.879  1.001  \n",
            "\n",
            "Marketing Channel Coefficients:\n",
            "           mean     sd  hdi_3%  hdi_97%  mcse_mean  mcse_sd  ess_bulk  \\\n",
            "betas[0] -4.977  0.181  -5.329   -4.656      0.003    0.004  2850.209   \n",
            "betas[1] -1.832  0.123  -2.050   -1.581      0.002    0.003  2738.147   \n",
            "betas[2]  0.865  0.026   0.815    0.912      0.001    0.001  2548.007   \n",
            "betas[3] -0.274  0.015  -0.300   -0.246      0.000    0.000  1909.303   \n",
            "betas[4]  1.541  0.044   1.452    1.618      0.001    0.001  1772.583   \n",
            "betas[5]  2.050  0.036   1.980    2.114      0.001    0.001  2220.273   \n",
            "betas[6]  1.244  0.019   1.207    1.279      0.000    0.000  2723.217   \n",
            "\n",
            "          ess_tail  r_hat  \n",
            "betas[0]  1402.856  1.001  \n",
            "betas[1]  1592.596  1.001  \n",
            "betas[2]  1314.580  1.000  \n",
            "betas[3]  1626.885  1.000  \n",
            "betas[4]  1550.667  1.000  \n",
            "betas[5]  1630.212  1.000  \n",
            "betas[6]  1744.609  1.001  \n"
          ]
        }
      ]
    },
    {
      "cell_type": "markdown",
      "source": [
        "### Creating a more readable table for the channel coefficients"
      ],
      "metadata": {
        "id": "VDmG8eecRDb3"
      }
    },
    {
      "cell_type": "code",
      "source": [
        "import pandas as pd\n",
        "\n",
        "channel_names = ['spend_channel_1', 'spend_channel_2', 'spend_channel_3',\n",
        "                'spend_channel_4', 'spend_channel_5', 'spend_channel_6',\n",
        "                'spend_channel_7']\n",
        "\n",
        "channel_df = pd.DataFrame({\n",
        "    'Channel': channel_names,\n",
        "    'Coefficient': summary.filter(like='betas', axis=0)['mean'].values,\n",
        "    'Lower Bound (3%)': summary.filter(like='betas', axis=0)['hdi_3%'].values,\n",
        "    'Upper Bound (97%)': summary.filter(like='betas', axis=0)['hdi_97%'].values\n",
        "})\n",
        "\n",
        "# rating\n",
        "def get_effectiveness(coef):\n",
        "    if coef > 1:\n",
        "        return \"Very Positive\"\n",
        "    elif coef > 0.5:\n",
        "        return \"Positive\"\n",
        "    elif coef > 0:\n",
        "        return \"Slightly Positive\"\n",
        "    elif coef > -0.5:\n",
        "        return \"Slightly Negative\"\n",
        "    elif coef > -1:\n",
        "        return \"Negative\"\n",
        "    else:\n",
        "        return \"Very Negative\"\n",
        "\n",
        "channel_df['Impact'] = channel_df['Coefficient'].apply(get_effectiveness)\n",
        "\n",
        "# Sorting by coefficient value\n",
        "sorted_channels = channel_df.sort_values('Coefficient', ascending=False)\n",
        "print(sorted_channels)"
      ],
      "metadata": {
        "colab": {
          "base_uri": "https://localhost:8080/"
        },
        "id": "ZloJHklORojy",
        "outputId": "fa4399b6-f1a4-4082-df47-2b590de438f5"
      },
      "execution_count": 105,
      "outputs": [
        {
          "output_type": "stream",
          "name": "stdout",
          "text": [
            "           Channel  Coefficient  Lower Bound (3%)  Upper Bound (97%)  \\\n",
            "5  spend_channel_6        2.050             1.980              2.114   \n",
            "4  spend_channel_5        1.541             1.452              1.618   \n",
            "6  spend_channel_7        1.244             1.207              1.279   \n",
            "2  spend_channel_3        0.865             0.815              0.912   \n",
            "3  spend_channel_4       -0.274            -0.300             -0.246   \n",
            "1  spend_channel_2       -1.832            -2.050             -1.581   \n",
            "0  spend_channel_1       -4.977            -5.329             -4.656   \n",
            "\n",
            "              Impact  \n",
            "5      Very Positive  \n",
            "4      Very Positive  \n",
            "6      Very Positive  \n",
            "2           Positive  \n",
            "3  Slightly Negative  \n",
            "1      Very Negative  \n",
            "0      Very Negative  \n"
          ]
        }
      ]
    },
    {
      "cell_type": "code",
      "source": [
        "import pandas as pd\n",
        "\n",
        "channel_names = ['Channel 1', 'Channel 2', 'Channel 3', 'Channel 4',\n",
        "                'Channel 5', 'Channel 6', 'Channel 7']\n",
        "\n",
        "channel_df = pd.DataFrame({\n",
        "    'Channel': channel_names,\n",
        "    'Coefficient': summary.filter(like='betas', axis=0)['mean'].values,\n",
        "    'Lower Bound (3%)': summary.filter(like='betas', axis=0)['hdi_3%'].values,\n",
        "    'Upper Bound (97%)': summary.filter(like='betas', axis=0)['hdi_97%'].values\n",
        "})\n",
        "\n",
        "\n",
        "def get_effectiveness(coef):\n",
        "    if coef > 1:\n",
        "        return \"Very Positive\"\n",
        "    elif coef > 0.5:\n",
        "        return \"Positive\"\n",
        "    elif coef > 0:\n",
        "        return \"Slightly Positive\"\n",
        "    elif coef > -0.5:\n",
        "        return \"Slightly Negative\"\n",
        "    elif coef > -1:\n",
        "        return \"Negative\"\n",
        "    else:\n",
        "        return \"Very Negative\"\n",
        "\n",
        "# effectiveness function to 'Coefficient'\n",
        "channel_df['Impact'] = channel_df['Coefficient'].apply(get_effectiveness)\n",
        "\n",
        "sorted_channels = channel_df.sort_values('Coefficient', ascending=False)\n",
        "\n",
        "styled_table = sorted_channels.style.format({\n",
        "    'Coefficient': '{:.3f}',\n",
        "    'Lower Bound (3%)': '{:.3f}',\n",
        "    'Upper Bound (97%)': '{:.3f}'\n",
        "}).set_table_styles([\n",
        "    {'selector': 'th', 'props': [('background-color', '#4CAF50'),\n",
        "                                ('color', 'white'),\n",
        "                                ('font-weight', 'bold'),\n",
        "                                ('font-size', '14px')]},\n",
        "    {'selector': 'td', 'props': [('border', '1px solid black'),\n",
        "                                 ('padding', '8px'),\n",
        "                                 ('font-size', '12px'),\n",
        "                                 ('color', 'black')]},\n",
        "    {'selector': 'tr:nth-child(odd)', 'props': [('background-color', '#f2f2f2')]},\n",
        "    {'selector': 'tr:nth-child(even)', 'props': [('background-color', 'white')]},\n",
        "    {'selector': 'td:hover', 'props': [('background-color', '#e2e2e2')]},\n",
        "])\n",
        "\n",
        "styled_table.hide(axis=\"index\")\n",
        "styled_table\n"
      ],
      "metadata": {
        "colab": {
          "base_uri": "https://localhost:8080/",
          "height": 272
        },
        "id": "vaxRkDVDcRbI",
        "outputId": "a6eb88fa-6fc4-4b57-8947-8af6dedefcb6"
      },
      "execution_count": 106,
      "outputs": [
        {
          "output_type": "execute_result",
          "data": {
            "text/plain": [
              "<pandas.io.formats.style.Styler at 0x7ed671b9fd50>"
            ],
            "text/html": [
              "<style type=\"text/css\">\n",
              "#T_3c6ef th {\n",
              "  background-color: #4CAF50;\n",
              "  color: white;\n",
              "  font-weight: bold;\n",
              "  font-size: 14px;\n",
              "}\n",
              "#T_3c6ef td {\n",
              "  border: 1px solid black;\n",
              "  padding: 8px;\n",
              "  font-size: 12px;\n",
              "  color: black;\n",
              "}\n",
              "#T_3c6ef tr:nth-child(odd) {\n",
              "  background-color: #f2f2f2;\n",
              "}\n",
              "#T_3c6ef tr:nth-child(even) {\n",
              "  background-color: white;\n",
              "}\n",
              "#T_3c6ef td:hover {\n",
              "  background-color: #e2e2e2;\n",
              "}\n",
              "</style>\n",
              "<table id=\"T_3c6ef\" class=\"dataframe\">\n",
              "  <thead>\n",
              "    <tr>\n",
              "      <th id=\"T_3c6ef_level0_col0\" class=\"col_heading level0 col0\" >Channel</th>\n",
              "      <th id=\"T_3c6ef_level0_col1\" class=\"col_heading level0 col1\" >Coefficient</th>\n",
              "      <th id=\"T_3c6ef_level0_col2\" class=\"col_heading level0 col2\" >Lower Bound (3%)</th>\n",
              "      <th id=\"T_3c6ef_level0_col3\" class=\"col_heading level0 col3\" >Upper Bound (97%)</th>\n",
              "      <th id=\"T_3c6ef_level0_col4\" class=\"col_heading level0 col4\" >Impact</th>\n",
              "    </tr>\n",
              "  </thead>\n",
              "  <tbody>\n",
              "    <tr>\n",
              "      <td id=\"T_3c6ef_row0_col0\" class=\"data row0 col0\" >Channel 6</td>\n",
              "      <td id=\"T_3c6ef_row0_col1\" class=\"data row0 col1\" >2.050</td>\n",
              "      <td id=\"T_3c6ef_row0_col2\" class=\"data row0 col2\" >1.980</td>\n",
              "      <td id=\"T_3c6ef_row0_col3\" class=\"data row0 col3\" >2.114</td>\n",
              "      <td id=\"T_3c6ef_row0_col4\" class=\"data row0 col4\" >Very Positive</td>\n",
              "    </tr>\n",
              "    <tr>\n",
              "      <td id=\"T_3c6ef_row1_col0\" class=\"data row1 col0\" >Channel 5</td>\n",
              "      <td id=\"T_3c6ef_row1_col1\" class=\"data row1 col1\" >1.541</td>\n",
              "      <td id=\"T_3c6ef_row1_col2\" class=\"data row1 col2\" >1.452</td>\n",
              "      <td id=\"T_3c6ef_row1_col3\" class=\"data row1 col3\" >1.618</td>\n",
              "      <td id=\"T_3c6ef_row1_col4\" class=\"data row1 col4\" >Very Positive</td>\n",
              "    </tr>\n",
              "    <tr>\n",
              "      <td id=\"T_3c6ef_row2_col0\" class=\"data row2 col0\" >Channel 7</td>\n",
              "      <td id=\"T_3c6ef_row2_col1\" class=\"data row2 col1\" >1.244</td>\n",
              "      <td id=\"T_3c6ef_row2_col2\" class=\"data row2 col2\" >1.207</td>\n",
              "      <td id=\"T_3c6ef_row2_col3\" class=\"data row2 col3\" >1.279</td>\n",
              "      <td id=\"T_3c6ef_row2_col4\" class=\"data row2 col4\" >Very Positive</td>\n",
              "    </tr>\n",
              "    <tr>\n",
              "      <td id=\"T_3c6ef_row3_col0\" class=\"data row3 col0\" >Channel 3</td>\n",
              "      <td id=\"T_3c6ef_row3_col1\" class=\"data row3 col1\" >0.865</td>\n",
              "      <td id=\"T_3c6ef_row3_col2\" class=\"data row3 col2\" >0.815</td>\n",
              "      <td id=\"T_3c6ef_row3_col3\" class=\"data row3 col3\" >0.912</td>\n",
              "      <td id=\"T_3c6ef_row3_col4\" class=\"data row3 col4\" >Positive</td>\n",
              "    </tr>\n",
              "    <tr>\n",
              "      <td id=\"T_3c6ef_row4_col0\" class=\"data row4 col0\" >Channel 4</td>\n",
              "      <td id=\"T_3c6ef_row4_col1\" class=\"data row4 col1\" >-0.274</td>\n",
              "      <td id=\"T_3c6ef_row4_col2\" class=\"data row4 col2\" >-0.300</td>\n",
              "      <td id=\"T_3c6ef_row4_col3\" class=\"data row4 col3\" >-0.246</td>\n",
              "      <td id=\"T_3c6ef_row4_col4\" class=\"data row4 col4\" >Slightly Negative</td>\n",
              "    </tr>\n",
              "    <tr>\n",
              "      <td id=\"T_3c6ef_row5_col0\" class=\"data row5 col0\" >Channel 2</td>\n",
              "      <td id=\"T_3c6ef_row5_col1\" class=\"data row5 col1\" >-1.832</td>\n",
              "      <td id=\"T_3c6ef_row5_col2\" class=\"data row5 col2\" >-2.050</td>\n",
              "      <td id=\"T_3c6ef_row5_col3\" class=\"data row5 col3\" >-1.581</td>\n",
              "      <td id=\"T_3c6ef_row5_col4\" class=\"data row5 col4\" >Very Negative</td>\n",
              "    </tr>\n",
              "    <tr>\n",
              "      <td id=\"T_3c6ef_row6_col0\" class=\"data row6 col0\" >Channel 1</td>\n",
              "      <td id=\"T_3c6ef_row6_col1\" class=\"data row6 col1\" >-4.977</td>\n",
              "      <td id=\"T_3c6ef_row6_col2\" class=\"data row6 col2\" >-5.329</td>\n",
              "      <td id=\"T_3c6ef_row6_col3\" class=\"data row6 col3\" >-4.656</td>\n",
              "      <td id=\"T_3c6ef_row6_col4\" class=\"data row6 col4\" >Very Negative</td>\n",
              "    </tr>\n",
              "  </tbody>\n",
              "</table>\n"
            ]
          },
          "metadata": {},
          "execution_count": 106
        }
      ]
    },
    {
      "cell_type": "markdown",
      "source": [
        "### Checking model predictions against actual data"
      ],
      "metadata": {
        "id": "JTZTlJfxST7c"
      }
    },
    {
      "cell_type": "code",
      "source": [
        "with model:\n",
        "    posterior_pred = pm.sample_posterior_predictive(trace)\n",
        "\n",
        "# Get predicted values\n",
        "pred_mean = posterior_pred.posterior_predictive['revenue'].mean(dim=[\"chain\", \"draw\"]).values\n",
        "\n",
        "print(pred_mean[:10])  # first 10 values\n"
      ],
      "metadata": {
        "colab": {
          "base_uri": "https://localhost:8080/",
          "height": 87,
          "referenced_widgets": [
            "5360ce3f9b004ae59f3f0996fafabcc7",
            "7c5f9e66e86b4493a540ef0674f1d3d3"
          ]
        },
        "id": "33srYv4Aoy1U",
        "outputId": "0e0ba7c8-168b-40c9-d224-647a96297aa2"
      },
      "execution_count": 107,
      "outputs": [
        {
          "output_type": "display_data",
          "data": {
            "text/plain": [
              "Output()"
            ],
            "application/vnd.jupyter.widget-view+json": {
              "version_major": 2,
              "version_minor": 0,
              "model_id": "5360ce3f9b004ae59f3f0996fafabcc7"
            }
          },
          "metadata": {}
        },
        {
          "output_type": "display_data",
          "data": {
            "text/plain": [],
            "text/html": [
              "<pre style=\"white-space:pre;overflow-x:auto;line-height:normal;font-family:Menlo,'DejaVu Sans Mono',consolas,'Courier New',monospace\"></pre>\n"
            ]
          },
          "metadata": {}
        },
        {
          "output_type": "stream",
          "name": "stdout",
          "text": [
            "[141321.36758471 148646.11527389 150830.24374288 166737.68233409\n",
            " 173692.09193037 199279.91050556 238391.62188311 203593.68023045\n",
            " 157515.46363978 207410.33812473]\n"
          ]
        }
      ]
    },
    {
      "cell_type": "code",
      "source": [
        "import plotly.graph_objects as go\n",
        "\n",
        "fig = go.Figure()\n",
        "\n",
        "fig.add_trace(go.Scatter(\n",
        "    x=df['start_of_week'],\n",
        "    y=df['revenue'],\n",
        "    mode='markers',\n",
        "    name='Actual Revenue',\n",
        "    marker=dict(size=8, opacity=0.6, color='blue')\n",
        "))\n",
        "\n",
        "fig.update_layout(\n",
        "    title='Actual Revenue Over Time',\n",
        "    xaxis_title='Date',\n",
        "    yaxis_title='Revenue',\n",
        "    template='plotly_white',\n",
        "    width=900,\n",
        "    height=500\n",
        ")\n",
        "\n",
        "# Show the figure\n",
        "fig.show()\n"
      ],
      "metadata": {
        "colab": {
          "base_uri": "https://localhost:8080/",
          "height": 517
        },
        "id": "ksqMdospqZt7",
        "outputId": "7940ad6d-7b05-426c-9c5c-21e60961547c"
      },
      "execution_count": 108,
      "outputs": [
        {
          "output_type": "display_data",
          "data": {
            "text/html": [
              "<html>\n",
              "<head><meta charset=\"utf-8\" /></head>\n",
              "<body>\n",
              "    <div>            <script src=\"https://cdnjs.cloudflare.com/ajax/libs/mathjax/2.7.5/MathJax.js?config=TeX-AMS-MML_SVG\"></script><script type=\"text/javascript\">if (window.MathJax && window.MathJax.Hub && window.MathJax.Hub.Config) {window.MathJax.Hub.Config({SVG: {font: \"STIX-Web\"}});}</script>                <script type=\"text/javascript\">window.PlotlyConfig = {MathJaxConfig: 'local'};</script>\n",
              "        <script charset=\"utf-8\" src=\"https://cdn.plot.ly/plotly-2.35.2.min.js\"></script>                <div id=\"fb1c6fa6-6797-4a79-8ee1-30dacadc2902\" class=\"plotly-graph-div\" style=\"height:500px; width:900px;\"></div>            <script type=\"text/javascript\">                                    window.PLOTLYENV=window.PLOTLYENV || {};                                    if (document.getElementById(\"fb1c6fa6-6797-4a79-8ee1-30dacadc2902\")) {                    Plotly.newPlot(                        \"fb1c6fa6-6797-4a79-8ee1-30dacadc2902\",                        [{\"marker\":{\"color\":\"blue\",\"opacity\":0.6,\"size\":8},\"mode\":\"markers\",\"name\":\"Actual Revenue\",\"x\":[\"2020-08-30\",\"2020-09-06\",\"2020-09-13\",\"2020-09-20\",\"2020-09-27\",\"2020-10-04\",\"2020-10-11\",\"2020-10-18\",\"2020-10-25\",\"2020-11-01\",\"2020-11-08\",\"2020-11-15\",\"2020-11-22\",\"2020-11-29\",\"2020-12-06\",\"2020-12-13\",\"2020-12-20\",\"2020-12-27\",\"2021-01-03\",\"2021-01-10\",\"2021-01-17\",\"2021-01-24\",\"2021-01-31\",\"2021-02-07\",\"2021-02-14\",\"2021-02-21\",\"2021-02-28\",\"2021-03-07\",\"2021-03-14\",\"2021-03-21\",\"2021-03-28\",\"2021-04-04\",\"2021-04-11\",\"2021-04-18\",\"2021-04-25\",\"2021-05-02\",\"2021-05-09\",\"2021-05-16\",\"2021-05-23\",\"2021-05-30\",\"2021-06-06\",\"2021-06-13\",\"2021-06-20\",\"2021-06-27\",\"2021-07-04\",\"2021-07-11\",\"2021-07-18\",\"2021-07-25\",\"2021-08-01\",\"2021-08-08\",\"2021-08-15\",\"2021-08-22\",\"2021-08-29\",\"2021-09-05\",\"2021-09-12\",\"2021-09-19\",\"2021-09-26\",\"2021-10-03\",\"2021-10-10\",\"2021-10-17\",\"2021-10-24\",\"2021-10-31\",\"2021-11-07\",\"2021-11-14\",\"2021-11-21\",\"2021-11-28\",\"2021-12-05\",\"2021-12-12\",\"2021-12-19\",\"2021-12-26\",\"2022-01-02\",\"2022-01-09\",\"2022-01-16\",\"2022-01-23\",\"2022-01-30\",\"2022-02-06\",\"2022-02-13\",\"2022-02-20\",\"2022-02-27\",\"2022-03-06\",\"2022-03-13\",\"2022-03-20\",\"2022-03-27\",\"2022-04-03\",\"2022-04-10\",\"2022-04-17\",\"2022-04-24\",\"2022-05-01\",\"2022-05-08\",\"2022-05-15\",\"2022-05-22\",\"2022-05-29\",\"2022-06-05\",\"2022-06-12\",\"2022-06-19\",\"2022-06-26\",\"2022-07-03\",\"2022-07-10\",\"2022-07-17\",\"2022-07-24\",\"2022-07-31\",\"2022-08-07\",\"2022-08-14\",\"2022-08-21\"],\"y\":[157906.75,186425.68,161607.39,180089.13,217793.98,195581.04,146951.61,163640.65,193045.15,213117.17,202321.02,216421.33,157640.79,418186.38,150423.19,79905.57,82020.23,80242.82,115207.83,97216.86,96071.01,284010.24,226994.32,185245.11,136635.71,126429.93,132752.27,133781.06,111934.63,109520.23,131152.3,120806.08,224619.82,157978.67,148937.15,148009.13,146088.85,131558.92,119857.12,123651.16,125654.17,171770.03,154713.33,121627.46,143288.33,102170.12,72849.92,63207.09,99723.69,89140.57,90561.75,104448.8,95478.58,108053.5,96973.9,94023.65,153611.64,161339.43,124309.37,119760.17,104755.63,131150.99,115514.46,134166.65,123340.71,276991.38,164983.21,125366.99,118347.81,85812.46,140621.95,176976.89,155443.56,135049.55,141850.49,142541.8,106987.32,109084.8,88648.47,140894.86,170858.25,137694.7,138956.96,187398.65,164226.0,165685.82,137008.43,146791.96,103143.58,107242.37,93541.63,99762.92,100192.38,123826.11,109330.8,96935.55,99827.27,72222.52,73682.25,72021.5,90786.21,105929.4,90506.31,84394.5],\"type\":\"scatter\"}],                        {\"template\":{\"data\":{\"barpolar\":[{\"marker\":{\"line\":{\"color\":\"white\",\"width\":0.5},\"pattern\":{\"fillmode\":\"overlay\",\"size\":10,\"solidity\":0.2}},\"type\":\"barpolar\"}],\"bar\":[{\"error_x\":{\"color\":\"#2a3f5f\"},\"error_y\":{\"color\":\"#2a3f5f\"},\"marker\":{\"line\":{\"color\":\"white\",\"width\":0.5},\"pattern\":{\"fillmode\":\"overlay\",\"size\":10,\"solidity\":0.2}},\"type\":\"bar\"}],\"carpet\":[{\"aaxis\":{\"endlinecolor\":\"#2a3f5f\",\"gridcolor\":\"#C8D4E3\",\"linecolor\":\"#C8D4E3\",\"minorgridcolor\":\"#C8D4E3\",\"startlinecolor\":\"#2a3f5f\"},\"baxis\":{\"endlinecolor\":\"#2a3f5f\",\"gridcolor\":\"#C8D4E3\",\"linecolor\":\"#C8D4E3\",\"minorgridcolor\":\"#C8D4E3\",\"startlinecolor\":\"#2a3f5f\"},\"type\":\"carpet\"}],\"choropleth\":[{\"colorbar\":{\"outlinewidth\":0,\"ticks\":\"\"},\"type\":\"choropleth\"}],\"contourcarpet\":[{\"colorbar\":{\"outlinewidth\":0,\"ticks\":\"\"},\"type\":\"contourcarpet\"}],\"contour\":[{\"colorbar\":{\"outlinewidth\":0,\"ticks\":\"\"},\"colorscale\":[[0.0,\"#0d0887\"],[0.1111111111111111,\"#46039f\"],[0.2222222222222222,\"#7201a8\"],[0.3333333333333333,\"#9c179e\"],[0.4444444444444444,\"#bd3786\"],[0.5555555555555556,\"#d8576b\"],[0.6666666666666666,\"#ed7953\"],[0.7777777777777778,\"#fb9f3a\"],[0.8888888888888888,\"#fdca26\"],[1.0,\"#f0f921\"]],\"type\":\"contour\"}],\"heatmapgl\":[{\"colorbar\":{\"outlinewidth\":0,\"ticks\":\"\"},\"colorscale\":[[0.0,\"#0d0887\"],[0.1111111111111111,\"#46039f\"],[0.2222222222222222,\"#7201a8\"],[0.3333333333333333,\"#9c179e\"],[0.4444444444444444,\"#bd3786\"],[0.5555555555555556,\"#d8576b\"],[0.6666666666666666,\"#ed7953\"],[0.7777777777777778,\"#fb9f3a\"],[0.8888888888888888,\"#fdca26\"],[1.0,\"#f0f921\"]],\"type\":\"heatmapgl\"}],\"heatmap\":[{\"colorbar\":{\"outlinewidth\":0,\"ticks\":\"\"},\"colorscale\":[[0.0,\"#0d0887\"],[0.1111111111111111,\"#46039f\"],[0.2222222222222222,\"#7201a8\"],[0.3333333333333333,\"#9c179e\"],[0.4444444444444444,\"#bd3786\"],[0.5555555555555556,\"#d8576b\"],[0.6666666666666666,\"#ed7953\"],[0.7777777777777778,\"#fb9f3a\"],[0.8888888888888888,\"#fdca26\"],[1.0,\"#f0f921\"]],\"type\":\"heatmap\"}],\"histogram2dcontour\":[{\"colorbar\":{\"outlinewidth\":0,\"ticks\":\"\"},\"colorscale\":[[0.0,\"#0d0887\"],[0.1111111111111111,\"#46039f\"],[0.2222222222222222,\"#7201a8\"],[0.3333333333333333,\"#9c179e\"],[0.4444444444444444,\"#bd3786\"],[0.5555555555555556,\"#d8576b\"],[0.6666666666666666,\"#ed7953\"],[0.7777777777777778,\"#fb9f3a\"],[0.8888888888888888,\"#fdca26\"],[1.0,\"#f0f921\"]],\"type\":\"histogram2dcontour\"}],\"histogram2d\":[{\"colorbar\":{\"outlinewidth\":0,\"ticks\":\"\"},\"colorscale\":[[0.0,\"#0d0887\"],[0.1111111111111111,\"#46039f\"],[0.2222222222222222,\"#7201a8\"],[0.3333333333333333,\"#9c179e\"],[0.4444444444444444,\"#bd3786\"],[0.5555555555555556,\"#d8576b\"],[0.6666666666666666,\"#ed7953\"],[0.7777777777777778,\"#fb9f3a\"],[0.8888888888888888,\"#fdca26\"],[1.0,\"#f0f921\"]],\"type\":\"histogram2d\"}],\"histogram\":[{\"marker\":{\"pattern\":{\"fillmode\":\"overlay\",\"size\":10,\"solidity\":0.2}},\"type\":\"histogram\"}],\"mesh3d\":[{\"colorbar\":{\"outlinewidth\":0,\"ticks\":\"\"},\"type\":\"mesh3d\"}],\"parcoords\":[{\"line\":{\"colorbar\":{\"outlinewidth\":0,\"ticks\":\"\"}},\"type\":\"parcoords\"}],\"pie\":[{\"automargin\":true,\"type\":\"pie\"}],\"scatter3d\":[{\"line\":{\"colorbar\":{\"outlinewidth\":0,\"ticks\":\"\"}},\"marker\":{\"colorbar\":{\"outlinewidth\":0,\"ticks\":\"\"}},\"type\":\"scatter3d\"}],\"scattercarpet\":[{\"marker\":{\"colorbar\":{\"outlinewidth\":0,\"ticks\":\"\"}},\"type\":\"scattercarpet\"}],\"scattergeo\":[{\"marker\":{\"colorbar\":{\"outlinewidth\":0,\"ticks\":\"\"}},\"type\":\"scattergeo\"}],\"scattergl\":[{\"marker\":{\"colorbar\":{\"outlinewidth\":0,\"ticks\":\"\"}},\"type\":\"scattergl\"}],\"scattermapbox\":[{\"marker\":{\"colorbar\":{\"outlinewidth\":0,\"ticks\":\"\"}},\"type\":\"scattermapbox\"}],\"scatterpolargl\":[{\"marker\":{\"colorbar\":{\"outlinewidth\":0,\"ticks\":\"\"}},\"type\":\"scatterpolargl\"}],\"scatterpolar\":[{\"marker\":{\"colorbar\":{\"outlinewidth\":0,\"ticks\":\"\"}},\"type\":\"scatterpolar\"}],\"scatter\":[{\"fillpattern\":{\"fillmode\":\"overlay\",\"size\":10,\"solidity\":0.2},\"type\":\"scatter\"}],\"scatterternary\":[{\"marker\":{\"colorbar\":{\"outlinewidth\":0,\"ticks\":\"\"}},\"type\":\"scatterternary\"}],\"surface\":[{\"colorbar\":{\"outlinewidth\":0,\"ticks\":\"\"},\"colorscale\":[[0.0,\"#0d0887\"],[0.1111111111111111,\"#46039f\"],[0.2222222222222222,\"#7201a8\"],[0.3333333333333333,\"#9c179e\"],[0.4444444444444444,\"#bd3786\"],[0.5555555555555556,\"#d8576b\"],[0.6666666666666666,\"#ed7953\"],[0.7777777777777778,\"#fb9f3a\"],[0.8888888888888888,\"#fdca26\"],[1.0,\"#f0f921\"]],\"type\":\"surface\"}],\"table\":[{\"cells\":{\"fill\":{\"color\":\"#EBF0F8\"},\"line\":{\"color\":\"white\"}},\"header\":{\"fill\":{\"color\":\"#C8D4E3\"},\"line\":{\"color\":\"white\"}},\"type\":\"table\"}]},\"layout\":{\"annotationdefaults\":{\"arrowcolor\":\"#2a3f5f\",\"arrowhead\":0,\"arrowwidth\":1},\"autotypenumbers\":\"strict\",\"coloraxis\":{\"colorbar\":{\"outlinewidth\":0,\"ticks\":\"\"}},\"colorscale\":{\"diverging\":[[0,\"#8e0152\"],[0.1,\"#c51b7d\"],[0.2,\"#de77ae\"],[0.3,\"#f1b6da\"],[0.4,\"#fde0ef\"],[0.5,\"#f7f7f7\"],[0.6,\"#e6f5d0\"],[0.7,\"#b8e186\"],[0.8,\"#7fbc41\"],[0.9,\"#4d9221\"],[1,\"#276419\"]],\"sequential\":[[0.0,\"#0d0887\"],[0.1111111111111111,\"#46039f\"],[0.2222222222222222,\"#7201a8\"],[0.3333333333333333,\"#9c179e\"],[0.4444444444444444,\"#bd3786\"],[0.5555555555555556,\"#d8576b\"],[0.6666666666666666,\"#ed7953\"],[0.7777777777777778,\"#fb9f3a\"],[0.8888888888888888,\"#fdca26\"],[1.0,\"#f0f921\"]],\"sequentialminus\":[[0.0,\"#0d0887\"],[0.1111111111111111,\"#46039f\"],[0.2222222222222222,\"#7201a8\"],[0.3333333333333333,\"#9c179e\"],[0.4444444444444444,\"#bd3786\"],[0.5555555555555556,\"#d8576b\"],[0.6666666666666666,\"#ed7953\"],[0.7777777777777778,\"#fb9f3a\"],[0.8888888888888888,\"#fdca26\"],[1.0,\"#f0f921\"]]},\"colorway\":[\"#636efa\",\"#EF553B\",\"#00cc96\",\"#ab63fa\",\"#FFA15A\",\"#19d3f3\",\"#FF6692\",\"#B6E880\",\"#FF97FF\",\"#FECB52\"],\"font\":{\"color\":\"#2a3f5f\"},\"geo\":{\"bgcolor\":\"white\",\"lakecolor\":\"white\",\"landcolor\":\"white\",\"showlakes\":true,\"showland\":true,\"subunitcolor\":\"#C8D4E3\"},\"hoverlabel\":{\"align\":\"left\"},\"hovermode\":\"closest\",\"mapbox\":{\"style\":\"light\"},\"paper_bgcolor\":\"white\",\"plot_bgcolor\":\"white\",\"polar\":{\"angularaxis\":{\"gridcolor\":\"#EBF0F8\",\"linecolor\":\"#EBF0F8\",\"ticks\":\"\"},\"bgcolor\":\"white\",\"radialaxis\":{\"gridcolor\":\"#EBF0F8\",\"linecolor\":\"#EBF0F8\",\"ticks\":\"\"}},\"scene\":{\"xaxis\":{\"backgroundcolor\":\"white\",\"gridcolor\":\"#DFE8F3\",\"gridwidth\":2,\"linecolor\":\"#EBF0F8\",\"showbackground\":true,\"ticks\":\"\",\"zerolinecolor\":\"#EBF0F8\"},\"yaxis\":{\"backgroundcolor\":\"white\",\"gridcolor\":\"#DFE8F3\",\"gridwidth\":2,\"linecolor\":\"#EBF0F8\",\"showbackground\":true,\"ticks\":\"\",\"zerolinecolor\":\"#EBF0F8\"},\"zaxis\":{\"backgroundcolor\":\"white\",\"gridcolor\":\"#DFE8F3\",\"gridwidth\":2,\"linecolor\":\"#EBF0F8\",\"showbackground\":true,\"ticks\":\"\",\"zerolinecolor\":\"#EBF0F8\"}},\"shapedefaults\":{\"line\":{\"color\":\"#2a3f5f\"}},\"ternary\":{\"aaxis\":{\"gridcolor\":\"#DFE8F3\",\"linecolor\":\"#A2B1C6\",\"ticks\":\"\"},\"baxis\":{\"gridcolor\":\"#DFE8F3\",\"linecolor\":\"#A2B1C6\",\"ticks\":\"\"},\"bgcolor\":\"white\",\"caxis\":{\"gridcolor\":\"#DFE8F3\",\"linecolor\":\"#A2B1C6\",\"ticks\":\"\"}},\"title\":{\"x\":0.05},\"xaxis\":{\"automargin\":true,\"gridcolor\":\"#EBF0F8\",\"linecolor\":\"#EBF0F8\",\"ticks\":\"\",\"title\":{\"standoff\":15},\"zerolinecolor\":\"#EBF0F8\",\"zerolinewidth\":2},\"yaxis\":{\"automargin\":true,\"gridcolor\":\"#EBF0F8\",\"linecolor\":\"#EBF0F8\",\"ticks\":\"\",\"title\":{\"standoff\":15},\"zerolinecolor\":\"#EBF0F8\",\"zerolinewidth\":2}}},\"title\":{\"text\":\"Actual Revenue Over Time\"},\"xaxis\":{\"title\":{\"text\":\"Date\"}},\"yaxis\":{\"title\":{\"text\":\"Revenue\"}},\"width\":900,\"height\":500},                        {\"responsive\": true}                    ).then(function(){\n",
              "                            \n",
              "var gd = document.getElementById('fb1c6fa6-6797-4a79-8ee1-30dacadc2902');\n",
              "var x = new MutationObserver(function (mutations, observer) {{\n",
              "        var display = window.getComputedStyle(gd).display;\n",
              "        if (!display || display === 'none') {{\n",
              "            console.log([gd, 'removed!']);\n",
              "            Plotly.purge(gd);\n",
              "            observer.disconnect();\n",
              "        }}\n",
              "}});\n",
              "\n",
              "// Listen for the removal of the full notebook cells\n",
              "var notebookContainer = gd.closest('#notebook-container');\n",
              "if (notebookContainer) {{\n",
              "    x.observe(notebookContainer, {childList: true});\n",
              "}}\n",
              "\n",
              "// Listen for the clearing of the current output cell\n",
              "var outputEl = gd.closest('.output');\n",
              "if (outputEl) {{\n",
              "    x.observe(outputEl, {childList: true});\n",
              "}}\n",
              "\n",
              "                        })                };                            </script>        </div>\n",
              "</body>\n",
              "</html>"
            ]
          },
          "metadata": {}
        }
      ]
    },
    {
      "cell_type": "markdown",
      "source": [
        "### Predicted revenue to the existing plot"
      ],
      "metadata": {
        "id": "5Wkt5XM8Ss-c"
      }
    },
    {
      "cell_type": "code",
      "source": [
        "fig.add_trace(go.Scatter(\n",
        "    x=df['start_of_week'],\n",
        "    y=pred_mean,\n",
        "    mode='lines',\n",
        "    name='Predicted Revenue',\n",
        "    line=dict(width=2, color='red')\n",
        "))\n",
        "\n",
        "fig.update_layout(\n",
        "    title='Model Fit: Actual vs Predicted Revenue',\n",
        "    xaxis_title='Date',\n",
        "    yaxis_title='Revenue',\n",
        "    hovermode='x unified',\n",
        "    template='plotly_white',\n",
        "    width=900,\n",
        "    height=500\n",
        ")\n",
        "\n",
        "fig.show()\n"
      ],
      "metadata": {
        "colab": {
          "base_uri": "https://localhost:8080/",
          "height": 517
        },
        "id": "kXCJAnYvqjPK",
        "outputId": "2eb44531-3649-47d8-ee13-6db149a5be4d"
      },
      "execution_count": 109,
      "outputs": [
        {
          "output_type": "display_data",
          "data": {
            "text/html": [
              "<html>\n",
              "<head><meta charset=\"utf-8\" /></head>\n",
              "<body>\n",
              "    <div>            <script src=\"https://cdnjs.cloudflare.com/ajax/libs/mathjax/2.7.5/MathJax.js?config=TeX-AMS-MML_SVG\"></script><script type=\"text/javascript\">if (window.MathJax && window.MathJax.Hub && window.MathJax.Hub.Config) {window.MathJax.Hub.Config({SVG: {font: \"STIX-Web\"}});}</script>                <script type=\"text/javascript\">window.PlotlyConfig = {MathJaxConfig: 'local'};</script>\n",
              "        <script charset=\"utf-8\" src=\"https://cdn.plot.ly/plotly-2.35.2.min.js\"></script>                <div id=\"a33e1b46-4a4e-44d8-bc72-b4953261c377\" class=\"plotly-graph-div\" style=\"height:500px; width:900px;\"></div>            <script type=\"text/javascript\">                                    window.PLOTLYENV=window.PLOTLYENV || {};                                    if (document.getElementById(\"a33e1b46-4a4e-44d8-bc72-b4953261c377\")) {                    Plotly.newPlot(                        \"a33e1b46-4a4e-44d8-bc72-b4953261c377\",                        [{\"marker\":{\"color\":\"blue\",\"opacity\":0.6,\"size\":8},\"mode\":\"markers\",\"name\":\"Actual Revenue\",\"x\":[\"2020-08-30\",\"2020-09-06\",\"2020-09-13\",\"2020-09-20\",\"2020-09-27\",\"2020-10-04\",\"2020-10-11\",\"2020-10-18\",\"2020-10-25\",\"2020-11-01\",\"2020-11-08\",\"2020-11-15\",\"2020-11-22\",\"2020-11-29\",\"2020-12-06\",\"2020-12-13\",\"2020-12-20\",\"2020-12-27\",\"2021-01-03\",\"2021-01-10\",\"2021-01-17\",\"2021-01-24\",\"2021-01-31\",\"2021-02-07\",\"2021-02-14\",\"2021-02-21\",\"2021-02-28\",\"2021-03-07\",\"2021-03-14\",\"2021-03-21\",\"2021-03-28\",\"2021-04-04\",\"2021-04-11\",\"2021-04-18\",\"2021-04-25\",\"2021-05-02\",\"2021-05-09\",\"2021-05-16\",\"2021-05-23\",\"2021-05-30\",\"2021-06-06\",\"2021-06-13\",\"2021-06-20\",\"2021-06-27\",\"2021-07-04\",\"2021-07-11\",\"2021-07-18\",\"2021-07-25\",\"2021-08-01\",\"2021-08-08\",\"2021-08-15\",\"2021-08-22\",\"2021-08-29\",\"2021-09-05\",\"2021-09-12\",\"2021-09-19\",\"2021-09-26\",\"2021-10-03\",\"2021-10-10\",\"2021-10-17\",\"2021-10-24\",\"2021-10-31\",\"2021-11-07\",\"2021-11-14\",\"2021-11-21\",\"2021-11-28\",\"2021-12-05\",\"2021-12-12\",\"2021-12-19\",\"2021-12-26\",\"2022-01-02\",\"2022-01-09\",\"2022-01-16\",\"2022-01-23\",\"2022-01-30\",\"2022-02-06\",\"2022-02-13\",\"2022-02-20\",\"2022-02-27\",\"2022-03-06\",\"2022-03-13\",\"2022-03-20\",\"2022-03-27\",\"2022-04-03\",\"2022-04-10\",\"2022-04-17\",\"2022-04-24\",\"2022-05-01\",\"2022-05-08\",\"2022-05-15\",\"2022-05-22\",\"2022-05-29\",\"2022-06-05\",\"2022-06-12\",\"2022-06-19\",\"2022-06-26\",\"2022-07-03\",\"2022-07-10\",\"2022-07-17\",\"2022-07-24\",\"2022-07-31\",\"2022-08-07\",\"2022-08-14\",\"2022-08-21\"],\"y\":[157906.75,186425.68,161607.39,180089.13,217793.98,195581.04,146951.61,163640.65,193045.15,213117.17,202321.02,216421.33,157640.79,418186.38,150423.19,79905.57,82020.23,80242.82,115207.83,97216.86,96071.01,284010.24,226994.32,185245.11,136635.71,126429.93,132752.27,133781.06,111934.63,109520.23,131152.3,120806.08,224619.82,157978.67,148937.15,148009.13,146088.85,131558.92,119857.12,123651.16,125654.17,171770.03,154713.33,121627.46,143288.33,102170.12,72849.92,63207.09,99723.69,89140.57,90561.75,104448.8,95478.58,108053.5,96973.9,94023.65,153611.64,161339.43,124309.37,119760.17,104755.63,131150.99,115514.46,134166.65,123340.71,276991.38,164983.21,125366.99,118347.81,85812.46,140621.95,176976.89,155443.56,135049.55,141850.49,142541.8,106987.32,109084.8,88648.47,140894.86,170858.25,137694.7,138956.96,187398.65,164226.0,165685.82,137008.43,146791.96,103143.58,107242.37,93541.63,99762.92,100192.38,123826.11,109330.8,96935.55,99827.27,72222.52,73682.25,72021.5,90786.21,105929.4,90506.31,84394.5],\"type\":\"scatter\"},{\"line\":{\"color\":\"red\",\"width\":2},\"mode\":\"lines\",\"name\":\"Predicted Revenue\",\"x\":[\"2020-08-30\",\"2020-09-06\",\"2020-09-13\",\"2020-09-20\",\"2020-09-27\",\"2020-10-04\",\"2020-10-11\",\"2020-10-18\",\"2020-10-25\",\"2020-11-01\",\"2020-11-08\",\"2020-11-15\",\"2020-11-22\",\"2020-11-29\",\"2020-12-06\",\"2020-12-13\",\"2020-12-20\",\"2020-12-27\",\"2021-01-03\",\"2021-01-10\",\"2021-01-17\",\"2021-01-24\",\"2021-01-31\",\"2021-02-07\",\"2021-02-14\",\"2021-02-21\",\"2021-02-28\",\"2021-03-07\",\"2021-03-14\",\"2021-03-21\",\"2021-03-28\",\"2021-04-04\",\"2021-04-11\",\"2021-04-18\",\"2021-04-25\",\"2021-05-02\",\"2021-05-09\",\"2021-05-16\",\"2021-05-23\",\"2021-05-30\",\"2021-06-06\",\"2021-06-13\",\"2021-06-20\",\"2021-06-27\",\"2021-07-04\",\"2021-07-11\",\"2021-07-18\",\"2021-07-25\",\"2021-08-01\",\"2021-08-08\",\"2021-08-15\",\"2021-08-22\",\"2021-08-29\",\"2021-09-05\",\"2021-09-12\",\"2021-09-19\",\"2021-09-26\",\"2021-10-03\",\"2021-10-10\",\"2021-10-17\",\"2021-10-24\",\"2021-10-31\",\"2021-11-07\",\"2021-11-14\",\"2021-11-21\",\"2021-11-28\",\"2021-12-05\",\"2021-12-12\",\"2021-12-19\",\"2021-12-26\",\"2022-01-02\",\"2022-01-09\",\"2022-01-16\",\"2022-01-23\",\"2022-01-30\",\"2022-02-06\",\"2022-02-13\",\"2022-02-20\",\"2022-02-27\",\"2022-03-06\",\"2022-03-13\",\"2022-03-20\",\"2022-03-27\",\"2022-04-03\",\"2022-04-10\",\"2022-04-17\",\"2022-04-24\",\"2022-05-01\",\"2022-05-08\",\"2022-05-15\",\"2022-05-22\",\"2022-05-29\",\"2022-06-05\",\"2022-06-12\",\"2022-06-19\",\"2022-06-26\",\"2022-07-03\",\"2022-07-10\",\"2022-07-17\",\"2022-07-24\",\"2022-07-31\",\"2022-08-07\",\"2022-08-14\",\"2022-08-21\"],\"y\":[141321.3675847087,148646.11527389454,150830.2437428797,166737.68233409082,173692.09193037444,199279.91050556008,238391.62188310543,203593.68023044636,157515.4636397842,207410.3381247253,235301.84968649675,236348.06242133892,226544.8204816965,265690.6524979661,138938.70660206498,76781.66344077911,88840.90974623,89005.4132160045,154406.01131342506,142735.43408203335,159338.46798919898,180163.5720435393,180787.05705620328,131213.68970929954,139728.9107724935,143778.92115105857,143442.89834697597,136581.65889820937,133039.51473752336,115776.78347344122,123602.55585121737,153489.16789451728,219084.388739953,149826.45826577267,133023.21218111014,145303.55321524292,124154.64920747254,96280.54033838768,109004.55558943606,136704.2482124125,143929.43928586596,139160.4921131033,131156.90321696934,153363.91879485614,143487.9970070562,127736.19750374847,136454.19325113812,111028.35423924081,98258.21639231862,99916.36343731848,92248.54963555472,86424.2531498739,88941.26080963091,87659.2430629525,101519.97703926386,114200.20868561574,148983.75832602446,151870.2719592241,136045.40303062892,106738.36754436398,98253.25959534504,100735.32014792642,161781.8905106074,157348.41236262847,156653.58253420642,210301.76008719357,170963.79326990058,116838.10575055775,103939.9026726276,101846.03917009963,152035.43351648215,157797.47877406055,149446.84977446144,145445.29916033157,147367.0367542417,111479.42230199132,109555.38217033002,116709.95720958842,124910.25709421832,151616.10570779443,143443.50515144708,133506.32823731558,145232.3092474958,158626.95912097197,201618.0941872153,126832.18940417217,111669.87606918806,91254.82130809744,88417.0793475024,101969.8066566064,116908.42300621189,91948.26077555987,89866.92671474398,98123.68545900861,113926.82910863805,110820.97504132237,115566.23532522694,107161.46660749285,102561.98785360134,98105.79560335778,97520.69807681233,104815.16006498616,100789.9956298379,103496.82506910762],\"type\":\"scatter\"}],                        {\"template\":{\"data\":{\"barpolar\":[{\"marker\":{\"line\":{\"color\":\"white\",\"width\":0.5},\"pattern\":{\"fillmode\":\"overlay\",\"size\":10,\"solidity\":0.2}},\"type\":\"barpolar\"}],\"bar\":[{\"error_x\":{\"color\":\"#2a3f5f\"},\"error_y\":{\"color\":\"#2a3f5f\"},\"marker\":{\"line\":{\"color\":\"white\",\"width\":0.5},\"pattern\":{\"fillmode\":\"overlay\",\"size\":10,\"solidity\":0.2}},\"type\":\"bar\"}],\"carpet\":[{\"aaxis\":{\"endlinecolor\":\"#2a3f5f\",\"gridcolor\":\"#C8D4E3\",\"linecolor\":\"#C8D4E3\",\"minorgridcolor\":\"#C8D4E3\",\"startlinecolor\":\"#2a3f5f\"},\"baxis\":{\"endlinecolor\":\"#2a3f5f\",\"gridcolor\":\"#C8D4E3\",\"linecolor\":\"#C8D4E3\",\"minorgridcolor\":\"#C8D4E3\",\"startlinecolor\":\"#2a3f5f\"},\"type\":\"carpet\"}],\"choropleth\":[{\"colorbar\":{\"outlinewidth\":0,\"ticks\":\"\"},\"type\":\"choropleth\"}],\"contourcarpet\":[{\"colorbar\":{\"outlinewidth\":0,\"ticks\":\"\"},\"type\":\"contourcarpet\"}],\"contour\":[{\"colorbar\":{\"outlinewidth\":0,\"ticks\":\"\"},\"colorscale\":[[0.0,\"#0d0887\"],[0.1111111111111111,\"#46039f\"],[0.2222222222222222,\"#7201a8\"],[0.3333333333333333,\"#9c179e\"],[0.4444444444444444,\"#bd3786\"],[0.5555555555555556,\"#d8576b\"],[0.6666666666666666,\"#ed7953\"],[0.7777777777777778,\"#fb9f3a\"],[0.8888888888888888,\"#fdca26\"],[1.0,\"#f0f921\"]],\"type\":\"contour\"}],\"heatmapgl\":[{\"colorbar\":{\"outlinewidth\":0,\"ticks\":\"\"},\"colorscale\":[[0.0,\"#0d0887\"],[0.1111111111111111,\"#46039f\"],[0.2222222222222222,\"#7201a8\"],[0.3333333333333333,\"#9c179e\"],[0.4444444444444444,\"#bd3786\"],[0.5555555555555556,\"#d8576b\"],[0.6666666666666666,\"#ed7953\"],[0.7777777777777778,\"#fb9f3a\"],[0.8888888888888888,\"#fdca26\"],[1.0,\"#f0f921\"]],\"type\":\"heatmapgl\"}],\"heatmap\":[{\"colorbar\":{\"outlinewidth\":0,\"ticks\":\"\"},\"colorscale\":[[0.0,\"#0d0887\"],[0.1111111111111111,\"#46039f\"],[0.2222222222222222,\"#7201a8\"],[0.3333333333333333,\"#9c179e\"],[0.4444444444444444,\"#bd3786\"],[0.5555555555555556,\"#d8576b\"],[0.6666666666666666,\"#ed7953\"],[0.7777777777777778,\"#fb9f3a\"],[0.8888888888888888,\"#fdca26\"],[1.0,\"#f0f921\"]],\"type\":\"heatmap\"}],\"histogram2dcontour\":[{\"colorbar\":{\"outlinewidth\":0,\"ticks\":\"\"},\"colorscale\":[[0.0,\"#0d0887\"],[0.1111111111111111,\"#46039f\"],[0.2222222222222222,\"#7201a8\"],[0.3333333333333333,\"#9c179e\"],[0.4444444444444444,\"#bd3786\"],[0.5555555555555556,\"#d8576b\"],[0.6666666666666666,\"#ed7953\"],[0.7777777777777778,\"#fb9f3a\"],[0.8888888888888888,\"#fdca26\"],[1.0,\"#f0f921\"]],\"type\":\"histogram2dcontour\"}],\"histogram2d\":[{\"colorbar\":{\"outlinewidth\":0,\"ticks\":\"\"},\"colorscale\":[[0.0,\"#0d0887\"],[0.1111111111111111,\"#46039f\"],[0.2222222222222222,\"#7201a8\"],[0.3333333333333333,\"#9c179e\"],[0.4444444444444444,\"#bd3786\"],[0.5555555555555556,\"#d8576b\"],[0.6666666666666666,\"#ed7953\"],[0.7777777777777778,\"#fb9f3a\"],[0.8888888888888888,\"#fdca26\"],[1.0,\"#f0f921\"]],\"type\":\"histogram2d\"}],\"histogram\":[{\"marker\":{\"pattern\":{\"fillmode\":\"overlay\",\"size\":10,\"solidity\":0.2}},\"type\":\"histogram\"}],\"mesh3d\":[{\"colorbar\":{\"outlinewidth\":0,\"ticks\":\"\"},\"type\":\"mesh3d\"}],\"parcoords\":[{\"line\":{\"colorbar\":{\"outlinewidth\":0,\"ticks\":\"\"}},\"type\":\"parcoords\"}],\"pie\":[{\"automargin\":true,\"type\":\"pie\"}],\"scatter3d\":[{\"line\":{\"colorbar\":{\"outlinewidth\":0,\"ticks\":\"\"}},\"marker\":{\"colorbar\":{\"outlinewidth\":0,\"ticks\":\"\"}},\"type\":\"scatter3d\"}],\"scattercarpet\":[{\"marker\":{\"colorbar\":{\"outlinewidth\":0,\"ticks\":\"\"}},\"type\":\"scattercarpet\"}],\"scattergeo\":[{\"marker\":{\"colorbar\":{\"outlinewidth\":0,\"ticks\":\"\"}},\"type\":\"scattergeo\"}],\"scattergl\":[{\"marker\":{\"colorbar\":{\"outlinewidth\":0,\"ticks\":\"\"}},\"type\":\"scattergl\"}],\"scattermapbox\":[{\"marker\":{\"colorbar\":{\"outlinewidth\":0,\"ticks\":\"\"}},\"type\":\"scattermapbox\"}],\"scatterpolargl\":[{\"marker\":{\"colorbar\":{\"outlinewidth\":0,\"ticks\":\"\"}},\"type\":\"scatterpolargl\"}],\"scatterpolar\":[{\"marker\":{\"colorbar\":{\"outlinewidth\":0,\"ticks\":\"\"}},\"type\":\"scatterpolar\"}],\"scatter\":[{\"fillpattern\":{\"fillmode\":\"overlay\",\"size\":10,\"solidity\":0.2},\"type\":\"scatter\"}],\"scatterternary\":[{\"marker\":{\"colorbar\":{\"outlinewidth\":0,\"ticks\":\"\"}},\"type\":\"scatterternary\"}],\"surface\":[{\"colorbar\":{\"outlinewidth\":0,\"ticks\":\"\"},\"colorscale\":[[0.0,\"#0d0887\"],[0.1111111111111111,\"#46039f\"],[0.2222222222222222,\"#7201a8\"],[0.3333333333333333,\"#9c179e\"],[0.4444444444444444,\"#bd3786\"],[0.5555555555555556,\"#d8576b\"],[0.6666666666666666,\"#ed7953\"],[0.7777777777777778,\"#fb9f3a\"],[0.8888888888888888,\"#fdca26\"],[1.0,\"#f0f921\"]],\"type\":\"surface\"}],\"table\":[{\"cells\":{\"fill\":{\"color\":\"#EBF0F8\"},\"line\":{\"color\":\"white\"}},\"header\":{\"fill\":{\"color\":\"#C8D4E3\"},\"line\":{\"color\":\"white\"}},\"type\":\"table\"}]},\"layout\":{\"annotationdefaults\":{\"arrowcolor\":\"#2a3f5f\",\"arrowhead\":0,\"arrowwidth\":1},\"autotypenumbers\":\"strict\",\"coloraxis\":{\"colorbar\":{\"outlinewidth\":0,\"ticks\":\"\"}},\"colorscale\":{\"diverging\":[[0,\"#8e0152\"],[0.1,\"#c51b7d\"],[0.2,\"#de77ae\"],[0.3,\"#f1b6da\"],[0.4,\"#fde0ef\"],[0.5,\"#f7f7f7\"],[0.6,\"#e6f5d0\"],[0.7,\"#b8e186\"],[0.8,\"#7fbc41\"],[0.9,\"#4d9221\"],[1,\"#276419\"]],\"sequential\":[[0.0,\"#0d0887\"],[0.1111111111111111,\"#46039f\"],[0.2222222222222222,\"#7201a8\"],[0.3333333333333333,\"#9c179e\"],[0.4444444444444444,\"#bd3786\"],[0.5555555555555556,\"#d8576b\"],[0.6666666666666666,\"#ed7953\"],[0.7777777777777778,\"#fb9f3a\"],[0.8888888888888888,\"#fdca26\"],[1.0,\"#f0f921\"]],\"sequentialminus\":[[0.0,\"#0d0887\"],[0.1111111111111111,\"#46039f\"],[0.2222222222222222,\"#7201a8\"],[0.3333333333333333,\"#9c179e\"],[0.4444444444444444,\"#bd3786\"],[0.5555555555555556,\"#d8576b\"],[0.6666666666666666,\"#ed7953\"],[0.7777777777777778,\"#fb9f3a\"],[0.8888888888888888,\"#fdca26\"],[1.0,\"#f0f921\"]]},\"colorway\":[\"#636efa\",\"#EF553B\",\"#00cc96\",\"#ab63fa\",\"#FFA15A\",\"#19d3f3\",\"#FF6692\",\"#B6E880\",\"#FF97FF\",\"#FECB52\"],\"font\":{\"color\":\"#2a3f5f\"},\"geo\":{\"bgcolor\":\"white\",\"lakecolor\":\"white\",\"landcolor\":\"white\",\"showlakes\":true,\"showland\":true,\"subunitcolor\":\"#C8D4E3\"},\"hoverlabel\":{\"align\":\"left\"},\"hovermode\":\"closest\",\"mapbox\":{\"style\":\"light\"},\"paper_bgcolor\":\"white\",\"plot_bgcolor\":\"white\",\"polar\":{\"angularaxis\":{\"gridcolor\":\"#EBF0F8\",\"linecolor\":\"#EBF0F8\",\"ticks\":\"\"},\"bgcolor\":\"white\",\"radialaxis\":{\"gridcolor\":\"#EBF0F8\",\"linecolor\":\"#EBF0F8\",\"ticks\":\"\"}},\"scene\":{\"xaxis\":{\"backgroundcolor\":\"white\",\"gridcolor\":\"#DFE8F3\",\"gridwidth\":2,\"linecolor\":\"#EBF0F8\",\"showbackground\":true,\"ticks\":\"\",\"zerolinecolor\":\"#EBF0F8\"},\"yaxis\":{\"backgroundcolor\":\"white\",\"gridcolor\":\"#DFE8F3\",\"gridwidth\":2,\"linecolor\":\"#EBF0F8\",\"showbackground\":true,\"ticks\":\"\",\"zerolinecolor\":\"#EBF0F8\"},\"zaxis\":{\"backgroundcolor\":\"white\",\"gridcolor\":\"#DFE8F3\",\"gridwidth\":2,\"linecolor\":\"#EBF0F8\",\"showbackground\":true,\"ticks\":\"\",\"zerolinecolor\":\"#EBF0F8\"}},\"shapedefaults\":{\"line\":{\"color\":\"#2a3f5f\"}},\"ternary\":{\"aaxis\":{\"gridcolor\":\"#DFE8F3\",\"linecolor\":\"#A2B1C6\",\"ticks\":\"\"},\"baxis\":{\"gridcolor\":\"#DFE8F3\",\"linecolor\":\"#A2B1C6\",\"ticks\":\"\"},\"bgcolor\":\"white\",\"caxis\":{\"gridcolor\":\"#DFE8F3\",\"linecolor\":\"#A2B1C6\",\"ticks\":\"\"}},\"title\":{\"x\":0.05},\"xaxis\":{\"automargin\":true,\"gridcolor\":\"#EBF0F8\",\"linecolor\":\"#EBF0F8\",\"ticks\":\"\",\"title\":{\"standoff\":15},\"zerolinecolor\":\"#EBF0F8\",\"zerolinewidth\":2},\"yaxis\":{\"automargin\":true,\"gridcolor\":\"#EBF0F8\",\"linecolor\":\"#EBF0F8\",\"ticks\":\"\",\"title\":{\"standoff\":15},\"zerolinecolor\":\"#EBF0F8\",\"zerolinewidth\":2}}},\"title\":{\"text\":\"Model Fit: Actual vs Predicted Revenue\"},\"xaxis\":{\"title\":{\"text\":\"Date\"}},\"yaxis\":{\"title\":{\"text\":\"Revenue\"}},\"width\":900,\"height\":500,\"hovermode\":\"x unified\"},                        {\"responsive\": true}                    ).then(function(){\n",
              "                            \n",
              "var gd = document.getElementById('a33e1b46-4a4e-44d8-bc72-b4953261c377');\n",
              "var x = new MutationObserver(function (mutations, observer) {{\n",
              "        var display = window.getComputedStyle(gd).display;\n",
              "        if (!display || display === 'none') {{\n",
              "            console.log([gd, 'removed!']);\n",
              "            Plotly.purge(gd);\n",
              "            observer.disconnect();\n",
              "        }}\n",
              "}});\n",
              "\n",
              "// Listen for the removal of the full notebook cells\n",
              "var notebookContainer = gd.closest('#notebook-container');\n",
              "if (notebookContainer) {{\n",
              "    x.observe(notebookContainer, {childList: true});\n",
              "}}\n",
              "\n",
              "// Listen for the clearing of the current output cell\n",
              "var outputEl = gd.closest('.output');\n",
              "if (outputEl) {{\n",
              "    x.observe(outputEl, {childList: true});\n",
              "}}\n",
              "\n",
              "                        })                };                            </script>        </div>\n",
              "</body>\n",
              "</html>"
            ]
          },
          "metadata": {}
        }
      ]
    },
    {
      "cell_type": "markdown",
      "source": [
        "### Calculating R-squared to Evaluate Model Fit"
      ],
      "metadata": {
        "id": "9CMywlNWS2TG"
      }
    },
    {
      "cell_type": "code",
      "source": [
        "# Calculate R-squared\n",
        "ss_total = np.sum((df['revenue'] - np.mean(df['revenue']))**2)\n",
        "ss_residual = np.sum((df['revenue'] - pred_mean)**2)\n",
        "r_squared = 1 - (ss_residual / ss_total)\n",
        "\n",
        "# Update layout and add R-squared annotation\n",
        "fig.update_layout(\n",
        "    title=f'Model Fit: Actual vs Predicted Revenue (R² = {r_squared:.3f})',\n",
        "    xaxis_title='Date',\n",
        "    yaxis_title='Revenue',\n",
        "    hovermode='x unified',\n",
        "    template='plotly_white',\n",
        "    width=900,\n",
        "    height=500\n",
        ")\n",
        "\n",
        "# Show the final figure\n",
        "fig.show()\n"
      ],
      "metadata": {
        "colab": {
          "base_uri": "https://localhost:8080/",
          "height": 517
        },
        "id": "JxiuSss8qmgR",
        "outputId": "30bc4462-08dc-4eef-8a1b-dc5fba666bfb"
      },
      "execution_count": 110,
      "outputs": [
        {
          "output_type": "display_data",
          "data": {
            "text/html": [
              "<html>\n",
              "<head><meta charset=\"utf-8\" /></head>\n",
              "<body>\n",
              "    <div>            <script src=\"https://cdnjs.cloudflare.com/ajax/libs/mathjax/2.7.5/MathJax.js?config=TeX-AMS-MML_SVG\"></script><script type=\"text/javascript\">if (window.MathJax && window.MathJax.Hub && window.MathJax.Hub.Config) {window.MathJax.Hub.Config({SVG: {font: \"STIX-Web\"}});}</script>                <script type=\"text/javascript\">window.PlotlyConfig = {MathJaxConfig: 'local'};</script>\n",
              "        <script charset=\"utf-8\" src=\"https://cdn.plot.ly/plotly-2.35.2.min.js\"></script>                <div id=\"ce021752-0ada-4336-925d-710939b4bec1\" class=\"plotly-graph-div\" style=\"height:500px; width:900px;\"></div>            <script type=\"text/javascript\">                                    window.PLOTLYENV=window.PLOTLYENV || {};                                    if (document.getElementById(\"ce021752-0ada-4336-925d-710939b4bec1\")) {                    Plotly.newPlot(                        \"ce021752-0ada-4336-925d-710939b4bec1\",                        [{\"marker\":{\"color\":\"blue\",\"opacity\":0.6,\"size\":8},\"mode\":\"markers\",\"name\":\"Actual Revenue\",\"x\":[\"2020-08-30\",\"2020-09-06\",\"2020-09-13\",\"2020-09-20\",\"2020-09-27\",\"2020-10-04\",\"2020-10-11\",\"2020-10-18\",\"2020-10-25\",\"2020-11-01\",\"2020-11-08\",\"2020-11-15\",\"2020-11-22\",\"2020-11-29\",\"2020-12-06\",\"2020-12-13\",\"2020-12-20\",\"2020-12-27\",\"2021-01-03\",\"2021-01-10\",\"2021-01-17\",\"2021-01-24\",\"2021-01-31\",\"2021-02-07\",\"2021-02-14\",\"2021-02-21\",\"2021-02-28\",\"2021-03-07\",\"2021-03-14\",\"2021-03-21\",\"2021-03-28\",\"2021-04-04\",\"2021-04-11\",\"2021-04-18\",\"2021-04-25\",\"2021-05-02\",\"2021-05-09\",\"2021-05-16\",\"2021-05-23\",\"2021-05-30\",\"2021-06-06\",\"2021-06-13\",\"2021-06-20\",\"2021-06-27\",\"2021-07-04\",\"2021-07-11\",\"2021-07-18\",\"2021-07-25\",\"2021-08-01\",\"2021-08-08\",\"2021-08-15\",\"2021-08-22\",\"2021-08-29\",\"2021-09-05\",\"2021-09-12\",\"2021-09-19\",\"2021-09-26\",\"2021-10-03\",\"2021-10-10\",\"2021-10-17\",\"2021-10-24\",\"2021-10-31\",\"2021-11-07\",\"2021-11-14\",\"2021-11-21\",\"2021-11-28\",\"2021-12-05\",\"2021-12-12\",\"2021-12-19\",\"2021-12-26\",\"2022-01-02\",\"2022-01-09\",\"2022-01-16\",\"2022-01-23\",\"2022-01-30\",\"2022-02-06\",\"2022-02-13\",\"2022-02-20\",\"2022-02-27\",\"2022-03-06\",\"2022-03-13\",\"2022-03-20\",\"2022-03-27\",\"2022-04-03\",\"2022-04-10\",\"2022-04-17\",\"2022-04-24\",\"2022-05-01\",\"2022-05-08\",\"2022-05-15\",\"2022-05-22\",\"2022-05-29\",\"2022-06-05\",\"2022-06-12\",\"2022-06-19\",\"2022-06-26\",\"2022-07-03\",\"2022-07-10\",\"2022-07-17\",\"2022-07-24\",\"2022-07-31\",\"2022-08-07\",\"2022-08-14\",\"2022-08-21\"],\"y\":[157906.75,186425.68,161607.39,180089.13,217793.98,195581.04,146951.61,163640.65,193045.15,213117.17,202321.02,216421.33,157640.79,418186.38,150423.19,79905.57,82020.23,80242.82,115207.83,97216.86,96071.01,284010.24,226994.32,185245.11,136635.71,126429.93,132752.27,133781.06,111934.63,109520.23,131152.3,120806.08,224619.82,157978.67,148937.15,148009.13,146088.85,131558.92,119857.12,123651.16,125654.17,171770.03,154713.33,121627.46,143288.33,102170.12,72849.92,63207.09,99723.69,89140.57,90561.75,104448.8,95478.58,108053.5,96973.9,94023.65,153611.64,161339.43,124309.37,119760.17,104755.63,131150.99,115514.46,134166.65,123340.71,276991.38,164983.21,125366.99,118347.81,85812.46,140621.95,176976.89,155443.56,135049.55,141850.49,142541.8,106987.32,109084.8,88648.47,140894.86,170858.25,137694.7,138956.96,187398.65,164226.0,165685.82,137008.43,146791.96,103143.58,107242.37,93541.63,99762.92,100192.38,123826.11,109330.8,96935.55,99827.27,72222.52,73682.25,72021.5,90786.21,105929.4,90506.31,84394.5],\"type\":\"scatter\"},{\"line\":{\"color\":\"red\",\"width\":2},\"mode\":\"lines\",\"name\":\"Predicted Revenue\",\"x\":[\"2020-08-30\",\"2020-09-06\",\"2020-09-13\",\"2020-09-20\",\"2020-09-27\",\"2020-10-04\",\"2020-10-11\",\"2020-10-18\",\"2020-10-25\",\"2020-11-01\",\"2020-11-08\",\"2020-11-15\",\"2020-11-22\",\"2020-11-29\",\"2020-12-06\",\"2020-12-13\",\"2020-12-20\",\"2020-12-27\",\"2021-01-03\",\"2021-01-10\",\"2021-01-17\",\"2021-01-24\",\"2021-01-31\",\"2021-02-07\",\"2021-02-14\",\"2021-02-21\",\"2021-02-28\",\"2021-03-07\",\"2021-03-14\",\"2021-03-21\",\"2021-03-28\",\"2021-04-04\",\"2021-04-11\",\"2021-04-18\",\"2021-04-25\",\"2021-05-02\",\"2021-05-09\",\"2021-05-16\",\"2021-05-23\",\"2021-05-30\",\"2021-06-06\",\"2021-06-13\",\"2021-06-20\",\"2021-06-27\",\"2021-07-04\",\"2021-07-11\",\"2021-07-18\",\"2021-07-25\",\"2021-08-01\",\"2021-08-08\",\"2021-08-15\",\"2021-08-22\",\"2021-08-29\",\"2021-09-05\",\"2021-09-12\",\"2021-09-19\",\"2021-09-26\",\"2021-10-03\",\"2021-10-10\",\"2021-10-17\",\"2021-10-24\",\"2021-10-31\",\"2021-11-07\",\"2021-11-14\",\"2021-11-21\",\"2021-11-28\",\"2021-12-05\",\"2021-12-12\",\"2021-12-19\",\"2021-12-26\",\"2022-01-02\",\"2022-01-09\",\"2022-01-16\",\"2022-01-23\",\"2022-01-30\",\"2022-02-06\",\"2022-02-13\",\"2022-02-20\",\"2022-02-27\",\"2022-03-06\",\"2022-03-13\",\"2022-03-20\",\"2022-03-27\",\"2022-04-03\",\"2022-04-10\",\"2022-04-17\",\"2022-04-24\",\"2022-05-01\",\"2022-05-08\",\"2022-05-15\",\"2022-05-22\",\"2022-05-29\",\"2022-06-05\",\"2022-06-12\",\"2022-06-19\",\"2022-06-26\",\"2022-07-03\",\"2022-07-10\",\"2022-07-17\",\"2022-07-24\",\"2022-07-31\",\"2022-08-07\",\"2022-08-14\",\"2022-08-21\"],\"y\":[141321.3675847087,148646.11527389454,150830.2437428797,166737.68233409082,173692.09193037444,199279.91050556008,238391.62188310543,203593.68023044636,157515.4636397842,207410.3381247253,235301.84968649675,236348.06242133892,226544.8204816965,265690.6524979661,138938.70660206498,76781.66344077911,88840.90974623,89005.4132160045,154406.01131342506,142735.43408203335,159338.46798919898,180163.5720435393,180787.05705620328,131213.68970929954,139728.9107724935,143778.92115105857,143442.89834697597,136581.65889820937,133039.51473752336,115776.78347344122,123602.55585121737,153489.16789451728,219084.388739953,149826.45826577267,133023.21218111014,145303.55321524292,124154.64920747254,96280.54033838768,109004.55558943606,136704.2482124125,143929.43928586596,139160.4921131033,131156.90321696934,153363.91879485614,143487.9970070562,127736.19750374847,136454.19325113812,111028.35423924081,98258.21639231862,99916.36343731848,92248.54963555472,86424.2531498739,88941.26080963091,87659.2430629525,101519.97703926386,114200.20868561574,148983.75832602446,151870.2719592241,136045.40303062892,106738.36754436398,98253.25959534504,100735.32014792642,161781.8905106074,157348.41236262847,156653.58253420642,210301.76008719357,170963.79326990058,116838.10575055775,103939.9026726276,101846.03917009963,152035.43351648215,157797.47877406055,149446.84977446144,145445.29916033157,147367.0367542417,111479.42230199132,109555.38217033002,116709.95720958842,124910.25709421832,151616.10570779443,143443.50515144708,133506.32823731558,145232.3092474958,158626.95912097197,201618.0941872153,126832.18940417217,111669.87606918806,91254.82130809744,88417.0793475024,101969.8066566064,116908.42300621189,91948.26077555987,89866.92671474398,98123.68545900861,113926.82910863805,110820.97504132237,115566.23532522694,107161.46660749285,102561.98785360134,98105.79560335778,97520.69807681233,104815.16006498616,100789.9956298379,103496.82506910762],\"type\":\"scatter\"}],                        {\"template\":{\"data\":{\"barpolar\":[{\"marker\":{\"line\":{\"color\":\"white\",\"width\":0.5},\"pattern\":{\"fillmode\":\"overlay\",\"size\":10,\"solidity\":0.2}},\"type\":\"barpolar\"}],\"bar\":[{\"error_x\":{\"color\":\"#2a3f5f\"},\"error_y\":{\"color\":\"#2a3f5f\"},\"marker\":{\"line\":{\"color\":\"white\",\"width\":0.5},\"pattern\":{\"fillmode\":\"overlay\",\"size\":10,\"solidity\":0.2}},\"type\":\"bar\"}],\"carpet\":[{\"aaxis\":{\"endlinecolor\":\"#2a3f5f\",\"gridcolor\":\"#C8D4E3\",\"linecolor\":\"#C8D4E3\",\"minorgridcolor\":\"#C8D4E3\",\"startlinecolor\":\"#2a3f5f\"},\"baxis\":{\"endlinecolor\":\"#2a3f5f\",\"gridcolor\":\"#C8D4E3\",\"linecolor\":\"#C8D4E3\",\"minorgridcolor\":\"#C8D4E3\",\"startlinecolor\":\"#2a3f5f\"},\"type\":\"carpet\"}],\"choropleth\":[{\"colorbar\":{\"outlinewidth\":0,\"ticks\":\"\"},\"type\":\"choropleth\"}],\"contourcarpet\":[{\"colorbar\":{\"outlinewidth\":0,\"ticks\":\"\"},\"type\":\"contourcarpet\"}],\"contour\":[{\"colorbar\":{\"outlinewidth\":0,\"ticks\":\"\"},\"colorscale\":[[0.0,\"#0d0887\"],[0.1111111111111111,\"#46039f\"],[0.2222222222222222,\"#7201a8\"],[0.3333333333333333,\"#9c179e\"],[0.4444444444444444,\"#bd3786\"],[0.5555555555555556,\"#d8576b\"],[0.6666666666666666,\"#ed7953\"],[0.7777777777777778,\"#fb9f3a\"],[0.8888888888888888,\"#fdca26\"],[1.0,\"#f0f921\"]],\"type\":\"contour\"}],\"heatmapgl\":[{\"colorbar\":{\"outlinewidth\":0,\"ticks\":\"\"},\"colorscale\":[[0.0,\"#0d0887\"],[0.1111111111111111,\"#46039f\"],[0.2222222222222222,\"#7201a8\"],[0.3333333333333333,\"#9c179e\"],[0.4444444444444444,\"#bd3786\"],[0.5555555555555556,\"#d8576b\"],[0.6666666666666666,\"#ed7953\"],[0.7777777777777778,\"#fb9f3a\"],[0.8888888888888888,\"#fdca26\"],[1.0,\"#f0f921\"]],\"type\":\"heatmapgl\"}],\"heatmap\":[{\"colorbar\":{\"outlinewidth\":0,\"ticks\":\"\"},\"colorscale\":[[0.0,\"#0d0887\"],[0.1111111111111111,\"#46039f\"],[0.2222222222222222,\"#7201a8\"],[0.3333333333333333,\"#9c179e\"],[0.4444444444444444,\"#bd3786\"],[0.5555555555555556,\"#d8576b\"],[0.6666666666666666,\"#ed7953\"],[0.7777777777777778,\"#fb9f3a\"],[0.8888888888888888,\"#fdca26\"],[1.0,\"#f0f921\"]],\"type\":\"heatmap\"}],\"histogram2dcontour\":[{\"colorbar\":{\"outlinewidth\":0,\"ticks\":\"\"},\"colorscale\":[[0.0,\"#0d0887\"],[0.1111111111111111,\"#46039f\"],[0.2222222222222222,\"#7201a8\"],[0.3333333333333333,\"#9c179e\"],[0.4444444444444444,\"#bd3786\"],[0.5555555555555556,\"#d8576b\"],[0.6666666666666666,\"#ed7953\"],[0.7777777777777778,\"#fb9f3a\"],[0.8888888888888888,\"#fdca26\"],[1.0,\"#f0f921\"]],\"type\":\"histogram2dcontour\"}],\"histogram2d\":[{\"colorbar\":{\"outlinewidth\":0,\"ticks\":\"\"},\"colorscale\":[[0.0,\"#0d0887\"],[0.1111111111111111,\"#46039f\"],[0.2222222222222222,\"#7201a8\"],[0.3333333333333333,\"#9c179e\"],[0.4444444444444444,\"#bd3786\"],[0.5555555555555556,\"#d8576b\"],[0.6666666666666666,\"#ed7953\"],[0.7777777777777778,\"#fb9f3a\"],[0.8888888888888888,\"#fdca26\"],[1.0,\"#f0f921\"]],\"type\":\"histogram2d\"}],\"histogram\":[{\"marker\":{\"pattern\":{\"fillmode\":\"overlay\",\"size\":10,\"solidity\":0.2}},\"type\":\"histogram\"}],\"mesh3d\":[{\"colorbar\":{\"outlinewidth\":0,\"ticks\":\"\"},\"type\":\"mesh3d\"}],\"parcoords\":[{\"line\":{\"colorbar\":{\"outlinewidth\":0,\"ticks\":\"\"}},\"type\":\"parcoords\"}],\"pie\":[{\"automargin\":true,\"type\":\"pie\"}],\"scatter3d\":[{\"line\":{\"colorbar\":{\"outlinewidth\":0,\"ticks\":\"\"}},\"marker\":{\"colorbar\":{\"outlinewidth\":0,\"ticks\":\"\"}},\"type\":\"scatter3d\"}],\"scattercarpet\":[{\"marker\":{\"colorbar\":{\"outlinewidth\":0,\"ticks\":\"\"}},\"type\":\"scattercarpet\"}],\"scattergeo\":[{\"marker\":{\"colorbar\":{\"outlinewidth\":0,\"ticks\":\"\"}},\"type\":\"scattergeo\"}],\"scattergl\":[{\"marker\":{\"colorbar\":{\"outlinewidth\":0,\"ticks\":\"\"}},\"type\":\"scattergl\"}],\"scattermapbox\":[{\"marker\":{\"colorbar\":{\"outlinewidth\":0,\"ticks\":\"\"}},\"type\":\"scattermapbox\"}],\"scatterpolargl\":[{\"marker\":{\"colorbar\":{\"outlinewidth\":0,\"ticks\":\"\"}},\"type\":\"scatterpolargl\"}],\"scatterpolar\":[{\"marker\":{\"colorbar\":{\"outlinewidth\":0,\"ticks\":\"\"}},\"type\":\"scatterpolar\"}],\"scatter\":[{\"fillpattern\":{\"fillmode\":\"overlay\",\"size\":10,\"solidity\":0.2},\"type\":\"scatter\"}],\"scatterternary\":[{\"marker\":{\"colorbar\":{\"outlinewidth\":0,\"ticks\":\"\"}},\"type\":\"scatterternary\"}],\"surface\":[{\"colorbar\":{\"outlinewidth\":0,\"ticks\":\"\"},\"colorscale\":[[0.0,\"#0d0887\"],[0.1111111111111111,\"#46039f\"],[0.2222222222222222,\"#7201a8\"],[0.3333333333333333,\"#9c179e\"],[0.4444444444444444,\"#bd3786\"],[0.5555555555555556,\"#d8576b\"],[0.6666666666666666,\"#ed7953\"],[0.7777777777777778,\"#fb9f3a\"],[0.8888888888888888,\"#fdca26\"],[1.0,\"#f0f921\"]],\"type\":\"surface\"}],\"table\":[{\"cells\":{\"fill\":{\"color\":\"#EBF0F8\"},\"line\":{\"color\":\"white\"}},\"header\":{\"fill\":{\"color\":\"#C8D4E3\"},\"line\":{\"color\":\"white\"}},\"type\":\"table\"}]},\"layout\":{\"annotationdefaults\":{\"arrowcolor\":\"#2a3f5f\",\"arrowhead\":0,\"arrowwidth\":1},\"autotypenumbers\":\"strict\",\"coloraxis\":{\"colorbar\":{\"outlinewidth\":0,\"ticks\":\"\"}},\"colorscale\":{\"diverging\":[[0,\"#8e0152\"],[0.1,\"#c51b7d\"],[0.2,\"#de77ae\"],[0.3,\"#f1b6da\"],[0.4,\"#fde0ef\"],[0.5,\"#f7f7f7\"],[0.6,\"#e6f5d0\"],[0.7,\"#b8e186\"],[0.8,\"#7fbc41\"],[0.9,\"#4d9221\"],[1,\"#276419\"]],\"sequential\":[[0.0,\"#0d0887\"],[0.1111111111111111,\"#46039f\"],[0.2222222222222222,\"#7201a8\"],[0.3333333333333333,\"#9c179e\"],[0.4444444444444444,\"#bd3786\"],[0.5555555555555556,\"#d8576b\"],[0.6666666666666666,\"#ed7953\"],[0.7777777777777778,\"#fb9f3a\"],[0.8888888888888888,\"#fdca26\"],[1.0,\"#f0f921\"]],\"sequentialminus\":[[0.0,\"#0d0887\"],[0.1111111111111111,\"#46039f\"],[0.2222222222222222,\"#7201a8\"],[0.3333333333333333,\"#9c179e\"],[0.4444444444444444,\"#bd3786\"],[0.5555555555555556,\"#d8576b\"],[0.6666666666666666,\"#ed7953\"],[0.7777777777777778,\"#fb9f3a\"],[0.8888888888888888,\"#fdca26\"],[1.0,\"#f0f921\"]]},\"colorway\":[\"#636efa\",\"#EF553B\",\"#00cc96\",\"#ab63fa\",\"#FFA15A\",\"#19d3f3\",\"#FF6692\",\"#B6E880\",\"#FF97FF\",\"#FECB52\"],\"font\":{\"color\":\"#2a3f5f\"},\"geo\":{\"bgcolor\":\"white\",\"lakecolor\":\"white\",\"landcolor\":\"white\",\"showlakes\":true,\"showland\":true,\"subunitcolor\":\"#C8D4E3\"},\"hoverlabel\":{\"align\":\"left\"},\"hovermode\":\"closest\",\"mapbox\":{\"style\":\"light\"},\"paper_bgcolor\":\"white\",\"plot_bgcolor\":\"white\",\"polar\":{\"angularaxis\":{\"gridcolor\":\"#EBF0F8\",\"linecolor\":\"#EBF0F8\",\"ticks\":\"\"},\"bgcolor\":\"white\",\"radialaxis\":{\"gridcolor\":\"#EBF0F8\",\"linecolor\":\"#EBF0F8\",\"ticks\":\"\"}},\"scene\":{\"xaxis\":{\"backgroundcolor\":\"white\",\"gridcolor\":\"#DFE8F3\",\"gridwidth\":2,\"linecolor\":\"#EBF0F8\",\"showbackground\":true,\"ticks\":\"\",\"zerolinecolor\":\"#EBF0F8\"},\"yaxis\":{\"backgroundcolor\":\"white\",\"gridcolor\":\"#DFE8F3\",\"gridwidth\":2,\"linecolor\":\"#EBF0F8\",\"showbackground\":true,\"ticks\":\"\",\"zerolinecolor\":\"#EBF0F8\"},\"zaxis\":{\"backgroundcolor\":\"white\",\"gridcolor\":\"#DFE8F3\",\"gridwidth\":2,\"linecolor\":\"#EBF0F8\",\"showbackground\":true,\"ticks\":\"\",\"zerolinecolor\":\"#EBF0F8\"}},\"shapedefaults\":{\"line\":{\"color\":\"#2a3f5f\"}},\"ternary\":{\"aaxis\":{\"gridcolor\":\"#DFE8F3\",\"linecolor\":\"#A2B1C6\",\"ticks\":\"\"},\"baxis\":{\"gridcolor\":\"#DFE8F3\",\"linecolor\":\"#A2B1C6\",\"ticks\":\"\"},\"bgcolor\":\"white\",\"caxis\":{\"gridcolor\":\"#DFE8F3\",\"linecolor\":\"#A2B1C6\",\"ticks\":\"\"}},\"title\":{\"x\":0.05},\"xaxis\":{\"automargin\":true,\"gridcolor\":\"#EBF0F8\",\"linecolor\":\"#EBF0F8\",\"ticks\":\"\",\"title\":{\"standoff\":15},\"zerolinecolor\":\"#EBF0F8\",\"zerolinewidth\":2},\"yaxis\":{\"automargin\":true,\"gridcolor\":\"#EBF0F8\",\"linecolor\":\"#EBF0F8\",\"ticks\":\"\",\"title\":{\"standoff\":15},\"zerolinecolor\":\"#EBF0F8\",\"zerolinewidth\":2}}},\"title\":{\"text\":\"Model Fit: Actual vs Predicted Revenue (R² = 0.582)\"},\"xaxis\":{\"title\":{\"text\":\"Date\"}},\"yaxis\":{\"title\":{\"text\":\"Revenue\"}},\"width\":900,\"height\":500,\"hovermode\":\"x unified\"},                        {\"responsive\": true}                    ).then(function(){\n",
              "                            \n",
              "var gd = document.getElementById('ce021752-0ada-4336-925d-710939b4bec1');\n",
              "var x = new MutationObserver(function (mutations, observer) {{\n",
              "        var display = window.getComputedStyle(gd).display;\n",
              "        if (!display || display === 'none') {{\n",
              "            console.log([gd, 'removed!']);\n",
              "            Plotly.purge(gd);\n",
              "            observer.disconnect();\n",
              "        }}\n",
              "}});\n",
              "\n",
              "// Listen for the removal of the full notebook cells\n",
              "var notebookContainer = gd.closest('#notebook-container');\n",
              "if (notebookContainer) {{\n",
              "    x.observe(notebookContainer, {childList: true});\n",
              "}}\n",
              "\n",
              "// Listen for the clearing of the current output cell\n",
              "var outputEl = gd.closest('.output');\n",
              "if (outputEl) {{\n",
              "    x.observe(outputEl, {childList: true});\n",
              "}}\n",
              "\n",
              "                        })                };                            </script>        </div>\n",
              "</body>\n",
              "</html>"
            ]
          },
          "metadata": {}
        }
      ]
    },
    {
      "cell_type": "markdown",
      "source": [],
      "metadata": {
        "id": "bhyR95dPFPre"
      }
    },
    {
      "cell_type": "markdown",
      "source": [
        "### Calculating ROI for Each Channel"
      ],
      "metadata": {
        "id": "AlTX9srHFmcv"
      }
    },
    {
      "cell_type": "code",
      "source": [
        "# Calculate ROI for each channel\n",
        "channel_names = ['Channel 1', 'Channel 2', 'Channel 3',\n",
        "                'Channel 4', 'Channel 5', 'Channel 6', 'Channel 7']\n",
        "original_channels = ['spend_channel_1', 'spend_channel_2', 'spend_channel_3',\n",
        "                    'spend_channel_4', 'spend_channel_5', 'spend_channel_6', 'spend_channel_7']\n",
        "adstocked_channels = [ch + '_adstocked' for ch in original_channels]\n",
        "\n",
        "# Get coefficients\n",
        "coefficients = trace.posterior['betas'].mean(dim=('chain', 'draw')).values\n",
        "\n",
        "# Calculate total spend and contribution for each channel\n",
        "total_spend = []\n",
        "total_contribution = []\n",
        "\n",
        "for i, channel in enumerate(original_channels):\n",
        "    # Total spend\n",
        "    spend = df[channel].sum()\n",
        "    total_spend.append(spend)\n",
        "\n",
        "    # Total contribution to revenue (coefficient * adstocked_spend)\n",
        "    contribution = coefficients[i] * df[adstocked_channels[i]].sum()\n",
        "    total_contribution.append(contribution)\n",
        "\n",
        "# Calculate ROI (Return on Investment)\n",
        "roi = [(contribution / spend) for contribution, spend in zip(total_contribution, total_spend)]\n",
        "\n",
        "# Create DataFrame\n",
        "roi_df = pd.DataFrame({\n",
        "    'Channel': channel_names,\n",
        "    'Coefficient': coefficients,\n",
        "    'Total Spend': total_spend,\n",
        "    'Total Contribution': total_contribution,\n",
        "    'ROI': roi\n",
        "})\n",
        "\n",
        "# Sort by ROI\n",
        "roi_df = roi_df.sort_values('ROI', ascending=False)\n",
        "\n",
        "print(roi_df)"
      ],
      "metadata": {
        "colab": {
          "base_uri": "https://localhost:8080/"
        },
        "id": "neo4pj3OFO1f",
        "outputId": "5ce6f431-b5f1-4b67-82fb-46a88ed994ab"
      },
      "execution_count": 111,
      "outputs": [
        {
          "output_type": "stream",
          "name": "stdout",
          "text": [
            "     Channel  Coefficient  Total Spend  Total Contribution        ROI\n",
            "5  Channel 6     2.049660    526624.70        1.349252e+06   2.562076\n",
            "4  Channel 5     1.541210    891863.59        1.526708e+06   1.711817\n",
            "6  Channel 7     1.243523   2880942.21        3.975915e+06   1.380074\n",
            "2  Channel 3     0.865302   2028746.51        1.949380e+06   0.960879\n",
            "3  Channel 4    -0.273732    719174.22       -1.816454e+06  -2.525750\n",
            "0  Channel 1    -4.977340    129542.90       -7.164212e+05  -5.530378\n",
            "1  Channel 2    -1.832137     35738.66       -5.505618e+05 -15.405217\n"
          ]
        }
      ]
    },
    {
      "cell_type": "code",
      "source": [
        "import plotly.express as px\n",
        "import pandas as pd\n",
        "\n",
        "# Plot ROI by Channel\n",
        "fig = px.bar(\n",
        "    roi_df,\n",
        "    x='Channel',\n",
        "    y='ROI',\n",
        "    text='ROI',\n",
        "    color='ROI',\n",
        "    color_continuous_scale=['grey', 'lightgreen', 'darkgreen'],\n",
        "    title=\"ROI by Channel\"\n",
        ")\n",
        "\n",
        "# Adjust text and layout for better visibility\n",
        "fig.update_traces(texttemplate='%{text:.2f}', textposition='outside')\n",
        "fig.update_layout(\n",
        "    yaxis_title=\"ROI\",\n",
        "    xaxis_title=\"Channel\",\n",
        "    coloraxis_showscale=False,  # Hide color scale\n",
        "    template=\"plotly_white\",\n",
        "    height=600,\n",
        "    width=900\n",
        ")\n",
        "\n",
        "fig.show()\n"
      ],
      "metadata": {
        "colab": {
          "base_uri": "https://localhost:8080/",
          "height": 617
        },
        "id": "VvtP-_icG0gc",
        "outputId": "10eab1e0-b49f-4e9b-a249-4b0aca9ad493"
      },
      "execution_count": 112,
      "outputs": [
        {
          "output_type": "display_data",
          "data": {
            "text/html": [
              "<html>\n",
              "<head><meta charset=\"utf-8\" /></head>\n",
              "<body>\n",
              "    <div>            <script src=\"https://cdnjs.cloudflare.com/ajax/libs/mathjax/2.7.5/MathJax.js?config=TeX-AMS-MML_SVG\"></script><script type=\"text/javascript\">if (window.MathJax && window.MathJax.Hub && window.MathJax.Hub.Config) {window.MathJax.Hub.Config({SVG: {font: \"STIX-Web\"}});}</script>                <script type=\"text/javascript\">window.PlotlyConfig = {MathJaxConfig: 'local'};</script>\n",
              "        <script charset=\"utf-8\" src=\"https://cdn.plot.ly/plotly-2.35.2.min.js\"></script>                <div id=\"9ef0213f-4dc9-4285-a97b-601ff613d8d5\" class=\"plotly-graph-div\" style=\"height:600px; width:900px;\"></div>            <script type=\"text/javascript\">                                    window.PLOTLYENV=window.PLOTLYENV || {};                                    if (document.getElementById(\"9ef0213f-4dc9-4285-a97b-601ff613d8d5\")) {                    Plotly.newPlot(                        \"9ef0213f-4dc9-4285-a97b-601ff613d8d5\",                        [{\"alignmentgroup\":\"True\",\"hovertemplate\":\"Channel=%{x}\\u003cbr\\u003eROI=%{marker.color}\\u003cextra\\u003e\\u003c\\u002fextra\\u003e\",\"legendgroup\":\"\",\"marker\":{\"color\":[2.5620755553460617,1.7118173887108037,1.3800743832485738,0.9608790692332692,-2.5257499704952258,-5.5303776103284665,-15.40521690983603],\"coloraxis\":\"coloraxis\",\"pattern\":{\"shape\":\"\"}},\"name\":\"\",\"offsetgroup\":\"\",\"orientation\":\"v\",\"showlegend\":false,\"text\":[2.5620755553460617,1.7118173887108037,1.3800743832485738,0.9608790692332692,-2.5257499704952258,-5.5303776103284665,-15.40521690983603],\"textposition\":\"outside\",\"x\":[\"Channel 6\",\"Channel 5\",\"Channel 7\",\"Channel 3\",\"Channel 4\",\"Channel 1\",\"Channel 2\"],\"xaxis\":\"x\",\"y\":[2.5620755553460617,1.7118173887108037,1.3800743832485738,0.9608790692332692,-2.5257499704952258,-5.5303776103284665,-15.40521690983603],\"yaxis\":\"y\",\"type\":\"bar\",\"texttemplate\":\"%{text:.2f}\"}],                        {\"template\":{\"data\":{\"barpolar\":[{\"marker\":{\"line\":{\"color\":\"white\",\"width\":0.5},\"pattern\":{\"fillmode\":\"overlay\",\"size\":10,\"solidity\":0.2}},\"type\":\"barpolar\"}],\"bar\":[{\"error_x\":{\"color\":\"#2a3f5f\"},\"error_y\":{\"color\":\"#2a3f5f\"},\"marker\":{\"line\":{\"color\":\"white\",\"width\":0.5},\"pattern\":{\"fillmode\":\"overlay\",\"size\":10,\"solidity\":0.2}},\"type\":\"bar\"}],\"carpet\":[{\"aaxis\":{\"endlinecolor\":\"#2a3f5f\",\"gridcolor\":\"#C8D4E3\",\"linecolor\":\"#C8D4E3\",\"minorgridcolor\":\"#C8D4E3\",\"startlinecolor\":\"#2a3f5f\"},\"baxis\":{\"endlinecolor\":\"#2a3f5f\",\"gridcolor\":\"#C8D4E3\",\"linecolor\":\"#C8D4E3\",\"minorgridcolor\":\"#C8D4E3\",\"startlinecolor\":\"#2a3f5f\"},\"type\":\"carpet\"}],\"choropleth\":[{\"colorbar\":{\"outlinewidth\":0,\"ticks\":\"\"},\"type\":\"choropleth\"}],\"contourcarpet\":[{\"colorbar\":{\"outlinewidth\":0,\"ticks\":\"\"},\"type\":\"contourcarpet\"}],\"contour\":[{\"colorbar\":{\"outlinewidth\":0,\"ticks\":\"\"},\"colorscale\":[[0.0,\"#0d0887\"],[0.1111111111111111,\"#46039f\"],[0.2222222222222222,\"#7201a8\"],[0.3333333333333333,\"#9c179e\"],[0.4444444444444444,\"#bd3786\"],[0.5555555555555556,\"#d8576b\"],[0.6666666666666666,\"#ed7953\"],[0.7777777777777778,\"#fb9f3a\"],[0.8888888888888888,\"#fdca26\"],[1.0,\"#f0f921\"]],\"type\":\"contour\"}],\"heatmapgl\":[{\"colorbar\":{\"outlinewidth\":0,\"ticks\":\"\"},\"colorscale\":[[0.0,\"#0d0887\"],[0.1111111111111111,\"#46039f\"],[0.2222222222222222,\"#7201a8\"],[0.3333333333333333,\"#9c179e\"],[0.4444444444444444,\"#bd3786\"],[0.5555555555555556,\"#d8576b\"],[0.6666666666666666,\"#ed7953\"],[0.7777777777777778,\"#fb9f3a\"],[0.8888888888888888,\"#fdca26\"],[1.0,\"#f0f921\"]],\"type\":\"heatmapgl\"}],\"heatmap\":[{\"colorbar\":{\"outlinewidth\":0,\"ticks\":\"\"},\"colorscale\":[[0.0,\"#0d0887\"],[0.1111111111111111,\"#46039f\"],[0.2222222222222222,\"#7201a8\"],[0.3333333333333333,\"#9c179e\"],[0.4444444444444444,\"#bd3786\"],[0.5555555555555556,\"#d8576b\"],[0.6666666666666666,\"#ed7953\"],[0.7777777777777778,\"#fb9f3a\"],[0.8888888888888888,\"#fdca26\"],[1.0,\"#f0f921\"]],\"type\":\"heatmap\"}],\"histogram2dcontour\":[{\"colorbar\":{\"outlinewidth\":0,\"ticks\":\"\"},\"colorscale\":[[0.0,\"#0d0887\"],[0.1111111111111111,\"#46039f\"],[0.2222222222222222,\"#7201a8\"],[0.3333333333333333,\"#9c179e\"],[0.4444444444444444,\"#bd3786\"],[0.5555555555555556,\"#d8576b\"],[0.6666666666666666,\"#ed7953\"],[0.7777777777777778,\"#fb9f3a\"],[0.8888888888888888,\"#fdca26\"],[1.0,\"#f0f921\"]],\"type\":\"histogram2dcontour\"}],\"histogram2d\":[{\"colorbar\":{\"outlinewidth\":0,\"ticks\":\"\"},\"colorscale\":[[0.0,\"#0d0887\"],[0.1111111111111111,\"#46039f\"],[0.2222222222222222,\"#7201a8\"],[0.3333333333333333,\"#9c179e\"],[0.4444444444444444,\"#bd3786\"],[0.5555555555555556,\"#d8576b\"],[0.6666666666666666,\"#ed7953\"],[0.7777777777777778,\"#fb9f3a\"],[0.8888888888888888,\"#fdca26\"],[1.0,\"#f0f921\"]],\"type\":\"histogram2d\"}],\"histogram\":[{\"marker\":{\"pattern\":{\"fillmode\":\"overlay\",\"size\":10,\"solidity\":0.2}},\"type\":\"histogram\"}],\"mesh3d\":[{\"colorbar\":{\"outlinewidth\":0,\"ticks\":\"\"},\"type\":\"mesh3d\"}],\"parcoords\":[{\"line\":{\"colorbar\":{\"outlinewidth\":0,\"ticks\":\"\"}},\"type\":\"parcoords\"}],\"pie\":[{\"automargin\":true,\"type\":\"pie\"}],\"scatter3d\":[{\"line\":{\"colorbar\":{\"outlinewidth\":0,\"ticks\":\"\"}},\"marker\":{\"colorbar\":{\"outlinewidth\":0,\"ticks\":\"\"}},\"type\":\"scatter3d\"}],\"scattercarpet\":[{\"marker\":{\"colorbar\":{\"outlinewidth\":0,\"ticks\":\"\"}},\"type\":\"scattercarpet\"}],\"scattergeo\":[{\"marker\":{\"colorbar\":{\"outlinewidth\":0,\"ticks\":\"\"}},\"type\":\"scattergeo\"}],\"scattergl\":[{\"marker\":{\"colorbar\":{\"outlinewidth\":0,\"ticks\":\"\"}},\"type\":\"scattergl\"}],\"scattermapbox\":[{\"marker\":{\"colorbar\":{\"outlinewidth\":0,\"ticks\":\"\"}},\"type\":\"scattermapbox\"}],\"scatterpolargl\":[{\"marker\":{\"colorbar\":{\"outlinewidth\":0,\"ticks\":\"\"}},\"type\":\"scatterpolargl\"}],\"scatterpolar\":[{\"marker\":{\"colorbar\":{\"outlinewidth\":0,\"ticks\":\"\"}},\"type\":\"scatterpolar\"}],\"scatter\":[{\"fillpattern\":{\"fillmode\":\"overlay\",\"size\":10,\"solidity\":0.2},\"type\":\"scatter\"}],\"scatterternary\":[{\"marker\":{\"colorbar\":{\"outlinewidth\":0,\"ticks\":\"\"}},\"type\":\"scatterternary\"}],\"surface\":[{\"colorbar\":{\"outlinewidth\":0,\"ticks\":\"\"},\"colorscale\":[[0.0,\"#0d0887\"],[0.1111111111111111,\"#46039f\"],[0.2222222222222222,\"#7201a8\"],[0.3333333333333333,\"#9c179e\"],[0.4444444444444444,\"#bd3786\"],[0.5555555555555556,\"#d8576b\"],[0.6666666666666666,\"#ed7953\"],[0.7777777777777778,\"#fb9f3a\"],[0.8888888888888888,\"#fdca26\"],[1.0,\"#f0f921\"]],\"type\":\"surface\"}],\"table\":[{\"cells\":{\"fill\":{\"color\":\"#EBF0F8\"},\"line\":{\"color\":\"white\"}},\"header\":{\"fill\":{\"color\":\"#C8D4E3\"},\"line\":{\"color\":\"white\"}},\"type\":\"table\"}]},\"layout\":{\"annotationdefaults\":{\"arrowcolor\":\"#2a3f5f\",\"arrowhead\":0,\"arrowwidth\":1},\"autotypenumbers\":\"strict\",\"coloraxis\":{\"colorbar\":{\"outlinewidth\":0,\"ticks\":\"\"}},\"colorscale\":{\"diverging\":[[0,\"#8e0152\"],[0.1,\"#c51b7d\"],[0.2,\"#de77ae\"],[0.3,\"#f1b6da\"],[0.4,\"#fde0ef\"],[0.5,\"#f7f7f7\"],[0.6,\"#e6f5d0\"],[0.7,\"#b8e186\"],[0.8,\"#7fbc41\"],[0.9,\"#4d9221\"],[1,\"#276419\"]],\"sequential\":[[0.0,\"#0d0887\"],[0.1111111111111111,\"#46039f\"],[0.2222222222222222,\"#7201a8\"],[0.3333333333333333,\"#9c179e\"],[0.4444444444444444,\"#bd3786\"],[0.5555555555555556,\"#d8576b\"],[0.6666666666666666,\"#ed7953\"],[0.7777777777777778,\"#fb9f3a\"],[0.8888888888888888,\"#fdca26\"],[1.0,\"#f0f921\"]],\"sequentialminus\":[[0.0,\"#0d0887\"],[0.1111111111111111,\"#46039f\"],[0.2222222222222222,\"#7201a8\"],[0.3333333333333333,\"#9c179e\"],[0.4444444444444444,\"#bd3786\"],[0.5555555555555556,\"#d8576b\"],[0.6666666666666666,\"#ed7953\"],[0.7777777777777778,\"#fb9f3a\"],[0.8888888888888888,\"#fdca26\"],[1.0,\"#f0f921\"]]},\"colorway\":[\"#636efa\",\"#EF553B\",\"#00cc96\",\"#ab63fa\",\"#FFA15A\",\"#19d3f3\",\"#FF6692\",\"#B6E880\",\"#FF97FF\",\"#FECB52\"],\"font\":{\"color\":\"#2a3f5f\"},\"geo\":{\"bgcolor\":\"white\",\"lakecolor\":\"white\",\"landcolor\":\"white\",\"showlakes\":true,\"showland\":true,\"subunitcolor\":\"#C8D4E3\"},\"hoverlabel\":{\"align\":\"left\"},\"hovermode\":\"closest\",\"mapbox\":{\"style\":\"light\"},\"paper_bgcolor\":\"white\",\"plot_bgcolor\":\"white\",\"polar\":{\"angularaxis\":{\"gridcolor\":\"#EBF0F8\",\"linecolor\":\"#EBF0F8\",\"ticks\":\"\"},\"bgcolor\":\"white\",\"radialaxis\":{\"gridcolor\":\"#EBF0F8\",\"linecolor\":\"#EBF0F8\",\"ticks\":\"\"}},\"scene\":{\"xaxis\":{\"backgroundcolor\":\"white\",\"gridcolor\":\"#DFE8F3\",\"gridwidth\":2,\"linecolor\":\"#EBF0F8\",\"showbackground\":true,\"ticks\":\"\",\"zerolinecolor\":\"#EBF0F8\"},\"yaxis\":{\"backgroundcolor\":\"white\",\"gridcolor\":\"#DFE8F3\",\"gridwidth\":2,\"linecolor\":\"#EBF0F8\",\"showbackground\":true,\"ticks\":\"\",\"zerolinecolor\":\"#EBF0F8\"},\"zaxis\":{\"backgroundcolor\":\"white\",\"gridcolor\":\"#DFE8F3\",\"gridwidth\":2,\"linecolor\":\"#EBF0F8\",\"showbackground\":true,\"ticks\":\"\",\"zerolinecolor\":\"#EBF0F8\"}},\"shapedefaults\":{\"line\":{\"color\":\"#2a3f5f\"}},\"ternary\":{\"aaxis\":{\"gridcolor\":\"#DFE8F3\",\"linecolor\":\"#A2B1C6\",\"ticks\":\"\"},\"baxis\":{\"gridcolor\":\"#DFE8F3\",\"linecolor\":\"#A2B1C6\",\"ticks\":\"\"},\"bgcolor\":\"white\",\"caxis\":{\"gridcolor\":\"#DFE8F3\",\"linecolor\":\"#A2B1C6\",\"ticks\":\"\"}},\"title\":{\"x\":0.05},\"xaxis\":{\"automargin\":true,\"gridcolor\":\"#EBF0F8\",\"linecolor\":\"#EBF0F8\",\"ticks\":\"\",\"title\":{\"standoff\":15},\"zerolinecolor\":\"#EBF0F8\",\"zerolinewidth\":2},\"yaxis\":{\"automargin\":true,\"gridcolor\":\"#EBF0F8\",\"linecolor\":\"#EBF0F8\",\"ticks\":\"\",\"title\":{\"standoff\":15},\"zerolinecolor\":\"#EBF0F8\",\"zerolinewidth\":2}}},\"xaxis\":{\"anchor\":\"y\",\"domain\":[0.0,1.0],\"title\":{\"text\":\"Channel\"}},\"yaxis\":{\"anchor\":\"x\",\"domain\":[0.0,1.0],\"title\":{\"text\":\"ROI\"}},\"coloraxis\":{\"colorbar\":{\"title\":{\"text\":\"ROI\"}},\"colorscale\":[[0.0,\"grey\"],[0.5,\"lightgreen\"],[1.0,\"darkgreen\"]],\"showscale\":false},\"legend\":{\"tracegroupgap\":0},\"title\":{\"text\":\"ROI by Channel\"},\"barmode\":\"relative\",\"height\":600,\"width\":900},                        {\"responsive\": true}                    ).then(function(){\n",
              "                            \n",
              "var gd = document.getElementById('9ef0213f-4dc9-4285-a97b-601ff613d8d5');\n",
              "var x = new MutationObserver(function (mutations, observer) {{\n",
              "        var display = window.getComputedStyle(gd).display;\n",
              "        if (!display || display === 'none') {{\n",
              "            console.log([gd, 'removed!']);\n",
              "            Plotly.purge(gd);\n",
              "            observer.disconnect();\n",
              "        }}\n",
              "}});\n",
              "\n",
              "// Listen for the removal of the full notebook cells\n",
              "var notebookContainer = gd.closest('#notebook-container');\n",
              "if (notebookContainer) {{\n",
              "    x.observe(notebookContainer, {childList: true});\n",
              "}}\n",
              "\n",
              "// Listen for the clearing of the current output cell\n",
              "var outputEl = gd.closest('.output');\n",
              "if (outputEl) {{\n",
              "    x.observe(outputEl, {childList: true});\n",
              "}}\n",
              "\n",
              "                        })                };                            </script>        </div>\n",
              "</body>\n",
              "</html>"
            ]
          },
          "metadata": {}
        }
      ]
    },
    {
      "cell_type": "markdown",
      "source": [
        "#### Channel 6's spend is relatively low, but the revenue generated from that spend is high — leading to a high ROI. each euro spent is associated with a €2.56 profit"
      ],
      "metadata": {
        "id": "BRJT_CD4PqJ1"
      }
    },
    {
      "cell_type": "markdown",
      "source": [
        "#### Channel 2 has the lowest ROI (-15.41) - each euro spent is associated with a €-15.41 loss"
      ],
      "metadata": {
        "id": "FIhSoM5MPALl"
      }
    },
    {
      "cell_type": "code",
      "source": [
        "# Plot Total Contribution by Channel\n",
        "fig = px.bar(\n",
        "    roi_df,\n",
        "    x='Channel',\n",
        "    y='Total Contribution',\n",
        "    text='Total Contribution',\n",
        "    color='Total Contribution',\n",
        "    color_continuous_scale=['grey', 'lightgreen', 'darkgreen'],\n",
        "    title=\"Total Contribution by Channel\"\n",
        ")\n",
        "\n",
        "# Adjust text and layout for better visibility\n",
        "fig.update_traces(texttemplate='%{text:.2f}', textposition='outside')\n",
        "fig.update_layout(\n",
        "    yaxis_title=\"Contribution (€)\",\n",
        "    xaxis_title=\"Channel\",\n",
        "    coloraxis_showscale=False,  # Hide color scale\n",
        "    template=\"plotly_white\",\n",
        "    height=600,\n",
        "    width=900\n",
        ")\n",
        "\n",
        "fig.show()\n"
      ],
      "metadata": {
        "colab": {
          "base_uri": "https://localhost:8080/",
          "height": 617
        },
        "id": "R6Z9yMEeJo0r",
        "outputId": "a0a13544-0b4c-4374-a37e-7c47f4928902"
      },
      "execution_count": 113,
      "outputs": [
        {
          "output_type": "display_data",
          "data": {
            "text/html": [
              "<html>\n",
              "<head><meta charset=\"utf-8\" /></head>\n",
              "<body>\n",
              "    <div>            <script src=\"https://cdnjs.cloudflare.com/ajax/libs/mathjax/2.7.5/MathJax.js?config=TeX-AMS-MML_SVG\"></script><script type=\"text/javascript\">if (window.MathJax && window.MathJax.Hub && window.MathJax.Hub.Config) {window.MathJax.Hub.Config({SVG: {font: \"STIX-Web\"}});}</script>                <script type=\"text/javascript\">window.PlotlyConfig = {MathJaxConfig: 'local'};</script>\n",
              "        <script charset=\"utf-8\" src=\"https://cdn.plot.ly/plotly-2.35.2.min.js\"></script>                <div id=\"2a42a49a-8288-4109-b718-e086f7b5edc6\" class=\"plotly-graph-div\" style=\"height:600px; width:900px;\"></div>            <script type=\"text/javascript\">                                    window.PLOTLYENV=window.PLOTLYENV || {};                                    if (document.getElementById(\"2a42a49a-8288-4109-b718-e086f7b5edc6\")) {                    Plotly.newPlot(                        \"2a42a49a-8288-4109-b718-e086f7b5edc6\",                        [{\"alignmentgroup\":\"True\",\"hovertemplate\":\"Channel=%{x}\\u003cbr\\u003eTotal Contribution=%{marker.color}\\u003cextra\\u003e\\u003c\\u002fextra\\u003e\",\"legendgroup\":\"\",\"marker\":{\"color\":[1349252.2707114534,1526707.601720043,3975914.543640533,1949380.0582390435,-1816454.264945927,-716421.1537370196,-550561.8093668805],\"coloraxis\":\"coloraxis\",\"pattern\":{\"shape\":\"\"}},\"name\":\"\",\"offsetgroup\":\"\",\"orientation\":\"v\",\"showlegend\":false,\"text\":[1349252.2707114534,1526707.601720043,3975914.543640533,1949380.0582390435,-1816454.264945927,-716421.1537370196,-550561.8093668805],\"textposition\":\"outside\",\"x\":[\"Channel 6\",\"Channel 5\",\"Channel 7\",\"Channel 3\",\"Channel 4\",\"Channel 1\",\"Channel 2\"],\"xaxis\":\"x\",\"y\":[1349252.2707114534,1526707.601720043,3975914.543640533,1949380.0582390435,-1816454.264945927,-716421.1537370196,-550561.8093668805],\"yaxis\":\"y\",\"type\":\"bar\",\"texttemplate\":\"%{text:.2f}\"}],                        {\"template\":{\"data\":{\"barpolar\":[{\"marker\":{\"line\":{\"color\":\"white\",\"width\":0.5},\"pattern\":{\"fillmode\":\"overlay\",\"size\":10,\"solidity\":0.2}},\"type\":\"barpolar\"}],\"bar\":[{\"error_x\":{\"color\":\"#2a3f5f\"},\"error_y\":{\"color\":\"#2a3f5f\"},\"marker\":{\"line\":{\"color\":\"white\",\"width\":0.5},\"pattern\":{\"fillmode\":\"overlay\",\"size\":10,\"solidity\":0.2}},\"type\":\"bar\"}],\"carpet\":[{\"aaxis\":{\"endlinecolor\":\"#2a3f5f\",\"gridcolor\":\"#C8D4E3\",\"linecolor\":\"#C8D4E3\",\"minorgridcolor\":\"#C8D4E3\",\"startlinecolor\":\"#2a3f5f\"},\"baxis\":{\"endlinecolor\":\"#2a3f5f\",\"gridcolor\":\"#C8D4E3\",\"linecolor\":\"#C8D4E3\",\"minorgridcolor\":\"#C8D4E3\",\"startlinecolor\":\"#2a3f5f\"},\"type\":\"carpet\"}],\"choropleth\":[{\"colorbar\":{\"outlinewidth\":0,\"ticks\":\"\"},\"type\":\"choropleth\"}],\"contourcarpet\":[{\"colorbar\":{\"outlinewidth\":0,\"ticks\":\"\"},\"type\":\"contourcarpet\"}],\"contour\":[{\"colorbar\":{\"outlinewidth\":0,\"ticks\":\"\"},\"colorscale\":[[0.0,\"#0d0887\"],[0.1111111111111111,\"#46039f\"],[0.2222222222222222,\"#7201a8\"],[0.3333333333333333,\"#9c179e\"],[0.4444444444444444,\"#bd3786\"],[0.5555555555555556,\"#d8576b\"],[0.6666666666666666,\"#ed7953\"],[0.7777777777777778,\"#fb9f3a\"],[0.8888888888888888,\"#fdca26\"],[1.0,\"#f0f921\"]],\"type\":\"contour\"}],\"heatmapgl\":[{\"colorbar\":{\"outlinewidth\":0,\"ticks\":\"\"},\"colorscale\":[[0.0,\"#0d0887\"],[0.1111111111111111,\"#46039f\"],[0.2222222222222222,\"#7201a8\"],[0.3333333333333333,\"#9c179e\"],[0.4444444444444444,\"#bd3786\"],[0.5555555555555556,\"#d8576b\"],[0.6666666666666666,\"#ed7953\"],[0.7777777777777778,\"#fb9f3a\"],[0.8888888888888888,\"#fdca26\"],[1.0,\"#f0f921\"]],\"type\":\"heatmapgl\"}],\"heatmap\":[{\"colorbar\":{\"outlinewidth\":0,\"ticks\":\"\"},\"colorscale\":[[0.0,\"#0d0887\"],[0.1111111111111111,\"#46039f\"],[0.2222222222222222,\"#7201a8\"],[0.3333333333333333,\"#9c179e\"],[0.4444444444444444,\"#bd3786\"],[0.5555555555555556,\"#d8576b\"],[0.6666666666666666,\"#ed7953\"],[0.7777777777777778,\"#fb9f3a\"],[0.8888888888888888,\"#fdca26\"],[1.0,\"#f0f921\"]],\"type\":\"heatmap\"}],\"histogram2dcontour\":[{\"colorbar\":{\"outlinewidth\":0,\"ticks\":\"\"},\"colorscale\":[[0.0,\"#0d0887\"],[0.1111111111111111,\"#46039f\"],[0.2222222222222222,\"#7201a8\"],[0.3333333333333333,\"#9c179e\"],[0.4444444444444444,\"#bd3786\"],[0.5555555555555556,\"#d8576b\"],[0.6666666666666666,\"#ed7953\"],[0.7777777777777778,\"#fb9f3a\"],[0.8888888888888888,\"#fdca26\"],[1.0,\"#f0f921\"]],\"type\":\"histogram2dcontour\"}],\"histogram2d\":[{\"colorbar\":{\"outlinewidth\":0,\"ticks\":\"\"},\"colorscale\":[[0.0,\"#0d0887\"],[0.1111111111111111,\"#46039f\"],[0.2222222222222222,\"#7201a8\"],[0.3333333333333333,\"#9c179e\"],[0.4444444444444444,\"#bd3786\"],[0.5555555555555556,\"#d8576b\"],[0.6666666666666666,\"#ed7953\"],[0.7777777777777778,\"#fb9f3a\"],[0.8888888888888888,\"#fdca26\"],[1.0,\"#f0f921\"]],\"type\":\"histogram2d\"}],\"histogram\":[{\"marker\":{\"pattern\":{\"fillmode\":\"overlay\",\"size\":10,\"solidity\":0.2}},\"type\":\"histogram\"}],\"mesh3d\":[{\"colorbar\":{\"outlinewidth\":0,\"ticks\":\"\"},\"type\":\"mesh3d\"}],\"parcoords\":[{\"line\":{\"colorbar\":{\"outlinewidth\":0,\"ticks\":\"\"}},\"type\":\"parcoords\"}],\"pie\":[{\"automargin\":true,\"type\":\"pie\"}],\"scatter3d\":[{\"line\":{\"colorbar\":{\"outlinewidth\":0,\"ticks\":\"\"}},\"marker\":{\"colorbar\":{\"outlinewidth\":0,\"ticks\":\"\"}},\"type\":\"scatter3d\"}],\"scattercarpet\":[{\"marker\":{\"colorbar\":{\"outlinewidth\":0,\"ticks\":\"\"}},\"type\":\"scattercarpet\"}],\"scattergeo\":[{\"marker\":{\"colorbar\":{\"outlinewidth\":0,\"ticks\":\"\"}},\"type\":\"scattergeo\"}],\"scattergl\":[{\"marker\":{\"colorbar\":{\"outlinewidth\":0,\"ticks\":\"\"}},\"type\":\"scattergl\"}],\"scattermapbox\":[{\"marker\":{\"colorbar\":{\"outlinewidth\":0,\"ticks\":\"\"}},\"type\":\"scattermapbox\"}],\"scatterpolargl\":[{\"marker\":{\"colorbar\":{\"outlinewidth\":0,\"ticks\":\"\"}},\"type\":\"scatterpolargl\"}],\"scatterpolar\":[{\"marker\":{\"colorbar\":{\"outlinewidth\":0,\"ticks\":\"\"}},\"type\":\"scatterpolar\"}],\"scatter\":[{\"fillpattern\":{\"fillmode\":\"overlay\",\"size\":10,\"solidity\":0.2},\"type\":\"scatter\"}],\"scatterternary\":[{\"marker\":{\"colorbar\":{\"outlinewidth\":0,\"ticks\":\"\"}},\"type\":\"scatterternary\"}],\"surface\":[{\"colorbar\":{\"outlinewidth\":0,\"ticks\":\"\"},\"colorscale\":[[0.0,\"#0d0887\"],[0.1111111111111111,\"#46039f\"],[0.2222222222222222,\"#7201a8\"],[0.3333333333333333,\"#9c179e\"],[0.4444444444444444,\"#bd3786\"],[0.5555555555555556,\"#d8576b\"],[0.6666666666666666,\"#ed7953\"],[0.7777777777777778,\"#fb9f3a\"],[0.8888888888888888,\"#fdca26\"],[1.0,\"#f0f921\"]],\"type\":\"surface\"}],\"table\":[{\"cells\":{\"fill\":{\"color\":\"#EBF0F8\"},\"line\":{\"color\":\"white\"}},\"header\":{\"fill\":{\"color\":\"#C8D4E3\"},\"line\":{\"color\":\"white\"}},\"type\":\"table\"}]},\"layout\":{\"annotationdefaults\":{\"arrowcolor\":\"#2a3f5f\",\"arrowhead\":0,\"arrowwidth\":1},\"autotypenumbers\":\"strict\",\"coloraxis\":{\"colorbar\":{\"outlinewidth\":0,\"ticks\":\"\"}},\"colorscale\":{\"diverging\":[[0,\"#8e0152\"],[0.1,\"#c51b7d\"],[0.2,\"#de77ae\"],[0.3,\"#f1b6da\"],[0.4,\"#fde0ef\"],[0.5,\"#f7f7f7\"],[0.6,\"#e6f5d0\"],[0.7,\"#b8e186\"],[0.8,\"#7fbc41\"],[0.9,\"#4d9221\"],[1,\"#276419\"]],\"sequential\":[[0.0,\"#0d0887\"],[0.1111111111111111,\"#46039f\"],[0.2222222222222222,\"#7201a8\"],[0.3333333333333333,\"#9c179e\"],[0.4444444444444444,\"#bd3786\"],[0.5555555555555556,\"#d8576b\"],[0.6666666666666666,\"#ed7953\"],[0.7777777777777778,\"#fb9f3a\"],[0.8888888888888888,\"#fdca26\"],[1.0,\"#f0f921\"]],\"sequentialminus\":[[0.0,\"#0d0887\"],[0.1111111111111111,\"#46039f\"],[0.2222222222222222,\"#7201a8\"],[0.3333333333333333,\"#9c179e\"],[0.4444444444444444,\"#bd3786\"],[0.5555555555555556,\"#d8576b\"],[0.6666666666666666,\"#ed7953\"],[0.7777777777777778,\"#fb9f3a\"],[0.8888888888888888,\"#fdca26\"],[1.0,\"#f0f921\"]]},\"colorway\":[\"#636efa\",\"#EF553B\",\"#00cc96\",\"#ab63fa\",\"#FFA15A\",\"#19d3f3\",\"#FF6692\",\"#B6E880\",\"#FF97FF\",\"#FECB52\"],\"font\":{\"color\":\"#2a3f5f\"},\"geo\":{\"bgcolor\":\"white\",\"lakecolor\":\"white\",\"landcolor\":\"white\",\"showlakes\":true,\"showland\":true,\"subunitcolor\":\"#C8D4E3\"},\"hoverlabel\":{\"align\":\"left\"},\"hovermode\":\"closest\",\"mapbox\":{\"style\":\"light\"},\"paper_bgcolor\":\"white\",\"plot_bgcolor\":\"white\",\"polar\":{\"angularaxis\":{\"gridcolor\":\"#EBF0F8\",\"linecolor\":\"#EBF0F8\",\"ticks\":\"\"},\"bgcolor\":\"white\",\"radialaxis\":{\"gridcolor\":\"#EBF0F8\",\"linecolor\":\"#EBF0F8\",\"ticks\":\"\"}},\"scene\":{\"xaxis\":{\"backgroundcolor\":\"white\",\"gridcolor\":\"#DFE8F3\",\"gridwidth\":2,\"linecolor\":\"#EBF0F8\",\"showbackground\":true,\"ticks\":\"\",\"zerolinecolor\":\"#EBF0F8\"},\"yaxis\":{\"backgroundcolor\":\"white\",\"gridcolor\":\"#DFE8F3\",\"gridwidth\":2,\"linecolor\":\"#EBF0F8\",\"showbackground\":true,\"ticks\":\"\",\"zerolinecolor\":\"#EBF0F8\"},\"zaxis\":{\"backgroundcolor\":\"white\",\"gridcolor\":\"#DFE8F3\",\"gridwidth\":2,\"linecolor\":\"#EBF0F8\",\"showbackground\":true,\"ticks\":\"\",\"zerolinecolor\":\"#EBF0F8\"}},\"shapedefaults\":{\"line\":{\"color\":\"#2a3f5f\"}},\"ternary\":{\"aaxis\":{\"gridcolor\":\"#DFE8F3\",\"linecolor\":\"#A2B1C6\",\"ticks\":\"\"},\"baxis\":{\"gridcolor\":\"#DFE8F3\",\"linecolor\":\"#A2B1C6\",\"ticks\":\"\"},\"bgcolor\":\"white\",\"caxis\":{\"gridcolor\":\"#DFE8F3\",\"linecolor\":\"#A2B1C6\",\"ticks\":\"\"}},\"title\":{\"x\":0.05},\"xaxis\":{\"automargin\":true,\"gridcolor\":\"#EBF0F8\",\"linecolor\":\"#EBF0F8\",\"ticks\":\"\",\"title\":{\"standoff\":15},\"zerolinecolor\":\"#EBF0F8\",\"zerolinewidth\":2},\"yaxis\":{\"automargin\":true,\"gridcolor\":\"#EBF0F8\",\"linecolor\":\"#EBF0F8\",\"ticks\":\"\",\"title\":{\"standoff\":15},\"zerolinecolor\":\"#EBF0F8\",\"zerolinewidth\":2}}},\"xaxis\":{\"anchor\":\"y\",\"domain\":[0.0,1.0],\"title\":{\"text\":\"Channel\"}},\"yaxis\":{\"anchor\":\"x\",\"domain\":[0.0,1.0],\"title\":{\"text\":\"Contribution (€)\"}},\"coloraxis\":{\"colorbar\":{\"title\":{\"text\":\"Total Contribution\"}},\"colorscale\":[[0.0,\"grey\"],[0.5,\"lightgreen\"],[1.0,\"darkgreen\"]],\"showscale\":false},\"legend\":{\"tracegroupgap\":0},\"title\":{\"text\":\"Total Contribution by Channel\"},\"barmode\":\"relative\",\"height\":600,\"width\":900},                        {\"responsive\": true}                    ).then(function(){\n",
              "                            \n",
              "var gd = document.getElementById('2a42a49a-8288-4109-b718-e086f7b5edc6');\n",
              "var x = new MutationObserver(function (mutations, observer) {{\n",
              "        var display = window.getComputedStyle(gd).display;\n",
              "        if (!display || display === 'none') {{\n",
              "            console.log([gd, 'removed!']);\n",
              "            Plotly.purge(gd);\n",
              "            observer.disconnect();\n",
              "        }}\n",
              "}});\n",
              "\n",
              "// Listen for the removal of the full notebook cells\n",
              "var notebookContainer = gd.closest('#notebook-container');\n",
              "if (notebookContainer) {{\n",
              "    x.observe(notebookContainer, {childList: true});\n",
              "}}\n",
              "\n",
              "// Listen for the clearing of the current output cell\n",
              "var outputEl = gd.closest('.output');\n",
              "if (outputEl) {{\n",
              "    x.observe(outputEl, {childList: true});\n",
              "}}\n",
              "\n",
              "                        })                };                            </script>        </div>\n",
              "</body>\n",
              "</html>"
            ]
          },
          "metadata": {}
        }
      ]
    },
    {
      "cell_type": "markdown",
      "source": [
        "#### Channel 7 has the highest total revenue contribution €3.98M, indicating that it’s driving significant absolute revenue.\n",
        "\n",
        "However, its ROI is 1.38, which suggests that while it's effective in generating revenue, the efficiency (revenue per € spent) is moderate compared to Channel 6"
      ],
      "metadata": {
        "id": "DS2hxwFAQPG0"
      }
    },
    {
      "cell_type": "code",
      "source": [
        "def calculate_mape(actual, predicted):\n",
        "    mape = (abs(actual - predicted) / (actual + 1e-10)).mean() * 100\n",
        "    return mape\n"
      ],
      "metadata": {
        "id": "mwa6M4BKVCx_"
      },
      "execution_count": 114,
      "outputs": []
    },
    {
      "cell_type": "code",
      "source": [
        "actual = df['revenue'].values\n",
        "print(f\"Actual values: {actual[:5]}\")  # Show the first 5 actual values\n"
      ],
      "metadata": {
        "colab": {
          "base_uri": "https://localhost:8080/"
        },
        "id": "QYwciCINVYiL",
        "outputId": "9d0b7199-37fd-43f1-af7b-16e730a44dab"
      },
      "execution_count": 115,
      "outputs": [
        {
          "output_type": "stream",
          "name": "stdout",
          "text": [
            "Actual values: [157906.75 186425.68 161607.39 180089.13 217793.98]\n"
          ]
        }
      ]
    },
    {
      "cell_type": "code",
      "source": [
        "with model:\n",
        "    posterior_pred = pm.sample_posterior_predictive(trace, var_names=['revenue'], random_seed=42)\n",
        "\n",
        "print(posterior_pred.posterior_predictive['revenue'].shape)\n"
      ],
      "metadata": {
        "colab": {
          "base_uri": "https://localhost:8080/",
          "height": 51,
          "referenced_widgets": [
            "359fd73e2948427392a308bd8f263579",
            "56b321c61acf4c55ba29961fb8396cfe"
          ]
        },
        "id": "SY5qzDblVemb",
        "outputId": "e3277f10-e7ae-430a-ff38-5d27b0a86057"
      },
      "execution_count": 116,
      "outputs": [
        {
          "output_type": "display_data",
          "data": {
            "text/plain": [
              "Output()"
            ],
            "application/vnd.jupyter.widget-view+json": {
              "version_major": 2,
              "version_minor": 0,
              "model_id": "359fd73e2948427392a308bd8f263579"
            }
          },
          "metadata": {}
        },
        {
          "output_type": "display_data",
          "data": {
            "text/plain": [],
            "text/html": [
              "<pre style=\"white-space:pre;overflow-x:auto;line-height:normal;font-family:Menlo,'DejaVu Sans Mono',consolas,'Courier New',monospace\"></pre>\n"
            ]
          },
          "metadata": {}
        },
        {
          "output_type": "stream",
          "name": "stdout",
          "text": [
            "(2, 1000, 104)\n"
          ]
        }
      ]
    },
    {
      "cell_type": "code",
      "source": [
        "predicted = posterior_pred.posterior_predictive['revenue'].mean(dim=[\"chain\", \"draw\"]).values\n",
        "print(f\"Predicted values: {predicted[:5]}\")"
      ],
      "metadata": {
        "colab": {
          "base_uri": "https://localhost:8080/"
        },
        "id": "4lMhUKoEVmf6",
        "outputId": "0ba40f88-ff73-47a0-fe2f-bd0a416895f8"
      },
      "execution_count": 117,
      "outputs": [
        {
          "output_type": "stream",
          "name": "stdout",
          "text": [
            "Predicted values: [141398.29391589 148700.70156074 150714.45938788 166721.3319167\n",
            " 173725.43853753]\n"
          ]
        }
      ]
    },
    {
      "cell_type": "code",
      "source": [
        "mape = calculate_mape(actual, predicted)\n",
        "print(f\"MAPE: {mape:.2f}%\")\n"
      ],
      "metadata": {
        "colab": {
          "base_uri": "https://localhost:8080/"
        },
        "id": "qCQAbqFzVr8t",
        "outputId": "0ab5cc58-21df-45c1-8fc7-c8456b813ce5"
      },
      "execution_count": 118,
      "outputs": [
        {
          "output_type": "stream",
          "name": "stdout",
          "text": [
            "MAPE: 17.34%\n"
          ]
        }
      ]
    },
    {
      "cell_type": "code",
      "source": [
        "# Calculate Mean Absolute Error (MAE)\n",
        "def calculate_mae(actual, predicted):\n",
        "    mae = abs(actual - predicted).mean()\n",
        "    return mae\n",
        "\n",
        "# Using your actual and predicted values\n",
        "actual = df['revenue'].values\n",
        "predicted = posterior_pred.posterior_predictive['revenue'].mean(dim=[\"chain\", \"draw\"]).values\n",
        "\n",
        "# Compute MAE\n",
        "mae = calculate_mae(actual, predicted)\n",
        "print(f\"MAE: €{mae:.2f}\")"
      ],
      "metadata": {
        "colab": {
          "base_uri": "https://localhost:8080/"
        },
        "id": "myg6dIw3XJEC",
        "outputId": "8d9b215f-5234-4fc6-c240-eff4994c58f3"
      },
      "execution_count": 119,
      "outputs": [
        {
          "output_type": "stream",
          "name": "stdout",
          "text": [
            "MAE: €23079.03\n"
          ]
        }
      ]
    },
    {
      "cell_type": "code",
      "source": [
        "from plotly.subplots import make_subplots\n",
        "# Extract components from the model\n",
        "baseline_mean = trace.posterior['baseline'].mean().values\n",
        "trend_mean = trace.posterior['trend'].mean().values\n",
        "seasonal_coef_mean = trace.posterior['seasonal_coef'].mean(dim=[\"chain\", \"draw\"]).values\n",
        "\n",
        "# Calculate components\n",
        "trend_component = trend_mean * time_index\n",
        "seasonal_component = np.dot(fourier_features, seasonal_coef_mean)\n",
        "january_effect = trace.posterior['january_effect'].mean().values * january_indicator\n",
        "december_effect = trace.posterior['december_effect'].mean().values * december_indicator\n",
        "holiday_component = january_effect + december_effect\n",
        "\n",
        "# Create subplots\n",
        "fig = make_subplots(rows=4, cols=1,\n",
        "                    subplot_titles=(\"Total Revenue\", \"Trend Component\",\n",
        "                                   \"Seasonal Component\", \"Holiday Effect Component\"))\n",
        "\n",
        "# Add total revenue\n",
        "fig.add_trace(\n",
        "    go.Scatter(x=df['start_of_week'], y=revenue, mode='lines+markers',\n",
        "              name='Revenue', line=dict(color='blue')),\n",
        "    row=1, col=1\n",
        ")\n",
        "\n",
        "# Add trend component\n",
        "fig.add_trace(\n",
        "    go.Scatter(x=df['start_of_week'], y=trend_component, mode='lines',\n",
        "              name='Trend', line=dict(color='red')),\n",
        "    row=2, col=1\n",
        ")\n",
        "\n",
        "# Add seasonal component\n",
        "fig.add_trace(\n",
        "    go.Scatter(x=df['start_of_week'], y=seasonal_component, mode='lines',\n",
        "              name='Seasonality', line=dict(color='green')),\n",
        "    row=3, col=1\n",
        ")\n",
        "\n",
        "# Add holiday component\n",
        "fig.add_trace(\n",
        "    go.Scatter(x=df['start_of_week'], y=holiday_component, mode='lines',\n",
        "              name='Holiday Effects', line=dict(color='purple')),\n",
        "    row=4, col=1\n",
        ")\n",
        "\n",
        "# Update layout\n",
        "fig.update_layout(height=800, width=1000,\n",
        "                 title_text=\"Revenue Decomposition: Trend, Seasonality, and Holiday Effects\",\n",
        "                 showlegend=False)\n",
        "\n",
        "fig.update_yaxes(title_text=\"Revenue (€)\", row=1, col=1)\n",
        "fig.update_yaxes(title_text=\"Trend (€)\", row=2, col=1)\n",
        "fig.update_yaxes(title_text=\"Seasonal Effect (€)\", row=3, col=1)\n",
        "fig.update_yaxes(title_text=\"Holiday Effect (€)\", row=4, col=1)\n",
        "\n",
        "fig.show()"
      ],
      "metadata": {
        "colab": {
          "base_uri": "https://localhost:8080/",
          "height": 817
        },
        "id": "T_BXFUlvaNXB",
        "outputId": "3c0482a2-3f35-4e72-c2f3-20e87bdae4fe"
      },
      "execution_count": 120,
      "outputs": [
        {
          "output_type": "display_data",
          "data": {
            "text/html": [
              "<html>\n",
              "<head><meta charset=\"utf-8\" /></head>\n",
              "<body>\n",
              "    <div>            <script src=\"https://cdnjs.cloudflare.com/ajax/libs/mathjax/2.7.5/MathJax.js?config=TeX-AMS-MML_SVG\"></script><script type=\"text/javascript\">if (window.MathJax && window.MathJax.Hub && window.MathJax.Hub.Config) {window.MathJax.Hub.Config({SVG: {font: \"STIX-Web\"}});}</script>                <script type=\"text/javascript\">window.PlotlyConfig = {MathJaxConfig: 'local'};</script>\n",
              "        <script charset=\"utf-8\" src=\"https://cdn.plot.ly/plotly-2.35.2.min.js\"></script>                <div id=\"61d03d40-4a95-470e-b8ec-2570429a6be5\" class=\"plotly-graph-div\" style=\"height:800px; width:1000px;\"></div>            <script type=\"text/javascript\">                                    window.PLOTLYENV=window.PLOTLYENV || {};                                    if (document.getElementById(\"61d03d40-4a95-470e-b8ec-2570429a6be5\")) {                    Plotly.newPlot(                        \"61d03d40-4a95-470e-b8ec-2570429a6be5\",                        [{\"line\":{\"color\":\"blue\"},\"mode\":\"lines+markers\",\"name\":\"Revenue\",\"x\":[\"2020-08-30\",\"2020-09-06\",\"2020-09-13\",\"2020-09-20\",\"2020-09-27\",\"2020-10-04\",\"2020-10-11\",\"2020-10-18\",\"2020-10-25\",\"2020-11-01\",\"2020-11-08\",\"2020-11-15\",\"2020-11-22\",\"2020-11-29\",\"2020-12-06\",\"2020-12-13\",\"2020-12-20\",\"2020-12-27\",\"2021-01-03\",\"2021-01-10\",\"2021-01-17\",\"2021-01-24\",\"2021-01-31\",\"2021-02-07\",\"2021-02-14\",\"2021-02-21\",\"2021-02-28\",\"2021-03-07\",\"2021-03-14\",\"2021-03-21\",\"2021-03-28\",\"2021-04-04\",\"2021-04-11\",\"2021-04-18\",\"2021-04-25\",\"2021-05-02\",\"2021-05-09\",\"2021-05-16\",\"2021-05-23\",\"2021-05-30\",\"2021-06-06\",\"2021-06-13\",\"2021-06-20\",\"2021-06-27\",\"2021-07-04\",\"2021-07-11\",\"2021-07-18\",\"2021-07-25\",\"2021-08-01\",\"2021-08-08\",\"2021-08-15\",\"2021-08-22\",\"2021-08-29\",\"2021-09-05\",\"2021-09-12\",\"2021-09-19\",\"2021-09-26\",\"2021-10-03\",\"2021-10-10\",\"2021-10-17\",\"2021-10-24\",\"2021-10-31\",\"2021-11-07\",\"2021-11-14\",\"2021-11-21\",\"2021-11-28\",\"2021-12-05\",\"2021-12-12\",\"2021-12-19\",\"2021-12-26\",\"2022-01-02\",\"2022-01-09\",\"2022-01-16\",\"2022-01-23\",\"2022-01-30\",\"2022-02-06\",\"2022-02-13\",\"2022-02-20\",\"2022-02-27\",\"2022-03-06\",\"2022-03-13\",\"2022-03-20\",\"2022-03-27\",\"2022-04-03\",\"2022-04-10\",\"2022-04-17\",\"2022-04-24\",\"2022-05-01\",\"2022-05-08\",\"2022-05-15\",\"2022-05-22\",\"2022-05-29\",\"2022-06-05\",\"2022-06-12\",\"2022-06-19\",\"2022-06-26\",\"2022-07-03\",\"2022-07-10\",\"2022-07-17\",\"2022-07-24\",\"2022-07-31\",\"2022-08-07\",\"2022-08-14\",\"2022-08-21\"],\"y\":[157906.75,186425.68,161607.39,180089.13,217793.98,195581.04,146951.61,163640.65,193045.15,213117.17,202321.02,216421.33,157640.79,418186.38,150423.19,79905.57,82020.23,80242.82,115207.83,97216.86,96071.01,284010.24,226994.32,185245.11,136635.71,126429.93,132752.27,133781.06,111934.63,109520.23,131152.3,120806.08,224619.82,157978.67,148937.15,148009.13,146088.85,131558.92,119857.12,123651.16,125654.17,171770.03,154713.33,121627.46,143288.33,102170.12,72849.92,63207.09,99723.69,89140.57,90561.75,104448.8,95478.58,108053.5,96973.9,94023.65,153611.64,161339.43,124309.37,119760.17,104755.63,131150.99,115514.46,134166.65,123340.71,276991.38,164983.21,125366.99,118347.81,85812.46,140621.95,176976.89,155443.56,135049.55,141850.49,142541.8,106987.32,109084.8,88648.47,140894.86,170858.25,137694.7,138956.96,187398.65,164226.0,165685.82,137008.43,146791.96,103143.58,107242.37,93541.63,99762.92,100192.38,123826.11,109330.8,96935.55,99827.27,72222.52,73682.25,72021.5,90786.21,105929.4,90506.31,84394.5],\"type\":\"scatter\",\"xaxis\":\"x\",\"yaxis\":\"y\"},{\"line\":{\"color\":\"red\"},\"mode\":\"lines\",\"name\":\"Trend\",\"x\":[\"2020-08-30\",\"2020-09-06\",\"2020-09-13\",\"2020-09-20\",\"2020-09-27\",\"2020-10-04\",\"2020-10-11\",\"2020-10-18\",\"2020-10-25\",\"2020-11-01\",\"2020-11-08\",\"2020-11-15\",\"2020-11-22\",\"2020-11-29\",\"2020-12-06\",\"2020-12-13\",\"2020-12-20\",\"2020-12-27\",\"2021-01-03\",\"2021-01-10\",\"2021-01-17\",\"2021-01-24\",\"2021-01-31\",\"2021-02-07\",\"2021-02-14\",\"2021-02-21\",\"2021-02-28\",\"2021-03-07\",\"2021-03-14\",\"2021-03-21\",\"2021-03-28\",\"2021-04-04\",\"2021-04-11\",\"2021-04-18\",\"2021-04-25\",\"2021-05-02\",\"2021-05-09\",\"2021-05-16\",\"2021-05-23\",\"2021-05-30\",\"2021-06-06\",\"2021-06-13\",\"2021-06-20\",\"2021-06-27\",\"2021-07-04\",\"2021-07-11\",\"2021-07-18\",\"2021-07-25\",\"2021-08-01\",\"2021-08-08\",\"2021-08-15\",\"2021-08-22\",\"2021-08-29\",\"2021-09-05\",\"2021-09-12\",\"2021-09-19\",\"2021-09-26\",\"2021-10-03\",\"2021-10-10\",\"2021-10-17\",\"2021-10-24\",\"2021-10-31\",\"2021-11-07\",\"2021-11-14\",\"2021-11-21\",\"2021-11-28\",\"2021-12-05\",\"2021-12-12\",\"2021-12-19\",\"2021-12-26\",\"2022-01-02\",\"2022-01-09\",\"2022-01-16\",\"2022-01-23\",\"2022-01-30\",\"2022-02-06\",\"2022-02-13\",\"2022-02-20\",\"2022-02-27\",\"2022-03-06\",\"2022-03-13\",\"2022-03-20\",\"2022-03-27\",\"2022-04-03\",\"2022-04-10\",\"2022-04-17\",\"2022-04-24\",\"2022-05-01\",\"2022-05-08\",\"2022-05-15\",\"2022-05-22\",\"2022-05-29\",\"2022-06-05\",\"2022-06-12\",\"2022-06-19\",\"2022-06-26\",\"2022-07-03\",\"2022-07-10\",\"2022-07-17\",\"2022-07-24\",\"2022-07-31\",\"2022-08-07\",\"2022-08-14\",\"2022-08-21\"],\"y\":[-0.0,-1.4209862539171787,-2.8419725078343574,-4.262958761751536,-5.683945015668715,-7.104931269585894,-8.525917523503072,-9.946903777420252,-11.36789003133743,-12.788876285254608,-14.209862539171787,-15.630848793088965,-17.051835047006143,-18.47282130092332,-19.893807554840503,-21.31479380875768,-22.73578006267486,-24.156766316592037,-25.577752570509215,-26.998738824426397,-28.419725078343575,-29.840711332260753,-31.26169758617793,-32.68268384009511,-34.10367009401229,-35.524656347929465,-36.94564260184664,-38.36662885576383,-39.787615109681006,-41.208601363598184,-42.62958761751536,-44.05057387143254,-45.47156012534972,-46.892546379266896,-48.313532633184074,-49.73451888710125,-51.15550514101843,-52.57649139493561,-53.997477648852794,-55.41846390276997,-56.83945015668715,-58.26043641060433,-59.681422664521506,-61.102408918438684,-62.52339517235586,-63.94438142627304,-65.36536768019022,-66.7863539341074,-68.20734018802457,-69.62832644194175,-71.04931269585893,-72.47029894977611,-73.89128520369329,-75.31227145761046,-76.73325771152766,-78.15424396544483,-79.57523021936201,-80.99621647327919,-82.41720272719637,-83.83818898111355,-85.25917523503072,-86.6801614889479,-88.10114774286508,-89.52213399678226,-90.94312025069944,-92.36410650461661,-93.78509275853379,-95.20607901245097,-96.62706526636815,-98.04805152028533,-99.4690377742025,-100.89002402811968,-102.31101028203686,-103.73199653595404,-105.15298278987122,-106.57396904378841,-107.99495529770559,-109.41594155162277,-110.83692780553994,-112.25791405945712,-113.6789003133743,-115.09988656729148,-116.52087282120866,-117.94185907512583,-119.36284532904301,-120.78383158296019,-122.20481783687737,-123.62580409079455,-125.04679034471172,-126.4677765986289,-127.88876285254608,-129.30974910646327,-130.73073536038044,-132.15172161429763,-133.5727078682148,-134.99369412213198,-136.41468037604915,-137.83566662996634,-139.2566528838835,-140.6776391378007,-142.09862539171786,-143.51961164563505,-144.94059789955222,-146.3615841534694],\"type\":\"scatter\",\"xaxis\":\"x2\",\"yaxis\":\"y2\"},{\"line\":{\"color\":\"green\"},\"mode\":\"lines\",\"name\":\"Seasonality\",\"x\":[\"2020-08-30\",\"2020-09-06\",\"2020-09-13\",\"2020-09-20\",\"2020-09-27\",\"2020-10-04\",\"2020-10-11\",\"2020-10-18\",\"2020-10-25\",\"2020-11-01\",\"2020-11-08\",\"2020-11-15\",\"2020-11-22\",\"2020-11-29\",\"2020-12-06\",\"2020-12-13\",\"2020-12-20\",\"2020-12-27\",\"2021-01-03\",\"2021-01-10\",\"2021-01-17\",\"2021-01-24\",\"2021-01-31\",\"2021-02-07\",\"2021-02-14\",\"2021-02-21\",\"2021-02-28\",\"2021-03-07\",\"2021-03-14\",\"2021-03-21\",\"2021-03-28\",\"2021-04-04\",\"2021-04-11\",\"2021-04-18\",\"2021-04-25\",\"2021-05-02\",\"2021-05-09\",\"2021-05-16\",\"2021-05-23\",\"2021-05-30\",\"2021-06-06\",\"2021-06-13\",\"2021-06-20\",\"2021-06-27\",\"2021-07-04\",\"2021-07-11\",\"2021-07-18\",\"2021-07-25\",\"2021-08-01\",\"2021-08-08\",\"2021-08-15\",\"2021-08-22\",\"2021-08-29\",\"2021-09-05\",\"2021-09-12\",\"2021-09-19\",\"2021-09-26\",\"2021-10-03\",\"2021-10-10\",\"2021-10-17\",\"2021-10-24\",\"2021-10-31\",\"2021-11-07\",\"2021-11-14\",\"2021-11-21\",\"2021-11-28\",\"2021-12-05\",\"2021-12-12\",\"2021-12-19\",\"2021-12-26\",\"2022-01-02\",\"2022-01-09\",\"2022-01-16\",\"2022-01-23\",\"2022-01-30\",\"2022-02-06\",\"2022-02-13\",\"2022-02-20\",\"2022-02-27\",\"2022-03-06\",\"2022-03-13\",\"2022-03-20\",\"2022-03-27\",\"2022-04-03\",\"2022-04-10\",\"2022-04-17\",\"2022-04-24\",\"2022-05-01\",\"2022-05-08\",\"2022-05-15\",\"2022-05-22\",\"2022-05-29\",\"2022-06-05\",\"2022-06-12\",\"2022-06-19\",\"2022-06-26\",\"2022-07-03\",\"2022-07-10\",\"2022-07-17\",\"2022-07-24\",\"2022-07-31\",\"2022-08-07\",\"2022-08-14\",\"2022-08-21\"],\"y\":[5.642937984219307,7.466087928988446,7.083301756075705,4.6418772750984605,0.8765306762084004,-3.100855370896337,-6.134494770751122,-7.375565173806655,-6.5374021385328245,-3.971881725667726,-0.5422674229483498,2.6650585001835037,4.694385167412409,5.023241323172492,3.715050182278385,1.3742409663120636,-1.0771810392677135,-2.7230846830220816,-2.965879086386016,-1.7232163233393698,0.5552953707659258,3.0532149132704562,4.874389881233136,5.352095291702765,4.274940504195034,1.9550218699307276,-0.880773003441292,-3.3348702057316335,-4.632403428005426,-4.363953069535876,-2.5986560165820674,0.16381946483089282,3.1773343423583107,5.698668611666098,7.212653942474972,7.557138450973177,6.912148731467366,5.669106690402765,4.239561165468782,2.88275338092569,1.6205775569896657,0.27165173818222177,-1.4125320175670737,-3.5684645408319278,-6.076809017314867,-8.520986304260182,-10.277127728387276,-10.713250074801604,-9.430354710495553,-6.4562319222309945,-2.3132268814677888,2.078382988484631,5.6429379842193015,7.466087928988441,7.083301756075711,4.6418772750984605,0.8765306762084236,-3.1008553708963404,-6.13449477075111,-7.375565173806661,-6.537402138532843,-3.9718817256677297,-0.5422674229483685,2.6650585001835116,4.6943851674124115,5.023241323172497,3.715050182278409,1.374240966312064,-1.0771810392677144,-2.723084683022081,-2.965879086386013,-1.7232163233393847,0.5552953707659242,3.053214913270434,4.87438988123315,5.352095291702767,4.274940504195028,1.9550218699307154,-0.8807730034412748,-3.334870205731642,-4.632403428005432,-4.363953069535892,-2.5986560165820727,0.16381946483087662,3.177334342358313,5.698668611666092,7.212653942474965,7.557138450973149,6.912148731467353,5.66910669040277,4.2395611654687855,2.882753380925686,1.6205775569896934,0.27165173818222077,-1.4125320175670635,-3.5684645408319295,-6.076809017314867,-8.520986304260177,-10.27712772838726,-10.713250074801596,-9.430354710495557,-6.45623192223102,-2.3132268814677976,2.0783829884846297],\"type\":\"scatter\",\"xaxis\":\"x3\",\"yaxis\":\"y3\"},{\"line\":{\"color\":\"purple\"},\"mode\":\"lines\",\"name\":\"Holiday Effects\",\"x\":[\"2020-08-30\",\"2020-09-06\",\"2020-09-13\",\"2020-09-20\",\"2020-09-27\",\"2020-10-04\",\"2020-10-11\",\"2020-10-18\",\"2020-10-25\",\"2020-11-01\",\"2020-11-08\",\"2020-11-15\",\"2020-11-22\",\"2020-11-29\",\"2020-12-06\",\"2020-12-13\",\"2020-12-20\",\"2020-12-27\",\"2021-01-03\",\"2021-01-10\",\"2021-01-17\",\"2021-01-24\",\"2021-01-31\",\"2021-02-07\",\"2021-02-14\",\"2021-02-21\",\"2021-02-28\",\"2021-03-07\",\"2021-03-14\",\"2021-03-21\",\"2021-03-28\",\"2021-04-04\",\"2021-04-11\",\"2021-04-18\",\"2021-04-25\",\"2021-05-02\",\"2021-05-09\",\"2021-05-16\",\"2021-05-23\",\"2021-05-30\",\"2021-06-06\",\"2021-06-13\",\"2021-06-20\",\"2021-06-27\",\"2021-07-04\",\"2021-07-11\",\"2021-07-18\",\"2021-07-25\",\"2021-08-01\",\"2021-08-08\",\"2021-08-15\",\"2021-08-22\",\"2021-08-29\",\"2021-09-05\",\"2021-09-12\",\"2021-09-19\",\"2021-09-26\",\"2021-10-03\",\"2021-10-10\",\"2021-10-17\",\"2021-10-24\",\"2021-10-31\",\"2021-11-07\",\"2021-11-14\",\"2021-11-21\",\"2021-11-28\",\"2021-12-05\",\"2021-12-12\",\"2021-12-19\",\"2021-12-26\",\"2022-01-02\",\"2022-01-09\",\"2022-01-16\",\"2022-01-23\",\"2022-01-30\",\"2022-02-06\",\"2022-02-13\",\"2022-02-20\",\"2022-02-27\",\"2022-03-06\",\"2022-03-13\",\"2022-03-20\",\"2022-03-27\",\"2022-04-03\",\"2022-04-10\",\"2022-04-17\",\"2022-04-24\",\"2022-05-01\",\"2022-05-08\",\"2022-05-15\",\"2022-05-22\",\"2022-05-29\",\"2022-06-05\",\"2022-06-12\",\"2022-06-19\",\"2022-06-26\",\"2022-07-03\",\"2022-07-10\",\"2022-07-17\",\"2022-07-24\",\"2022-07-31\",\"2022-08-07\",\"2022-08-14\",\"2022-08-21\"],\"y\":[0.0,0.0,0.0,0.0,0.0,0.0,0.0,0.0,0.0,0.0,0.0,0.0,0.0,0.0,-18403.30861104476,-18403.30861104476,-18403.30861104476,-18403.30861104476,31347.014966906456,31347.014966906456,31347.014966906456,31347.014966906456,31347.014966906456,0.0,0.0,0.0,0.0,0.0,0.0,0.0,0.0,0.0,0.0,0.0,0.0,0.0,0.0,0.0,0.0,0.0,0.0,0.0,0.0,0.0,0.0,0.0,0.0,0.0,0.0,0.0,0.0,0.0,0.0,0.0,0.0,0.0,0.0,0.0,0.0,0.0,0.0,0.0,0.0,0.0,0.0,0.0,-18403.30861104476,-18403.30861104476,-18403.30861104476,-18403.30861104476,31347.014966906456,31347.014966906456,31347.014966906456,31347.014966906456,31347.014966906456,0.0,0.0,0.0,0.0,0.0,0.0,0.0,0.0,0.0,0.0,0.0,0.0,0.0,0.0,0.0,0.0,0.0,0.0,0.0,0.0,0.0,0.0,0.0,0.0,0.0,0.0,0.0,0.0,0.0],\"type\":\"scatter\",\"xaxis\":\"x4\",\"yaxis\":\"y4\"}],                        {\"template\":{\"data\":{\"histogram2dcontour\":[{\"type\":\"histogram2dcontour\",\"colorbar\":{\"outlinewidth\":0,\"ticks\":\"\"},\"colorscale\":[[0.0,\"#0d0887\"],[0.1111111111111111,\"#46039f\"],[0.2222222222222222,\"#7201a8\"],[0.3333333333333333,\"#9c179e\"],[0.4444444444444444,\"#bd3786\"],[0.5555555555555556,\"#d8576b\"],[0.6666666666666666,\"#ed7953\"],[0.7777777777777778,\"#fb9f3a\"],[0.8888888888888888,\"#fdca26\"],[1.0,\"#f0f921\"]]}],\"choropleth\":[{\"type\":\"choropleth\",\"colorbar\":{\"outlinewidth\":0,\"ticks\":\"\"}}],\"histogram2d\":[{\"type\":\"histogram2d\",\"colorbar\":{\"outlinewidth\":0,\"ticks\":\"\"},\"colorscale\":[[0.0,\"#0d0887\"],[0.1111111111111111,\"#46039f\"],[0.2222222222222222,\"#7201a8\"],[0.3333333333333333,\"#9c179e\"],[0.4444444444444444,\"#bd3786\"],[0.5555555555555556,\"#d8576b\"],[0.6666666666666666,\"#ed7953\"],[0.7777777777777778,\"#fb9f3a\"],[0.8888888888888888,\"#fdca26\"],[1.0,\"#f0f921\"]]}],\"heatmap\":[{\"type\":\"heatmap\",\"colorbar\":{\"outlinewidth\":0,\"ticks\":\"\"},\"colorscale\":[[0.0,\"#0d0887\"],[0.1111111111111111,\"#46039f\"],[0.2222222222222222,\"#7201a8\"],[0.3333333333333333,\"#9c179e\"],[0.4444444444444444,\"#bd3786\"],[0.5555555555555556,\"#d8576b\"],[0.6666666666666666,\"#ed7953\"],[0.7777777777777778,\"#fb9f3a\"],[0.8888888888888888,\"#fdca26\"],[1.0,\"#f0f921\"]]}],\"heatmapgl\":[{\"type\":\"heatmapgl\",\"colorbar\":{\"outlinewidth\":0,\"ticks\":\"\"},\"colorscale\":[[0.0,\"#0d0887\"],[0.1111111111111111,\"#46039f\"],[0.2222222222222222,\"#7201a8\"],[0.3333333333333333,\"#9c179e\"],[0.4444444444444444,\"#bd3786\"],[0.5555555555555556,\"#d8576b\"],[0.6666666666666666,\"#ed7953\"],[0.7777777777777778,\"#fb9f3a\"],[0.8888888888888888,\"#fdca26\"],[1.0,\"#f0f921\"]]}],\"contourcarpet\":[{\"type\":\"contourcarpet\",\"colorbar\":{\"outlinewidth\":0,\"ticks\":\"\"}}],\"contour\":[{\"type\":\"contour\",\"colorbar\":{\"outlinewidth\":0,\"ticks\":\"\"},\"colorscale\":[[0.0,\"#0d0887\"],[0.1111111111111111,\"#46039f\"],[0.2222222222222222,\"#7201a8\"],[0.3333333333333333,\"#9c179e\"],[0.4444444444444444,\"#bd3786\"],[0.5555555555555556,\"#d8576b\"],[0.6666666666666666,\"#ed7953\"],[0.7777777777777778,\"#fb9f3a\"],[0.8888888888888888,\"#fdca26\"],[1.0,\"#f0f921\"]]}],\"surface\":[{\"type\":\"surface\",\"colorbar\":{\"outlinewidth\":0,\"ticks\":\"\"},\"colorscale\":[[0.0,\"#0d0887\"],[0.1111111111111111,\"#46039f\"],[0.2222222222222222,\"#7201a8\"],[0.3333333333333333,\"#9c179e\"],[0.4444444444444444,\"#bd3786\"],[0.5555555555555556,\"#d8576b\"],[0.6666666666666666,\"#ed7953\"],[0.7777777777777778,\"#fb9f3a\"],[0.8888888888888888,\"#fdca26\"],[1.0,\"#f0f921\"]]}],\"mesh3d\":[{\"type\":\"mesh3d\",\"colorbar\":{\"outlinewidth\":0,\"ticks\":\"\"}}],\"scatter\":[{\"fillpattern\":{\"fillmode\":\"overlay\",\"size\":10,\"solidity\":0.2},\"type\":\"scatter\"}],\"parcoords\":[{\"type\":\"parcoords\",\"line\":{\"colorbar\":{\"outlinewidth\":0,\"ticks\":\"\"}}}],\"scatterpolargl\":[{\"type\":\"scatterpolargl\",\"marker\":{\"colorbar\":{\"outlinewidth\":0,\"ticks\":\"\"}}}],\"bar\":[{\"error_x\":{\"color\":\"#2a3f5f\"},\"error_y\":{\"color\":\"#2a3f5f\"},\"marker\":{\"line\":{\"color\":\"#E5ECF6\",\"width\":0.5},\"pattern\":{\"fillmode\":\"overlay\",\"size\":10,\"solidity\":0.2}},\"type\":\"bar\"}],\"scattergeo\":[{\"type\":\"scattergeo\",\"marker\":{\"colorbar\":{\"outlinewidth\":0,\"ticks\":\"\"}}}],\"scatterpolar\":[{\"type\":\"scatterpolar\",\"marker\":{\"colorbar\":{\"outlinewidth\":0,\"ticks\":\"\"}}}],\"histogram\":[{\"marker\":{\"pattern\":{\"fillmode\":\"overlay\",\"size\":10,\"solidity\":0.2}},\"type\":\"histogram\"}],\"scattergl\":[{\"type\":\"scattergl\",\"marker\":{\"colorbar\":{\"outlinewidth\":0,\"ticks\":\"\"}}}],\"scatter3d\":[{\"type\":\"scatter3d\",\"line\":{\"colorbar\":{\"outlinewidth\":0,\"ticks\":\"\"}},\"marker\":{\"colorbar\":{\"outlinewidth\":0,\"ticks\":\"\"}}}],\"scattermapbox\":[{\"type\":\"scattermapbox\",\"marker\":{\"colorbar\":{\"outlinewidth\":0,\"ticks\":\"\"}}}],\"scatterternary\":[{\"type\":\"scatterternary\",\"marker\":{\"colorbar\":{\"outlinewidth\":0,\"ticks\":\"\"}}}],\"scattercarpet\":[{\"type\":\"scattercarpet\",\"marker\":{\"colorbar\":{\"outlinewidth\":0,\"ticks\":\"\"}}}],\"carpet\":[{\"aaxis\":{\"endlinecolor\":\"#2a3f5f\",\"gridcolor\":\"white\",\"linecolor\":\"white\",\"minorgridcolor\":\"white\",\"startlinecolor\":\"#2a3f5f\"},\"baxis\":{\"endlinecolor\":\"#2a3f5f\",\"gridcolor\":\"white\",\"linecolor\":\"white\",\"minorgridcolor\":\"white\",\"startlinecolor\":\"#2a3f5f\"},\"type\":\"carpet\"}],\"table\":[{\"cells\":{\"fill\":{\"color\":\"#EBF0F8\"},\"line\":{\"color\":\"white\"}},\"header\":{\"fill\":{\"color\":\"#C8D4E3\"},\"line\":{\"color\":\"white\"}},\"type\":\"table\"}],\"barpolar\":[{\"marker\":{\"line\":{\"color\":\"#E5ECF6\",\"width\":0.5},\"pattern\":{\"fillmode\":\"overlay\",\"size\":10,\"solidity\":0.2}},\"type\":\"barpolar\"}],\"pie\":[{\"automargin\":true,\"type\":\"pie\"}]},\"layout\":{\"autotypenumbers\":\"strict\",\"colorway\":[\"#636efa\",\"#EF553B\",\"#00cc96\",\"#ab63fa\",\"#FFA15A\",\"#19d3f3\",\"#FF6692\",\"#B6E880\",\"#FF97FF\",\"#FECB52\"],\"font\":{\"color\":\"#2a3f5f\"},\"hovermode\":\"closest\",\"hoverlabel\":{\"align\":\"left\"},\"paper_bgcolor\":\"white\",\"plot_bgcolor\":\"#E5ECF6\",\"polar\":{\"bgcolor\":\"#E5ECF6\",\"angularaxis\":{\"gridcolor\":\"white\",\"linecolor\":\"white\",\"ticks\":\"\"},\"radialaxis\":{\"gridcolor\":\"white\",\"linecolor\":\"white\",\"ticks\":\"\"}},\"ternary\":{\"bgcolor\":\"#E5ECF6\",\"aaxis\":{\"gridcolor\":\"white\",\"linecolor\":\"white\",\"ticks\":\"\"},\"baxis\":{\"gridcolor\":\"white\",\"linecolor\":\"white\",\"ticks\":\"\"},\"caxis\":{\"gridcolor\":\"white\",\"linecolor\":\"white\",\"ticks\":\"\"}},\"coloraxis\":{\"colorbar\":{\"outlinewidth\":0,\"ticks\":\"\"}},\"colorscale\":{\"sequential\":[[0.0,\"#0d0887\"],[0.1111111111111111,\"#46039f\"],[0.2222222222222222,\"#7201a8\"],[0.3333333333333333,\"#9c179e\"],[0.4444444444444444,\"#bd3786\"],[0.5555555555555556,\"#d8576b\"],[0.6666666666666666,\"#ed7953\"],[0.7777777777777778,\"#fb9f3a\"],[0.8888888888888888,\"#fdca26\"],[1.0,\"#f0f921\"]],\"sequentialminus\":[[0.0,\"#0d0887\"],[0.1111111111111111,\"#46039f\"],[0.2222222222222222,\"#7201a8\"],[0.3333333333333333,\"#9c179e\"],[0.4444444444444444,\"#bd3786\"],[0.5555555555555556,\"#d8576b\"],[0.6666666666666666,\"#ed7953\"],[0.7777777777777778,\"#fb9f3a\"],[0.8888888888888888,\"#fdca26\"],[1.0,\"#f0f921\"]],\"diverging\":[[0,\"#8e0152\"],[0.1,\"#c51b7d\"],[0.2,\"#de77ae\"],[0.3,\"#f1b6da\"],[0.4,\"#fde0ef\"],[0.5,\"#f7f7f7\"],[0.6,\"#e6f5d0\"],[0.7,\"#b8e186\"],[0.8,\"#7fbc41\"],[0.9,\"#4d9221\"],[1,\"#276419\"]]},\"xaxis\":{\"gridcolor\":\"white\",\"linecolor\":\"white\",\"ticks\":\"\",\"title\":{\"standoff\":15},\"zerolinecolor\":\"white\",\"automargin\":true,\"zerolinewidth\":2},\"yaxis\":{\"gridcolor\":\"white\",\"linecolor\":\"white\",\"ticks\":\"\",\"title\":{\"standoff\":15},\"zerolinecolor\":\"white\",\"automargin\":true,\"zerolinewidth\":2},\"scene\":{\"xaxis\":{\"backgroundcolor\":\"#E5ECF6\",\"gridcolor\":\"white\",\"linecolor\":\"white\",\"showbackground\":true,\"ticks\":\"\",\"zerolinecolor\":\"white\",\"gridwidth\":2},\"yaxis\":{\"backgroundcolor\":\"#E5ECF6\",\"gridcolor\":\"white\",\"linecolor\":\"white\",\"showbackground\":true,\"ticks\":\"\",\"zerolinecolor\":\"white\",\"gridwidth\":2},\"zaxis\":{\"backgroundcolor\":\"#E5ECF6\",\"gridcolor\":\"white\",\"linecolor\":\"white\",\"showbackground\":true,\"ticks\":\"\",\"zerolinecolor\":\"white\",\"gridwidth\":2}},\"shapedefaults\":{\"line\":{\"color\":\"#2a3f5f\"}},\"annotationdefaults\":{\"arrowcolor\":\"#2a3f5f\",\"arrowhead\":0,\"arrowwidth\":1},\"geo\":{\"bgcolor\":\"white\",\"landcolor\":\"#E5ECF6\",\"subunitcolor\":\"white\",\"showland\":true,\"showlakes\":true,\"lakecolor\":\"white\"},\"title\":{\"x\":0.05},\"mapbox\":{\"style\":\"light\"}}},\"xaxis\":{\"anchor\":\"y\",\"domain\":[0.0,1.0]},\"yaxis\":{\"anchor\":\"x\",\"domain\":[0.84375,1.0],\"title\":{\"text\":\"Revenue (€)\"}},\"xaxis2\":{\"anchor\":\"y2\",\"domain\":[0.0,1.0]},\"yaxis2\":{\"anchor\":\"x2\",\"domain\":[0.5625,0.71875],\"title\":{\"text\":\"Trend (€)\"}},\"xaxis3\":{\"anchor\":\"y3\",\"domain\":[0.0,1.0]},\"yaxis3\":{\"anchor\":\"x3\",\"domain\":[0.28125,0.4375],\"title\":{\"text\":\"Seasonal Effect (€)\"}},\"xaxis4\":{\"anchor\":\"y4\",\"domain\":[0.0,1.0]},\"yaxis4\":{\"anchor\":\"x4\",\"domain\":[0.0,0.15625],\"title\":{\"text\":\"Holiday Effect (€)\"}},\"annotations\":[{\"font\":{\"size\":16},\"showarrow\":false,\"text\":\"Total Revenue\",\"x\":0.5,\"xanchor\":\"center\",\"xref\":\"paper\",\"y\":1.0,\"yanchor\":\"bottom\",\"yref\":\"paper\"},{\"font\":{\"size\":16},\"showarrow\":false,\"text\":\"Trend Component\",\"x\":0.5,\"xanchor\":\"center\",\"xref\":\"paper\",\"y\":0.71875,\"yanchor\":\"bottom\",\"yref\":\"paper\"},{\"font\":{\"size\":16},\"showarrow\":false,\"text\":\"Seasonal Component\",\"x\":0.5,\"xanchor\":\"center\",\"xref\":\"paper\",\"y\":0.4375,\"yanchor\":\"bottom\",\"yref\":\"paper\"},{\"font\":{\"size\":16},\"showarrow\":false,\"text\":\"Holiday Effect Component\",\"x\":0.5,\"xanchor\":\"center\",\"xref\":\"paper\",\"y\":0.15625,\"yanchor\":\"bottom\",\"yref\":\"paper\"}],\"title\":{\"text\":\"Revenue Decomposition: Trend, Seasonality, and Holiday Effects\"},\"height\":800,\"width\":1000,\"showlegend\":false},                        {\"responsive\": true}                    ).then(function(){\n",
              "                            \n",
              "var gd = document.getElementById('61d03d40-4a95-470e-b8ec-2570429a6be5');\n",
              "var x = new MutationObserver(function (mutations, observer) {{\n",
              "        var display = window.getComputedStyle(gd).display;\n",
              "        if (!display || display === 'none') {{\n",
              "            console.log([gd, 'removed!']);\n",
              "            Plotly.purge(gd);\n",
              "            observer.disconnect();\n",
              "        }}\n",
              "}});\n",
              "\n",
              "// Listen for the removal of the full notebook cells\n",
              "var notebookContainer = gd.closest('#notebook-container');\n",
              "if (notebookContainer) {{\n",
              "    x.observe(notebookContainer, {childList: true});\n",
              "}}\n",
              "\n",
              "// Listen for the clearing of the current output cell\n",
              "var outputEl = gd.closest('.output');\n",
              "if (outputEl) {{\n",
              "    x.observe(outputEl, {childList: true});\n",
              "}}\n",
              "\n",
              "                        })                };                            </script>        </div>\n",
              "</body>\n",
              "</html>"
            ]
          },
          "metadata": {}
        }
      ]
    }
  ],
  "metadata": {
    "kernelspec": {
      "display_name": "pymc_env",
      "language": "python",
      "name": "python3"
    },
    "language_info": {
      "codemirror_mode": {
        "name": "ipython",
        "version": 3
      },
      "file_extension": ".py",
      "mimetype": "text/x-python",
      "name": "python",
      "nbconvert_exporter": "python",
      "pygments_lexer": "ipython3",
      "version": "3.11.8"
    },
    "colab": {
      "provenance": []
    },
    "widgets": {
      "application/vnd.jupyter.widget-state+json": {
        "2763dd6c49544a5291c3f647b1b6e0b4": {
          "model_module": "@jupyter-widgets/output",
          "model_name": "OutputModel",
          "model_module_version": "1.0.0",
          "state": {
            "_dom_classes": [],
            "_model_module": "@jupyter-widgets/output",
            "_model_module_version": "1.0.0",
            "_model_name": "OutputModel",
            "_view_count": null,
            "_view_module": "@jupyter-widgets/output",
            "_view_module_version": "1.0.0",
            "_view_name": "OutputView",
            "layout": "IPY_MODEL_62f4b392e2ea4474858594728e07dd51",
            "msg_id": "",
            "outputs": [
              {
                "output_type": "display_data",
                "data": {
                  "text/plain": "                                                                                                                   \n \u001b[1m \u001b[0m\u001b[1mProgress                 \u001b[0m\u001b[1m \u001b[0m \u001b[1m \u001b[0m\u001b[1mDraws\u001b[0m\u001b[1m \u001b[0m \u001b[1m \u001b[0m\u001b[1mDivergences\u001b[0m\u001b[1m \u001b[0m \u001b[1m \u001b[0m\u001b[1mStep size\u001b[0m\u001b[1m \u001b[0m \u001b[1m \u001b[0m\u001b[1mGrad evals\u001b[0m\u001b[1m \u001b[0m \u001b[1m \u001b[0m\u001b[1mSampling Speed\u001b[0m\u001b[1m \u001b[0m \u001b[1m \u001b[0m\u001b[1mElapsed\u001b[0m\u001b[1m \u001b[0m \u001b[1m \u001b[0m\u001b[1mRemaining\u001b[0m\u001b[1m \u001b[0m \n ───────────────────────────────────────────────────────────────────────────────────────────────────────────────── \n  \u001b[38;2;31;119;180m━━━━━━━━━━━━━━━━━━━━━━━━━\u001b[0m   2000    0             0.15        31           102.45 draws/s   0:00:19   0:00:00    \n  \u001b[38;2;31;119;180m━━━━━━━━━━━━━━━━━━━━━━━━━\u001b[0m   2000    0             0.14        15           48.89 draws/s    0:00:40   0:00:00    \n                                                                                                                   \n",
                  "text/html": "<pre style=\"white-space:pre;overflow-x:auto;line-height:normal;font-family:Menlo,'DejaVu Sans Mono',consolas,'Courier New',monospace\">                                                                                                                   \n <span style=\"font-weight: bold\"> Progress                  </span> <span style=\"font-weight: bold\"> Draws </span> <span style=\"font-weight: bold\"> Divergences </span> <span style=\"font-weight: bold\"> Step size </span> <span style=\"font-weight: bold\"> Grad evals </span> <span style=\"font-weight: bold\"> Sampling Speed </span> <span style=\"font-weight: bold\"> Elapsed </span> <span style=\"font-weight: bold\"> Remaining </span> \n ───────────────────────────────────────────────────────────────────────────────────────────────────────────────── \n  <span style=\"color: #1f77b4; text-decoration-color: #1f77b4\">━━━━━━━━━━━━━━━━━━━━━━━━━</span>   2000    0             0.15        31           102.45 draws/s   0:00:19   0:00:00    \n  <span style=\"color: #1f77b4; text-decoration-color: #1f77b4\">━━━━━━━━━━━━━━━━━━━━━━━━━</span>   2000    0             0.14        15           48.89 draws/s    0:00:40   0:00:00    \n                                                                                                                   \n</pre>\n"
                },
                "metadata": {}
              }
            ]
          }
        },
        "62f4b392e2ea4474858594728e07dd51": {
          "model_module": "@jupyter-widgets/base",
          "model_name": "LayoutModel",
          "model_module_version": "1.2.0",
          "state": {
            "_model_module": "@jupyter-widgets/base",
            "_model_module_version": "1.2.0",
            "_model_name": "LayoutModel",
            "_view_count": null,
            "_view_module": "@jupyter-widgets/base",
            "_view_module_version": "1.2.0",
            "_view_name": "LayoutView",
            "align_content": null,
            "align_items": null,
            "align_self": null,
            "border": null,
            "bottom": null,
            "display": null,
            "flex": null,
            "flex_flow": null,
            "grid_area": null,
            "grid_auto_columns": null,
            "grid_auto_flow": null,
            "grid_auto_rows": null,
            "grid_column": null,
            "grid_gap": null,
            "grid_row": null,
            "grid_template_areas": null,
            "grid_template_columns": null,
            "grid_template_rows": null,
            "height": null,
            "justify_content": null,
            "justify_items": null,
            "left": null,
            "margin": null,
            "max_height": null,
            "max_width": null,
            "min_height": null,
            "min_width": null,
            "object_fit": null,
            "object_position": null,
            "order": null,
            "overflow": null,
            "overflow_x": null,
            "overflow_y": null,
            "padding": null,
            "right": null,
            "top": null,
            "visibility": null,
            "width": null
          }
        },
        "5360ce3f9b004ae59f3f0996fafabcc7": {
          "model_module": "@jupyter-widgets/output",
          "model_name": "OutputModel",
          "model_module_version": "1.0.0",
          "state": {
            "_dom_classes": [],
            "_model_module": "@jupyter-widgets/output",
            "_model_module_version": "1.0.0",
            "_model_name": "OutputModel",
            "_view_count": null,
            "_view_module": "@jupyter-widgets/output",
            "_view_module_version": "1.0.0",
            "_view_name": "OutputView",
            "layout": "IPY_MODEL_7c5f9e66e86b4493a540ef0674f1d3d3",
            "msg_id": "",
            "outputs": [
              {
                "output_type": "display_data",
                "data": {
                  "text/plain": "Sampling ... \u001b[32m━━━━━━━━━━━━━━━━━━━━━━━━━━━━━━━━━━━━━━━━\u001b[0m \u001b[35m100%\u001b[0m 0:00:00 / 0:00:00\n",
                  "text/html": "<pre style=\"white-space:pre;overflow-x:auto;line-height:normal;font-family:Menlo,'DejaVu Sans Mono',consolas,'Courier New',monospace\">Sampling ... <span style=\"color: #008000; text-decoration-color: #008000\">━━━━━━━━━━━━━━━━━━━━━━━━━━━━━━━━━━━━━━━━</span> <span style=\"color: #800080; text-decoration-color: #800080\">100%</span> 0:00:00 / 0:00:00\n</pre>\n"
                },
                "metadata": {}
              }
            ]
          }
        },
        "7c5f9e66e86b4493a540ef0674f1d3d3": {
          "model_module": "@jupyter-widgets/base",
          "model_name": "LayoutModel",
          "model_module_version": "1.2.0",
          "state": {
            "_model_module": "@jupyter-widgets/base",
            "_model_module_version": "1.2.0",
            "_model_name": "LayoutModel",
            "_view_count": null,
            "_view_module": "@jupyter-widgets/base",
            "_view_module_version": "1.2.0",
            "_view_name": "LayoutView",
            "align_content": null,
            "align_items": null,
            "align_self": null,
            "border": null,
            "bottom": null,
            "display": null,
            "flex": null,
            "flex_flow": null,
            "grid_area": null,
            "grid_auto_columns": null,
            "grid_auto_flow": null,
            "grid_auto_rows": null,
            "grid_column": null,
            "grid_gap": null,
            "grid_row": null,
            "grid_template_areas": null,
            "grid_template_columns": null,
            "grid_template_rows": null,
            "height": null,
            "justify_content": null,
            "justify_items": null,
            "left": null,
            "margin": null,
            "max_height": null,
            "max_width": null,
            "min_height": null,
            "min_width": null,
            "object_fit": null,
            "object_position": null,
            "order": null,
            "overflow": null,
            "overflow_x": null,
            "overflow_y": null,
            "padding": null,
            "right": null,
            "top": null,
            "visibility": null,
            "width": null
          }
        },
        "359fd73e2948427392a308bd8f263579": {
          "model_module": "@jupyter-widgets/output",
          "model_name": "OutputModel",
          "model_module_version": "1.0.0",
          "state": {
            "_dom_classes": [],
            "_model_module": "@jupyter-widgets/output",
            "_model_module_version": "1.0.0",
            "_model_name": "OutputModel",
            "_view_count": null,
            "_view_module": "@jupyter-widgets/output",
            "_view_module_version": "1.0.0",
            "_view_name": "OutputView",
            "layout": "IPY_MODEL_56b321c61acf4c55ba29961fb8396cfe",
            "msg_id": "",
            "outputs": [
              {
                "output_type": "display_data",
                "data": {
                  "text/plain": "Sampling ... \u001b[32m━━━━━━━━━━━━━━━━━━━━━━━━━━━━━━━━━━━━━━━━\u001b[0m \u001b[35m100%\u001b[0m 0:00:00 / 0:00:00\n",
                  "text/html": "<pre style=\"white-space:pre;overflow-x:auto;line-height:normal;font-family:Menlo,'DejaVu Sans Mono',consolas,'Courier New',monospace\">Sampling ... <span style=\"color: #008000; text-decoration-color: #008000\">━━━━━━━━━━━━━━━━━━━━━━━━━━━━━━━━━━━━━━━━</span> <span style=\"color: #800080; text-decoration-color: #800080\">100%</span> 0:00:00 / 0:00:00\n</pre>\n"
                },
                "metadata": {}
              }
            ]
          }
        },
        "56b321c61acf4c55ba29961fb8396cfe": {
          "model_module": "@jupyter-widgets/base",
          "model_name": "LayoutModel",
          "model_module_version": "1.2.0",
          "state": {
            "_model_module": "@jupyter-widgets/base",
            "_model_module_version": "1.2.0",
            "_model_name": "LayoutModel",
            "_view_count": null,
            "_view_module": "@jupyter-widgets/base",
            "_view_module_version": "1.2.0",
            "_view_name": "LayoutView",
            "align_content": null,
            "align_items": null,
            "align_self": null,
            "border": null,
            "bottom": null,
            "display": null,
            "flex": null,
            "flex_flow": null,
            "grid_area": null,
            "grid_auto_columns": null,
            "grid_auto_flow": null,
            "grid_auto_rows": null,
            "grid_column": null,
            "grid_gap": null,
            "grid_row": null,
            "grid_template_areas": null,
            "grid_template_columns": null,
            "grid_template_rows": null,
            "height": null,
            "justify_content": null,
            "justify_items": null,
            "left": null,
            "margin": null,
            "max_height": null,
            "max_width": null,
            "min_height": null,
            "min_width": null,
            "object_fit": null,
            "object_position": null,
            "order": null,
            "overflow": null,
            "overflow_x": null,
            "overflow_y": null,
            "padding": null,
            "right": null,
            "top": null,
            "visibility": null,
            "width": null
          }
        }
      }
    }
  },
  "nbformat": 4,
  "nbformat_minor": 0
}